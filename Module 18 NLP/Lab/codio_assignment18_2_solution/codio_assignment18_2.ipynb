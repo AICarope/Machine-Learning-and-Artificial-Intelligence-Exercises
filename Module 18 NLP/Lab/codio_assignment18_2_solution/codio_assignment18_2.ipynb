{
 "cells": [
  {
   "cell_type": "markdown",
   "metadata": {
    "deletable": false,
    "editable": false,
    "nbgrader": {
     "cell_type": "markdown",
     "checksum": "b0852f44adab9e0d638402ecbc806eed",
     "grade": false,
     "grade_id": "cell-42f007ba43333174",
     "locked": true,
     "schema_version": 3,
     "solution": false,
     "task": false
    }
   },
   "source": [
    "### Required Codio Assignment 18.2: Stemming and Lemmatization\n",
    "\n",
    "**Expected Time = 60 minutes**\n",
    "\n",
    "**Total Points = 25**\n",
    "\n",
    "In this activity, you will stem and lemmatize a text to normalize a given text.  Here, you will review using the lemmatizer and stemmer on a basic list and then turn to data in a DataFrame, writing a function to apply the lemmatization and stemming operations to a column of text data.  The data is the WhatsApp status dataset from kaggle, and you will focus on the `content` feature.\n",
    "\n",
    "- [Problem 1](#-Problem-1)\n",
    "- [Problem 2](#-Problem-2)\n",
    "- [Problem 3](#-Problem-3)\n",
    "- [Problem 4](#-Problem-4)\n",
    "- [Problem 5](#-Problem-5)"
   ]
  },
  {
   "cell_type": "code",
   "execution_count": 1,
   "metadata": {},
   "outputs": [
    {
     "name": "stderr",
     "output_type": "stream",
     "text": [
      "[nltk_data] Downloading package wordnet to /home/codio/nltk_data...\n",
      "[nltk_data] Downloading package omw-1.4 to /home/codio/nltk_data...\n",
      "[nltk_data] Downloading package punkt to /home/codio/nltk_data...\n",
      "[nltk_data]   Package punkt is already up-to-date!\n"
     ]
    },
    {
     "data": {
      "text/plain": [
       "True"
      ]
     },
     "execution_count": 1,
     "metadata": {},
     "output_type": "execute_result"
    }
   ],
   "source": [
    "import pandas as pd\n",
    "import nltk\n",
    "from nltk.stem import PorterStemmer, WordNetLemmatizer\n",
    "from nltk import word_tokenize\n",
    "nltk.download('wordnet')\n",
    "nltk.download('omw-1.4')\n",
    "nltk.download('punkt')"
   ]
  },
  {
   "cell_type": "markdown",
   "metadata": {
    "deletable": false,
    "editable": false,
    "nbgrader": {
     "cell_type": "markdown",
     "checksum": "457dc8766960f972db5ef7874c8af4f0",
     "grade": false,
     "grade_id": "cell-3b566ec7a7844944",
     "locked": true,
     "schema_version": 3,
     "solution": false,
     "task": false
    }
   },
   "source": [
    "#### The Data\n",
    "\n",
    "The text data again comes from [kaggle](https://www.kaggle.com/datasets/sankha1998/emotion?select=Emotion%28sad%29.csv) and is related to classifying WhatsApp status. We load in only the \"angry\" sentiment below.\n"
   ]
  },
  {
   "cell_type": "code",
   "execution_count": 2,
   "metadata": {},
   "outputs": [],
   "source": [
    "angry = pd.read_csv('data/Emotion(angry).csv')"
   ]
  },
  {
   "cell_type": "code",
   "execution_count": 3,
   "metadata": {},
   "outputs": [
    {
     "data": {
      "text/html": [
       "<div>\n",
       "<style scoped>\n",
       "    .dataframe tbody tr th:only-of-type {\n",
       "        vertical-align: middle;\n",
       "    }\n",
       "\n",
       "    .dataframe tbody tr th {\n",
       "        vertical-align: top;\n",
       "    }\n",
       "\n",
       "    .dataframe thead th {\n",
       "        text-align: right;\n",
       "    }\n",
       "</style>\n",
       "<table border=\"1\" class=\"dataframe\">\n",
       "  <thead>\n",
       "    <tr style=\"text-align: right;\">\n",
       "      <th></th>\n",
       "      <th>content</th>\n",
       "      <th>sentiment</th>\n",
       "    </tr>\n",
       "  </thead>\n",
       "  <tbody>\n",
       "    <tr>\n",
       "      <th>0</th>\n",
       "      <td>Sometimes I’m not angry, I’m hurt and there’s ...</td>\n",
       "      <td>angry</td>\n",
       "    </tr>\n",
       "    <tr>\n",
       "      <th>1</th>\n",
       "      <td>Not available for busy people☺</td>\n",
       "      <td>angry</td>\n",
       "    </tr>\n",
       "    <tr>\n",
       "      <th>2</th>\n",
       "      <td>I do not exist to impress the world. I exist t...</td>\n",
       "      <td>angry</td>\n",
       "    </tr>\n",
       "    <tr>\n",
       "      <th>3</th>\n",
       "      <td>Everything is getting expensive except some pe...</td>\n",
       "      <td>angry</td>\n",
       "    </tr>\n",
       "    <tr>\n",
       "      <th>4</th>\n",
       "      <td>My phone screen is brighter than my future 🙁</td>\n",
       "      <td>angry</td>\n",
       "    </tr>\n",
       "  </tbody>\n",
       "</table>\n",
       "</div>"
      ],
      "text/plain": [
       "                                             content sentiment\n",
       "0  Sometimes I’m not angry, I’m hurt and there’s ...     angry\n",
       "1                     Not available for busy people☺     angry\n",
       "2  I do not exist to impress the world. I exist t...     angry\n",
       "3  Everything is getting expensive except some pe...     angry\n",
       "4       My phone screen is brighter than my future 🙁     angry"
      ]
     },
     "execution_count": 3,
     "metadata": {},
     "output_type": "execute_result"
    }
   ],
   "source": [
    "angry.head()"
   ]
  },
  {
   "cell_type": "markdown",
   "metadata": {
    "deletable": false,
    "editable": false,
    "nbgrader": {
     "cell_type": "markdown",
     "checksum": "1a049a59a50f183133c71ddcb01ca564",
     "grade": false,
     "grade_id": "cell-1a86615a5ce4f510",
     "locked": true,
     "schema_version": 3,
     "solution": false,
     "task": false
    }
   },
   "source": [
    "[Back to top](#-Index)\n",
    "\n",
    "### Problem 1\n",
    "\n",
    "#### Stemming a list of words\n",
    "\n",
    "**5 Points**\n",
    "\n",
    "Use `PorterStemmer` to stem the different variations on the word \"compute\" in the list `C` below.  Assign your results to the list `stemmed_words` below. "
   ]
  },
  {
   "cell_type": "code",
   "execution_count": 4,
   "metadata": {},
   "outputs": [],
   "source": [
    "C = ['computer', 'computing', 'computed', 'computes', 'computation', 'compute']"
   ]
  },
  {
   "cell_type": "code",
   "execution_count": 5,
   "metadata": {
    "deletable": false,
    "nbgrader": {
     "cell_type": "code",
     "checksum": "6bd33485e0b757f577e4a964a618a77f",
     "grade": false,
     "grade_id": "cell-7615fff2b8d56640",
     "locked": false,
     "schema_version": 3,
     "solution": true,
     "task": false
    }
   },
   "outputs": [
    {
     "name": "stdout",
     "output_type": "stream",
     "text": [
      "<class 'list'>\n",
      "['comput', 'comput', 'comput', 'comput', 'comput', 'comput']\n"
     ]
    }
   ],
   "source": [
    "### GRADED\n",
    "stemmer = ''\n",
    "stemmed_words = ''\n",
    "\n",
    "    \n",
    "# YOUR CODE HERE\n",
    "stemmer = PorterStemmer()\n",
    "stemmed_words = [stemmer.stem(w) for w in C]\n",
    "\n",
    "### ANSWER CHECK\n",
    "print(type(stemmed_words))\n",
    "print(stemmed_words)"
   ]
  },
  {
   "cell_type": "code",
   "execution_count": null,
   "metadata": {
    "deletable": false,
    "editable": false,
    "nbgrader": {
     "cell_type": "code",
     "checksum": "2fafec42f51fa43757f304d54e05bd5f",
     "grade": true,
     "grade_id": "cell-c9fd64e1a7f14988",
     "locked": true,
     "points": 5,
     "schema_version": 3,
     "solution": false,
     "task": false
    }
   },
   "outputs": [],
   "source": []
  },
  {
   "cell_type": "markdown",
   "metadata": {
    "deletable": false,
    "editable": false,
    "nbgrader": {
     "cell_type": "markdown",
     "checksum": "c273f0ac6aca8d0443a24ccc5082c9e2",
     "grade": false,
     "grade_id": "cell-2f9ec0e9f460bd73",
     "locked": true,
     "schema_version": 3,
     "solution": false,
     "task": false
    }
   },
   "source": [
    "[Back to top](#-Index)\n",
    "\n",
    "### Problem 2\n",
    "\n",
    "#### Lemmatizing a list of words\n",
    "\n",
    "**5 Points**\n",
    "\n",
    "Use `WordNetLemmatizer` to lemmatize the different variations on the word \"compute\" in the list `C` below.  Assign your results to the list `lemmatized_words` below. "
   ]
  },
  {
   "cell_type": "code",
   "execution_count": 6,
   "metadata": {
    "deletable": false,
    "nbgrader": {
     "cell_type": "code",
     "checksum": "c391dee885a417258a14b0c620fd5f95",
     "grade": false,
     "grade_id": "cell-807c078c7cdba940",
     "locked": false,
     "schema_version": 3,
     "solution": true,
     "task": false
    }
   },
   "outputs": [
    {
     "name": "stdout",
     "output_type": "stream",
     "text": [
      "<class 'list'>\n",
      "['computer', 'computing', 'computed', 'computes', 'computation', 'compute']\n"
     ]
    }
   ],
   "source": [
    "### GRADED\n",
    "lemma = ''\n",
    "lemmatized_words = ''\n",
    "\n",
    "    \n",
    "# YOUR CODE HERE\n",
    "lemma = WordNetLemmatizer()\n",
    "lemmatized_words = [lemma.lemmatize(w) for w in C]\n",
    "\n",
    "### ANSWER CHECK\n",
    "print(type(lemmatized_words))\n",
    "print(lemmatized_words)"
   ]
  },
  {
   "cell_type": "code",
   "execution_count": null,
   "metadata": {
    "deletable": false,
    "editable": false,
    "nbgrader": {
     "cell_type": "code",
     "checksum": "f8fd7b4a79b6e424d7cecd4548413041",
     "grade": true,
     "grade_id": "cell-c6659be3e1efab02",
     "locked": true,
     "points": 5,
     "schema_version": 3,
     "solution": false,
     "task": false
    }
   },
   "outputs": [],
   "source": []
  },
  {
   "cell_type": "markdown",
   "metadata": {
    "deletable": false,
    "editable": false,
    "nbgrader": {
     "cell_type": "markdown",
     "checksum": "5df9ba943abff4f0c9a813c944b8b883",
     "grade": false,
     "grade_id": "cell-0e6a568b7b0e921c",
     "locked": true,
     "schema_version": 3,
     "solution": false,
     "task": false
    }
   },
   "source": [
    "[Back to top](#-Index)\n",
    "\n",
    "### Problem 3\n",
    "\n",
    "#### Which performed better\n",
    "\n",
    "**5 Points**\n",
    "\n",
    "Assuming we wanted all the words in `C` to be normalized to the same word, which worked better to this goal -- stemming or lemmatizing.  Assign your response as a string -- `stem` or `lemmatize` -- to `ans3` below."
   ]
  },
  {
   "cell_type": "code",
   "execution_count": 7,
   "metadata": {
    "deletable": false,
    "nbgrader": {
     "cell_type": "code",
     "checksum": "68575cfba96a0678f13d5a78cd0be1c7",
     "grade": false,
     "grade_id": "cell-f93a5e310d39f8f5",
     "locked": false,
     "schema_version": 3,
     "solution": true,
     "task": false
    }
   },
   "outputs": [
    {
     "name": "stdout",
     "output_type": "stream",
     "text": [
      "stem\n"
     ]
    }
   ],
   "source": [
    "### GRADED\n",
    "ans3 = ''\n",
    "\n",
    "    \n",
    "# YOUR CODE HERE\n",
    "ans3 = 'stem'\n",
    "\n",
    "### ANSWER CHECK\n",
    "print(ans3)"
   ]
  },
  {
   "cell_type": "code",
   "execution_count": null,
   "metadata": {
    "deletable": false,
    "editable": false,
    "nbgrader": {
     "cell_type": "code",
     "checksum": "a74551d1f31cbba366fc6c44a297d832",
     "grade": true,
     "grade_id": "cell-ebf219ad937d2131",
     "locked": true,
     "points": 5,
     "schema_version": 3,
     "solution": false,
     "task": false
    }
   },
   "outputs": [],
   "source": []
  },
  {
   "cell_type": "markdown",
   "metadata": {
    "deletable": false,
    "editable": false,
    "nbgrader": {
     "cell_type": "markdown",
     "checksum": "99b9e7cad1e08481649522a94af129dd",
     "grade": false,
     "grade_id": "cell-4b4c003df0313dc4",
     "locked": true,
     "schema_version": 3,
     "solution": false,
     "task": false
    }
   },
   "source": [
    "[Back to top](#-Index)\n",
    "\n",
    "### Problem 4\n",
    "\n",
    "#### A function for stemming\n",
    "\n",
    "**5 Points**\n",
    "\n",
    "Use `PorterStemmer` to complete the function `stemmer` below. This function should take in a string of text and return a string of stemmed text. Note that you will need to tokenize the text before stemming. This function should return a single string.\n",
    "\n",
    "Hint: Use the `join` method"
   ]
  },
  {
   "cell_type": "code",
   "execution_count": 8,
   "metadata": {
    "deletable": false,
    "nbgrader": {
     "cell_type": "code",
     "checksum": "6f0dff63288ac0d99270754dbe366e4f",
     "grade": false,
     "grade_id": "cell-91a95539e07ac52e",
     "locked": false,
     "schema_version": 3,
     "solution": true,
     "task": false
    }
   },
   "outputs": [
    {
     "name": "stdout",
     "output_type": "stream",
     "text": [
      "The computer did not compute the answers correctly.\n",
      "the comput did not comput the answer correctli .\n"
     ]
    }
   ],
   "source": [
    "### GRADED\n",
    "def stemmer(text):\n",
    "    '''\n",
    "    This function takes in a string of text and returns\n",
    "    a string of stemmed text.\n",
    "\n",
    "    Arguments\n",
    "    ---------\n",
    "    text: str\n",
    "        string of text to be stemmed\n",
    "\n",
    "    Returns\n",
    "    -------\n",
    "    str\n",
    "       string of stemmed words from the text input\n",
    "    '''\n",
    "    return ''\n",
    "    \n",
    "# YOUR CODE HERE\n",
    "def stemmer(text):\n",
    "    stem = PorterStemmer()\n",
    "    return ' '.join([stem.stem(w) for w in word_tokenize(text)])\n",
    "\n",
    "### ANSWER CHECK\n",
    "text = 'The computer did not compute the answers correctly.'\n",
    "print(text)\n",
    "print(stemmer(text))#should return --> the comput did not comput the answer correctli ."
   ]
  },
  {
   "cell_type": "code",
   "execution_count": null,
   "metadata": {
    "deletable": false,
    "editable": false,
    "nbgrader": {
     "cell_type": "code",
     "checksum": "926cccd2f592bf55ae9aa123d5ddc338",
     "grade": true,
     "grade_id": "cell-31330bb2eb94be3c",
     "locked": true,
     "points": 5,
     "schema_version": 3,
     "solution": false,
     "task": false
    }
   },
   "outputs": [],
   "source": []
  },
  {
   "cell_type": "markdown",
   "metadata": {
    "deletable": false,
    "editable": false,
    "nbgrader": {
     "cell_type": "markdown",
     "checksum": "df617c074226fda94bb9b16df830b5f3",
     "grade": false,
     "grade_id": "cell-3e04d4fcd8319182",
     "locked": true,
     "schema_version": 3,
     "solution": false,
     "task": false
    }
   },
   "source": [
    "[Back to top](#-Index)\n",
    "\n",
    "### Problem 5\n",
    "\n",
    "#### Using the stemmer on a DataFrame\n",
    "\n",
    "**5 Points**\n",
    "\n",
    "Use your function `stemmer` to apply to the `content` feature of the DataFrame `angry`.  Assign the resulting series to `stemmed_content` below.\n",
    "\n",
    "Hint: use the `.apply` method"
   ]
  },
  {
   "cell_type": "code",
   "execution_count": 14,
   "metadata": {
    "deletable": false,
    "nbgrader": {
     "cell_type": "code",
     "checksum": "19a9f9772ddceea11d2e4bdd93dafe5b",
     "grade": false,
     "grade_id": "cell-d390b2be161348d7",
     "locked": false,
     "schema_version": 3,
     "solution": true,
     "task": false
    }
   },
   "outputs": [
    {
     "name": "stdout",
     "output_type": "stream",
     "text": [
      "<class 'pandas.core.series.Series'>\n",
      "0    sometim i ’ m not angri , i ’ m hurt and there...\n",
      "1                           not avail for busi people☺\n",
      "2    i do not exist to impress the world . i exist ...\n",
      "3    everyth is get expens except some peopl , they...\n",
      "4          my phone screen is brighter than my futur 🙁\n",
      "Name: content, dtype: object\n"
     ]
    }
   ],
   "source": [
    "### GRADED\n",
    "stemmed_content = ''\n",
    "\n",
    "    \n",
    "# YOUR CODE HERE\n",
    "stemmed_content = angry['content'].apply(stemmer)\n",
    "\n",
    "### ANSWER CHECK\n",
    "print(type(stemmed_content))\n",
    "print(stemmed_content.head())"
   ]
  },
  {
   "cell_type": "code",
   "execution_count": null,
   "metadata": {
    "deletable": false,
    "editable": false,
    "nbgrader": {
     "cell_type": "code",
     "checksum": "6dbab148920979747dc547c4cbb583ba",
     "grade": true,
     "grade_id": "cell-8a3c8e6b1250a9db",
     "locked": true,
     "points": 5,
     "schema_version": 3,
     "solution": false,
     "task": false
    }
   },
   "outputs": [],
   "source": []
  },
  {
   "cell_type": "code",
   "execution_count": null,
   "metadata": {},
   "outputs": [],
   "source": []
  },
  {
   "cell_type": "code",
   "execution_count": null,
   "metadata": {},
   "outputs": [],
   "source": []
  }
 ],
 "metadata": {
  "kernelspec": {
   "display_name": "Python 3 (ipykernel)",
   "language": "python",
   "name": "python3"
  },
  "language_info": {
   "codemirror_mode": {
    "name": "ipython",
    "version": 3
   },
   "file_extension": ".py",
   "mimetype": "text/x-python",
   "name": "python",
   "nbconvert_exporter": "python",
   "pygments_lexer": "ipython3",
   "version": "3.9.11"
  }
 },
 "nbformat": 4,
 "nbformat_minor": 4
}
