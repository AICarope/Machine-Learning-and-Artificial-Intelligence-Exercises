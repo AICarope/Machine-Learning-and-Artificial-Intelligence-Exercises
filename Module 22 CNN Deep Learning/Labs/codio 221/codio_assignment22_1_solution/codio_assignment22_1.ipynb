{
 "cells": [
  {
   "cell_type": "markdown",
   "metadata": {
    "nbgrader": {
     "grade": false,
     "grade_id": "cell-243c49e5aa3b4b42",
     "locked": true,
     "schema_version": 3,
     "solution": false,
     "task": false
    }
   },
   "source": [
    "### Required Codio Assignment 22.1: Basic Neural Net for Image Data\n",
    "\n",
    "**Expected Time = 60 minutes**\n",
    "\n",
    "**Total Points = 30**\n",
    "\n",
    "This activity focuses on using a basic neural net architecture to predict handwritten digit labels.  Using the basic architecture you will also explore data augmentation using simple transformations of the images to create new data for the network.\n",
    "\n",
    "#### Index\n",
    "\n",
    "- [Problem 1](#-Problem-1)\n",
    "- [Problem 2](#-Problem-2)\n",
    "- [Problem 3](#-Problem-3)\n",
    "\n",
    "\n",
    "Run the code cell below to import the necessary libraries."
   ]
  },
  {
   "cell_type": "code",
   "execution_count": 2,
   "metadata": {},
   "outputs": [
    {
     "name": "stdout",
     "output_type": "stream",
     "text": [
      "Collecting tensorflow\n",
      "  Downloading tensorflow-2.18.0-cp312-cp312-win_amd64.whl.metadata (3.3 kB)\n",
      "Collecting tensorflow-intel==2.18.0 (from tensorflow)\n",
      "  Downloading tensorflow_intel-2.18.0-cp312-cp312-win_amd64.whl.metadata (4.9 kB)\n",
      "Collecting absl-py>=1.0.0 (from tensorflow-intel==2.18.0->tensorflow)\n",
      "  Downloading absl_py-2.1.0-py3-none-any.whl.metadata (2.3 kB)\n",
      "Collecting astunparse>=1.6.0 (from tensorflow-intel==2.18.0->tensorflow)\n",
      "  Downloading astunparse-1.6.3-py2.py3-none-any.whl.metadata (4.4 kB)\n",
      "Collecting flatbuffers>=24.3.25 (from tensorflow-intel==2.18.0->tensorflow)\n",
      "  Downloading flatbuffers-25.2.10-py2.py3-none-any.whl.metadata (875 bytes)\n",
      "Collecting gast!=0.5.0,!=0.5.1,!=0.5.2,>=0.2.1 (from tensorflow-intel==2.18.0->tensorflow)\n",
      "  Downloading gast-0.6.0-py3-none-any.whl.metadata (1.3 kB)\n",
      "Collecting google-pasta>=0.1.1 (from tensorflow-intel==2.18.0->tensorflow)\n",
      "  Downloading google_pasta-0.2.0-py3-none-any.whl.metadata (814 bytes)\n",
      "Collecting libclang>=13.0.0 (from tensorflow-intel==2.18.0->tensorflow)\n",
      "  Downloading libclang-18.1.1-py2.py3-none-win_amd64.whl.metadata (5.3 kB)\n",
      "Collecting opt-einsum>=2.3.2 (from tensorflow-intel==2.18.0->tensorflow)\n",
      "  Downloading opt_einsum-3.4.0-py3-none-any.whl.metadata (6.3 kB)\n",
      "Requirement already satisfied: packaging in c:\\programdata\\anaconda3\\lib\\site-packages (from tensorflow-intel==2.18.0->tensorflow) (24.1)\n",
      "Requirement already satisfied: protobuf!=4.21.0,!=4.21.1,!=4.21.2,!=4.21.3,!=4.21.4,!=4.21.5,<6.0.0dev,>=3.20.3 in c:\\programdata\\anaconda3\\lib\\site-packages (from tensorflow-intel==2.18.0->tensorflow) (4.25.3)\n",
      "Requirement already satisfied: requests<3,>=2.21.0 in c:\\programdata\\anaconda3\\lib\\site-packages (from tensorflow-intel==2.18.0->tensorflow) (2.32.3)\n",
      "Requirement already satisfied: setuptools in c:\\programdata\\anaconda3\\lib\\site-packages (from tensorflow-intel==2.18.0->tensorflow) (75.1.0)\n",
      "Requirement already satisfied: six>=1.12.0 in c:\\programdata\\anaconda3\\lib\\site-packages (from tensorflow-intel==2.18.0->tensorflow) (1.16.0)\n",
      "Collecting termcolor>=1.1.0 (from tensorflow-intel==2.18.0->tensorflow)\n",
      "  Downloading termcolor-2.5.0-py3-none-any.whl.metadata (6.1 kB)\n",
      "Requirement already satisfied: typing-extensions>=3.6.6 in c:\\programdata\\anaconda3\\lib\\site-packages (from tensorflow-intel==2.18.0->tensorflow) (4.11.0)\n",
      "Requirement already satisfied: wrapt>=1.11.0 in c:\\programdata\\anaconda3\\lib\\site-packages (from tensorflow-intel==2.18.0->tensorflow) (1.14.1)\n",
      "Collecting grpcio<2.0,>=1.24.3 (from tensorflow-intel==2.18.0->tensorflow)\n",
      "  Downloading grpcio-1.70.0-cp312-cp312-win_amd64.whl.metadata (4.0 kB)\n",
      "Collecting tensorboard<2.19,>=2.18 (from tensorflow-intel==2.18.0->tensorflow)\n",
      "  Downloading tensorboard-2.18.0-py3-none-any.whl.metadata (1.6 kB)\n",
      "Collecting keras>=3.5.0 (from tensorflow-intel==2.18.0->tensorflow)\n",
      "  Downloading keras-3.9.0-py3-none-any.whl.metadata (6.1 kB)\n",
      "Requirement already satisfied: numpy<2.1.0,>=1.26.0 in c:\\programdata\\anaconda3\\lib\\site-packages (from tensorflow-intel==2.18.0->tensorflow) (1.26.4)\n",
      "Requirement already satisfied: h5py>=3.11.0 in c:\\programdata\\anaconda3\\lib\\site-packages (from tensorflow-intel==2.18.0->tensorflow) (3.11.0)\n",
      "Collecting ml-dtypes<0.5.0,>=0.4.0 (from tensorflow-intel==2.18.0->tensorflow)\n",
      "  Downloading ml_dtypes-0.4.1-cp312-cp312-win_amd64.whl.metadata (20 kB)\n",
      "Requirement already satisfied: wheel<1.0,>=0.23.0 in c:\\programdata\\anaconda3\\lib\\site-packages (from astunparse>=1.6.0->tensorflow-intel==2.18.0->tensorflow) (0.44.0)\n",
      "Requirement already satisfied: rich in c:\\programdata\\anaconda3\\lib\\site-packages (from keras>=3.5.0->tensorflow-intel==2.18.0->tensorflow) (13.7.1)\n",
      "Collecting namex (from keras>=3.5.0->tensorflow-intel==2.18.0->tensorflow)\n",
      "  Downloading namex-0.0.8-py3-none-any.whl.metadata (246 bytes)\n",
      "Collecting optree (from keras>=3.5.0->tensorflow-intel==2.18.0->tensorflow)\n",
      "  Downloading optree-0.14.1-cp312-cp312-win_amd64.whl.metadata (50 kB)\n",
      "Requirement already satisfied: charset-normalizer<4,>=2 in c:\\programdata\\anaconda3\\lib\\site-packages (from requests<3,>=2.21.0->tensorflow-intel==2.18.0->tensorflow) (3.3.2)\n",
      "Requirement already satisfied: idna<4,>=2.5 in c:\\programdata\\anaconda3\\lib\\site-packages (from requests<3,>=2.21.0->tensorflow-intel==2.18.0->tensorflow) (3.7)\n",
      "Requirement already satisfied: urllib3<3,>=1.21.1 in c:\\programdata\\anaconda3\\lib\\site-packages (from requests<3,>=2.21.0->tensorflow-intel==2.18.0->tensorflow) (2.2.3)\n",
      "Requirement already satisfied: certifi>=2017.4.17 in c:\\programdata\\anaconda3\\lib\\site-packages (from requests<3,>=2.21.0->tensorflow-intel==2.18.0->tensorflow) (2025.1.31)\n",
      "Requirement already satisfied: markdown>=2.6.8 in c:\\programdata\\anaconda3\\lib\\site-packages (from tensorboard<2.19,>=2.18->tensorflow-intel==2.18.0->tensorflow) (3.4.1)\n",
      "Collecting tensorboard-data-server<0.8.0,>=0.7.0 (from tensorboard<2.19,>=2.18->tensorflow-intel==2.18.0->tensorflow)\n",
      "  Downloading tensorboard_data_server-0.7.2-py3-none-any.whl.metadata (1.1 kB)\n",
      "Requirement already satisfied: werkzeug>=1.0.1 in c:\\programdata\\anaconda3\\lib\\site-packages (from tensorboard<2.19,>=2.18->tensorflow-intel==2.18.0->tensorflow) (3.0.3)\n",
      "Requirement already satisfied: MarkupSafe>=2.1.1 in c:\\programdata\\anaconda3\\lib\\site-packages (from werkzeug>=1.0.1->tensorboard<2.19,>=2.18->tensorflow-intel==2.18.0->tensorflow) (2.1.3)\n",
      "Requirement already satisfied: markdown-it-py>=2.2.0 in c:\\programdata\\anaconda3\\lib\\site-packages (from rich->keras>=3.5.0->tensorflow-intel==2.18.0->tensorflow) (2.2.0)\n",
      "Requirement already satisfied: pygments<3.0.0,>=2.13.0 in c:\\programdata\\anaconda3\\lib\\site-packages (from rich->keras>=3.5.0->tensorflow-intel==2.18.0->tensorflow) (2.15.1)\n",
      "Requirement already satisfied: mdurl~=0.1 in c:\\programdata\\anaconda3\\lib\\site-packages (from markdown-it-py>=2.2.0->rich->keras>=3.5.0->tensorflow-intel==2.18.0->tensorflow) (0.1.0)\n",
      "Downloading tensorflow-2.18.0-cp312-cp312-win_amd64.whl (7.5 kB)\n",
      "Downloading tensorflow_intel-2.18.0-cp312-cp312-win_amd64.whl (390.3 MB)\n",
      "   ---------------------------------------- 0.0/390.3 MB ? eta -:--:--\n",
      "   - -------------------------------------- 10.5/390.3 MB 54.4 MB/s eta 0:00:07\n",
      "   -- ------------------------------------- 22.8/390.3 MB 57.7 MB/s eta 0:00:07\n",
      "   --- ------------------------------------ 33.6/390.3 MB 56.0 MB/s eta 0:00:07\n",
      "   ---- ----------------------------------- 40.1/390.3 MB 50.0 MB/s eta 0:00:08\n",
      "   ---- ----------------------------------- 46.4/390.3 MB 46.9 MB/s eta 0:00:08\n",
      "   ----- ---------------------------------- 52.2/390.3 MB 43.7 MB/s eta 0:00:08\n",
      "   ----- ---------------------------------- 57.1/390.3 MB 40.5 MB/s eta 0:00:09\n",
      "   ------ --------------------------------- 62.1/390.3 MB 38.4 MB/s eta 0:00:09\n",
      "   ------ --------------------------------- 66.3/390.3 MB 36.8 MB/s eta 0:00:09\n",
      "   ------- -------------------------------- 71.6/390.3 MB 35.7 MB/s eta 0:00:09\n",
      "   ------- -------------------------------- 76.5/390.3 MB 34.6 MB/s eta 0:00:10\n",
      "   -------- ------------------------------- 81.5/390.3 MB 33.8 MB/s eta 0:00:10\n",
      "   -------- ------------------------------- 86.2/390.3 MB 33.0 MB/s eta 0:00:10\n",
      "   --------- ------------------------------ 91.2/390.3 MB 32.3 MB/s eta 0:00:10\n",
      "   --------- ------------------------------ 97.0/390.3 MB 32.1 MB/s eta 0:00:10\n",
      "   ---------- ---------------------------- 102.8/390.3 MB 31.8 MB/s eta 0:00:10\n",
      "   ---------- ---------------------------- 107.5/390.3 MB 31.3 MB/s eta 0:00:10\n",
      "   ----------- --------------------------- 112.5/390.3 MB 31.1 MB/s eta 0:00:09\n",
      "   ----------- --------------------------- 116.4/390.3 MB 30.5 MB/s eta 0:00:09\n",
      "   ------------ -------------------------- 120.6/390.3 MB 30.0 MB/s eta 0:00:10\n",
      "   ------------ -------------------------- 125.3/390.3 MB 29.6 MB/s eta 0:00:09\n",
      "   ------------- ------------------------- 130.8/390.3 MB 29.5 MB/s eta 0:00:09\n",
      "   ------------- ------------------------- 136.8/390.3 MB 29.5 MB/s eta 0:00:09\n",
      "   -------------- ------------------------ 143.1/390.3 MB 29.6 MB/s eta 0:00:09\n",
      "   -------------- ------------------------ 148.6/390.3 MB 29.5 MB/s eta 0:00:09\n",
      "   --------------- ----------------------- 154.4/390.3 MB 29.4 MB/s eta 0:00:09\n",
      "   --------------- ----------------------- 159.6/390.3 MB 29.3 MB/s eta 0:00:08\n",
      "   ---------------- ---------------------- 163.8/390.3 MB 29.0 MB/s eta 0:00:08\n",
      "   ---------------- ---------------------- 168.8/390.3 MB 28.8 MB/s eta 0:00:08\n",
      "   ----------------- --------------------- 174.6/390.3 MB 28.8 MB/s eta 0:00:08\n",
      "   ------------------ -------------------- 180.6/390.3 MB 28.9 MB/s eta 0:00:08\n",
      "   ------------------ -------------------- 186.9/390.3 MB 29.0 MB/s eta 0:00:08\n",
      "   ------------------- ------------------- 192.9/390.3 MB 28.9 MB/s eta 0:00:07\n",
      "   ------------------- ------------------- 198.2/390.3 MB 28.9 MB/s eta 0:00:07\n",
      "   -------------------- ------------------ 202.6/390.3 MB 28.7 MB/s eta 0:00:07\n",
      "   -------------------- ------------------ 205.3/390.3 MB 28.3 MB/s eta 0:00:07\n",
      "   -------------------- ------------------ 209.5/390.3 MB 28.1 MB/s eta 0:00:07\n",
      "   --------------------- ----------------- 213.6/390.3 MB 27.9 MB/s eta 0:00:07\n",
      "   --------------------- ----------------- 217.8/390.3 MB 27.7 MB/s eta 0:00:07\n",
      "   ---------------------- ---------------- 222.3/390.3 MB 27.5 MB/s eta 0:00:07\n",
      "   ---------------------- ---------------- 226.5/390.3 MB 27.4 MB/s eta 0:00:06\n",
      "   ----------------------- --------------- 230.9/390.3 MB 27.2 MB/s eta 0:00:06\n",
      "   ----------------------- --------------- 235.4/390.3 MB 27.1 MB/s eta 0:00:06\n",
      "   ----------------------- --------------- 239.3/390.3 MB 27.0 MB/s eta 0:00:06\n",
      "   ------------------------ -------------- 243.8/390.3 MB 26.8 MB/s eta 0:00:06\n",
      "   ------------------------ -------------- 248.0/390.3 MB 26.8 MB/s eta 0:00:06\n",
      "   ------------------------- ------------- 252.2/390.3 MB 26.6 MB/s eta 0:00:06\n",
      "   ------------------------- ------------- 256.1/390.3 MB 26.5 MB/s eta 0:00:06\n",
      "   -------------------------- ------------ 261.4/390.3 MB 26.4 MB/s eta 0:00:05\n",
      "   -------------------------- ------------ 266.9/390.3 MB 26.2 MB/s eta 0:00:05\n",
      "   --------------------------- ----------- 272.9/390.3 MB 26.0 MB/s eta 0:00:05\n",
      "   --------------------------- ----------- 279.2/390.3 MB 25.7 MB/s eta 0:00:05\n",
      "   ---------------------------- ---------- 285.0/390.3 MB 25.5 MB/s eta 0:00:05\n",
      "   ----------------------------- --------- 290.7/390.3 MB 25.2 MB/s eta 0:00:04\n",
      "   ----------------------------- --------- 296.7/390.3 MB 25.0 MB/s eta 0:00:04\n",
      "   ------------------------------ -------- 301.7/390.3 MB 24.9 MB/s eta 0:00:04\n",
      "   ------------------------------ -------- 306.4/390.3 MB 24.8 MB/s eta 0:00:04\n",
      "   ------------------------------- ------- 311.7/390.3 MB 24.7 MB/s eta 0:00:04\n",
      "   ------------------------------- ------- 316.1/390.3 MB 24.7 MB/s eta 0:00:04\n",
      "   -------------------------------- ------ 320.3/390.3 MB 24.6 MB/s eta 0:00:03\n",
      "   -------------------------------- ------ 324.8/390.3 MB 24.5 MB/s eta 0:00:03\n",
      "   -------------------------------- ------ 329.8/390.3 MB 24.6 MB/s eta 0:00:03\n",
      "   --------------------------------- ----- 333.7/390.3 MB 24.5 MB/s eta 0:00:03\n",
      "   --------------------------------- ----- 338.4/390.3 MB 24.4 MB/s eta 0:00:03\n",
      "   ---------------------------------- ---- 343.4/390.3 MB 24.5 MB/s eta 0:00:02\n",
      "   ---------------------------------- ---- 348.1/390.3 MB 24.4 MB/s eta 0:00:02\n",
      "   ----------------------------------- --- 353.1/390.3 MB 24.4 MB/s eta 0:00:02\n",
      "   ----------------------------------- --- 359.1/390.3 MB 24.5 MB/s eta 0:00:02\n",
      "   ------------------------------------ -- 365.2/390.3 MB 24.5 MB/s eta 0:00:02\n",
      "   ------------------------------------- - 371.7/390.3 MB 24.7 MB/s eta 0:00:01\n",
      "   ------------------------------------- - 378.3/390.3 MB 24.9 MB/s eta 0:00:01\n",
      "   --------------------------------------  383.8/390.3 MB 25.1 MB/s eta 0:00:01\n",
      "   --------------------------------------  389.3/390.3 MB 25.1 MB/s eta 0:00:01\n",
      "   --------------------------------------  390.1/390.3 MB 25.1 MB/s eta 0:00:01\n",
      "   --------------------------------------  390.1/390.3 MB 25.1 MB/s eta 0:00:01\n",
      "   --------------------------------------  390.1/390.3 MB 25.1 MB/s eta 0:00:01\n",
      "   --------------------------------------- 390.3/390.3 MB 23.6 MB/s eta 0:00:00\n",
      "Downloading absl_py-2.1.0-py3-none-any.whl (133 kB)\n",
      "Downloading astunparse-1.6.3-py2.py3-none-any.whl (12 kB)\n",
      "Downloading flatbuffers-25.2.10-py2.py3-none-any.whl (30 kB)\n",
      "Downloading gast-0.6.0-py3-none-any.whl (21 kB)\n",
      "Downloading google_pasta-0.2.0-py3-none-any.whl (57 kB)\n",
      "Downloading grpcio-1.70.0-cp312-cp312-win_amd64.whl (4.3 MB)\n",
      "   ---------------------------------------- 0.0/4.3 MB ? eta -:--:--\n",
      "   ---------------------------------------- 4.3/4.3 MB 25.8 MB/s eta 0:00:00\n",
      "Downloading keras-3.9.0-py3-none-any.whl (1.3 MB)\n",
      "   ---------------------------------------- 0.0/1.3 MB ? eta -:--:--\n",
      "   ---------------------------------------- 1.3/1.3 MB 23.0 MB/s eta 0:00:00\n",
      "Downloading libclang-18.1.1-py2.py3-none-win_amd64.whl (26.4 MB)\n",
      "   ---------------------------------------- 0.0/26.4 MB ? eta -:--:--\n",
      "   --------- ------------------------------ 6.3/26.4 MB 32.2 MB/s eta 0:00:01\n",
      "   ------------------ --------------------- 12.3/26.4 MB 30.8 MB/s eta 0:00:01\n",
      "   -------------------------- ------------- 17.6/26.4 MB 29.1 MB/s eta 0:00:01\n",
      "   ---------------------------------- ----- 22.5/26.4 MB 28.0 MB/s eta 0:00:01\n",
      "   ---------------------------------------  26.2/26.4 MB 27.2 MB/s eta 0:00:01\n",
      "   ---------------------------------------- 26.4/26.4 MB 25.0 MB/s eta 0:00:00\n",
      "Downloading ml_dtypes-0.4.1-cp312-cp312-win_amd64.whl (127 kB)\n",
      "Downloading opt_einsum-3.4.0-py3-none-any.whl (71 kB)\n",
      "Downloading tensorboard-2.18.0-py3-none-any.whl (5.5 MB)\n",
      "   ---------------------------------------- 0.0/5.5 MB ? eta -:--:--\n",
      "   ---------------------------------------- 5.5/5.5 MB 27.9 MB/s eta 0:00:00\n",
      "Downloading termcolor-2.5.0-py3-none-any.whl (7.8 kB)\n",
      "Downloading tensorboard_data_server-0.7.2-py3-none-any.whl (2.4 kB)\n",
      "Downloading namex-0.0.8-py3-none-any.whl (5.8 kB)\n",
      "Downloading optree-0.14.1-cp312-cp312-win_amd64.whl (306 kB)\n",
      "Installing collected packages: namex, libclang, flatbuffers, termcolor, tensorboard-data-server, optree, opt-einsum, ml-dtypes, grpcio, google-pasta, gast, astunparse, absl-py, tensorboard, keras, tensorflow-intel, tensorflow\n",
      "Successfully installed absl-py-2.1.0 astunparse-1.6.3 flatbuffers-25.2.10 gast-0.6.0 google-pasta-0.2.0 grpcio-1.70.0 keras-3.9.0 libclang-18.1.1 ml-dtypes-0.4.1 namex-0.0.8 opt-einsum-3.4.0 optree-0.14.1 tensorboard-2.18.0 tensorboard-data-server-0.7.2 tensorflow-2.18.0 tensorflow-intel-2.18.0 termcolor-2.5.0\n",
      "Note: you may need to restart the kernel to use updated packages.\n"
     ]
    }
   ],
   "source": [
    "pip install tensorflow"
   ]
  },
  {
   "cell_type": "code",
   "execution_count": 3,
   "metadata": {},
   "outputs": [],
   "source": [
    "import numpy as np\n",
    "import pandas as pd\n",
    "import matplotlib.pyplot as plt\n",
    "import tensorflow as tf\n",
    "import warnings\n",
    "\n",
    "\n",
    "from tensorflow.keras.models import Sequential\n",
    "from tensorflow.keras.layers import Flatten, Dense\n",
    "from tensorflow.keras.utils import to_categorical\n",
    "from tensorflow.keras.datasets import mnist\n",
    "\n",
    "warnings.filterwarnings('ignore')"
   ]
  },
  {
   "cell_type": "markdown",
   "metadata": {
    "nbgrader": {
     "grade": false,
     "grade_id": "cell-387a69cad332020a",
     "locked": true,
     "schema_version": 3,
     "solution": false,
     "task": false
    }
   },
   "source": [
    "### The Dataset\n",
    "\n",
    "You will be using the `mnist` dataset which is included in the `datasets` module of the `keras` library. This dataset contains observations that are 28 x 28 pixel images of handwritten digits.  The labels correspond to the actual digit, forming a 10 category classification problem for you.  Below, the data is loaded and reshaped in anticipation of the neural network architecture."
   ]
  },
  {
   "cell_type": "code",
   "execution_count": 4,
   "metadata": {},
   "outputs": [
    {
     "name": "stdout",
     "output_type": "stream",
     "text": [
      "Downloading data from https://storage.googleapis.com/tensorflow/tf-keras-datasets/mnist.npz\n",
      "\u001b[1m11490434/11490434\u001b[0m \u001b[32m━━━━━━━━━━━━━━━━━━━━\u001b[0m\u001b[37m\u001b[0m \u001b[1m0s\u001b[0m 0us/step\n"
     ]
    }
   ],
   "source": [
    "(X_train, y_train), (X_test, y_test) = mnist.load_data()\n",
    "X_train = X_train.reshape(X_train.shape[0], 28, 28, 1)\n",
    "X_test = X_test.reshape(X_test.shape[0], 28, 28, 1)\n",
    "Y_train = to_categorical(y_train)\n",
    "Y_test = to_categorical(y_test)"
   ]
  },
  {
   "cell_type": "code",
   "execution_count": 5,
   "metadata": {},
   "outputs": [
    {
     "data": {
      "image/png": "[encoded data removed]",
      "text/plain": [
       "<Figure size 640x480 with 1 Axes>"
      ]
     },
     "metadata": {},
     "output_type": "display_data"
    }
   ],
   "source": [
    "plt.imshow(X_train[0])\n",
    "plt.title(f'Image of a handwritten {y_train[0]}');"
   ]
  },
  {
   "cell_type": "markdown",
   "metadata": {
    "nbgrader": {
     "grade": false,
     "grade_id": "cell-53f124e29bcf4258",
     "locked": true,
     "schema_version": 3,
     "solution": false,
     "task": false
    }
   },
   "source": [
    "[Back to top](#-Index)\n",
    "\n",
    "### Problem 1\n",
    "\n",
    "#### Using a Convolutional Architecture\n",
    "\n",
    "**10 Points**\n",
    "\n",
    "Below, use the TensorFlow function `Sequential()` to build a convolutional neural network using the following functions and configurations:\n",
    "\n",
    "- Use `Flatten` to flatten the images\n",
    "- Use a single `Dense` hidden layer with 60 nodes and a `relu` activation\n",
    "- Use a single `Dense` hidden layer with 10 nodes and a `softmax` activiation.\n",
    "\n",
    "Assign this network to the variable `model`.\n",
    "\n",
    "Compile `model` using `categorical_crossentropy` as your `loss` and  `accuracy` as your `metric`.\n",
    "\n",
    "Fit your model to the training data `X_train` and ` Y_train` including `X_test, Y_test` as your validation data. In this step, set the variable `verbose` equal to `0` and the number of `epochs` equal to 2.\n",
    "\n",
    "Assign the fit model to the `history` variable below.\n",
    "\n",
    "NOTE: This question is computationally expensive, so please be patient with the processing. It may take a few minutes based on your computing power. "
   ]
  },
  {
   "cell_type": "code",
   "execution_count": 6,
   "metadata": {
    "nbgrader": {
     "grade": false,
     "grade_id": "cell-4632853de70a640a",
     "locked": false,
     "schema_version": 3,
     "solution": true,
     "task": false
    }
   },
   "outputs": [
    {
     "name": "stdout",
     "output_type": "stream",
     "text": [
      "0.8952833414077759\n",
      "0.9071000218391418\n"
     ]
    }
   ],
   "source": [
    "### GRADED\n",
    "tf.random.set_seed(42)\n",
    "model = ''\n",
    "history = ''\n",
    "\n",
    "    \n",
    "### BEGIN SOLUTION\n",
    "tf.random.set_seed(42)\n",
    "model = Sequential([Flatten(),\n",
    "                    Dense(60, activation = 'relu'),\n",
    "                   Dense(10, activation = 'softmax')])\n",
    "model.compile(loss = 'categorical_crossentropy', metrics = ['accuracy'])\n",
    "history = model.fit(X_train, Y_train, validation_data = (X_test, Y_test),\n",
    "         verbose = 0, \n",
    "                   epochs = 2)\n",
    "### END SOLUTION\n",
    "\n",
    "### ANSWER CHECK\n",
    "print(history.history['accuracy'][-1])\n",
    "print(history.history['val_accuracy'][-1])"
   ]
  },
  {
   "cell_type": "markdown",
   "metadata": {
    "nbgrader": {
     "grade": false,
     "grade_id": "cell-db6ba3091836a103",
     "locked": true,
     "schema_version": 3,
     "solution": false,
     "task": false
    }
   },
   "source": [
    "[Back to top](#-Index)\n",
    "\n",
    "### Problem 2\n",
    "\n",
    "#### Data Augmentation\n",
    "\n",
    "**10 Points**\n",
    "\n",
    "One way to attempt a model improvement is to create new inputs to the network based on transformed versions of the original data.  \n",
    "\n",
    "\n",
    "In the code cell below, use the `ImageDataGenerator` function from `keras` with the arguments `horizontal_flip` and `vertical_flip` both equal to `True` to create a new version of the train and test data that performs both a horizontal and vertical flip of the images. Assign this new object to the variable `gen` below.  \n",
    "\n",
    "Perform the horizontal and vertical flips on the training sets by using the `.flow` method on `gen` with arguments `X_train` and `y_train`. Assign this new object to the variable `train_gen`.\n",
    "\n",
    "Perform the horizontal and vertical flips on the testing sets by using the `.flow` method on `gen` with arguments `X_test` and `y_test`. Assign this new object to the variable `test_gen`."
   ]
  },
  {
   "cell_type": "code",
   "execution_count": 7,
   "metadata": {},
   "outputs": [],
   "source": [
    "from tensorflow.keras.preprocessing.image import ImageDataGenerator"
   ]
  },
  {
   "cell_type": "code",
   "execution_count": 8,
   "metadata": {
    "nbgrader": {
     "grade": false,
     "grade_id": "cell-eefcd1f11f2f6718",
     "locked": false,
     "schema_version": 3,
     "solution": true,
     "task": false
    }
   },
   "outputs": [],
   "source": [
    "### GRADED\n",
    "tf.random.set_seed(42)\n",
    "gen = ''\n",
    "train_gen = ''\n",
    "test_gen = ''\n",
    "\n",
    "    \n",
    "### BEGIN SOLUTION\n",
    "tf.random.set_seed(42)\n",
    "gen = ImageDataGenerator(horizontal_flip=True, vertical_flip=True)\n",
    "#gen.fit(X_train)\n",
    "train_gen = gen.flow(X_train, Y_train)\n",
    "test_gen = gen.flow(X_test, Y_test)\n",
    "### END SOLUTION\n",
    "\n",
    "### ANSWER CHECK\n",
    "##UNCOMMENT TO VISUALIZE\n",
    "# fig, ax = plt.subplots(6, 6, figsize = (20, 14))\n",
    "# for i in range(6):\n",
    "#     for j in range(6):\n",
    "#         pic = train_gen.next()\n",
    "#         ax[i, j].imshow(pic[0][0].reshape(28, 28))\n",
    "# plt.suptitle(\"Augmented and Original Digit Data\", fontsize = 30);"
   ]
  },
  {
   "cell_type": "markdown",
   "metadata": {
    "nbgrader": {
     "grade": false,
     "grade_id": "cell-1a677cd10ec66bca",
     "locked": true,
     "schema_version": 3,
     "solution": false,
     "task": false
    }
   },
   "source": [
    "[Back to top](#-Index)\n",
    "\n",
    "### Problem 3\n",
    "\n",
    "#### Training a model on the augmented data\n",
    "\n",
    "**10 Points**\n",
    "\n",
    "Now, your aim is to compare the performance of the convolutional architecture on the augmented version of the data.  You can replace `X_train` and `X_test` in your model fitting with `train_gen` and `test_gen`.  \n",
    "\n",
    "Create a new model, `aug_model`, with the identical architecture to the first network in **Problem 1** and compile it using the same settings as in **Problem 1**.\n",
    "\n",
    "This time, fit your model to the data `train_gen` defined in **Problem 2** and use `test_gen` as `validation_data`. In this step, set the variable `verbose` equal to `0` and the number of `epochs` equal to 2.\n",
    "\n",
    "Assign the fit model to the `augmented_history` variable below.\n",
    "\n",
    "NOTE: This question is computationally expensive, so please be patient with the processing. It may take a few minutes based on your computing power.\n"
   ]
  },
  {
   "cell_type": "code",
   "execution_count": 9,
   "metadata": {
    "nbgrader": {
     "grade": false,
     "grade_id": "cell-2058f00cf54b6027",
     "locked": false,
     "schema_version": 3,
     "solution": true,
     "task": false
    }
   },
   "outputs": [
    {
     "name": "stdout",
     "output_type": "stream",
     "text": [
      "0.6123833060264587\n",
      "0.6575000286102295\n"
     ]
    }
   ],
   "source": [
    "### GRADED\n",
    "tf.random.set_seed(42)\n",
    "aug_model = ''\n",
    "augmented_history = ''\n",
    "\n",
    "    \n",
    "### BEGIN SOLUTION\n",
    "tf.random.set_seed(42)\n",
    "aug_model = Sequential([Flatten(), Dense(60, activation = 'relu'),\n",
    "                       Dense(10, activation = 'softmax')])\n",
    "aug_model.compile(loss = 'categorical_crossentropy', metrics = ['accuracy'])\n",
    "augmented_history = aug_model.fit(train_gen,  validation_data = test_gen,\n",
    "                                 epochs = 2, verbose = 0)\n",
    "### END SOLUTION\n",
    "\n",
    "### ANSWER CHECK\n",
    "print(augmented_history.history['accuracy'][-1])\n",
    "print(augmented_history.history['val_accuracy'][-1])"
   ]
  },
  {
   "cell_type": "markdown",
   "metadata": {
    "nbgrader": {
     "grade": false,
     "grade_id": "cell-4e5311135bb2467c",
     "locked": true,
     "schema_version": 3,
     "solution": false,
     "task": false
    }
   },
   "source": [
    "Note the performance difference and think about why it either improved or declined after using the augmented data. "
   ]
  },
  {
   "cell_type": "code",
   "execution_count": null,
   "metadata": {},
   "outputs": [],
   "source": []
  }
 ],
 "metadata": {
  "celltoolbar": "Create Assignment",
  "kernelspec": {
   "display_name": "Python 3",
   "language": "python",
   "name": "python3"
  },
  "language_info": {
   "codemirror_mode": {
    "name": "ipython",
    "version": 3
   },
   "file_extension": ".py",
   "mimetype": "text/x-python",
   "name": "python",
   "nbconvert_exporter": "python",
   "pygments_lexer": "ipython3",
   "version": "3.12.3"
  },
  "widgets": {
   "application/vnd.jupyter.widget-state+json": {
    "state": {},
    "version_major": 2,
    "version_minor": 0
   }
  }
 },
 "nbformat": 4,
 "nbformat_minor": 4
}
