{
 "cells": [
  {
   "cell_type": "markdown",
   "metadata": {
    "nbgrader": {
     "grade": false,
     "grade_id": "cell-613c5ba44703f45a",
     "locked": true,
     "schema_version": 1,
     "solution": false
    }
   },
   "source": [
    "## Required Codio Assignment 7.3: Multiple Linear Regression\n",
    "\n",
    "**Expected Time = 60 minutes**\n",
    "\n",
    "**Total Points = 20**\n",
    "\n",
    "This assignment focuses on building a regression model using multiple features.  Using a dataset from the `seaborn` library, you are to build and evaluate regression models with one, two, and three features.\n",
    "\n",
    "## Index:\n",
    "\n",
    "- [Problem 1](#Problem-1)\n",
    "- [Problem 2](#Problem-2)\n",
    "- [Problem 3](#Problem-3)\n",
    "- [Problem 4](#Problem-4)"
   ]
  },
  {
   "cell_type": "code",
   "execution_count": 1,
   "metadata": {},
   "outputs": [],
   "source": [
    "import numpy as np\n",
    "import pandas as pd\n",
    "import seaborn as sns\n",
    "from sklearn.linear_model import LinearRegression\n",
    "from sklearn.metrics import mean_absolute_error, mean_squared_error"
   ]
  },
  {
   "cell_type": "markdown",
   "metadata": {
    "nbgrader": {
     "grade": false,
     "grade_id": "cell-61acc7e6dbd9da8b",
     "locked": true,
     "schema_version": 1,
     "solution": false
    }
   },
   "source": [
    "### The Dataset\n",
    "\n",
    "Below, a dataset containing information on diamonds is loaded and displayed.  Your task is to build a regression model that predicts the price of the diamond given different features as inputs.  "
   ]
  },
  {
   "cell_type": "code",
   "execution_count": 2,
   "metadata": {},
   "outputs": [],
   "source": [
    "diamonds = sns.load_dataset('diamonds')"
   ]
  },
  {
   "cell_type": "code",
   "execution_count": 3,
   "metadata": {},
   "outputs": [
    {
     "data": {
      "text/html": [
       "<div>\n",
       "<style scoped>\n",
       "    .dataframe tbody tr th:only-of-type {\n",
       "        vertical-align: middle;\n",
       "    }\n",
       "\n",
       "    .dataframe tbody tr th {\n",
       "        vertical-align: top;\n",
       "    }\n",
       "\n",
       "    .dataframe thead th {\n",
       "        text-align: right;\n",
       "    }\n",
       "</style>\n",
       "<table border=\"1\" class=\"dataframe\">\n",
       "  <thead>\n",
       "    <tr style=\"text-align: right;\">\n",
       "      <th></th>\n",
       "      <th>carat</th>\n",
       "      <th>cut</th>\n",
       "      <th>color</th>\n",
       "      <th>clarity</th>\n",
       "      <th>depth</th>\n",
       "      <th>table</th>\n",
       "      <th>price</th>\n",
       "      <th>x</th>\n",
       "      <th>y</th>\n",
       "      <th>z</th>\n",
       "    </tr>\n",
       "  </thead>\n",
       "  <tbody>\n",
       "    <tr>\n",
       "      <th>0</th>\n",
       "      <td>0.23</td>\n",
       "      <td>Ideal</td>\n",
       "      <td>E</td>\n",
       "      <td>SI2</td>\n",
       "      <td>61.5</td>\n",
       "      <td>55.0</td>\n",
       "      <td>326</td>\n",
       "      <td>3.95</td>\n",
       "      <td>3.98</td>\n",
       "      <td>2.43</td>\n",
       "    </tr>\n",
       "    <tr>\n",
       "      <th>1</th>\n",
       "      <td>0.21</td>\n",
       "      <td>Premium</td>\n",
       "      <td>E</td>\n",
       "      <td>SI1</td>\n",
       "      <td>59.8</td>\n",
       "      <td>61.0</td>\n",
       "      <td>326</td>\n",
       "      <td>3.89</td>\n",
       "      <td>3.84</td>\n",
       "      <td>2.31</td>\n",
       "    </tr>\n",
       "    <tr>\n",
       "      <th>2</th>\n",
       "      <td>0.23</td>\n",
       "      <td>Good</td>\n",
       "      <td>E</td>\n",
       "      <td>VS1</td>\n",
       "      <td>56.9</td>\n",
       "      <td>65.0</td>\n",
       "      <td>327</td>\n",
       "      <td>4.05</td>\n",
       "      <td>4.07</td>\n",
       "      <td>2.31</td>\n",
       "    </tr>\n",
       "    <tr>\n",
       "      <th>3</th>\n",
       "      <td>0.29</td>\n",
       "      <td>Premium</td>\n",
       "      <td>I</td>\n",
       "      <td>VS2</td>\n",
       "      <td>62.4</td>\n",
       "      <td>58.0</td>\n",
       "      <td>334</td>\n",
       "      <td>4.20</td>\n",
       "      <td>4.23</td>\n",
       "      <td>2.63</td>\n",
       "    </tr>\n",
       "    <tr>\n",
       "      <th>4</th>\n",
       "      <td>0.31</td>\n",
       "      <td>Good</td>\n",
       "      <td>J</td>\n",
       "      <td>SI2</td>\n",
       "      <td>63.3</td>\n",
       "      <td>58.0</td>\n",
       "      <td>335</td>\n",
       "      <td>4.34</td>\n",
       "      <td>4.35</td>\n",
       "      <td>2.75</td>\n",
       "    </tr>\n",
       "  </tbody>\n",
       "</table>\n",
       "</div>"
      ],
      "text/plain": [
       "   carat      cut color clarity  depth  table  price     x     y     z\n",
       "0   0.23    Ideal     E     SI2   61.5   55.0    326  3.95  3.98  2.43\n",
       "1   0.21  Premium     E     SI1   59.8   61.0    326  3.89  3.84  2.31\n",
       "2   0.23     Good     E     VS1   56.9   65.0    327  4.05  4.07  2.31\n",
       "3   0.29  Premium     I     VS2   62.4   58.0    334  4.20  4.23  2.63\n",
       "4   0.31     Good     J     SI2   63.3   58.0    335  4.34  4.35  2.75"
      ]
     },
     "execution_count": 3,
     "metadata": {},
     "output_type": "execute_result"
    }
   ],
   "source": [
    "diamonds.head()"
   ]
  },
  {
   "cell_type": "markdown",
   "metadata": {
    "nbgrader": {
     "grade": false,
     "grade_id": "cell-195750a5637a0de1",
     "locked": true,
     "schema_version": 1,
     "solution": false
    }
   },
   "source": [
    "[Back to top](#Index:) \n",
    "\n",
    "## Problem 1\n",
    "\n",
    "### Regression with single feature\n",
    "\n",
    "**5 Points**\n",
    "\n",
    "Use sklearn's `LinearRegression` estimator with argument `fit_intercept` equal to `False` to build a regression model. Next, chain a `fit()` function using the `carat` column as the feature and the `price` column as the target.  \n",
    "\n",
    "Assign your result to the variable `lr_1_feature` below."
   ]
  },
  {
   "cell_type": "code",
   "execution_count": 4,
   "metadata": {
    "nbgrader": {
     "grade": false,
     "grade_id": "cell-5a156403f9b599d8",
     "locked": false,
     "schema_version": 1,
     "solution": true
    }
   },
   "outputs": [
    {
     "name": "stdout",
     "output_type": "stream",
     "text": [
      "LinearRegression(fit_intercept=False)\n"
     ]
    }
   ],
   "source": [
    "### GRADED\n",
    "\n",
    "lr_1_feature = ''\n",
    "\n",
    "### BEGIN SOLUTION\n",
    "lr_1_feature = LinearRegression(fit_intercept=False).fit(diamonds[['carat']], diamonds['price'])\n",
    "\n",
    "### END SOLUTION\n",
    "\n",
    "# Answer check\n",
    "print(lr_1_feature)"
   ]
  },
  {
   "cell_type": "markdown",
   "metadata": {
    "nbgrader": {
     "grade": false,
     "grade_id": "cell-b4c70857212abed2",
     "locked": true,
     "schema_version": 1,
     "solution": false
    }
   },
   "source": [
    "[Back to top](#Index:) \n",
    "\n",
    "## Problem 2\n",
    "\n",
    "### Regression with two features\n",
    "\n",
    "**5 Points**\n",
    "\n",
    "Use sklearn's `LinearRegression` estimator with argument `fit_intercept` equal to `False` to build a regression model. Next, chain a `fit()` function using the `carat` and `depth` columns as the feature and the `price` column as the target.  \n",
    "\n",
    "Assign your result to the variable `lr_2_feature` below."
   ]
  },
  {
   "cell_type": "code",
   "execution_count": 5,
   "metadata": {
    "nbgrader": {
     "grade": false,
     "grade_id": "cell-1a010835daee1d31",
     "locked": false,
     "schema_version": 1,
     "solution": true
    }
   },
   "outputs": [
    {
     "name": "stdout",
     "output_type": "stream",
     "text": [
      "LinearRegression(fit_intercept=False)\n"
     ]
    }
   ],
   "source": [
    "### GRADED\n",
    "\n",
    "lr_2_features = ''\n",
    "\n",
    "### BEGIN SOLUTION\n",
    "lr_2_features = LinearRegression(fit_intercept=False).fit(diamonds[['carat', 'depth']], diamonds['price'])\n",
    "### END SOLUTION\n",
    "\n",
    "# Answer check\n",
    "print(lr_2_features)"
   ]
  },
  {
   "cell_type": "markdown",
   "metadata": {
    "nbgrader": {
     "grade": false,
     "grade_id": "cell-ead11dd9ea1aaa50",
     "locked": true,
     "schema_version": 1,
     "solution": false
    }
   },
   "source": [
    "[Back to top](#Index:) \n",
    "\n",
    "## Problem 3\n",
    "\n",
    "### Regression with three features\n",
    "\n",
    "**5 Points**\n",
    "\n",
    "Use sklearn's `LinearRegression` estimator with argument `fit_intercept` equal to `False` to build a regression model. Next, chain a `fit()` function using the `carat`, `delth`, and `table` columns as the feature and the `price` column as the target.  \n",
    "\n",
    "Assign your result to the variable `lr_3_feature` below."
   ]
  },
  {
   "cell_type": "code",
   "execution_count": 8,
   "metadata": {
    "nbgrader": {
     "grade": false,
     "grade_id": "cell-201dbe4e84e53278",
     "locked": false,
     "schema_version": 1,
     "solution": true
    }
   },
   "outputs": [
    {
     "name": "stdout",
     "output_type": "stream",
     "text": [
      "LinearRegression(fit_intercept=False)\n"
     ]
    }
   ],
   "source": [
    "### GRADED\n",
    "\n",
    "lr_3_features = ''\n",
    "\n",
    "### BEGIN SOLUTION\n",
    "lr_3_features = LinearRegression(fit_intercept=False).fit(diamonds[['carat', 'depth', 'table']], diamonds['price'])\n",
    "### END SOLUTION\n",
    "\n",
    "# Answer check\n",
    "print(lr_3_features)"
   ]
  },
  {
   "cell_type": "markdown",
   "metadata": {
    "nbgrader": {
     "grade": false,
     "grade_id": "cell-17f3fe2cf08cd88c",
     "locked": true,
     "schema_version": 1,
     "solution": false
    }
   },
   "source": [
    "[Back to top](#Index:) \n",
    "\n",
    "## Problem 4\n",
    "\n",
    "### Computing MSE and MAE\n",
    "\n",
    "**5 Points**\n",
    "\n",
    "For each of your models, compute the mean squared error and mean absolute errors.  Create a DataFrame to match the structure below:\n",
    "\n",
    "| Features | MSE | MAE |\n",
    "| ----- | ----- | ----- |\n",
    "| 1 Feature |  -  | - |\n",
    "| 2 Features | -  | -  |\n",
    "| 3 Features | - | - |\n",
    "\n",
    "Assign your solution as a DataFrame to `error_df` below.  Note that the `Features` column should be the index column in your DataFrame."
   ]
  },
  {
   "cell_type": "code",
   "execution_count": 9,
   "metadata": {},
   "outputs": [
    {
     "data": {
      "text/html": [
       "<div>\n",
       "<style scoped>\n",
       "    .dataframe tbody tr th:only-of-type {\n",
       "        vertical-align: middle;\n",
       "    }\n",
       "\n",
       "    .dataframe tbody tr th {\n",
       "        vertical-align: top;\n",
       "    }\n",
       "\n",
       "    .dataframe thead th {\n",
       "        text-align: right;\n",
       "    }\n",
       "</style>\n",
       "<table border=\"1\" class=\"dataframe\">\n",
       "  <thead>\n",
       "    <tr style=\"text-align: right;\">\n",
       "      <th></th>\n",
       "      <th>MSE</th>\n",
       "      <th>MAE</th>\n",
       "    </tr>\n",
       "    <tr>\n",
       "      <th>Features</th>\n",
       "      <th></th>\n",
       "      <th></th>\n",
       "    </tr>\n",
       "  </thead>\n",
       "  <tbody>\n",
       "    <tr>\n",
       "      <th>1 Feature</th>\n",
       "      <td>2.397955e+06</td>\n",
       "      <td>1007.463247</td>\n",
       "    </tr>\n",
       "    <tr>\n",
       "      <th>2 Features</th>\n",
       "      <td>2.376550e+06</td>\n",
       "      <td>1005.133789</td>\n",
       "    </tr>\n",
       "    <tr>\n",
       "      <th>3 Features</th>\n",
       "      <td>2.328791e+06</td>\n",
       "      <td>994.330035</td>\n",
       "    </tr>\n",
       "  </tbody>\n",
       "</table>\n",
       "</div>"
      ],
      "text/plain": [
       "                     MSE          MAE\n",
       "Features                             \n",
       "1 Feature   2.397955e+06  1007.463247\n",
       "2 Features  2.376550e+06  1005.133789\n",
       "3 Features  2.328791e+06   994.330035"
      ]
     },
     "execution_count": 9,
     "metadata": {},
     "output_type": "execute_result"
    }
   ],
   "source": [
    "# Initialize and train the models\n",
    "lr_1_feature = LinearRegression().fit(diamonds[['carat']], diamonds['price'])\n",
    "lr_2_features = LinearRegression().fit(diamonds[['carat', 'depth']], diamonds['price'])\n",
    "lr_3_features = LinearRegression().fit(diamonds[['carat', 'depth', 'table']], diamonds['price'])\n",
    "\n",
    "# Predictions for the different models\n",
    "pred1 = lr_1_feature.predict(diamonds[['carat']])\n",
    "pred2 = lr_2_features.predict(diamonds[['carat', 'depth']])\n",
    "pred3 = lr_3_features.predict(diamonds[['carat', 'depth', 'table']])\n",
    "\n",
    "# Creating the error dictionary with MSE and MAE\n",
    "error_dict = {\n",
    "    'Features': ['1 Feature', '2 Features', '3 Features'],\n",
    "    'MSE': [mean_squared_error(diamonds['price'], i) for i in [pred1, pred2, pred3]],\n",
    "    'MAE': [mean_absolute_error(diamonds['price'], i) for i in [pred1, pred2, pred3]]\n",
    "}\n",
    "\n",
    "# Creating a DataFrame to display the error metrics\n",
    "error_df = pd.DataFrame(error_dict).set_index('Features')\n",
    "\n",
    "# Display the DataFrame\n",
    "error_df"
   ]
  },
  {
   "cell_type": "code",
   "execution_count": 10,
   "metadata": {
    "nbgrader": {
     "grade": false,
     "grade_id": "cell-113ce196d5b3541b",
     "locked": false,
     "schema_version": 1,
     "solution": true
    }
   },
   "outputs": [],
   "source": [
    "### GRADED\n",
    "\n",
    "#error_df = ''\n",
    "\n",
    "### BEGIN SOLUTION \n",
    "# Predictions for the different models\n",
    "#pred1 = lr_1_feature.predict(diamonds[['carat']])\n",
    "#pred3 = lr_3_features.predict(diamonds[['carat', 'depth', 'table']])\n",
    "\n",
    "\n",
    "# Creating the error dictionary with MSE and MAE\n",
    "#error_dict = {'Features': ['1 Feature', '2 Features', '3 Features'],\n",
    "#'MSE': [mean_squared_error(diamonds['price'], i) for i in [pred1, pred2, pred3]],\n",
    "#'MAE': [mean_absolute_error(diamonds['price'], i) for i in [pred1, pred2, pred3]]}\n",
    "#error_df = pd.DataFrame(error_dict).set_index('Features')\n",
    "#END SOLUTION\n",
    "\n",
    "# Answer check\n",
    "#error_df\n",
    "\n"
   ]
  },
  {
   "cell_type": "code",
   "execution_count": null,
   "metadata": {},
   "outputs": [],
   "source": []
  }
 ],
 "metadata": {
  "celltoolbar": "Create Assignment",
  "kernelspec": {
   "display_name": "Python 3 (ipykernel)",
   "language": "python",
   "name": "python3"
  },
  "language_info": {
   "codemirror_mode": {
    "name": "ipython",
    "version": 3
   },
   "file_extension": ".py",
   "mimetype": "text/x-python",
   "name": "python",
   "nbconvert_exporter": "python",
   "pygments_lexer": "ipython3",
   "version": "3.11.5"
  }
 },
 "nbformat": 4,
 "nbformat_minor": 4
}
