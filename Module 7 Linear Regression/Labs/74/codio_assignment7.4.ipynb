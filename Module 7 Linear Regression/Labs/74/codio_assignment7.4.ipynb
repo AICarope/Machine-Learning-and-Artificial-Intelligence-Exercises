{
 "cells": [
  {
   "cell_type": "markdown",
   "metadata": {
    "nbgrader": {
     "grade": false,
     "grade_id": "cell-85c5ca4ac4fdd93e",
     "locked": true,
     "schema_version": 1,
     "solution": false
    }
   },
   "source": [
    "## Required Codio Assignment 7.4: Using Non-Numeric Features \n",
    "\n",
    "**Expected Time = 90 minutes**\n",
    "\n",
    "**Total Points = 36**\n",
    "\n",
    "This activity focuses on making use of features that are categorical.  \n",
    "\n",
    "In this activity, you will explore the dummy encoding process to build and compare different regression models.  Specifically, you will use the sklearn estimator `LinearRegression`  to fit your models.  This model implements the mean squared error returning parameters that minimize the  loss. \n",
    "\n",
    "## Index:\n",
    "\n",
    "- [Problem 1](#Problem-1)\n",
    "- [Problem 2](#Problem-2)\n",
    "- [Problem 3](#Problem-3)\n",
    "- [Problem 4](#Problem-4)\n",
    "- [Problem 5](#Problem-5)\n",
    "- [Problem 6](#Problem-6)\n",
    "- [Problem 7](#Problem-8)\n",
    "- [Problem 8](#Problem-8)\n",
    "- [Problem 9](#Problem-9)"
   ]
  },
  {
   "cell_type": "code",
   "execution_count": 1,
   "metadata": {},
   "outputs": [],
   "source": [
    "import plotly.express as px\n",
    "import numpy as np\n",
    "import plotly.graph_objects as go\n",
    "import matplotlib.pyplot as plt\n",
    "import pandas as pd\n",
    "import seaborn as sns\n",
    "from sklearn.linear_model import LinearRegression\n",
    "from sklearn.metrics import mean_squared_error\n",
    "import warnings\n",
    "warnings.filterwarnings('ignore')"
   ]
  },
  {
   "cell_type": "markdown",
   "metadata": {
    "nbgrader": {
     "grade": false,
     "grade_id": "cell-9a22d5a437dd7ab4",
     "locked": true,
     "schema_version": 1,
     "solution": false
    }
   },
   "source": [
    "### The Dataset\n",
    "\n",
    "The `diamonds` dataset from Seaborn is loaded and displayed below.  You will explore models that use both the `cut` and `color` features independently and models using all possible features.  To begin, you will use pandas `get_dummies` function to produce the dummy encoded data.  Your dummy encoded data should have as many features as there are unique values in the data."
   ]
  },
  {
   "cell_type": "code",
   "execution_count": 2,
   "metadata": {},
   "outputs": [],
   "source": [
    "import urllib\n",
    "\n",
    "diamonds = None\n",
    "\n",
    "try:\n",
    "    diamonds = sns.load_dataset('diamonds')\n",
    "except:\n",
    "    diamonds_dataset_uri = \"https://raw.githubusercontent.com/mwaskom/seaborn-data/master/diamonds.csv\"\n",
    "    with urllib.request.urlopen(diamonds_dataset_uri) as response:\n",
    "        diamonds = pd.read_csv(response) "
   ]
  },
  {
   "cell_type": "code",
   "execution_count": 3,
   "metadata": {},
   "outputs": [
    {
     "data": {
      "text/html": [
       "<div>\n",
       "<style scoped>\n",
       "    .dataframe tbody tr th:only-of-type {\n",
       "        vertical-align: middle;\n",
       "    }\n",
       "\n",
       "    .dataframe tbody tr th {\n",
       "        vertical-align: top;\n",
       "    }\n",
       "\n",
       "    .dataframe thead th {\n",
       "        text-align: right;\n",
       "    }\n",
       "</style>\n",
       "<table border=\"1\" class=\"dataframe\">\n",
       "  <thead>\n",
       "    <tr style=\"text-align: right;\">\n",
       "      <th></th>\n",
       "      <th>carat</th>\n",
       "      <th>cut</th>\n",
       "      <th>color</th>\n",
       "      <th>clarity</th>\n",
       "      <th>depth</th>\n",
       "      <th>table</th>\n",
       "      <th>price</th>\n",
       "      <th>x</th>\n",
       "      <th>y</th>\n",
       "      <th>z</th>\n",
       "    </tr>\n",
       "  </thead>\n",
       "  <tbody>\n",
       "    <tr>\n",
       "      <th>0</th>\n",
       "      <td>0.23</td>\n",
       "      <td>Ideal</td>\n",
       "      <td>E</td>\n",
       "      <td>SI2</td>\n",
       "      <td>61.5</td>\n",
       "      <td>55.0</td>\n",
       "      <td>326</td>\n",
       "      <td>3.95</td>\n",
       "      <td>3.98</td>\n",
       "      <td>2.43</td>\n",
       "    </tr>\n",
       "    <tr>\n",
       "      <th>1</th>\n",
       "      <td>0.21</td>\n",
       "      <td>Premium</td>\n",
       "      <td>E</td>\n",
       "      <td>SI1</td>\n",
       "      <td>59.8</td>\n",
       "      <td>61.0</td>\n",
       "      <td>326</td>\n",
       "      <td>3.89</td>\n",
       "      <td>3.84</td>\n",
       "      <td>2.31</td>\n",
       "    </tr>\n",
       "    <tr>\n",
       "      <th>2</th>\n",
       "      <td>0.23</td>\n",
       "      <td>Good</td>\n",
       "      <td>E</td>\n",
       "      <td>VS1</td>\n",
       "      <td>56.9</td>\n",
       "      <td>65.0</td>\n",
       "      <td>327</td>\n",
       "      <td>4.05</td>\n",
       "      <td>4.07</td>\n",
       "      <td>2.31</td>\n",
       "    </tr>\n",
       "    <tr>\n",
       "      <th>3</th>\n",
       "      <td>0.29</td>\n",
       "      <td>Premium</td>\n",
       "      <td>I</td>\n",
       "      <td>VS2</td>\n",
       "      <td>62.4</td>\n",
       "      <td>58.0</td>\n",
       "      <td>334</td>\n",
       "      <td>4.20</td>\n",
       "      <td>4.23</td>\n",
       "      <td>2.63</td>\n",
       "    </tr>\n",
       "    <tr>\n",
       "      <th>4</th>\n",
       "      <td>0.31</td>\n",
       "      <td>Good</td>\n",
       "      <td>J</td>\n",
       "      <td>SI2</td>\n",
       "      <td>63.3</td>\n",
       "      <td>58.0</td>\n",
       "      <td>335</td>\n",
       "      <td>4.34</td>\n",
       "      <td>4.35</td>\n",
       "      <td>2.75</td>\n",
       "    </tr>\n",
       "  </tbody>\n",
       "</table>\n",
       "</div>"
      ],
      "text/plain": [
       "   carat      cut color clarity  depth  table  price     x     y     z\n",
       "0   0.23    Ideal     E     SI2   61.5   55.0    326  3.95  3.98  2.43\n",
       "1   0.21  Premium     E     SI1   59.8   61.0    326  3.89  3.84  2.31\n",
       "2   0.23     Good     E     VS1   56.9   65.0    327  4.05  4.07  2.31\n",
       "3   0.29  Premium     I     VS2   62.4   58.0    334  4.20  4.23  2.63\n",
       "4   0.31     Good     J     SI2   63.3   58.0    335  4.34  4.35  2.75"
      ]
     },
     "execution_count": 3,
     "metadata": {},
     "output_type": "execute_result"
    }
   ],
   "source": [
    "diamonds.head()"
   ]
  },
  {
   "cell_type": "markdown",
   "metadata": {
    "nbgrader": {
     "grade": false,
     "grade_id": "cell-433af2323ef1dfc5",
     "locked": true,
     "schema_version": 1,
     "solution": false
    }
   },
   "source": [
    "[Back to top](#Index:) \n",
    "\n",
    "## Problem 1\n",
    "\n",
    "### Unique Values in `cut` and `color`\n",
    "\n",
    "**4 Points**\n",
    "\n",
    "Using the `cut` and `color` columns, determine the number of unique values in each column.  Assign the number of unique values in each feature as integers to `num_cuts` and `num_color` below.  "
   ]
  },
  {
   "cell_type": "code",
   "execution_count": 5,
   "metadata": {
    "nbgrader": {
     "grade": false,
     "grade_id": "cell-8e5fa6c3a595bfb3",
     "locked": false,
     "schema_version": 1,
     "solution": true
    }
   },
   "outputs": [
    {
     "name": "stdout",
     "output_type": "stream",
     "text": [
      "5\n",
      "7\n"
     ]
    }
   ],
   "source": [
    "### GRADED\n",
    "\n",
    "num_cuts = ''\n",
    "num_color = ''\n",
    "\n",
    "### BEGIN SOLUTION\n",
    "num_cuts = 5\n",
    "num_color = 7\n",
    "### END SOLUTION\n",
    "\n",
    "# Answer check\n",
    "print(num_cuts)\n",
    "print(num_color)"
   ]
  },
  {
   "cell_type": "markdown",
   "metadata": {
    "nbgrader": {
     "grade": false,
     "grade_id": "cell-cb59771f21acd91e",
     "locked": true,
     "schema_version": 1,
     "solution": false
    }
   },
   "source": [
    "[Back to top](#Index:) \n",
    "\n",
    "## Problem 2\n",
    "\n",
    "### Encoding the `cut` column\n",
    "\n",
    "**4 Points**\n",
    "\n",
    "Use the `get_dummies()` function to create a dummy encoded version of the `cut` column.  Assign your encoded data as a DataFrame to the variable `cut_encoded` below.  "
   ]
  },
  {
   "cell_type": "code",
   "execution_count": 7,
   "metadata": {
    "nbgrader": {
     "grade": false,
     "grade_id": "cell-7ee4b37394ca5e0f",
     "locked": false,
     "schema_version": 1,
     "solution": true
    }
   },
   "outputs": [
    {
     "name": "stdout",
     "output_type": "stream",
     "text": [
      "(53940, 5)\n",
      "<class 'pandas.core.frame.DataFrame'>\n"
     ]
    },
    {
     "data": {
      "text/html": [
       "<div>\n",
       "<style scoped>\n",
       "    .dataframe tbody tr th:only-of-type {\n",
       "        vertical-align: middle;\n",
       "    }\n",
       "\n",
       "    .dataframe tbody tr th {\n",
       "        vertical-align: top;\n",
       "    }\n",
       "\n",
       "    .dataframe thead th {\n",
       "        text-align: right;\n",
       "    }\n",
       "</style>\n",
       "<table border=\"1\" class=\"dataframe\">\n",
       "  <thead>\n",
       "    <tr style=\"text-align: right;\">\n",
       "      <th></th>\n",
       "      <th>cut_Ideal</th>\n",
       "      <th>cut_Premium</th>\n",
       "      <th>cut_Very Good</th>\n",
       "      <th>cut_Good</th>\n",
       "      <th>cut_Fair</th>\n",
       "    </tr>\n",
       "  </thead>\n",
       "  <tbody>\n",
       "    <tr>\n",
       "      <th>0</th>\n",
       "      <td>1</td>\n",
       "      <td>0</td>\n",
       "      <td>0</td>\n",
       "      <td>0</td>\n",
       "      <td>0</td>\n",
       "    </tr>\n",
       "    <tr>\n",
       "      <th>1</th>\n",
       "      <td>0</td>\n",
       "      <td>1</td>\n",
       "      <td>0</td>\n",
       "      <td>0</td>\n",
       "      <td>0</td>\n",
       "    </tr>\n",
       "    <tr>\n",
       "      <th>2</th>\n",
       "      <td>0</td>\n",
       "      <td>0</td>\n",
       "      <td>0</td>\n",
       "      <td>1</td>\n",
       "      <td>0</td>\n",
       "    </tr>\n",
       "    <tr>\n",
       "      <th>3</th>\n",
       "      <td>0</td>\n",
       "      <td>1</td>\n",
       "      <td>0</td>\n",
       "      <td>0</td>\n",
       "      <td>0</td>\n",
       "    </tr>\n",
       "    <tr>\n",
       "      <th>4</th>\n",
       "      <td>0</td>\n",
       "      <td>0</td>\n",
       "      <td>0</td>\n",
       "      <td>1</td>\n",
       "      <td>0</td>\n",
       "    </tr>\n",
       "  </tbody>\n",
       "</table>\n",
       "</div>"
      ],
      "text/plain": [
       "   cut_Ideal  cut_Premium  cut_Very Good  cut_Good  cut_Fair\n",
       "0          1            0              0         0         0\n",
       "1          0            1              0         0         0\n",
       "2          0            0              0         1         0\n",
       "3          0            1              0         0         0\n",
       "4          0            0              0         1         0"
      ]
     },
     "execution_count": 7,
     "metadata": {},
     "output_type": "execute_result"
    }
   ],
   "source": [
    "### GRADED\n",
    "\n",
    "cut_encoded = ''\n",
    "\n",
    "### BEGIN SOLUTION\n",
    "cut_encoded = pd.get_dummies(diamonds[['cut']])\n",
    "### END SOLUTION\n",
    "\n",
    "# Answer check\n",
    "print(cut_encoded.shape)\n",
    "print(type(cut_encoded))\n",
    "cut_encoded.head()"
   ]
  },
  {
   "cell_type": "markdown",
   "metadata": {
    "nbgrader": {
     "grade": false,
     "grade_id": "cell-b936b27d27de6bc5",
     "locked": true,
     "schema_version": 1,
     "solution": false
    }
   },
   "source": [
    "[Back to top](#Index:) \n",
    "\n",
    "## Problem 3\n",
    "\n",
    "### A Regression model on `cut`\n",
    "\n",
    "**4 Points**\n",
    "\n",
    "Use the `get_dummies()` function to create a dummy encoded version of the `cut` column and assign the result to the variable `X`.\n",
    "\n",
    "To the variable `y`, assign the column `price` in the `diamonds` dataset.\n",
    "\n",
    "Use the `LinearRegression` estimator  with argument `fit_intercept = False` to build a regression model. Next, use the `fit()` function with arguments `X` and `y`  to predict the `price` column.  \n",
    "\n",
    "Assign the model to `cut_linreg` below.  "
   ]
  },
  {
   "cell_type": "code",
   "execution_count": 9,
   "metadata": {
    "nbgrader": {
     "grade": false,
     "grade_id": "cell-b358a2033a89f85b",
     "locked": false,
     "schema_version": 1,
     "solution": true
    }
   },
   "outputs": [
    {
     "name": "stdout",
     "output_type": "stream",
     "text": [
      "LinearRegression(fit_intercept=False)\n",
      "<class 'sklearn.linear_model._base.LinearRegression'>\n"
     ]
    },
    {
     "data": {
      "text/plain": [
       "array([3457.54197021, 4584.2577043 , 3981.75989075, 3928.86445169,\n",
       "       4358.75776398])"
      ]
     },
     "execution_count": 9,
     "metadata": {},
     "output_type": "execute_result"
    }
   ],
   "source": [
    "### GRADED\n",
    "\n",
    "X = ''\n",
    "y = ''\n",
    "cut_linreg = ''\n",
    "\n",
    "### BEGIN SOLUTION\n",
    "X = pd.get_dummies(diamonds[['cut']])\n",
    "y = diamonds['price']\n",
    "cut_linreg = LinearRegression(fit_intercept=False).fit(X, y)\n",
    "### END SOLUTION\n",
    "\n",
    "# Answer check\n",
    "print(cut_linreg)\n",
    "print(type(cut_linreg))\n",
    "cut_linreg.coef_"
   ]
  },
  {
   "cell_type": "markdown",
   "metadata": {
    "nbgrader": {
     "grade": false,
     "grade_id": "cell-80de024ca4cb5a11",
     "locked": true,
     "schema_version": 1,
     "solution": false
    }
   },
   "source": [
    "[Back to top](#Index:) \n",
    "\n",
    "## Problem 4\n",
    "\n",
    "### Interpreting the results\n",
    "\n",
    "**4 Points**\n",
    "\n",
    "Compare the coefficients of the model.  Which cut does your model predict as the price for a diamond with an `ideal_cut`?  Assign your solution as a float rounded to two decimal places to `ideal_cut_prediction` below.  "
   ]
  },
  {
   "cell_type": "code",
   "execution_count": 11,
   "metadata": {
    "nbgrader": {
     "grade": false,
     "grade_id": "cell-b06b47089c12434d",
     "locked": false,
     "schema_version": 1,
     "solution": true
    }
   },
   "outputs": [
    {
     "name": "stdout",
     "output_type": "stream",
     "text": [
      "3457.54\n",
      "<class 'float'>\n"
     ]
    }
   ],
   "source": [
    "### GRADED\n",
    "\n",
    "ideal_cut_prediction = ''\n",
    "\n",
    "### BEGIN SOLUTION\n",
    "X = pd.get_dummies(diamonds[['cut']])\n",
    "y = diamonds['price']\n",
    "cut_linreg = LinearRegression(fit_intercept=False).fit(X, y)\n",
    "ideal_cut_prediction = float(round(cut_linreg.coef_[0], 2))\n",
    "### END SOLUTION\n",
    "\n",
    "# Answer check\n",
    "print(ideal_cut_prediction)\n",
    "print(type(ideal_cut_prediction))"
   ]
  },
  {
   "cell_type": "markdown",
   "metadata": {
    "nbgrader": {
     "grade": false,
     "grade_id": "cell-7371ae08b020d01a",
     "locked": true,
     "schema_version": 1,
     "solution": false
    }
   },
   "source": [
    "[Back to top](#Index:) \n",
    "\n",
    "## Problem 5\n",
    "\n",
    "### Building a model on `clarity`\n",
    "\n",
    "**4 Points**\n",
    "\n",
    "Use the `get_dummies()` function to create a dummy encoded version of the `clarity` column and assign the result to the variable `X`.\n",
    "\n",
    "To the variable `y`, assign the column `price` in the `diamonds` dataset.\n",
    "\n",
    "Use the `LinearRegression` estimator  with argument `fit_intercept = False` to build a regression model. Next, use the `fit()` function with arguments `X` and `y`  to predict the `price` column.  \n",
    "\n",
    "Assign the model to `clarity_linreg` below.  "
   ]
  },
  {
   "cell_type": "code",
   "execution_count": 13,
   "metadata": {
    "nbgrader": {
     "grade": false,
     "grade_id": "cell-d41dca4e4100c34f",
     "locked": false,
     "schema_version": 1,
     "solution": true
    }
   },
   "outputs": [
    {
     "name": "stdout",
     "output_type": "stream",
     "text": [
      "[2864.83910615 2523.11463748 3283.73707067 3839.45539102 3924.98939468\n",
      " 3996.00114811 5063.02860561 3924.16869096]\n"
     ]
    }
   ],
   "source": [
    "### GRADED\n",
    "\n",
    "X = ''\n",
    "y = ''\n",
    "clarity_linreg = ''\n",
    "\n",
    "### BEGIN SOLUTION\n",
    "X = pd.get_dummies(diamonds[['clarity']])\n",
    "y = diamonds['price']\n",
    "clarity_linreg = LinearRegression(fit_intercept=False).fit(X, y)\n",
    "### END SOLUTION\n",
    "\n",
    "# Answer check\n",
    "print(clarity_linreg.coef_)"
   ]
  },
  {
   "cell_type": "markdown",
   "metadata": {
    "nbgrader": {
     "grade": false,
     "grade_id": "cell-3845e5df873e1c54",
     "locked": true,
     "schema_version": 1,
     "solution": false
    }
   },
   "source": [
    "[Back to top](#Index:) \n",
    "\n",
    "## Problem 6\n",
    "\n",
    "### Interpreting the results\n",
    "\n",
    "**4 Points**\n",
    "\n",
    "Examine your coefficients and compare these to the columns of the dummy encoded version of the `clarity` column.  What price does your model predict for a diamond with clarity `SI2`?  Assign your results as a float rounded to 2 decimal places to `clarity_si2_prediction`."
   ]
  },
  {
   "cell_type": "code",
   "execution_count": 15,
   "metadata": {
    "nbgrader": {
     "grade": false,
     "grade_id": "cell-f6e64773ce4b97fb",
     "locked": false,
     "schema_version": 1,
     "solution": true
    }
   },
   "outputs": [
    {
     "name": "stdout",
     "output_type": "stream",
     "text": [
      "5063.03\n",
      "<class 'float'>\n"
     ]
    }
   ],
   "source": [
    "### GRADED\n",
    "\n",
    "clarity_si2_prediction = ''\n",
    "\n",
    "### BEGIN SOLUTION\n",
    "X = pd.get_dummies(diamonds[['clarity']])\n",
    "y = diamonds['price']\n",
    "cut_linreg = LinearRegression(fit_intercept=False).fit(X, y)\n",
    "clarity_si2_prediction = float(round(cut_linreg.coef_[-2], 2))\n",
    "### END SOLUTION\n",
    "\n",
    "# Answer check\n",
    "print(clarity_si2_prediction)\n",
    "print(type(clarity_si2_prediction))"
   ]
  },
  {
   "cell_type": "markdown",
   "metadata": {
    "nbgrader": {
     "grade": false,
     "grade_id": "cell-1503d361107d5737",
     "locked": true,
     "schema_version": 1,
     "solution": false
    }
   },
   "source": [
    "[Back to top](#Index:) \n",
    "\n",
    "## Problem 7\n",
    "\n",
    "### A Model with `cut`, `clarity`, and `carat`\n",
    "\n",
    "**4 Points**\n",
    "\n",
    "Use the `get_dummies()` function to create a dummy encoded version of the `carat`, `cut`, and `clarity` columns and assign the result to the variable `X`.\n",
    "\n",
    "To the variable `y`, assign the column `price` in the `diamonds` dataset.\n",
    "\n",
    "Use the `LinearRegression` estimator  with argument `fit_intercept = False` to build a regression model. Next, use the `fit()` function with arguments `X` and `y`  to predict the `price` column.  \n",
    "\n",
    "Assign the model to `ccc_linreg` below. "
   ]
  },
  {
   "cell_type": "code",
   "execution_count": 17,
   "metadata": {
    "nbgrader": {
     "grade": false,
     "grade_id": "cell-063059f3fd3d52f3",
     "locked": false,
     "schema_version": 1,
     "solution": true
    }
   },
   "outputs": [
    {
     "name": "stdout",
     "output_type": "stream",
     "text": [
      "LinearRegression(fit_intercept=False)\n"
     ]
    }
   ],
   "source": [
    "### GRADED\n",
    "\n",
    "ccc_linreg = ''\n",
    "\n",
    "### BEGIN SOLUTION\n",
    "X = pd.get_dummies(diamonds[['carat', 'cut', 'clarity']])\n",
    "y = diamonds['price']\n",
    "ccc_linreg = LinearRegression(fit_intercept=False).fit(X, y)\n",
    "### END SOLUTION\n",
    "\n",
    "# Answer check\n",
    "print(ccc_linreg)"
   ]
  },
  {
   "cell_type": "markdown",
   "metadata": {
    "nbgrader": {
     "grade": false,
     "grade_id": "cell-f5d2f09c43dabe68",
     "locked": true,
     "schema_version": 1,
     "solution": false
    }
   },
   "source": [
    "[Back to top](#Index:) \n",
    "\n",
    "## Problem 8\n",
    "\n",
    "### Interpreting the results\n",
    "\n",
    "**4 Points**\n",
    "\n",
    "Examine the coefficients from the model and use them to determine the predicted price of a diamond with the following features:\n",
    "\n",
    "```\n",
    "carat = 0.8\n",
    "cut = Ideal\n",
    "clarity = SI2\n",
    "```\n",
    "\n",
    "Assign your solution as a float rounded to two decimal places to the variable `ccc_prediction` below.  "
   ]
  },
  {
   "cell_type": "code",
   "execution_count": 19,
   "metadata": {
    "nbgrader": {
     "grade": false,
     "grade_id": "cell-dc810ef233e9b1e8",
     "locked": false,
     "schema_version": 1,
     "solution": true
    }
   },
   "outputs": [
    {
     "name": "stdout",
     "output_type": "stream",
     "text": [
      "2882.66\n",
      "<class 'numpy.float64'>\n"
     ]
    }
   ],
   "source": [
    "### GRADED\n",
    "\n",
    "ccc_prediction = ''\n",
    "\n",
    "### BEGIN SOLUTION\n",
    "diamonds_encoded = pd.get_dummies(diamonds[['carat', 'cut', 'clarity']])\n",
    "\n",
    "diamond_features = pd.DataFrame({\n",
    "    'carat': [0.8],\n",
    "    'cut': ['Ideal'],\n",
    "    'clarity': ['SI2']\n",
    "})\n",
    "\n",
    "diamond_features_encoded = pd.get_dummies(diamond_features).reindex(columns=diamonds_encoded.columns, fill_value=0)\n",
    "\n",
    "ccc_linreg = LinearRegression(fit_intercept=False).fit(diamonds_encoded, diamonds['price'])\n",
    "\n",
    "ccc_prediction = ccc_linreg.predict(diamond_features_encoded)\n",
    "\n",
    "ccc_prediction = round(ccc_prediction[0], 2)\n",
    "\n",
    "\n",
    "### END SOLUTION\n",
    "\n",
    "# Answer check\n",
    "print(ccc_prediction)\n",
    "print(type(ccc_prediction))"
   ]
  },
  {
   "cell_type": "markdown",
   "metadata": {
    "nbgrader": {
     "grade": false,
     "grade_id": "cell-a10b65e7e86fda15",
     "locked": true,
     "schema_version": 1,
     "solution": false
    }
   },
   "source": [
    "[Back to top](#Index:) \n",
    "\n",
    "## Problem 9\n",
    "\n",
    "### A Model with all features\n",
    "\n",
    "**4 Points**\n",
    "\n",
    "Use the `get_dummies()` function to create a dummy encoded version of all the columns in the `diamonds` DataFrame except for the column `price` and assign the result to the variable `X`.\n",
    "\n",
    "To the variable `y`, assign the column `price` in the `diamonds` dataset.\n",
    "\n",
    "Use the `LinearRegression` estimator  with argument `fit_intercept = False` to build a regression model. Next, use the `fit()` function with arguments `X` and `y`  to predict the `price` column.  \n",
    "\n",
    "Assign the model to `all_features_linreg` below. \n",
    "\n",
    "Use the `mean_squared_error` function to compute the MSE between `all_features_linreg.predict(X)` and `y`. Assign the result to `linreg_mse` below. "
   ]
  },
  {
   "cell_type": "code",
   "execution_count": 21,
   "metadata": {
    "nbgrader": {
     "grade": false,
     "grade_id": "cell-1e23dad455d8e668",
     "locked": false,
     "schema_version": 1,
     "solution": true
    }
   },
   "outputs": [
    {
     "name": "stdout",
     "output_type": "stream",
     "text": [
      "LinearRegression(fit_intercept=False)\n",
      "[ 1.12569783e+04 -6.38061004e+01 -2.64740847e+01 -1.00826110e+03\n",
      "  9.60888648e+00 -5.01188909e+01  2.71221727e+03  2.64144937e+03\n",
      "  2.60608801e+03  2.45905687e+03  1.87930542e+03  2.58257671e+03\n",
      "  2.37345863e+03  2.30972288e+03  2.10053781e+03  1.60231004e+03\n",
      "  1.11633224e+03  2.13178649e+02  3.06769746e+03  2.73035426e+03\n",
      "  2.67340929e+03  2.30099313e+03  1.98981878e+03  1.38806730e+03\n",
      "  4.25181510e+02 -2.27740478e+03]\n",
      "1276545.1743083892\n"
     ]
    }
   ],
   "source": [
    "### GRADED\n",
    "\n",
    "X = ''\n",
    "y = ''\n",
    "all_features_linreg = ''\n",
    "linreg_mse = ''\n",
    "\n",
    "### BEGIN SOLUTION\n",
    "X = pd.get_dummies(diamonds.drop('price', axis = 1))\n",
    "y = diamonds['price']\n",
    "all_features_linreg = LinearRegression(fit_intercept=False).fit(X, y)\n",
    "linreg_mse = mean_squared_error(all_features_linreg.predict(X), y)\n",
    "### END SOLUTION\n",
    "\n",
    "# Answer check\n",
    "print(all_features_linreg)\n",
    "print(all_features_linreg.coef_)\n",
    "print(linreg_mse)"
   ]
  },
  {
   "cell_type": "markdown",
   "metadata": {
    "nbgrader": {
     "grade": false,
     "grade_id": "cell-89af5c8ab4476bc5",
     "locked": true,
     "schema_version": 1,
     "solution": false
    }
   },
   "source": [
    "### Conclusion\n",
    "\n",
    "While some basic initial models have been explored here, there is much more to explore to fine-tune things. One thing that could be revisited is the representation of features through transformations and the engineering of different representations of existing features.  For example, the dimensions of the diamond in `x`, `y`, and `z` could be multiplied to create a feature \"volume\".  This allows for a more reasonable representation of three columns of data with one.  A second approach we might take is to use PCA to reduce the dimensionality of the data.  The third is to use clustering to engineer new features based on the cluster results.  Consider exploring different representations of the features and trying to improve these initial models."
   ]
  }
 ],
 "metadata": {
  "celltoolbar": "Create Assignment",
  "kernelspec": {
   "display_name": "Python 3 (ipykernel)",
   "language": "python",
   "name": "python3"
  },
  "language_info": {
   "codemirror_mode": {
    "name": "ipython",
    "version": 3
   },
   "file_extension": ".py",
   "mimetype": "text/x-python",
   "name": "python",
   "nbconvert_exporter": "python",
   "pygments_lexer": "ipython3",
   "version": "3.11.5"
  }
 },
 "nbformat": 4,
 "nbformat_minor": 4
}
