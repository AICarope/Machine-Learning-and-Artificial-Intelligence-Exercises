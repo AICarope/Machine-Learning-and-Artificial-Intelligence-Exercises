{
 "cells": [
  {
   "cell_type": "markdown",
   "metadata": {
    "nbgrader": {
     "grade": false,
     "grade_id": "cell-537d7ef28174120e",
     "locked": true,
     "schema_version": 1,
     "solution": false
    }
   },
   "source": [
    "### Required Codio Assignment 19.3: Hybrid Recommendations with SURPRISE\n",
    "\n",
    "**Expected Time = 90 minutes**\n",
    "\n",
    "**Total Points = 50**\n",
    "\n",
    "This activity introduces the idea of using hybrid recommendations with the Surprise library.  Below, you will combine different algorithms predictions to create these hybrid recommendations.  You are again to use the `SVD` algorithm and will combine with the `KNNBasic` algorithm for hybrid recommendations."
   ]
  },
  {
   "cell_type": "markdown",
   "metadata": {
    "nbgrader": {
     "grade": false,
     "grade_id": "cell-4b91bbf48f6c691a",
     "locked": true,
     "schema_version": 1,
     "solution": false
    }
   },
   "source": [
    "#### Index\n",
    "\n",
    "- [Problem 1](#-Problem-1)\n",
    "- [Problem 2](#-Problem-2)\n",
    "- [Problem 3](#-Problem-3)\n",
    "- [Problem 4](#-Problem-4)\n",
    "- [Problem 5](#-Problem-5)\n"
   ]
  },
  {
   "cell_type": "code",
   "execution_count": 1,
   "metadata": {},
   "outputs": [],
   "source": [
    "import pandas as pd\n",
    "from surprise import Reader, SVD, Dataset, NormalPredictor, KNNBasic\n",
    "from surprise.model_selection import cross_validate"
   ]
  },
  {
   "cell_type": "markdown",
   "metadata": {
    "nbgrader": {
     "grade": false,
     "grade_id": "cell-70c5139bbc0d73ae",
     "locked": true,
     "schema_version": 1,
     "solution": false
    }
   },
   "source": [
    "#### The Data\n",
    "\n",
    "For this activity, you will use again a sampled set of data from Movie Lens.  The data is loaded and displayed below."
   ]
  },
  {
   "cell_type": "code",
   "execution_count": 2,
   "metadata": {},
   "outputs": [],
   "source": [
    "df = pd.read_csv('data/movie_ratings.csv', index_col=0)"
   ]
  },
  {
   "cell_type": "code",
   "execution_count": 3,
   "metadata": {},
   "outputs": [
    {
     "data": {
      "text/html": [
       "<div>\n",
       "<style scoped>\n",
       "    .dataframe tbody tr th:only-of-type {\n",
       "        vertical-align: middle;\n",
       "    }\n",
       "\n",
       "    .dataframe tbody tr th {\n",
       "        vertical-align: top;\n",
       "    }\n",
       "\n",
       "    .dataframe thead th {\n",
       "        text-align: right;\n",
       "    }\n",
       "</style>\n",
       "<table border=\"1\" class=\"dataframe\">\n",
       "  <thead>\n",
       "    <tr style=\"text-align: right;\">\n",
       "      <th></th>\n",
       "      <th>movieId</th>\n",
       "      <th>title</th>\n",
       "      <th>userId</th>\n",
       "      <th>rating</th>\n",
       "    </tr>\n",
       "  </thead>\n",
       "  <tbody>\n",
       "    <tr>\n",
       "      <th>0</th>\n",
       "      <td>1</td>\n",
       "      <td>Toy Story (1995)</td>\n",
       "      <td>1</td>\n",
       "      <td>4.0</td>\n",
       "    </tr>\n",
       "    <tr>\n",
       "      <th>1</th>\n",
       "      <td>1</td>\n",
       "      <td>Toy Story (1995)</td>\n",
       "      <td>5</td>\n",
       "      <td>4.0</td>\n",
       "    </tr>\n",
       "    <tr>\n",
       "      <th>2</th>\n",
       "      <td>1</td>\n",
       "      <td>Toy Story (1995)</td>\n",
       "      <td>7</td>\n",
       "      <td>4.5</td>\n",
       "    </tr>\n",
       "    <tr>\n",
       "      <th>3</th>\n",
       "      <td>1</td>\n",
       "      <td>Toy Story (1995)</td>\n",
       "      <td>15</td>\n",
       "      <td>2.5</td>\n",
       "    </tr>\n",
       "    <tr>\n",
       "      <th>4</th>\n",
       "      <td>1</td>\n",
       "      <td>Toy Story (1995)</td>\n",
       "      <td>17</td>\n",
       "      <td>4.5</td>\n",
       "    </tr>\n",
       "  </tbody>\n",
       "</table>\n",
       "</div>"
      ],
      "text/plain": [
       "   movieId             title  userId  rating\n",
       "0        1  Toy Story (1995)       1     4.0\n",
       "1        1  Toy Story (1995)       5     4.0\n",
       "2        1  Toy Story (1995)       7     4.5\n",
       "3        1  Toy Story (1995)      15     2.5\n",
       "4        1  Toy Story (1995)      17     4.5"
      ]
     },
     "execution_count": 3,
     "metadata": {},
     "output_type": "execute_result"
    }
   ],
   "source": [
    "df.head()"
   ]
  },
  {
   "cell_type": "markdown",
   "metadata": {
    "nbgrader": {
     "grade": false,
     "grade_id": "cell-703c54570a822d02",
     "locked": true,
     "schema_version": 1,
     "solution": false
    }
   },
   "source": [
    "[Back to top](#-Index)\n",
    "\n",
    "### Problem 1\n",
    "\n",
    "#### Loading the Data \n",
    "\n",
    "**10 Points**\n",
    "\n",
    "Initialize a `Reader` object with argument `line_format` equal to `item user rating` and assign this result to `reader `. \n",
    "\n",
    "Next, use the `load_from_df` function on the `Dataset` object to convert the columns `title`, `userId` and `rating` of `df` in order and the `reader` object to a format thta `Surprise` can interpret. Assign this result to `data`.\n",
    "\n",
    "\n",
    "Use the `build_full_trainset` function on `data` to build the full training set from the dataset, making it ready for training a recommendation algorithm. Assign this result to `train`.\n",
    "\n",
    "Use the `build_testset` function on `train` to create a test set and assign this result to the variable `test`.\n",
    "\n"
   ]
  },
  {
   "cell_type": "code",
   "execution_count": 4,
   "metadata": {
    "nbgrader": {
     "grade": false,
     "grade_id": "cell-861eeb2c00936094",
     "locked": false,
     "schema_version": 1,
     "solution": true
    }
   },
   "outputs": [
    {
     "name": "stdout",
     "output_type": "stream",
     "text": [
      "<class 'surprise.trainset.Trainset'>\n",
      "<class 'list'>\n"
     ]
    }
   ],
   "source": [
    "### GRADED\n",
    "reader = ''\n",
    "data = ''\n",
    "train = ''\n",
    "test = ''\n",
    "\n",
    "    \n",
    "### BEGIN SOLUTION\n",
    "reader = Reader(line_format='item user rating')\n",
    "data = Dataset.load_from_df(df[['title', 'userId', 'rating']], reader)\n",
    "train = data.build_full_trainset()\n",
    "test = train.build_testset()\n",
    "### END SOLUTION\n",
    "\n",
    "### ANSWER CHECK\n",
    "print(type(train))\n",
    "print(type(test))"
   ]
  },
  {
   "cell_type": "markdown",
   "metadata": {
    "nbgrader": {
     "grade": false,
     "grade_id": "cell-c336d86d3aca1c13",
     "locked": true,
     "schema_version": 1,
     "solution": false
    }
   },
   "source": [
    "[Back to top](#-Index)\n",
    "\n",
    "### Problem 2\n",
    "\n",
    "#### SVD Model\n",
    "\n",
    "**10 Points**\n",
    "\n",
    "Now, create  an `SVD` model with  `random_state = 42`  as `svd` below.  Fit this model on the training data `train`. Make predictions using the model on the test set and assign these to `svd_preds` below.  \n"
   ]
  },
  {
   "cell_type": "code",
   "execution_count": 6,
   "metadata": {
    "nbgrader": {
     "grade": false,
     "grade_id": "cell-200b5778449dce82",
     "locked": false,
     "schema_version": 1,
     "solution": true
    }
   },
   "outputs": [
    {
     "name": "stdout",
     "output_type": "stream",
     "text": [
      "[Prediction(uid='Toy Story (1995)', iid=1, r_ui=4.0, est=4.402273922317781, details={'was_impossible': False}), Prediction(uid='Toy Story (1995)', iid=5, r_ui=4.0, est=4.03204694074919, details={'was_impossible': False}), Prediction(uid='Toy Story (1995)', iid=7, r_ui=4.5, est=4.1184783390134, details={'was_impossible': False}), Prediction(uid='Toy Story (1995)', iid=15, r_ui=2.5, est=3.298923822257094, details={'was_impossible': False}), Prediction(uid='Toy Story (1995)', iid=17, r_ui=4.5, est=4.191087116406786, details={'was_impossible': False})]\n"
     ]
    }
   ],
   "source": [
    "### GRADED\n",
    "svd = ''\n",
    "svd_preds = ''\n",
    "\n",
    "    \n",
    "### BEGIN SOLUTION\n",
    "svd = SVD(random_state = 42)\n",
    "svd.fit(train)\n",
    "svd_preds = svd.test(test)\n",
    "### END SOLUTION\n",
    "\n",
    "### ANSWER CHECK\n",
    "print(svd_preds[:5])"
   ]
  },
  {
   "cell_type": "markdown",
   "metadata": {
    "nbgrader": {
     "grade": false,
     "grade_id": "cell-b7e9800a369b9498",
     "locked": true,
     "schema_version": 1,
     "solution": false
    }
   },
   "source": [
    "[Back to top](#-Index)\n",
    "\n",
    "### Problem 3\n",
    "\n",
    "#### SlopeOne Model\n",
    "\n",
    "**10 Points**\n",
    "\n",
    "Next, initialize a `SlopeOne` model below as `slope_one`.  Fit this model on the train data `train`. \n",
    "\n",
    "Finally, compute the test set predictions and assign them to the variable `slope_one_preds` below. "
   ]
  },
  {
   "cell_type": "code",
   "execution_count": 8,
   "metadata": {},
   "outputs": [],
   "source": [
    "from surprise import SlopeOne"
   ]
  },
  {
   "cell_type": "code",
   "execution_count": 9,
   "metadata": {
    "nbgrader": {
     "grade": false,
     "grade_id": "cell-5fa378423f4c2a03",
     "locked": false,
     "schema_version": 1,
     "solution": true
    }
   },
   "outputs": [
    {
     "name": "stdout",
     "output_type": "stream",
     "text": [
      "[Prediction(uid='Toy Story (1995)', iid=1, r_ui=4.0, est=4.562773780247601, details={'was_impossible': False}), Prediction(uid='Toy Story (1995)', iid=5, r_ui=4.0, est=3.876436672186221, details={'was_impossible': False}), Prediction(uid='Toy Story (1995)', iid=7, r_ui=4.5, est=3.7666616617854367, details={'was_impossible': False}), Prediction(uid='Toy Story (1995)', iid=15, r_ui=2.5, est=3.5513821707689663, details={'was_impossible': False}), Prediction(uid='Toy Story (1995)', iid=17, r_ui=4.5, est=4.113053394469709, details={'was_impossible': False})]\n"
     ]
    }
   ],
   "source": [
    "### GRADED\n",
    "slope_one = ''\n",
    "slope_one_preds = ''\n",
    "\n",
    "    \n",
    "### BEGIN SOLUTION\n",
    "slope_one = SlopeOne()\n",
    "slope_one.fit(train)\n",
    "slope_one_preds = slope_one.test(test)\n",
    "### END SOLUTION\n",
    "\n",
    "### ANSWER CHECK\n",
    "print(slope_one_preds[:5])"
   ]
  },
  {
   "cell_type": "markdown",
   "metadata": {
    "nbgrader": {
     "grade": false,
     "grade_id": "cell-78672cbd03ca302e",
     "locked": true,
     "schema_version": 1,
     "solution": false
    }
   },
   "source": [
    "[Back to top](#-Index)\n",
    "\n",
    "### Problem 4\n",
    "\n",
    "#### Hybrid Predictions\n",
    "\n",
    "**10 Points**\n",
    "\n",
    "Now, use both the `slope_one_preds` and `svd_preds`  to average the predicted values for each user as new predictions.  Assign your results to the list `hybrid_preds` below."
   ]
  },
  {
   "cell_type": "code",
   "execution_count": 11,
   "metadata": {
    "nbgrader": {
     "grade": false,
     "grade_id": "cell-08e167c89e62af4f",
     "locked": false,
     "schema_version": 1,
     "solution": true
    }
   },
   "outputs": [
    {
     "data": {
      "text/plain": [
       "[4.482523851282691,\n",
       " 3.9542418064677056,\n",
       " 3.942570000399418,\n",
       " 3.42515299651303,\n",
       " 4.152070255438248]"
      ]
     },
     "execution_count": 11,
     "metadata": {},
     "output_type": "execute_result"
    }
   ],
   "source": [
    "### GRADED\n",
    "hybrid_preds = ''\n",
    "\n",
    "    \n",
    "### BEGIN SOLUTION\n",
    "hybrid_preds = [0.5*i.est + 0.5*j.est for i,j in zip(slope_one_preds, svd_preds)]\n",
    "### END SOLUTION\n",
    "\n",
    "### ANSWER CHECK\n",
    "hybrid_preds[:5]"
   ]
  },
  {
   "cell_type": "markdown",
   "metadata": {
    "nbgrader": {
     "grade": false,
     "grade_id": "cell-1b072a9ade725d8b",
     "locked": true,
     "schema_version": 1,
     "solution": false
    }
   },
   "source": [
    "[Back to top](#-Index)\n",
    "\n",
    "### Problem 5\n",
    "\n",
    "#### DataFrame of predictions\n",
    "\n",
    "**10 Points**\n",
    "\n",
    "Finally, create a DataFrame consisting of the user id, movie, and predicted hybrid ratings as `hybrid_df` below.  The table should begin as:\n",
    "\n",
    "<table border=\"1\" class=\"dataframe\">  <thead>    <tr style=\"text-align: right;\">      <th></th>      <th>Title</th>      <th>user_id</th>      <th>hybrid_rating</th>      <th>svd_rating</th>      <th>slope_one_rating</th>    </tr>  </thead>  <tbody>    <tr>      <th>0</th>      <td>Toy Story (1995)</td>      <td>1</td>      <td>4.482524</td>      <td>4.402274</td>      <td>4.562774</td>    </tr>    <tr>      <th>1</th>      <td>Toy Story (1995)</td>      <td>5</td>      <td>3.954242</td>      <td>4.032047</td>      <td>3.876437</td>    </tr>    <tr>      <th>2</th>      <td>Toy Story (1995)</td>      <td>7</td>      <td>3.942570</td>      <td>4.118478</td>      <td>3.766662</td>    </tr>    <tr>      <th>3</th>      <td>Toy Story (1995)</td>      <td>15</td>      <td>3.425153</td>      <td>3.298924</td>      <td>3.551382</td>    </tr>    <tr>      <th>4</th>      <td>Toy Story (1995)</td>      <td>17</td>      <td>4.152070</td>      <td>4.191087</td>      <td>4.113053</td>    </tr>  </tbody></table>"
   ]
  },
  {
   "cell_type": "code",
   "execution_count": 13,
   "metadata": {
    "nbgrader": {
     "grade": false,
     "grade_id": "cell-b36b5ce90ed2344a",
     "locked": false,
     "schema_version": 1,
     "solution": true
    }
   },
   "outputs": [
    {
     "data": {
      "text/html": [
       "<div>\n",
       "<style scoped>\n",
       "    .dataframe tbody tr th:only-of-type {\n",
       "        vertical-align: middle;\n",
       "    }\n",
       "\n",
       "    .dataframe tbody tr th {\n",
       "        vertical-align: top;\n",
       "    }\n",
       "\n",
       "    .dataframe thead th {\n",
       "        text-align: right;\n",
       "    }\n",
       "</style>\n",
       "<table border=\"1\" class=\"dataframe\">\n",
       "  <thead>\n",
       "    <tr style=\"text-align: right;\">\n",
       "      <th></th>\n",
       "      <th>user_id</th>\n",
       "      <th>title</th>\n",
       "      <th>hybrid_rating</th>\n",
       "      <th>svd_rating</th>\n",
       "      <th>slope_one_rating</th>\n",
       "    </tr>\n",
       "  </thead>\n",
       "  <tbody>\n",
       "    <tr>\n",
       "      <th>0</th>\n",
       "      <td>Toy Story (1995)</td>\n",
       "      <td>1</td>\n",
       "      <td>4.482524</td>\n",
       "      <td>4.402274</td>\n",
       "      <td>4.562774</td>\n",
       "    </tr>\n",
       "    <tr>\n",
       "      <th>1</th>\n",
       "      <td>Toy Story (1995)</td>\n",
       "      <td>5</td>\n",
       "      <td>3.954242</td>\n",
       "      <td>4.032047</td>\n",
       "      <td>3.876437</td>\n",
       "    </tr>\n",
       "    <tr>\n",
       "      <th>2</th>\n",
       "      <td>Toy Story (1995)</td>\n",
       "      <td>7</td>\n",
       "      <td>3.942570</td>\n",
       "      <td>4.118478</td>\n",
       "      <td>3.766662</td>\n",
       "    </tr>\n",
       "    <tr>\n",
       "      <th>3</th>\n",
       "      <td>Toy Story (1995)</td>\n",
       "      <td>15</td>\n",
       "      <td>3.425153</td>\n",
       "      <td>3.298924</td>\n",
       "      <td>3.551382</td>\n",
       "    </tr>\n",
       "    <tr>\n",
       "      <th>4</th>\n",
       "      <td>Toy Story (1995)</td>\n",
       "      <td>17</td>\n",
       "      <td>4.152070</td>\n",
       "      <td>4.191087</td>\n",
       "      <td>4.113053</td>\n",
       "    </tr>\n",
       "  </tbody>\n",
       "</table>\n",
       "</div>"
      ],
      "text/plain": [
       "            user_id  title  hybrid_rating  svd_rating  slope_one_rating\n",
       "0  Toy Story (1995)      1       4.482524    4.402274          4.562774\n",
       "1  Toy Story (1995)      5       3.954242    4.032047          3.876437\n",
       "2  Toy Story (1995)      7       3.942570    4.118478          3.766662\n",
       "3  Toy Story (1995)     15       3.425153    3.298924          3.551382\n",
       "4  Toy Story (1995)     17       4.152070    4.191087          4.113053"
      ]
     },
     "execution_count": 13,
     "metadata": {},
     "output_type": "execute_result"
    }
   ],
   "source": [
    "### GRADED\n",
    "hybrid_df = ''\n",
    "\n",
    "    \n",
    "### BEGIN SOLUTION\n",
    "data = {'user_id': [i.uid for i in slope_one_preds],\n",
    "       'title': [i.iid for i in slope_one_preds],\n",
    "       'hybrid_rating': hybrid_preds,\n",
    "       'svd_rating': [i.est for i in svd_preds],\n",
    "       'slope_one_rating': [i.est for i in slope_one_preds]}\n",
    "\n",
    "hybrid_df = pd.DataFrame(data)\n",
    "### END SOLUTION\n",
    "\n",
    "### ANSWER CHECK\n",
    "hybrid_df.head()"
   ]
  },
  {
   "cell_type": "markdown",
   "metadata": {
    "nbgrader": {
     "grade": false,
     "grade_id": "cell-5dbbe422264553cd",
     "locked": true,
     "schema_version": 1,
     "solution": false
    }
   },
   "source": [
    "### Conclusion\n",
    "\n",
    "There are many further steps with hybrid recommendations including writing a custom algorithm object with `Surprise`.  Note that you can incorporate the similarity of the objects much like we had in our distance based recommendations."
   ]
  },
  {
   "cell_type": "code",
   "execution_count": null,
   "metadata": {},
   "outputs": [],
   "source": []
  }
 ],
 "metadata": {
  "celltoolbar": "Create Assignment",
  "kernelspec": {
   "display_name": "Python 3",
   "language": "python",
   "name": "python3"
  },
  "language_info": {
   "codemirror_mode": {
    "name": "ipython",
    "version": 3
   },
   "file_extension": ".py",
   "mimetype": "text/x-python",
   "name": "python",
   "nbconvert_exporter": "python",
   "pygments_lexer": "ipython3",
   "version": "3.6.9"
  }
 },
 "nbformat": 4,
 "nbformat_minor": 4
}
