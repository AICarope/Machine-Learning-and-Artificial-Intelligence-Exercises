{
 "cells": [
  {
   "cell_type": "markdown",
   "metadata": {
    "deletable": false,
    "editable": false,
    "nbgrader": {
     "checksum": "da1ba68f6ad35afae76e90a94d44fbd5",
     "grade": false,
     "grade_id": "cell-01541d3406dd9f09",
     "locked": true,
     "schema_version": 1,
     "solution": false
    }
   },
   "source": [
    "### Required Codio Assignment 19.2: Using SURPRISE\n",
    "\n",
    "**Expected Time = 60 minutes**\n",
    "\n",
    "**Total Points = 50**\n",
    "\n",
    "This activity focuses on using the `Surprise` library to predict user ratings.  You will use a dataset derived from the movieLens data -- a common benchmark for recommendation algorithms.  Using `Surprise` you will load the data, create a train set and test set, make predictions for a test set, and cross validate the model on the dataset. \n",
    "\n",
    "#### Index\n",
    "\n",
    "- [Problem 1](#-Problem-1)\n",
    "- [Problem 2](#-Problem-2)\n",
    "- [Problem 3](#-Problem-3)\n",
    "- [Problem 4](#-Problem-4)\n",
    "- [Problem 5](#-Problem-5)"
   ]
  },
  {
   "cell_type": "code",
   "execution_count": 1,
   "metadata": {},
   "outputs": [],
   "source": [
    "from surprise import Dataset, Reader, SVD\n",
    "import pandas as pd\n",
    "import numpy as np"
   ]
  },
  {
   "cell_type": "markdown",
   "metadata": {
    "deletable": false,
    "editable": false,
    "nbgrader": {
     "checksum": "8809460c039fb824ca99380bfa7a6e31",
     "grade": false,
     "grade_id": "cell-730589da841883ef",
     "locked": true,
     "schema_version": 1,
     "solution": false
    }
   },
   "source": [
    "### The Data\n",
    "\n",
    "The data is derived from the MovieLens data [here](https://grouplens.org/datasets/movielens/).  The original dataset has been sampled so the processing is faster.\n",
    "\n",
    "The dataframe contain information about the user, movie, and the associated ratings when they exist."
   ]
  },
  {
   "cell_type": "code",
   "execution_count": 2,
   "metadata": {},
   "outputs": [],
   "source": [
    "movie_ratings = pd.read_csv('data/movie_ratings.csv', index_col=0)"
   ]
  },
  {
   "cell_type": "code",
   "execution_count": 3,
   "metadata": {},
   "outputs": [
    {
     "data": {
      "text/html": [
       "<div>\n",
       "<style scoped>\n",
       "    .dataframe tbody tr th:only-of-type {\n",
       "        vertical-align: middle;\n",
       "    }\n",
       "\n",
       "    .dataframe tbody tr th {\n",
       "        vertical-align: top;\n",
       "    }\n",
       "\n",
       "    .dataframe thead th {\n",
       "        text-align: right;\n",
       "    }\n",
       "</style>\n",
       "<table border=\"1\" class=\"dataframe\">\n",
       "  <thead>\n",
       "    <tr style=\"text-align: right;\">\n",
       "      <th></th>\n",
       "      <th>movieId</th>\n",
       "      <th>title</th>\n",
       "      <th>userId</th>\n",
       "      <th>rating</th>\n",
       "    </tr>\n",
       "  </thead>\n",
       "  <tbody>\n",
       "    <tr>\n",
       "      <th>0</th>\n",
       "      <td>1</td>\n",
       "      <td>Toy Story (1995)</td>\n",
       "      <td>1</td>\n",
       "      <td>4.0</td>\n",
       "    </tr>\n",
       "    <tr>\n",
       "      <th>1</th>\n",
       "      <td>1</td>\n",
       "      <td>Toy Story (1995)</td>\n",
       "      <td>5</td>\n",
       "      <td>4.0</td>\n",
       "    </tr>\n",
       "    <tr>\n",
       "      <th>2</th>\n",
       "      <td>1</td>\n",
       "      <td>Toy Story (1995)</td>\n",
       "      <td>7</td>\n",
       "      <td>4.5</td>\n",
       "    </tr>\n",
       "    <tr>\n",
       "      <th>3</th>\n",
       "      <td>1</td>\n",
       "      <td>Toy Story (1995)</td>\n",
       "      <td>15</td>\n",
       "      <td>2.5</td>\n",
       "    </tr>\n",
       "    <tr>\n",
       "      <th>4</th>\n",
       "      <td>1</td>\n",
       "      <td>Toy Story (1995)</td>\n",
       "      <td>17</td>\n",
       "      <td>4.5</td>\n",
       "    </tr>\n",
       "  </tbody>\n",
       "</table>\n",
       "</div>"
      ],
      "text/plain": [
       "   movieId             title  userId  rating\n",
       "0        1  Toy Story (1995)       1     4.0\n",
       "1        1  Toy Story (1995)       5     4.0\n",
       "2        1  Toy Story (1995)       7     4.5\n",
       "3        1  Toy Story (1995)      15     2.5\n",
       "4        1  Toy Story (1995)      17     4.5"
      ]
     },
     "execution_count": 3,
     "metadata": {},
     "output_type": "execute_result"
    }
   ],
   "source": [
    "movie_ratings.head()"
   ]
  },
  {
   "cell_type": "markdown",
   "metadata": {
    "deletable": false,
    "editable": false,
    "nbgrader": {
     "checksum": "4de44634d52ffc5098619517af82ea22",
     "grade": false,
     "grade_id": "cell-a17048648f3308a5",
     "locked": true,
     "schema_version": 1,
     "solution": false
    }
   },
   "source": [
    "[Back to top](#-Index)\n",
    "\n",
    "### Problem 1\n",
    "\n",
    "#### Loading a Dataset\n",
    "\n",
    "**10 Points**\n",
    "\n",
    "Extract the columns `userId`, `title`, and `rating` from the `movie_ratings` dataframe and assign them to the variable `a`.\n",
    "\n",
    "Initialize a `Reader` object, specifying that the ratings are on a scale from 0 to 5 and assign this result to `reader `. Next, use the `Dataset` object to convert the selected dataframe `a` into the format expected by `Surprise` using the `reader` object. Assign this result to `sf`.\n",
    "\n",
    "Finally, use the `build_full_trainset` function on `sf` to build the full training set from the dataset, making it ready for training a recommendation algorithm. Assign this result to `train`.\n"
   ]
  },
  {
   "cell_type": "code",
   "execution_count": 4,
   "metadata": {
    "deletable": false,
    "nbgrader": {
     "checksum": "065113ab857007e7a2d6f3a783748a14",
     "grade": false,
     "grade_id": "cell-88a5589687e93534",
     "locked": false,
     "schema_version": 1,
     "solution": true
    }
   },
   "outputs": [
    {
     "name": "stdout",
     "output_type": "stream",
     "text": [
      "<class 'surprise.dataset.DatasetAutoFolds'>\n",
      "<class 'surprise.trainset.Trainset'>\n"
     ]
    }
   ],
   "source": [
    "### GRADED\n",
    "reader = ''\n",
    "sf = ''\n",
    "train = ''\n",
    "\n",
    "    \n",
    "# YOUR CODE HERE\n",
    "a = movie_ratings[['userId', 'title', 'rating']]\n",
    "reader = Reader(rating_scale=(0, 5))\n",
    "sf = Dataset.load_from_df(a, reader)\n",
    "train = sf.build_full_trainset()\n",
    "\n",
    "### ANSWER CHECK\n",
    "print(type(sf))\n",
    "print(type(train))"
   ]
  },
  {
   "cell_type": "code",
   "execution_count": null,
   "metadata": {
    "deletable": false,
    "editable": false,
    "nbgrader": {
     "checksum": "3453d7b55e837b05eb3f7fa398f6ff71",
     "grade": true,
     "grade_id": "cell-430b2c047bc4e9e9",
     "locked": true,
     "points": 10,
     "schema_version": 1,
     "solution": false
    }
   },
   "outputs": [],
   "source": []
  },
  {
   "cell_type": "markdown",
   "metadata": {
    "deletable": false,
    "editable": false,
    "nbgrader": {
     "checksum": "bf9470b03b6c78f3efe8c9cff7734e24",
     "grade": false,
     "grade_id": "cell-6338726abdeb7bdc",
     "locked": true,
     "schema_version": 1,
     "solution": false
    }
   },
   "source": [
    "[Back to top](#-Index)\n",
    "\n",
    "### Problem 2\n",
    "\n",
    "#### Instantiate the `SVD` model\n",
    "\n",
    "**10 Points**\n",
    "\n",
    "Below, create an `SVD` object with 2 factors and assign it as `model` below."
   ]
  },
  {
   "cell_type": "code",
   "execution_count": 5,
   "metadata": {
    "deletable": false,
    "nbgrader": {
     "checksum": "2b54e72ca4f3e09e9da2c96c4ab64b8c",
     "grade": false,
     "grade_id": "cell-539585e274da7e26",
     "locked": false,
     "schema_version": 1,
     "solution": true
    }
   },
   "outputs": [
    {
     "name": "stdout",
     "output_type": "stream",
     "text": [
      "2\n"
     ]
    }
   ],
   "source": [
    "### GRADED\n",
    "model = ''\n",
    "\n",
    "    \n",
    "# YOUR CODE HERE\n",
    "model = SVD(n_factors = 2)\n",
    "\n",
    "### ANSWER CHECK\n",
    "print(model.n_factors)"
   ]
  },
  {
   "cell_type": "code",
   "execution_count": null,
   "metadata": {
    "deletable": false,
    "editable": false,
    "nbgrader": {
     "checksum": "55211476ae8d2a8d02939ec2632973cb",
     "grade": true,
     "grade_id": "cell-c648ba050893d145",
     "locked": true,
     "points": 10,
     "schema_version": 1,
     "solution": false
    }
   },
   "outputs": [],
   "source": []
  },
  {
   "cell_type": "markdown",
   "metadata": {
    "deletable": false,
    "editable": false,
    "nbgrader": {
     "checksum": "361c044341eb09ad468001fc147c4048",
     "grade": false,
     "grade_id": "cell-10c839e82855e0b5",
     "locked": true,
     "schema_version": 1,
     "solution": false
    }
   },
   "source": [
    "[Back to top](#-Index)\n",
    "\n",
    "### Problem 3\n",
    "\n",
    "### Fitting the Model\n",
    "\n",
    "**10 Points**\n",
    "\n",
    "Below, fit `model` on the training data `train`. "
   ]
  },
  {
   "cell_type": "code",
   "execution_count": 6,
   "metadata": {
    "deletable": false,
    "nbgrader": {
     "checksum": "50dd5c71711427078752f63fc7d931e8",
     "grade": false,
     "grade_id": "cell-dc61843ec01be8b7",
     "locked": false,
     "schema_version": 1,
     "solution": true
    }
   },
   "outputs": [
    {
     "name": "stdout",
     "output_type": "stream",
     "text": [
      "<surprise.prediction_algorithms.matrix_factorization.SVD object at 0x788b9e22bd68>\n"
     ]
    }
   ],
   "source": [
    "### GRADED\n",
    "#fit your model below. No variable needs to be assigned.\n",
    "\n",
    "    \n",
    "# YOUR CODE HERE\n",
    "model.fit(train)\n",
    "\n",
    "### ANSWER CHECK\n",
    "print(model)"
   ]
  },
  {
   "cell_type": "code",
   "execution_count": null,
   "metadata": {
    "deletable": false,
    "editable": false,
    "nbgrader": {
     "checksum": "a92ec387f15add35f7444b994ba96953",
     "grade": true,
     "grade_id": "cell-cab39e0c9e000c9d",
     "locked": true,
     "points": 10,
     "schema_version": 1,
     "solution": false
    }
   },
   "outputs": [],
   "source": []
  },
  {
   "cell_type": "markdown",
   "metadata": {
    "deletable": false,
    "editable": false,
    "nbgrader": {
     "checksum": "c9ec69d449f88d90f052fab1d1965eb6",
     "grade": false,
     "grade_id": "cell-71f4683f25c69ae1",
     "locked": true,
     "schema_version": 1,
     "solution": false
    }
   },
   "source": [
    "[Back to top](#-Index)\n",
    "\n",
    "### Problem 4\n",
    "\n",
    "### Making Predictions\n",
    "\n",
    "**10 Points**\n",
    "\n",
    "Use the `build_testset` function on `train` to build a testset named `test`. Next, use `test` to create a list of predictions for the testset.  Assign the result to `predictions_list` below."
   ]
  },
  {
   "cell_type": "code",
   "execution_count": 7,
   "metadata": {
    "deletable": false,
    "nbgrader": {
     "checksum": "45e54fe1b3b9d6b643e027f310f891be",
     "grade": false,
     "grade_id": "cell-b56bdc17f7c3fa17",
     "locked": false,
     "schema_version": 1,
     "solution": true
    }
   },
   "outputs": [
    {
     "name": "stdout",
     "output_type": "stream",
     "text": [
      "[Prediction(uid=1, iid='Toy Story (1995)', r_ui=4.0, est=4.694226251036154, details={'was_impossible': False}), Prediction(uid=1, iid='Grumpier Old Men (1995)', r_ui=4.0, est=4.02902283230696, details={'was_impossible': False}), Prediction(uid=1, iid='Heat (1995)', r_ui=4.0, est=4.735008303452637, details={'was_impossible': False}), Prediction(uid=1, iid='Seven (a.k.a. Se7en) (1995)', r_ui=5.0, est=4.801697400653696, details={'was_impossible': False}), Prediction(uid=1, iid='Usual Suspects, The (1995)', r_ui=5.0, est=5, details={'was_impossible': False})]\n"
     ]
    }
   ],
   "source": [
    "### GRADED\n",
    "test = ''\n",
    "predictions_list = ''\n",
    "\n",
    "    \n",
    "# YOUR CODE HERE\n",
    "test = train.build_testset()\n",
    "predictions_list = model.test(test)\n",
    "\n",
    "### ANSWER CHECK\n",
    "print(predictions_list[:5])"
   ]
  },
  {
   "cell_type": "code",
   "execution_count": null,
   "metadata": {
    "deletable": false,
    "editable": false,
    "nbgrader": {
     "checksum": "5ccb09ec4fcf565f0b58b6dc9e6e280d",
     "grade": true,
     "grade_id": "cell-8d6eddf6c20e82fe",
     "locked": true,
     "points": 10,
     "schema_version": 1,
     "solution": false
    }
   },
   "outputs": [],
   "source": []
  },
  {
   "cell_type": "markdown",
   "metadata": {
    "deletable": false,
    "editable": false,
    "nbgrader": {
     "checksum": "eef184f742892551f552df0fe797dd74",
     "grade": false,
     "grade_id": "cell-e67cf4a03b206880",
     "locked": true,
     "schema_version": 1,
     "solution": false
    }
   },
   "source": [
    "[Back to top](#-Index)\n",
    "\n",
    "### Problem 5\n",
    "\n",
    "#### Cross Validate the Model\n",
    "\n",
    "**10 Points**\n",
    "\n",
    "You may use the test data to evaluate the model, as well as also cross validate the model using the data object `sf`. \n",
    "\n",
    "In the code cell below, use the `cross_validate` function to calculate the RMSE of the model. Assign the result to `cross_val_results` below. "
   ]
  },
  {
   "cell_type": "code",
   "execution_count": null,
   "metadata": {},
   "outputs": [],
   "source": [
    "from surprise.model_selection import cross_validate"
   ]
  },
  {
   "cell_type": "code",
   "execution_count": 8,
   "metadata": {
    "deletable": false,
    "nbgrader": {
     "checksum": "3bfaffda9dac21bda9e05bd519603941",
     "grade": false,
     "grade_id": "cell-8be85aaecf4c78cf",
     "locked": false,
     "schema_version": 1,
     "solution": true
    }
   },
   "outputs": [
    {
     "name": "stdout",
     "output_type": "stream",
     "text": [
      "\n"
     ]
    }
   ],
   "source": [
    "### GRADED\n",
    "cross_val_results = ''\n",
    "\n",
    "    \n",
    "# YOUR CODE HERE\n",
    "test = train.build_testset()\n",
    "predictions_list = model.test(test)\n",
    "\n",
    "### ANSWER CHECK\n",
    "print(cross_val_results)"
   ]
  },
  {
   "cell_type": "code",
   "execution_count": null,
   "metadata": {
    "deletable": false,
    "editable": false,
    "nbgrader": {
     "checksum": "9005195000a67b972f46e4943f90d4bc",
     "grade": true,
     "grade_id": "cell-0c29bde67c23f94e",
     "locked": true,
     "points": 10,
     "schema_version": 1,
     "solution": false
    }
   },
   "outputs": [],
   "source": []
  },
  {
   "cell_type": "code",
   "execution_count": null,
   "metadata": {},
   "outputs": [],
   "source": []
  }
 ],
 "metadata": {
  "kernelspec": {
   "display_name": "Python 3",
   "language": "python",
   "name": "python3"
  },
  "language_info": {
   "codemirror_mode": {
    "name": "ipython",
    "version": 3
   },
   "file_extension": ".py",
   "mimetype": "text/x-python",
   "name": "python",
   "nbconvert_exporter": "python",
   "pygments_lexer": "ipython3",
   "version": "3.6.9"
  },
  "widgets": {
   "application/vnd.jupyter.widget-state+json": {
    "state": {},
    "version_major": 2,
    "version_minor": 0
   }
  }
 },
 "nbformat": 4,
 "nbformat_minor": 4
}
