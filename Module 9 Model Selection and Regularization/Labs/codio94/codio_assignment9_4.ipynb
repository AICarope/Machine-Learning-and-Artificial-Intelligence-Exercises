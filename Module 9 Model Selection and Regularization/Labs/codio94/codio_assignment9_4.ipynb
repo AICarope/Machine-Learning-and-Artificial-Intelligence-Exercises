{
 "cells": [
  {
   "cell_type": "markdown",
   "metadata": {
    "nbgrader": {
     "grade": false,
     "grade_id": "cell-5f0288b403ed1232",
     "locked": true,
     "schema_version": 3,
     "solution": false
    }
   },
   "source": [
    "### Codio Assignment 9.4: LASSO and Sequential Feature Selection\n",
    "\n",
    "\n",
    "**Expected Time: 60 Minutes**\n",
    "\n",
    "**Total Points: 50**\n",
    "\n",
    "This assignment introduces the `Ridge` regression estimator from scikitlearn.  You will revisit the insurance data from the previous assignment and experiment with varying the `alpha` parameter discussed in Video 9.4. Your work here is a basic introduction where complexity in the preprocessing steps will be added to scale your data.  For now, you are just to familiarize yourself with the `Ridge` regression estimator and its `alpha` parameter. \n",
    "\n",
    "This assignment compares a second regularized regression method -- the LASSO -- with that of sequential feature selection.  The LASSO will be briefly discussed below, and you will use the scikit learn implementation.  Rather than using the LASSO as a model, you are to compare it to the `SequentialFeatureSelection` transformer as a method to select important features for a regression model. \n",
    "\n",
    "\n",
    "#### Index\n",
    "\n",
    "- [Problem 1](#Problem-1)\n",
    "- [Problem 2](#Problem-2)\n",
    "- [Problem 3](#Problem-3)\n",
    "- [Problem 4](#Problem-4)\n",
    "- [Problem 5](#Problem-5)"
   ]
  },
  {
   "cell_type": "code",
   "execution_count": 1,
   "metadata": {},
   "outputs": [],
   "source": [
    "from sklearn.linear_model import LinearRegression, Lasso\n",
    "from sklearn.preprocessing import StandardScaler, PolynomialFeatures\n",
    "from sklearn.pipeline import Pipeline\n",
    "from sklearn.feature_selection import SequentialFeatureSelector, SelectFromModel\n",
    "from sklearn.metrics import mean_squared_error\n",
    "from sklearn.model_selection import train_test_split, GridSearchCV\n",
    "from sklearn import set_config\n",
    "set_config(display=\"diagram\")\n",
    "\n",
    "\n",
    "import pandas as pd\n",
    "import numpy as np\n",
    "import seaborn as sns\n",
    "import plotly.express as px"
   ]
  },
  {
   "cell_type": "markdown",
   "metadata": {
    "nbgrader": {
     "grade": false,
     "grade_id": "cell-e92bc69b9408cf26",
     "locked": true,
     "schema_version": 3,
     "solution": false
    }
   },
   "source": [
    "### The Data\n",
    "\n",
    "For this exercise, you will revisit the automotive data.  The goal is again to predict the `mpg` column using the other numeric features.  You will build a polynomial model of degree 3 to compare the results of a `Lasso` and that of a `LinearRegression` model. Finally, you will use the `Lasso` estimator to select features in a pipeline with `SelectFromModel`. \n",
    "\n",
    "Below, the train and test data is created for you as `auto_X_train`, `auto_X_test`, `auto_y_train`, and `auto_y_test`."
   ]
  },
  {
   "cell_type": "code",
   "execution_count": 2,
   "metadata": {},
   "outputs": [],
   "source": [
    "auto = pd.read_csv('data/auto.csv')"
   ]
  },
  {
   "cell_type": "code",
   "execution_count": 3,
   "metadata": {},
   "outputs": [
    {
     "data": {
      "text/html": [
       "<div>\n",
       "<style scoped>\n",
       "    .dataframe tbody tr th:only-of-type {\n",
       "        vertical-align: middle;\n",
       "    }\n",
       "\n",
       "    .dataframe tbody tr th {\n",
       "        vertical-align: top;\n",
       "    }\n",
       "\n",
       "    .dataframe thead th {\n",
       "        text-align: right;\n",
       "    }\n",
       "</style>\n",
       "<table border=\"1\" class=\"dataframe\">\n",
       "  <thead>\n",
       "    <tr style=\"text-align: right;\">\n",
       "      <th></th>\n",
       "      <th>mpg</th>\n",
       "      <th>cylinders</th>\n",
       "      <th>displacement</th>\n",
       "      <th>horsepower</th>\n",
       "      <th>weight</th>\n",
       "      <th>acceleration</th>\n",
       "      <th>year</th>\n",
       "      <th>origin</th>\n",
       "      <th>name</th>\n",
       "    </tr>\n",
       "  </thead>\n",
       "  <tbody>\n",
       "    <tr>\n",
       "      <th>0</th>\n",
       "      <td>18.0</td>\n",
       "      <td>8</td>\n",
       "      <td>307.0</td>\n",
       "      <td>130.0</td>\n",
       "      <td>3504</td>\n",
       "      <td>12.0</td>\n",
       "      <td>70</td>\n",
       "      <td>1</td>\n",
       "      <td>chevrolet chevelle malibu</td>\n",
       "    </tr>\n",
       "    <tr>\n",
       "      <th>1</th>\n",
       "      <td>15.0</td>\n",
       "      <td>8</td>\n",
       "      <td>350.0</td>\n",
       "      <td>165.0</td>\n",
       "      <td>3693</td>\n",
       "      <td>11.5</td>\n",
       "      <td>70</td>\n",
       "      <td>1</td>\n",
       "      <td>buick skylark 320</td>\n",
       "    </tr>\n",
       "    <tr>\n",
       "      <th>2</th>\n",
       "      <td>18.0</td>\n",
       "      <td>8</td>\n",
       "      <td>318.0</td>\n",
       "      <td>150.0</td>\n",
       "      <td>3436</td>\n",
       "      <td>11.0</td>\n",
       "      <td>70</td>\n",
       "      <td>1</td>\n",
       "      <td>plymouth satellite</td>\n",
       "    </tr>\n",
       "    <tr>\n",
       "      <th>3</th>\n",
       "      <td>16.0</td>\n",
       "      <td>8</td>\n",
       "      <td>304.0</td>\n",
       "      <td>150.0</td>\n",
       "      <td>3433</td>\n",
       "      <td>12.0</td>\n",
       "      <td>70</td>\n",
       "      <td>1</td>\n",
       "      <td>amc rebel sst</td>\n",
       "    </tr>\n",
       "    <tr>\n",
       "      <th>4</th>\n",
       "      <td>17.0</td>\n",
       "      <td>8</td>\n",
       "      <td>302.0</td>\n",
       "      <td>140.0</td>\n",
       "      <td>3449</td>\n",
       "      <td>10.5</td>\n",
       "      <td>70</td>\n",
       "      <td>1</td>\n",
       "      <td>ford torino</td>\n",
       "    </tr>\n",
       "  </tbody>\n",
       "</table>\n",
       "</div>"
      ],
      "text/plain": [
       "    mpg  cylinders  displacement  horsepower  weight  acceleration  year  \\\n",
       "0  18.0          8         307.0       130.0    3504          12.0    70   \n",
       "1  15.0          8         350.0       165.0    3693          11.5    70   \n",
       "2  18.0          8         318.0       150.0    3436          11.0    70   \n",
       "3  16.0          8         304.0       150.0    3433          12.0    70   \n",
       "4  17.0          8         302.0       140.0    3449          10.5    70   \n",
       "\n",
       "   origin                       name  \n",
       "0       1  chevrolet chevelle malibu  \n",
       "1       1          buick skylark 320  \n",
       "2       1         plymouth satellite  \n",
       "3       1              amc rebel sst  \n",
       "4       1                ford torino  "
      ]
     },
     "execution_count": 3,
     "metadata": {},
     "output_type": "execute_result"
    }
   ],
   "source": [
    "auto.head()"
   ]
  },
  {
   "cell_type": "code",
   "execution_count": 4,
   "metadata": {},
   "outputs": [],
   "source": [
    "#generate train/test data for auto\n",
    "auto_X = auto.drop(['mpg', 'name'], axis = 1)\n",
    "auto_y = auto['mpg']\n",
    "auto_X_train, auto_X_test, auto_y_train, auto_y_test = train_test_split(auto_X, auto_y, \n",
    "                                                                       test_size = 0.3,\n",
    "                                                                       random_state = 42)"
   ]
  },
  {
   "cell_type": "markdown",
   "metadata": {
    "nbgrader": {
     "grade": false,
     "grade_id": "cell-add79ff14f85c4b3",
     "locked": true,
     "schema_version": 3,
     "solution": false
    }
   },
   "source": [
    "[Back to top](#Index:) \n",
    "\n",
    "### Problem 1\n",
    "\n",
    "#### The auto data\n",
    "\n",
    "**10 Points**\n",
    "\n",
    "To start, build a `Pipeline` named `auto_pipe` with named steps `polyfeatures`, `scaler` and `lasso` model that utilizes `PolynomialFeatures`, `StandardScaler`, and the `Lasso` estimator with the following parameters:\n",
    "\n",
    "- `degree = 3` in `PolynomialFeatures`\n",
    "- `include_bias = False` in `PolynomialFeatures`\n",
    "- `random_state = 42` in `Lasso`\n",
    "\n",
    "Fit the pipeline on `auto_X_train` and `auto_y_train` data given.  Extract the lasso coefficients from the pipeline and assign them as an array to `lasso_coefs` below.  \n",
    "\n",
    "**HINT**: Use the `.named_steps['lasso']` to extract that lasso estimator and use the `.coef_` attribute after fitting to access the model coefficients."
   ]
  },
  {
   "cell_type": "code",
   "execution_count": 5,
   "metadata": {
    "nbgrader": {
     "grade": false,
     "grade_id": "cell-4b2351ce5efba3ad",
     "locked": false,
     "schema_version": 3,
     "solution": true
    }
   },
   "outputs": [
    {
     "name": "stdout",
     "output_type": "stream",
     "text": [
      "<class 'numpy.ndarray'>\n",
      "[-0.         -0.         -0.         -3.06660503  0.          0.\n",
      "  0.         -0.         -0.         -0.         -0.         -0.\n",
      " -0.          0.         -0.         -0.         -0.         -0.0880862\n",
      " -0.         -0.         -0.         -0.         -1.42250731 -0.\n",
      " -0.         -0.         -0.         -0.          0.          0.\n",
      "  0.          0.          0.          0.          0.         -0.\n",
      " -0.         -0.         -0.         -0.         -0.         -0.\n",
      " -0.         -0.         -0.         -0.         -0.         -0.\n",
      " -0.         -0.         -0.         -0.         -0.         -0.\n",
      " -0.         -0.         -0.         -0.         -0.          0.\n",
      " -0.          0.          0.         -0.         -0.         -0.\n",
      " -0.         -0.         -0.         -0.         -0.         -0.\n",
      " -0.         -0.         -0.         -0.         -0.         -0.\n",
      " -0.         -0.         -0.         -0.         -0.          0.\n",
      " -0.         -0.         -0.         -0.         -0.         -0.\n",
      " -0.         -0.         -0.         -0.         -0.          0.\n",
      " -0.         -0.          0.         -0.         -0.         -0.\n",
      " -0.         -0.         -0.          0.         -0.          0.\n",
      "  0.          0.          0.          0.68951645  0.          0.42315898\n",
      "  0.          1.87257016  0.          0.          0.        ]\n"
     ]
    },
    {
     "data": {
      "text/html": [
       "<style>#sk-4b95d0af-c66a-48c1-95e3-18b3d1234186 {color: black;background-color: white;}#sk-4b95d0af-c66a-48c1-95e3-18b3d1234186 pre{padding: 0;}#sk-4b95d0af-c66a-48c1-95e3-18b3d1234186 div.sk-toggleable {background-color: white;}#sk-4b95d0af-c66a-48c1-95e3-18b3d1234186 label.sk-toggleable__label {cursor: pointer;display: block;width: 100%;margin-bottom: 0;padding: 0.3em;box-sizing: border-box;text-align: center;}#sk-4b95d0af-c66a-48c1-95e3-18b3d1234186 label.sk-toggleable__label-arrow:before {content: \"▸\";float: left;margin-right: 0.25em;color: #696969;}#sk-4b95d0af-c66a-48c1-95e3-18b3d1234186 label.sk-toggleable__label-arrow:hover:before {color: black;}#sk-4b95d0af-c66a-48c1-95e3-18b3d1234186 div.sk-estimator:hover label.sk-toggleable__label-arrow:before {color: black;}#sk-4b95d0af-c66a-48c1-95e3-18b3d1234186 div.sk-toggleable__content {max-height: 0;max-width: 0;overflow: hidden;text-align: left;background-color: #f0f8ff;}#sk-4b95d0af-c66a-48c1-95e3-18b3d1234186 div.sk-toggleable__content pre {margin: 0.2em;color: black;border-radius: 0.25em;background-color: #f0f8ff;}#sk-4b95d0af-c66a-48c1-95e3-18b3d1234186 input.sk-toggleable__control:checked~div.sk-toggleable__content {max-height: 200px;max-width: 100%;overflow: auto;}#sk-4b95d0af-c66a-48c1-95e3-18b3d1234186 input.sk-toggleable__control:checked~label.sk-toggleable__label-arrow:before {content: \"▾\";}#sk-4b95d0af-c66a-48c1-95e3-18b3d1234186 div.sk-estimator input.sk-toggleable__control:checked~label.sk-toggleable__label {background-color: #d4ebff;}#sk-4b95d0af-c66a-48c1-95e3-18b3d1234186 div.sk-label input.sk-toggleable__control:checked~label.sk-toggleable__label {background-color: #d4ebff;}#sk-4b95d0af-c66a-48c1-95e3-18b3d1234186 input.sk-hidden--visually {border: 0;clip: rect(1px 1px 1px 1px);clip: rect(1px, 1px, 1px, 1px);height: 1px;margin: -1px;overflow: hidden;padding: 0;position: absolute;width: 1px;}#sk-4b95d0af-c66a-48c1-95e3-18b3d1234186 div.sk-estimator {font-family: monospace;background-color: #f0f8ff;border: 1px dotted black;border-radius: 0.25em;box-sizing: border-box;margin-bottom: 0.5em;}#sk-4b95d0af-c66a-48c1-95e3-18b3d1234186 div.sk-estimator:hover {background-color: #d4ebff;}#sk-4b95d0af-c66a-48c1-95e3-18b3d1234186 div.sk-parallel-item::after {content: \"\";width: 100%;border-bottom: 1px solid gray;flex-grow: 1;}#sk-4b95d0af-c66a-48c1-95e3-18b3d1234186 div.sk-label:hover label.sk-toggleable__label {background-color: #d4ebff;}#sk-4b95d0af-c66a-48c1-95e3-18b3d1234186 div.sk-serial::before {content: \"\";position: absolute;border-left: 1px solid gray;box-sizing: border-box;top: 2em;bottom: 0;left: 50%;}#sk-4b95d0af-c66a-48c1-95e3-18b3d1234186 div.sk-serial {display: flex;flex-direction: column;align-items: center;background-color: white;padding-right: 0.2em;padding-left: 0.2em;}#sk-4b95d0af-c66a-48c1-95e3-18b3d1234186 div.sk-item {z-index: 1;}#sk-4b95d0af-c66a-48c1-95e3-18b3d1234186 div.sk-parallel {display: flex;align-items: stretch;justify-content: center;background-color: white;}#sk-4b95d0af-c66a-48c1-95e3-18b3d1234186 div.sk-parallel::before {content: \"\";position: absolute;border-left: 1px solid gray;box-sizing: border-box;top: 2em;bottom: 0;left: 50%;}#sk-4b95d0af-c66a-48c1-95e3-18b3d1234186 div.sk-parallel-item {display: flex;flex-direction: column;position: relative;background-color: white;}#sk-4b95d0af-c66a-48c1-95e3-18b3d1234186 div.sk-parallel-item:first-child::after {align-self: flex-end;width: 50%;}#sk-4b95d0af-c66a-48c1-95e3-18b3d1234186 div.sk-parallel-item:last-child::after {align-self: flex-start;width: 50%;}#sk-4b95d0af-c66a-48c1-95e3-18b3d1234186 div.sk-parallel-item:only-child::after {width: 0;}#sk-4b95d0af-c66a-48c1-95e3-18b3d1234186 div.sk-dashed-wrapped {border: 1px dashed gray;margin: 0 0.4em 0.5em 0.4em;box-sizing: border-box;padding-bottom: 0.4em;background-color: white;position: relative;}#sk-4b95d0af-c66a-48c1-95e3-18b3d1234186 div.sk-label label {font-family: monospace;font-weight: bold;background-color: white;display: inline-block;line-height: 1.2em;}#sk-4b95d0af-c66a-48c1-95e3-18b3d1234186 div.sk-label-container {position: relative;z-index: 2;text-align: center;}#sk-4b95d0af-c66a-48c1-95e3-18b3d1234186 div.sk-container {/* jupyter's `normalize.less` sets `[hidden] { display: none; }` but bootstrap.min.css set `[hidden] { display: none !important; }` so we also need the `!important` here to be able to override the default hidden behavior on the sphinx rendered scikit-learn.org. See: https://github.com/scikit-learn/scikit-learn/issues/21755 */display: inline-block !important;position: relative;}#sk-4b95d0af-c66a-48c1-95e3-18b3d1234186 div.sk-text-repr-fallback {display: none;}</style><div id=\"sk-4b95d0af-c66a-48c1-95e3-18b3d1234186\" class=\"sk-top-container\"><div class=\"sk-text-repr-fallback\"><pre>Pipeline(steps=[(&#x27;polyfeatures&#x27;,\n",
       "                 PolynomialFeatures(degree=3, include_bias=False)),\n",
       "                (&#x27;scaler&#x27;, StandardScaler()),\n",
       "                (&#x27;lasso&#x27;, Lasso(random_state=42))])</pre><b>Please rerun this cell to show the HTML repr or trust the notebook.</b></div><div class=\"sk-container\" hidden><div class=\"sk-item sk-dashed-wrapped\"><div class=\"sk-label-container\"><div class=\"sk-label sk-toggleable\"><input class=\"sk-toggleable__control sk-hidden--visually\" id=\"a1e59950-b48d-4618-ad6c-322c5bac7f4a\" type=\"checkbox\" ><label for=\"a1e59950-b48d-4618-ad6c-322c5bac7f4a\" class=\"sk-toggleable__label sk-toggleable__label-arrow\">Pipeline</label><div class=\"sk-toggleable__content\"><pre>Pipeline(steps=[(&#x27;polyfeatures&#x27;,\n",
       "                 PolynomialFeatures(degree=3, include_bias=False)),\n",
       "                (&#x27;scaler&#x27;, StandardScaler()),\n",
       "                (&#x27;lasso&#x27;, Lasso(random_state=42))])</pre></div></div></div><div class=\"sk-serial\"><div class=\"sk-item\"><div class=\"sk-estimator sk-toggleable\"><input class=\"sk-toggleable__control sk-hidden--visually\" id=\"824e0604-b7b5-4c7e-872f-891c858386ba\" type=\"checkbox\" ><label for=\"824e0604-b7b5-4c7e-872f-891c858386ba\" class=\"sk-toggleable__label sk-toggleable__label-arrow\">PolynomialFeatures</label><div class=\"sk-toggleable__content\"><pre>PolynomialFeatures(degree=3, include_bias=False)</pre></div></div></div><div class=\"sk-item\"><div class=\"sk-estimator sk-toggleable\"><input class=\"sk-toggleable__control sk-hidden--visually\" id=\"fad2cc5b-540f-4f69-a057-ef39ed9c04f4\" type=\"checkbox\" ><label for=\"fad2cc5b-540f-4f69-a057-ef39ed9c04f4\" class=\"sk-toggleable__label sk-toggleable__label-arrow\">StandardScaler</label><div class=\"sk-toggleable__content\"><pre>StandardScaler()</pre></div></div></div><div class=\"sk-item\"><div class=\"sk-estimator sk-toggleable\"><input class=\"sk-toggleable__control sk-hidden--visually\" id=\"9e183885-b750-4805-ae2b-6d48c06c5d33\" type=\"checkbox\" ><label for=\"9e183885-b750-4805-ae2b-6d48c06c5d33\" class=\"sk-toggleable__label sk-toggleable__label-arrow\">Lasso</label><div class=\"sk-toggleable__content\"><pre>Lasso(random_state=42)</pre></div></div></div></div></div></div></div>"
      ],
      "text/plain": [
       "Pipeline(steps=[('polyfeatures',\n",
       "                 PolynomialFeatures(degree=3, include_bias=False)),\n",
       "                ('scaler', StandardScaler()),\n",
       "                ('lasso', Lasso(random_state=42))])"
      ]
     },
     "execution_count": 5,
     "metadata": {},
     "output_type": "execute_result"
    }
   ],
   "source": [
    "### GRADED\n",
    "\n",
    "auto_pipe = ''\n",
    "lasso_coefs = ''\n",
    "\n",
    "### BEGIN SOLUTION\n",
    "auto_pipe = Pipeline([('polyfeatures', PolynomialFeatures(degree = 3, include_bias = False)),\n",
    "                      ('scaler', StandardScaler()),\n",
    "                     ('lasso', Lasso(random_state = 42))])\n",
    "auto_pipe.fit(auto_X_train, auto_y_train)\n",
    "lasso_coefs = auto_pipe.named_steps['lasso'].coef_\n",
    "### END SOLUTION\n",
    "\n",
    "# Answer check\n",
    "print(type(lasso_coefs))\n",
    "print(lasso_coefs)\n",
    "auto_pipe"
   ]
  },
  {
   "cell_type": "markdown",
   "metadata": {
    "nbgrader": {
     "grade": false,
     "grade_id": "cell-00d34c3ff5947d86",
     "locked": true,
     "schema_version": 3,
     "solution": false
    }
   },
   "source": [
    "[Back to top](#Index:) \n",
    "\n",
    "### Problem 2\n",
    "\n",
    "#### Error in `Lasso` model\n",
    "\n",
    "**10 Points**\n",
    "\n",
    "Now, compute the mean squared error of the LASSO model on both the train and test data, `auto_X_train` and `auto_X_test`, respectively.  Assign this as a float to `lasso_train_mse` and `lasso_test_mse`, respectively.  "
   ]
  },
  {
   "cell_type": "code",
   "execution_count": 7,
   "metadata": {
    "nbgrader": {
     "grade": false,
     "grade_id": "cell-27bc7ac17713b3d7",
     "locked": false,
     "schema_version": 3,
     "solution": true
    }
   },
   "outputs": [
    {
     "name": "stdout",
     "output_type": "stream",
     "text": [
      "11.860728888695974\n",
      "8.984776169896323\n"
     ]
    }
   ],
   "source": [
    "### GRADED\n",
    "\n",
    "lasso_train_mse = ''\n",
    "lasso_test_mse = ''\n",
    "\n",
    "### BEGIN SOLUTION\n",
    "lasso_train_mse = mean_squared_error(auto_y_train, auto_pipe.predict(auto_X_train))\n",
    "lasso_test_mse = mean_squared_error(auto_y_test, auto_pipe.predict(auto_X_test))\n",
    "### END SOLUTION\n",
    "\n",
    "# Answer check\n",
    "print(lasso_train_mse)\n",
    "print(lasso_test_mse)"
   ]
  },
  {
   "cell_type": "markdown",
   "metadata": {
    "nbgrader": {
     "grade": false,
     "grade_id": "cell-6cd009f6888369f8",
     "locked": true,
     "schema_version": 3,
     "solution": false
    }
   },
   "source": [
    "[Back to top](#Index:) \n",
    "\n",
    "### Problem 3\n",
    "\n",
    "#### Non-zero coefficients\n",
    "\n",
    "**10 Points**\n",
    "\n",
    "Using the `lasso_coefs` determine the number of features with non-zero coefficients and determine the name of those features as a result of the polynomial feature transformation.  \n",
    "\n",
    "To do this, access the `named_steps['polyfeatures']` feature from the `auto_pipe` pipeline and chain the `get_feature_names_out()` to get the features name. Assign the result to `feature_names`.\n",
    "\n",
    "Next, create a DataFrame named `lasso_df` below that has two columns -- `feature` and `coef`.  To the `feature` column assign `feature_names`. To the `coef` column assign `lasso_coefs`."
   ]
  },
  {
   "cell_type": "code",
   "execution_count": 5,
   "metadata": {
    "nbgrader": {
     "grade": false,
     "grade_id": "cell-e5ed130aa3396617",
     "locked": false,
     "schema_version": 3,
     "solution": true
    }
   },
   "outputs": [
    {
     "ename": "NameError",
     "evalue": "name 'auto_pipe' is not defined",
     "output_type": "error",
     "traceback": [
      "\u001b[1;31m---------------------------------------------------------------------------\u001b[0m",
      "\u001b[1;31mNameError\u001b[0m                                 Traceback (most recent call last)",
      "\u001b[1;32mc:\\Users\\Carmen\\Documents\\PreMaster\\ARTIFICIAL INTELLIGENCE\\UCBerkeley ML AI\\Modules\\Module 9\\Labs\\codio94\\codio_assignment9_4.ipynb Cell 12\u001b[0m line \u001b[0;36m7\n\u001b[0;32m      <a href='vscode-notebook-cell:/c%3A/Users/Carmen/Documents/PreMaster/ARTIFICIAL%20INTELLIGENCE/UCBerkeley%20ML%20AI/Modules/Module%209/Labs/codio94/codio_assignment9_4.ipynb#X14sZmlsZQ%3D%3D?line=2'>3</a>\u001b[0m lasso_df \u001b[39m=\u001b[39m \u001b[39m'\u001b[39m\u001b[39m'\u001b[39m\n\u001b[0;32m      <a href='vscode-notebook-cell:/c%3A/Users/Carmen/Documents/PreMaster/ARTIFICIAL%20INTELLIGENCE/UCBerkeley%20ML%20AI/Modules/Module%209/Labs/codio94/codio_assignment9_4.ipynb#X14sZmlsZQ%3D%3D?line=5'>6</a>\u001b[0m \u001b[39m### BEGIN SOLUTION\u001b[39;00m\n\u001b[1;32m----> <a href='vscode-notebook-cell:/c%3A/Users/Carmen/Documents/PreMaster/ARTIFICIAL%20INTELLIGENCE/UCBerkeley%20ML%20AI/Modules/Module%209/Labs/codio94/codio_assignment9_4.ipynb#X14sZmlsZQ%3D%3D?line=6'>7</a>\u001b[0m feature_names \u001b[39m=\u001b[39m auto_pipe\u001b[39m.\u001b[39mnamed_steps[\u001b[39m'\u001b[39m\u001b[39mpolyfeatures\u001b[39m\u001b[39m'\u001b[39m]\u001b[39m.\u001b[39mget_feature_names_out()\n\u001b[0;32m      <a href='vscode-notebook-cell:/c%3A/Users/Carmen/Documents/PreMaster/ARTIFICIAL%20INTELLIGENCE/UCBerkeley%20ML%20AI/Modules/Module%209/Labs/codio94/codio_assignment9_4.ipynb#X14sZmlsZQ%3D%3D?line=7'>8</a>\u001b[0m lasso_df \u001b[39m=\u001b[39m pd\u001b[39m.\u001b[39mDataFrame({\u001b[39m'\u001b[39m\u001b[39mfeature\u001b[39m\u001b[39m'\u001b[39m: feature_names, \u001b[39m'\u001b[39m\u001b[39mcoef\u001b[39m\u001b[39m'\u001b[39m: lasso_coefs})\n\u001b[0;32m      <a href='vscode-notebook-cell:/c%3A/Users/Carmen/Documents/PreMaster/ARTIFICIAL%20INTELLIGENCE/UCBerkeley%20ML%20AI/Modules/Module%209/Labs/codio94/codio_assignment9_4.ipynb#X14sZmlsZQ%3D%3D?line=8'>9</a>\u001b[0m \u001b[39m### END SOLUTION\u001b[39;00m\n\u001b[0;32m     <a href='vscode-notebook-cell:/c%3A/Users/Carmen/Documents/PreMaster/ARTIFICIAL%20INTELLIGENCE/UCBerkeley%20ML%20AI/Modules/Module%209/Labs/codio94/codio_assignment9_4.ipynb#X14sZmlsZQ%3D%3D?line=9'>10</a>\u001b[0m \n\u001b[0;32m     <a href='vscode-notebook-cell:/c%3A/Users/Carmen/Documents/PreMaster/ARTIFICIAL%20INTELLIGENCE/UCBerkeley%20ML%20AI/Modules/Module%209/Labs/codio94/codio_assignment9_4.ipynb#X14sZmlsZQ%3D%3D?line=10'>11</a>\u001b[0m \u001b[39m# Answer check\u001b[39;00m\n",
      "\u001b[1;31mNameError\u001b[0m: name 'auto_pipe' is not defined"
     ]
    }
   ],
   "source": [
    "### GRADED\n",
    "feature_names = ''\n",
    "lasso_df = ''\n",
    "\n",
    "\n",
    "### BEGIN SOLUTION\n",
    "feature_names = auto_pipe.named_steps['polyfeatures'].get_feature_names_out()\n",
    "lasso_df = pd.DataFrame({'feature': feature_names, 'coef': lasso_coefs})\n",
    "### END SOLUTION\n",
    "\n",
    "# Answer check\n",
    "print(type(feature_names))\n",
    "lasso_df.loc[lasso_df['coef'] != 0]"
   ]
  },
  {
   "cell_type": "markdown",
   "metadata": {
    "nbgrader": {
     "grade": false,
     "grade_id": "cell-af9586e34b8d17e2",
     "locked": true,
     "schema_version": 3,
     "solution": false
    }
   },
   "source": [
    "[Back to top](#Index:) \n",
    "\n",
    "### Problem 4\n",
    "\n",
    "#### Comparing `Lasso` to `SequentialFeatureSelection`\n",
    "\n",
    "**10 Points**\n",
    "\n",
    "As seen above, the Lasso model effectively eliminated all but 6 features from the cubic polynomial example.  Now, you are to build a `Pipeline` object called `sequential_pipe` with named steps `poly_features`, `selector`, and `linreg` with `PolynomialFeatures`, `SequentialFeatureSelector`, and `LinearRegression` respectively that uses the folowing parameters:\n",
    "\n",
    "- `degree = 3` in `PolynomialFeatures` step `poly_features`\n",
    "- `include_bias = False` in `PolynomialFeatures` step `poly_features`\n",
    "- `n_features_to_select = 6` in `selector`\n",
    "\n",
    "Assign this pipeline object to `sequential_pipe`.\n",
    "\n",
    "Next, use the `fit` function on `scaled_pipe` to train your model on `auto_X_train` and `auto_y_train`. \n",
    "\n",
    "Use the `mean_squared_error` function to compute the MSE between `auto_y_train` and` sequential_pipe.predict(auto_X_train)`. Assign your result to `sequential_train_mse`.\n",
    "\n",
    "Use the `mean_squared_error` function to compute the MSE between `auto_y_test` and `sequential_pipe.predict(auto_X_test)`. Assign your result to `sequential_test_mse`.\n",
    "\n"
   ]
  },
  {
   "cell_type": "code",
   "execution_count": 11,
   "metadata": {
    "nbgrader": {
     "grade": false,
     "grade_id": "cell-113e81ee2e4d2705",
     "locked": false,
     "schema_version": 3,
     "solution": true
    }
   },
   "outputs": [
    {
     "name": "stdout",
     "output_type": "stream",
     "text": [
      "7.673332944806711\n",
      "7.145098433686857\n"
     ]
    },
    {
     "data": {
      "text/html": [
       "<style>#sk-f8a2d5fc-bf72-4d6b-b3b7-e610b7fc7511 {color: black;background-color: white;}#sk-f8a2d5fc-bf72-4d6b-b3b7-e610b7fc7511 pre{padding: 0;}#sk-f8a2d5fc-bf72-4d6b-b3b7-e610b7fc7511 div.sk-toggleable {background-color: white;}#sk-f8a2d5fc-bf72-4d6b-b3b7-e610b7fc7511 label.sk-toggleable__label {cursor: pointer;display: block;width: 100%;margin-bottom: 0;padding: 0.3em;box-sizing: border-box;text-align: center;}#sk-f8a2d5fc-bf72-4d6b-b3b7-e610b7fc7511 label.sk-toggleable__label-arrow:before {content: \"▸\";float: left;margin-right: 0.25em;color: #696969;}#sk-f8a2d5fc-bf72-4d6b-b3b7-e610b7fc7511 label.sk-toggleable__label-arrow:hover:before {color: black;}#sk-f8a2d5fc-bf72-4d6b-b3b7-e610b7fc7511 div.sk-estimator:hover label.sk-toggleable__label-arrow:before {color: black;}#sk-f8a2d5fc-bf72-4d6b-b3b7-e610b7fc7511 div.sk-toggleable__content {max-height: 0;max-width: 0;overflow: hidden;text-align: left;background-color: #f0f8ff;}#sk-f8a2d5fc-bf72-4d6b-b3b7-e610b7fc7511 div.sk-toggleable__content pre {margin: 0.2em;color: black;border-radius: 0.25em;background-color: #f0f8ff;}#sk-f8a2d5fc-bf72-4d6b-b3b7-e610b7fc7511 input.sk-toggleable__control:checked~div.sk-toggleable__content {max-height: 200px;max-width: 100%;overflow: auto;}#sk-f8a2d5fc-bf72-4d6b-b3b7-e610b7fc7511 input.sk-toggleable__control:checked~label.sk-toggleable__label-arrow:before {content: \"▾\";}#sk-f8a2d5fc-bf72-4d6b-b3b7-e610b7fc7511 div.sk-estimator input.sk-toggleable__control:checked~label.sk-toggleable__label {background-color: #d4ebff;}#sk-f8a2d5fc-bf72-4d6b-b3b7-e610b7fc7511 div.sk-label input.sk-toggleable__control:checked~label.sk-toggleable__label {background-color: #d4ebff;}#sk-f8a2d5fc-bf72-4d6b-b3b7-e610b7fc7511 input.sk-hidden--visually {border: 0;clip: rect(1px 1px 1px 1px);clip: rect(1px, 1px, 1px, 1px);height: 1px;margin: -1px;overflow: hidden;padding: 0;position: absolute;width: 1px;}#sk-f8a2d5fc-bf72-4d6b-b3b7-e610b7fc7511 div.sk-estimator {font-family: monospace;background-color: #f0f8ff;border: 1px dotted black;border-radius: 0.25em;box-sizing: border-box;margin-bottom: 0.5em;}#sk-f8a2d5fc-bf72-4d6b-b3b7-e610b7fc7511 div.sk-estimator:hover {background-color: #d4ebff;}#sk-f8a2d5fc-bf72-4d6b-b3b7-e610b7fc7511 div.sk-parallel-item::after {content: \"\";width: 100%;border-bottom: 1px solid gray;flex-grow: 1;}#sk-f8a2d5fc-bf72-4d6b-b3b7-e610b7fc7511 div.sk-label:hover label.sk-toggleable__label {background-color: #d4ebff;}#sk-f8a2d5fc-bf72-4d6b-b3b7-e610b7fc7511 div.sk-serial::before {content: \"\";position: absolute;border-left: 1px solid gray;box-sizing: border-box;top: 2em;bottom: 0;left: 50%;}#sk-f8a2d5fc-bf72-4d6b-b3b7-e610b7fc7511 div.sk-serial {display: flex;flex-direction: column;align-items: center;background-color: white;padding-right: 0.2em;padding-left: 0.2em;}#sk-f8a2d5fc-bf72-4d6b-b3b7-e610b7fc7511 div.sk-item {z-index: 1;}#sk-f8a2d5fc-bf72-4d6b-b3b7-e610b7fc7511 div.sk-parallel {display: flex;align-items: stretch;justify-content: center;background-color: white;}#sk-f8a2d5fc-bf72-4d6b-b3b7-e610b7fc7511 div.sk-parallel::before {content: \"\";position: absolute;border-left: 1px solid gray;box-sizing: border-box;top: 2em;bottom: 0;left: 50%;}#sk-f8a2d5fc-bf72-4d6b-b3b7-e610b7fc7511 div.sk-parallel-item {display: flex;flex-direction: column;position: relative;background-color: white;}#sk-f8a2d5fc-bf72-4d6b-b3b7-e610b7fc7511 div.sk-parallel-item:first-child::after {align-self: flex-end;width: 50%;}#sk-f8a2d5fc-bf72-4d6b-b3b7-e610b7fc7511 div.sk-parallel-item:last-child::after {align-self: flex-start;width: 50%;}#sk-f8a2d5fc-bf72-4d6b-b3b7-e610b7fc7511 div.sk-parallel-item:only-child::after {width: 0;}#sk-f8a2d5fc-bf72-4d6b-b3b7-e610b7fc7511 div.sk-dashed-wrapped {border: 1px dashed gray;margin: 0 0.4em 0.5em 0.4em;box-sizing: border-box;padding-bottom: 0.4em;background-color: white;position: relative;}#sk-f8a2d5fc-bf72-4d6b-b3b7-e610b7fc7511 div.sk-label label {font-family: monospace;font-weight: bold;background-color: white;display: inline-block;line-height: 1.2em;}#sk-f8a2d5fc-bf72-4d6b-b3b7-e610b7fc7511 div.sk-label-container {position: relative;z-index: 2;text-align: center;}#sk-f8a2d5fc-bf72-4d6b-b3b7-e610b7fc7511 div.sk-container {/* jupyter's `normalize.less` sets `[hidden] { display: none; }` but bootstrap.min.css set `[hidden] { display: none !important; }` so we also need the `!important` here to be able to override the default hidden behavior on the sphinx rendered scikit-learn.org. See: https://github.com/scikit-learn/scikit-learn/issues/21755 */display: inline-block !important;position: relative;}#sk-f8a2d5fc-bf72-4d6b-b3b7-e610b7fc7511 div.sk-text-repr-fallback {display: none;}</style><div id=\"sk-f8a2d5fc-bf72-4d6b-b3b7-e610b7fc7511\" class=\"sk-top-container\"><div class=\"sk-text-repr-fallback\"><pre>Pipeline(steps=[(&#x27;poly_features&#x27;,\n",
       "                 PolynomialFeatures(degree=3, include_bias=False)),\n",
       "                (&#x27;selector&#x27;,\n",
       "                 SequentialFeatureSelector(estimator=LinearRegression(),\n",
       "                                           n_features_to_select=6)),\n",
       "                (&#x27;linreg&#x27;, LinearRegression())])</pre><b>Please rerun this cell to show the HTML repr or trust the notebook.</b></div><div class=\"sk-container\" hidden><div class=\"sk-item sk-dashed-wrapped\"><div class=\"sk-label-container\"><div class=\"sk-label sk-toggleable\"><input class=\"sk-toggleable__control sk-hidden--visually\" id=\"d7c4555a-c61f-445a-9320-20d4212248a2\" type=\"checkbox\" ><label for=\"d7c4555a-c61f-445a-9320-20d4212248a2\" class=\"sk-toggleable__label sk-toggleable__label-arrow\">Pipeline</label><div class=\"sk-toggleable__content\"><pre>Pipeline(steps=[(&#x27;poly_features&#x27;,\n",
       "                 PolynomialFeatures(degree=3, include_bias=False)),\n",
       "                (&#x27;selector&#x27;,\n",
       "                 SequentialFeatureSelector(estimator=LinearRegression(),\n",
       "                                           n_features_to_select=6)),\n",
       "                (&#x27;linreg&#x27;, LinearRegression())])</pre></div></div></div><div class=\"sk-serial\"><div class=\"sk-item\"><div class=\"sk-estimator sk-toggleable\"><input class=\"sk-toggleable__control sk-hidden--visually\" id=\"e3819b99-ba9d-4df8-8b00-515928fb1835\" type=\"checkbox\" ><label for=\"e3819b99-ba9d-4df8-8b00-515928fb1835\" class=\"sk-toggleable__label sk-toggleable__label-arrow\">PolynomialFeatures</label><div class=\"sk-toggleable__content\"><pre>PolynomialFeatures(degree=3, include_bias=False)</pre></div></div></div><div class=\"sk-item sk-dashed-wrapped\"><div class=\"sk-label-container\"><div class=\"sk-label sk-toggleable\"><input class=\"sk-toggleable__control sk-hidden--visually\" id=\"29b3da0f-1b4b-4412-bdab-e4f69c145b8a\" type=\"checkbox\" ><label for=\"29b3da0f-1b4b-4412-bdab-e4f69c145b8a\" class=\"sk-toggleable__label sk-toggleable__label-arrow\">selector: SequentialFeatureSelector</label><div class=\"sk-toggleable__content\"><pre>SequentialFeatureSelector(estimator=LinearRegression(), n_features_to_select=6)</pre></div></div></div><div class=\"sk-parallel\"><div class=\"sk-parallel-item\"><div class=\"sk-item\"><div class=\"sk-serial\"><div class=\"sk-item\"><div class=\"sk-estimator sk-toggleable\"><input class=\"sk-toggleable__control sk-hidden--visually\" id=\"d3f5cbc9-ef08-4864-84a3-59d1171d1900\" type=\"checkbox\" ><label for=\"d3f5cbc9-ef08-4864-84a3-59d1171d1900\" class=\"sk-toggleable__label sk-toggleable__label-arrow\">LinearRegression</label><div class=\"sk-toggleable__content\"><pre>LinearRegression()</pre></div></div></div></div></div></div></div></div><div class=\"sk-item\"><div class=\"sk-estimator sk-toggleable\"><input class=\"sk-toggleable__control sk-hidden--visually\" id=\"0b654d67-3f09-44d3-93fd-ad40a491dc04\" type=\"checkbox\" ><label for=\"0b654d67-3f09-44d3-93fd-ad40a491dc04\" class=\"sk-toggleable__label sk-toggleable__label-arrow\">LinearRegression</label><div class=\"sk-toggleable__content\"><pre>LinearRegression()</pre></div></div></div></div></div></div></div>"
      ],
      "text/plain": [
       "Pipeline(steps=[('poly_features',\n",
       "                 PolynomialFeatures(degree=3, include_bias=False)),\n",
       "                ('selector',\n",
       "                 SequentialFeatureSelector(estimator=LinearRegression(),\n",
       "                                           n_features_to_select=6)),\n",
       "                ('linreg', LinearRegression())])"
      ]
     },
     "execution_count": 11,
     "metadata": {},
     "output_type": "execute_result"
    }
   ],
   "source": [
    "### GRADED\n",
    "sequential_pipe = ''\n",
    "sequential_train_mse = ''\n",
    "sequential_test_mse = ''\n",
    "\n",
    "\n",
    "### BEGIN SOLUTION\n",
    "sequential_pipe = Pipeline([('poly_features', PolynomialFeatures(degree = 3, include_bias = False)),\n",
    "                           ('selector', SequentialFeatureSelector(LinearRegression(), \n",
    "                                                                  n_features_to_select=6)),\n",
    "                           ('linreg', LinearRegression())])\n",
    "sequential_pipe.fit(auto_X_train, auto_y_train)\n",
    "sequential_train_mse = mean_squared_error(auto_y_train, sequential_pipe.predict(auto_X_train))\n",
    "sequential_test_mse = mean_squared_error(auto_y_test, sequential_pipe.predict(auto_X_test))\n",
    "### END SOLUTION\n",
    "\n",
    "# Answer check\n",
    "print(sequential_train_mse)\n",
    "print(sequential_test_mse)\n",
    "sequential_pipe"
   ]
  },
  {
   "cell_type": "markdown",
   "metadata": {
    "nbgrader": {
     "grade": false,
     "grade_id": "cell-4b1766f9492c5fec",
     "locked": true,
     "schema_version": 3,
     "solution": false
    }
   },
   "source": [
    "[Back to top](#Index:) \n",
    "\n",
    "### Problem 5\n",
    "\n",
    "#### Using `Lasso` as a feature selector\n",
    "\n",
    "**10 Points**\n",
    "\n",
    "Rather than using the `Lasso` as the estimator, you can use the results of the `Lasso` to select features that are subsequently used in a `LinearRegression` estimator.  To do so, scikitlearn provides a function in the `feature_selection` module called `SelectFromModel` that will select the features based on coefficients.  \n",
    "\n",
    "As such, using the `Lasso` estimator to select features would involve instantiating the `SelectFromModel` transformer and selecting features as:\n",
    "\n",
    "```python\n",
    "selector = SelectFromModel(Lasso())\n",
    "selector.transform(auto_X_train)\n",
    "```\n",
    "\n"
   ]
  },
  {
   "cell_type": "markdown",
   "metadata": {
    "nbgrader": {
     "grade": false,
     "grade_id": "cell-3406cfb052fec8d2",
     "locked": true,
     "schema_version": 3,
     "solution": false
    }
   },
   "source": [
    "From here, the selector can be used in a `Pipeline` after transforming the features and before building a regression model.  Such a pipeline is given below and you are to use this to fit on the training data and score on the testing data.  Which model performs better, the model with sequential feature selection or that using the `Lasso` to select the features?  \n",
    "\n",
    "Assign your train and test error using the `model_selector_pipe` as `selector_train_mse` and `selector_test_mse` below.\n",
    "\n",
    "For more information and examples on `SelectFromModel` see [here](https://scikit-learn.org/stable/modules/feature_selection.html#select-from-model)."
   ]
  },
  {
   "cell_type": "code",
   "execution_count": null,
   "metadata": {},
   "outputs": [],
   "source": [
    "model_selector_pipe = Pipeline([('poly_features', PolynomialFeatures(degree = 3, include_bias = False)),\n",
    "                                ('scaler', StandardScaler()),\n",
    "                                ('selector', SelectFromModel(Lasso())),\n",
    "                                    ('linreg', LinearRegression())])"
   ]
  },
  {
   "cell_type": "code",
   "execution_count": null,
   "metadata": {
    "nbgrader": {
     "grade": false,
     "grade_id": "cell-f36419f78eb4822a",
     "locked": false,
     "schema_version": 3,
     "solution": true
    }
   },
   "outputs": [],
   "source": [
    "### GRADED\n",
    "selector_train_mse = ''\n",
    "selector_test_mse = ''\n",
    "\n",
    "\n",
    "### BEGIN SOLUTION\n",
    "model_selector_pipe.fit(auto_X_train, auto_y_train)\n",
    "selector_train_mse = mean_squared_error(auto_y_train, model_selector_pipe.predict(auto_X_train))\n",
    "selector_test_mse = mean_squared_error(auto_y_test, model_selector_pipe.predict(auto_X_test))\n",
    "### END SOLUTION\n",
    "\n",
    "# Answer check\n",
    "print(selector_train_mse)\n",
    "print(selector_test_mse)"
   ]
  },
  {
   "cell_type": "markdown",
   "metadata": {
    "nbgrader": {
     "grade": false,
     "grade_id": "cell-b56b71b7f554b647",
     "locked": true,
     "schema_version": 3,
     "solution": false
    }
   },
   "source": [
    "Further work could involve grid searching parameters of both the transformers and estimators, as well as including a `Ridge` regressor in the mix.  For now, you should be getting comfortable using the scikitlearn `Pipeline` object to combine transformers and estimators. This module introduced examples that can mitigate overfitting in a regression context.  It is important to note that not one strategy is always best for a modeling problem.  Instead, you should consider multiple approaches and let your goals for the model guide you to determine which model best suits your performance metric."
   ]
  }
 ],
 "metadata": {
  "celltoolbar": "Create Assignment",
  "kernelspec": {
   "display_name": "Python 3 (ipykernel)",
   "language": "python",
   "name": "python3"
  },
  "language_info": {
   "codemirror_mode": {
    "name": "ipython",
    "version": 3
   },
   "file_extension": ".py",
   "mimetype": "text/x-python",
   "name": "python",
   "nbconvert_exporter": "python",
   "pygments_lexer": "ipython3",
   "version": "3.11.5"
  },
  "widgets": {
   "application/vnd.jupyter.widget-state+json": {
    "state": {},
    "version_major": 2,
    "version_minor": 0
   }
  }
 },
 "nbformat": 4,
 "nbformat_minor": 4
}
