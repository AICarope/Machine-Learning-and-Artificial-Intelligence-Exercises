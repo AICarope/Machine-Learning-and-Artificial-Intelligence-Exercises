{
 "cells": [
  {
   "cell_type": "markdown",
   "metadata": {
    "nbgrader": {
     "grade": false,
     "grade_id": "cell-3042a1db8cbad898",
     "locked": true,
     "schema_version": 3,
     "solution": false
    }
   },
   "source": [
    "## Required Codio Assignment 8.1: Scikit-Learn Pipelines\n",
    "\n",
    "**Estimated time: 60 minutes**\n",
    "\n",
    "**Total Points: 24 Points**\n",
    "\n",
    "This activity focuses on using the pipeline functionality of scikit-learn to combine a transformer with an estimator.  Specifically, you will combine the process of generating polynomial features with that of building a linear regression model.  You will use the `Pipeline` functionality from the `sklearn.pipeline` module to construct both a quadratic and cubic model.\n",
    "\n",
    "## Index:\n",
    "\n",
    " - [Problem 1](#Problem-1)\n",
    " - [Problem 2](#Problem-2)\n",
    " - [Problem 3](#Problem-3)\n",
    " - [Problem 4](#Problem-4)\n",
    " - [Problem 5](#Problem-5)\n",
    " - [Problem 6](#Problem-6)"
   ]
  },
  {
   "cell_type": "code",
   "execution_count": 1,
   "metadata": {},
   "outputs": [],
   "source": [
    "import numpy as np\n",
    "import pandas as pd\n",
    "import warnings\n",
    "from sklearn.pipeline import Pipeline, make_pipeline\n",
    "from sklearn.linear_model import LinearRegression\n",
    "from sklearn.preprocessing import PolynomialFeatures\n",
    "from sklearn.metrics import mean_squared_error\n",
    "warnings.filterwarnings(\"ignore\")"
   ]
  },
  {
   "cell_type": "markdown",
   "metadata": {
    "nbgrader": {
     "grade": false,
     "grade_id": "cell-a7dd87f8a41867aa",
     "locked": true,
     "schema_version": 3,
     "solution": false
    }
   },
   "source": [
    "### The Data\n",
    "\n",
    "The data will again be the automobile dataset.  You are to use the pipelines to build quadratic features and linear models using `horsepower` to predict `mpg`.   "
   ]
  },
  {
   "cell_type": "code",
   "execution_count": 2,
   "metadata": {},
   "outputs": [],
   "source": [
    "auto = pd.read_csv('data/auto.csv')"
   ]
  },
  {
   "cell_type": "code",
   "execution_count": 3,
   "metadata": {},
   "outputs": [
    {
     "data": {
      "text/html": [
       "<div>\n",
       "<style scoped>\n",
       "    .dataframe tbody tr th:only-of-type {\n",
       "        vertical-align: middle;\n",
       "    }\n",
       "\n",
       "    .dataframe tbody tr th {\n",
       "        vertical-align: top;\n",
       "    }\n",
       "\n",
       "    .dataframe thead th {\n",
       "        text-align: right;\n",
       "    }\n",
       "</style>\n",
       "<table border=\"1\" class=\"dataframe\">\n",
       "  <thead>\n",
       "    <tr style=\"text-align: right;\">\n",
       "      <th></th>\n",
       "      <th>mpg</th>\n",
       "      <th>cylinders</th>\n",
       "      <th>displacement</th>\n",
       "      <th>horsepower</th>\n",
       "      <th>weight</th>\n",
       "      <th>acceleration</th>\n",
       "      <th>year</th>\n",
       "      <th>origin</th>\n",
       "      <th>name</th>\n",
       "    </tr>\n",
       "  </thead>\n",
       "  <tbody>\n",
       "    <tr>\n",
       "      <th>0</th>\n",
       "      <td>18.0</td>\n",
       "      <td>8</td>\n",
       "      <td>307.0</td>\n",
       "      <td>130.0</td>\n",
       "      <td>3504</td>\n",
       "      <td>12.0</td>\n",
       "      <td>70</td>\n",
       "      <td>1</td>\n",
       "      <td>chevrolet chevelle malibu</td>\n",
       "    </tr>\n",
       "    <tr>\n",
       "      <th>1</th>\n",
       "      <td>15.0</td>\n",
       "      <td>8</td>\n",
       "      <td>350.0</td>\n",
       "      <td>165.0</td>\n",
       "      <td>3693</td>\n",
       "      <td>11.5</td>\n",
       "      <td>70</td>\n",
       "      <td>1</td>\n",
       "      <td>buick skylark 320</td>\n",
       "    </tr>\n",
       "    <tr>\n",
       "      <th>2</th>\n",
       "      <td>18.0</td>\n",
       "      <td>8</td>\n",
       "      <td>318.0</td>\n",
       "      <td>150.0</td>\n",
       "      <td>3436</td>\n",
       "      <td>11.0</td>\n",
       "      <td>70</td>\n",
       "      <td>1</td>\n",
       "      <td>plymouth satellite</td>\n",
       "    </tr>\n",
       "    <tr>\n",
       "      <th>3</th>\n",
       "      <td>16.0</td>\n",
       "      <td>8</td>\n",
       "      <td>304.0</td>\n",
       "      <td>150.0</td>\n",
       "      <td>3433</td>\n",
       "      <td>12.0</td>\n",
       "      <td>70</td>\n",
       "      <td>1</td>\n",
       "      <td>amc rebel sst</td>\n",
       "    </tr>\n",
       "    <tr>\n",
       "      <th>4</th>\n",
       "      <td>17.0</td>\n",
       "      <td>8</td>\n",
       "      <td>302.0</td>\n",
       "      <td>140.0</td>\n",
       "      <td>3449</td>\n",
       "      <td>10.5</td>\n",
       "      <td>70</td>\n",
       "      <td>1</td>\n",
       "      <td>ford torino</td>\n",
       "    </tr>\n",
       "  </tbody>\n",
       "</table>\n",
       "</div>"
      ],
      "text/plain": [
       "    mpg  cylinders  displacement  horsepower  weight  acceleration  year  \\\n",
       "0  18.0          8         307.0       130.0    3504          12.0    70   \n",
       "1  15.0          8         350.0       165.0    3693          11.5    70   \n",
       "2  18.0          8         318.0       150.0    3436          11.0    70   \n",
       "3  16.0          8         304.0       150.0    3433          12.0    70   \n",
       "4  17.0          8         302.0       140.0    3449          10.5    70   \n",
       "\n",
       "   origin                       name  \n",
       "0       1  chevrolet chevelle malibu  \n",
       "1       1          buick skylark 320  \n",
       "2       1         plymouth satellite  \n",
       "3       1              amc rebel sst  \n",
       "4       1                ford torino  "
      ]
     },
     "execution_count": 3,
     "metadata": {},
     "output_type": "execute_result"
    }
   ],
   "source": [
    "auto.head()"
   ]
  },
  {
   "cell_type": "markdown",
   "metadata": {
    "nbgrader": {
     "grade": false,
     "grade_id": "cell-a087e170995820d9",
     "locked": true,
     "schema_version": 3,
     "solution": false
    }
   },
   "source": [
    "[Back to top](#Index:) \n",
    "\n",
    "## Problem 1\n",
    "\n",
    "### Creating a `Pipeline`\n",
    "\n",
    "**4 Points**\n",
    "\n",
    "Use `Pipeline` to create a pipeline object. Inside the pipeline object, define a tuple where the first element is a string identifier `quad_features` and the second element is an instance of `PolynomialFeatures` of degree `2`. Inside the pipeline define another tuple where the first element is a string identifier `quad_model`, and the second element is an instance of `LinearRegression`. Assign the pipeline object to the variable `pipe`."
   ]
  },
  {
   "cell_type": "code",
   "execution_count": 4,
   "metadata": {
    "nbgrader": {
     "grade": false,
     "grade_id": "cell-45545d7d4b3d6d06",
     "locked": false,
     "schema_version": 3,
     "solution": true
    }
   },
   "outputs": [
    {
     "name": "stdout",
     "output_type": "stream",
     "text": [
      "<class 'sklearn.pipeline.Pipeline'>\n",
      "{'quad_features': PolynomialFeatures(), 'quad_model': LinearRegression()}\n"
     ]
    }
   ],
   "source": [
    "### GRADED\n",
    "\n",
    "pipe = ''\n",
    "\n",
    "### BEGIN SOLUTION\n",
    "pipe = Pipeline([('quad_features', PolynomialFeatures(degree = 2)), ('quad_model', LinearRegression())])\n",
    "### END SOLUTION\n",
    "\n",
    "# Answer check\n",
    "print(type(pipe))\n",
    "print(pipe.named_steps)"
   ]
  },
  {
   "cell_type": "markdown",
   "metadata": {
    "nbgrader": {
     "grade": false,
     "grade_id": "cell-f3aa1be4bb696b4b",
     "locked": true,
     "schema_version": 3,
     "solution": false
    }
   },
   "source": [
    "[Back to top](#Index:) \n",
    "\n",
    "## Problem 2\n",
    "\n",
    "### Fitting the Pipeline\n",
    "\n",
    "**4 Points**\n",
    "\n",
    "Complete the code below according to the following instructions:\n",
    "\n",
    "- Assign to the variable `X` the values of the `horsepower` of `auto`.\n",
    "- Assign to the variable `y` the values of the `mpg` of `auto`.\n",
    "- Use the function `fit` on `pipe` to train your model on `X` and `y`.\n",
    "- Determine the `mean_squared_error` of your model, and assign the value as a float to `quad_pipe_mse` below.  "
   ]
  },
  {
   "cell_type": "code",
   "execution_count": 4,
   "metadata": {
    "nbgrader": {
     "grade": false,
     "grade_id": "cell-31e25347b1f2f523",
     "locked": false,
     "schema_version": 3,
     "solution": true
    }
   },
   "outputs": [
    {
     "name": "stdout",
     "output_type": "stream",
     "text": [
      "<class 'float'>\n",
      "18.98476890761722\n"
     ]
    }
   ],
   "source": [
    "### GRADED\n",
    "\n",
    "X = ''\n",
    "y = ''\n",
    "\n",
    "quad_pipe_mse = ''\n",
    "\n",
    "### BEGIN SOLUTION\n",
    "pipe = Pipeline([('quad_features', PolynomialFeatures(degree = 2)), ('quad_model', LinearRegression())])\n",
    "X = auto[['horsepower']]\n",
    "y = auto['mpg']\n",
    "pipe.fit(X, y)\n",
    "quad_pipe_mse = float(mean_squared_error(y, pipe.predict(X)))\n",
    "### END SOLUTION\n",
    "\n",
    "# Answer check\n",
    "print(type(quad_pipe_mse))\n",
    "print(quad_pipe_mse)"
   ]
  },
  {
   "cell_type": "markdown",
   "metadata": {
    "nbgrader": {
     "grade": false,
     "grade_id": "cell-d78d567d95b826be",
     "locked": true,
     "schema_version": 3,
     "solution": false
    }
   },
   "source": [
    "[Back to top](#Index:) \n",
    "\n",
    "## Problem 3\n",
    "\n",
    "### Examining the Coefficients\n",
    "\n",
    "**4 Points**\n",
    "\n",
    "Now, to examine the coefficients, use the `.named_steps` attribute on the `pipe` object to extract the regressor.  Assign the model to `quad_reg` below.  \n",
    "\n",
    "Extract the coefficients from the model and assign these as an array to the variable `coefs`."
   ]
  },
  {
   "cell_type": "code",
   "execution_count": 8,
   "metadata": {
    "nbgrader": {
     "grade": false,
     "grade_id": "cell-807f8b5ae5f29a14",
     "locked": false,
     "schema_version": 3,
     "solution": true
    }
   },
   "outputs": [
    {
     "name": "stdout",
     "output_type": "stream",
     "text": [
      "<class 'sklearn.linear_model._base.LinearRegression'>\n",
      "[ 0.         -0.46618963  0.00123054]\n"
     ]
    }
   ],
   "source": [
    "### GRADED\n",
    "\n",
    "quad_reg = '' #regressor from pipeline\n",
    "coefs = '' #coefficients of regressor\n",
    "\n",
    "### BEGIN SOLUTION\n",
    "pipe = Pipeline([('quad_features', PolynomialFeatures(degree = 2)), ('quad_model', LinearRegression())])\n",
    "X = auto[['horsepower']]\n",
    "y = auto['mpg']\n",
    "pipe.fit(X, y)\n",
    "quad_reg = pipe.named_steps['quad_model']\n",
    "coefs = quad_reg.coef_\n",
    "### END SOLUTION\n",
    "\n",
    "# Answer check\n",
    "print(type(quad_reg))\n",
    "print(coefs)"
   ]
  },
  {
   "cell_type": "markdown",
   "metadata": {
    "nbgrader": {
     "grade": false,
     "grade_id": "cell-19f7d1acd5fc1409",
     "locked": true,
     "schema_version": 3,
     "solution": false
    }
   },
   "source": [
    "[Back to top](#Index:) \n",
    "\n",
    "## Problem 4\n",
    "\n",
    "### Considering the Bias \n",
    "\n",
    "**4 Points**\n",
    "\n",
    "Not that your coefficients have 3 values.  Your model also contains an intercept term though, and this leads to one more value than expected from a quadratic model with one input feature.  This is due to the inclusion of the bias term using `PolynomialFeatures` and the intercept term added with the `fit_intercept = True` default setting in the regressor.  \n",
    "\n",
    "\n",
    "To get the appropriate model coefficients and intercept, you can set `include_bias = False` in the `PolynomialFeatures` transformer.  \n",
    "\n",
    "Complete the code according to the instructions below:\n",
    "\n",
    "- Use `Pipeline` to create a pipeline object. Inside the pipeline object, define a a tuple where the first element is a string identifier `quad_features` and the second element is an instance of `PolynomialFeatures` of degree `2` with `include_bias = False`. Inside the pipeline define another tuple where the first element is a string identifier `quad_model`, and the second element is an instance of `LinearRegression`. Assign the pipeline object to the variable `pipe_no_bias`.\n",
    "- Use the `fit` function on `pipe_no_bias` to train your model on `X` and `y`. \n",
    "- Use the `mean_squared_error` function to calculate the MSE between `y` and `pipe_no_bias.predict(X)`. Assign the result as a float `no_bias_mse`.\n",
    "\n"
   ]
  },
  {
   "cell_type": "code",
   "execution_count": 12,
   "metadata": {
    "nbgrader": {
     "grade": false,
     "grade_id": "cell-6a37caec775bf924",
     "locked": false,
     "schema_version": 3,
     "solution": true
    }
   },
   "outputs": [
    {
     "name": "stdout",
     "output_type": "stream",
     "text": [
      "<class 'sklearn.pipeline.Pipeline'>\n",
      "18.98476890761722\n"
     ]
    }
   ],
   "source": [
    "### GRADED\n",
    "\n",
    "pipe_no_bias = '' #pipeline with no bias in transformer\n",
    "no_bias_mse = '' #mean squared error of new model\n",
    "\n",
    "### BEGIN SOLUTION\n",
    "pipe_no_bias = Pipeline([('quad_features', PolynomialFeatures(degree = 2, include_bias=False)), ('quad_model', LinearRegression())])\n",
    "X = auto[['horsepower']]\n",
    "y = auto['mpg']\n",
    "pipe_no_bias.fit(X, y)\n",
    "no_bias_mse = float(mean_squared_error(y, pipe_no_bias.predict(X)))\n",
    "### END SOLUTION\n",
    "\n",
    "# Answer check\n",
    "print(type(pipe_no_bias))\n",
    "print(no_bias_mse)"
   ]
  },
  {
   "cell_type": "markdown",
   "metadata": {
    "nbgrader": {
     "grade": false,
     "grade_id": "cell-febbe9eb5dc8fd00",
     "locked": true,
     "schema_version": 3,
     "solution": false
    }
   },
   "source": [
    "[Back to top](#Index:) \n",
    "\n",
    "## Problem 5\n",
    "\n",
    "### Building a Cubic Model with `Pipeline`\n",
    "\n",
    "**4 Points**\n",
    "\n",
    "Complete the code according to the instructions below:\n",
    "\n",
    "- Use `Pipeline` to create a pipeline object. Inside the pipeline object, define a a tuple where the first element is a string identifier `quad_features` and the second element is an instance of `PolynomialFeatures` of degree `3` with `include_bias = False`. Inside the pipeline define another tuple where the first element is a string identifier `quad_model`, and the second element is an instance of `LinearRegression`. Assign the pipeline object to the variable `cubic_pipe`.\n",
    "- Use the `fit` function on `cubic_pipe` to train your model on `X` and `y`. \n",
    "- Use the `mean_squared_error` function to calculate the MSE between `y` and `cubic_pipe.predict(X)`. Assign the result as a float to `no_bias_mse`.\n"
   ]
  },
  {
   "cell_type": "code",
   "execution_count": 14,
   "metadata": {
    "nbgrader": {
     "grade": false,
     "grade_id": "cell-b8510ea1501a3e15",
     "locked": false,
     "schema_version": 3,
     "solution": true
    }
   },
   "outputs": [
    {
     "name": "stdout",
     "output_type": "stream",
     "text": [
      "<class 'sklearn.pipeline.Pipeline'>\n",
      "18.94498981448592\n"
     ]
    }
   ],
   "source": [
    "### GRADED\n",
    "\n",
    "cubic_pipe = '' #pipeline with no bias in 3rd degree transformer\n",
    "cubic_mse = '' #mean squared error of new model\n",
    "\n",
    "### BEGIN SOLUTION\n",
    "cubic_pipe = Pipeline([('quad_features', PolynomialFeatures(degree = 3, include_bias=False)), ('quad_model', LinearRegression())])\n",
    "X = auto[['horsepower']]\n",
    "y = auto['mpg']\n",
    "cubic_pipe.fit(X, y)\n",
    "cubic_mse = float(mean_squared_error(y, cubic_pipe.predict(X)))\n",
    "### END SOLUTION\n",
    "\n",
    "# Answer check\n",
    "print(type(cubic_pipe))\n",
    "print(cubic_mse)"
   ]
  },
  {
   "cell_type": "markdown",
   "metadata": {
    "nbgrader": {
     "grade": false,
     "grade_id": "cell-4cccb0191c2980c8",
     "locked": true,
     "schema_version": 3,
     "solution": false
    }
   },
   "source": [
    "[Back to top](#Index:) \n",
    "\n",
    "## Problem 6\n",
    "\n",
    "### Making Predictions on New Data\n",
    "\n",
    "**4 Points**\n",
    "\n",
    "Finally, one of the main benefits derived from using a Pipeline is that you do not need to engineer new polynomial features when predicting with new data.  Use your cubic pipeline to predict the `mpg` for a vehicle with 200 horsepower.  Assign your prediction as a numpy array to `cube_predict` below."
   ]
  },
  {
   "cell_type": "code",
   "execution_count": 16,
   "metadata": {
    "nbgrader": {
     "grade": false,
     "grade_id": "cell-1ff65cb4b2f75fc1",
     "locked": false,
     "schema_version": 3,
     "solution": true
    }
   },
   "outputs": [
    {
     "name": "stdout",
     "output_type": "stream",
     "text": [
      "<class 'numpy.ndarray'>\n",
      "[12.90220247]\n"
     ]
    }
   ],
   "source": [
    "### GRADED\n",
    "\n",
    "cube_predict = '' #cubic pipe prediction\n",
    "\n",
    "### BEGIN SOLUTION\n",
    "cube_predict = cubic_pipe.predict(np.array([[200]]))\n",
    "### END SOLUTION\n",
    "\n",
    "# Answer check\n",
    "print(type(cube_predict))\n",
    "print(cube_predict)"
   ]
  },
  {
   "cell_type": "code",
   "execution_count": null,
   "metadata": {},
   "outputs": [],
   "source": []
  }
 ],
 "metadata": {
  "celltoolbar": "Create Assignment",
  "kernelspec": {
   "display_name": "Python 3 (ipykernel)",
   "language": "python",
   "name": "python3"
  },
  "language_info": {
   "codemirror_mode": {
    "name": "ipython",
    "version": 3
   },
   "file_extension": ".py",
   "mimetype": "text/x-python",
   "name": "python",
   "nbconvert_exporter": "python",
   "pygments_lexer": "ipython3",
   "version": "3.11.5"
  },
  "widgets": {
   "application/vnd.jupyter.widget-state+json": {
    "state": {},
    "version_major": 2,
    "version_minor": 0
   }
  }
 },
 "nbformat": 4,
 "nbformat_minor": 4
}
