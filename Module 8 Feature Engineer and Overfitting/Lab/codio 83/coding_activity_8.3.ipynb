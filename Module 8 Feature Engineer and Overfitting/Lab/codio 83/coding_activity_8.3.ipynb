{
 "cells": [
  {
   "cell_type": "markdown",
   "metadata": {
    "nbgrader": {
     "grade": false,
     "grade_id": "cell-e28789e4ae42e5d8",
     "locked": true,
     "schema_version": 3,
     "solution": false,
     "task": false
    }
   },
   "source": [
    "### Required Codio Assignment 8.3: Evaluating Multiple Models\n",
    "\n",
    "**Estimated Time: 120 Minutes**\n",
    "\n",
    "**Total points: 100**\n",
    "\n",
    "This assignment focuses on solving a specific regression problem using basic cross-validation with a train/test/validation split.  In addition to using the methods explored, this assignment also aims to familiarize you with further utilities for data transformation, including the `OneHotEncoder` and `OrdinalEncoder` along with their use in a `make_column_transformer`.  \n",
    "\n",
    "The operations of encoding categorical features will be introduced using `sklearn`.  This will allow you to streamline your model-building pipelines.  Depending on whether a string type feature is **ordinal** or **categorical** we want to encode differently.  The `OrdinalEncoder` will be used to encode features that do not need to be binarized due to an underlying order, and `OneHotEncoder` for categorical features (as a similar approach to that of the `.get_dummies()` method in pandas).  By the end of the assignment, you will see how to chain multiple feature encoding methods together, including the earlier `PolynomialFeatures` for numeric features. \n",
    "\n",
    "<center>\n",
    "    <img src = images/pipes.png width = 50% />\n",
    "</center>"
   ]
  },
  {
   "cell_type": "markdown",
   "metadata": {
    "nbgrader": {
     "grade": false,
     "grade_id": "cell-5c9b6ac6e449ecfc",
     "locked": true,
     "schema_version": 3,
     "solution": false,
     "task": false
    }
   },
   "source": [
    "#### Index\n",
    "\n",
    "- [Problem 1](#Problem-1)\n",
    "- [Problem 2](#Problem-2)\n",
    "- [Problem 3](#Problem-3)\n",
    "- [Problem 4](#Problem-4)\n",
    "- [Problem 5](#Problem-5)\n",
    "- [Problem 6](#Problem-6)\n",
    "- [Problem 7](#Problem-7)\n",
    "- [Problem 8](#Problem-8)\n",
    "- [Problem 9](#Problem-9)\n",
    "- [Problem 10](#Problem-10)\n"
   ]
  },
  {
   "cell_type": "code",
   "execution_count": 1,
   "metadata": {},
   "outputs": [],
   "source": [
    "import pandas as pd\n",
    "import numpy as np\n",
    "import matplotlib.pyplot as plt\n",
    "\n",
    "from sklearn.linear_model import LinearRegression\n",
    "from sklearn.pipeline import Pipeline\n",
    "from sklearn.preprocessing import PolynomialFeatures, OneHotEncoder, OrdinalEncoder\n",
    "from sklearn.metrics import mean_squared_error \n",
    "from sklearn.model_selection import train_test_split\n",
    "from sklearn.compose import make_column_transformer, make_column_selector\n",
    "\n",
    "from sklearn import set_config\n",
    "\n",
    "set_config(display=\"diagram\") #setting this will display your pipelines as seen above"
   ]
  },
  {
   "cell_type": "markdown",
   "metadata": {
    "nbgrader": {
     "grade": false,
     "grade_id": "cell-f26ce8dce8a28e98",
     "locked": true,
     "schema_version": 3,
     "solution": false,
     "task": false
    }
   },
   "source": [
    "### The Data: Ames Housing\n",
    "\n",
    "This dataset is a popular beginning dataset used in teaching regression.  The task is to use specific features of houses to predict the price of the house.  In addition to this, as discussed in video 8.10 -- this dataset is available for use in an ongoing competition where you can use the `test.csv` to submit your model's predictions.  Accordingly, the two data files are identical with the exception of the `test.csv` file not containing the target feature.\n",
    "\n",
    "The data contains 81 columns of different information on the individual houses and their sale price.  A full description of the data is attached [here](data/data_description.txt).  In this assignment, you will use a small subset of the features to begin modeling with that includes ordinal, categorical, and numeric features. As an optional exercise, you are encouraged to continue engineering additional features and attempt to improve the performance of your model, including submitting the predictions on Kaggle. "
   ]
  },
  {
   "cell_type": "code",
   "execution_count": 2,
   "metadata": {},
   "outputs": [],
   "source": [
    "train = pd.read_csv('data/train.csv')\n",
    "test = pd.read_csv('data/test.csv')"
   ]
  },
  {
   "cell_type": "code",
   "execution_count": 3,
   "metadata": {},
   "outputs": [
    {
     "name": "stdout",
     "output_type": "stream",
     "text": [
      "<class 'pandas.core.frame.DataFrame'>\n",
      "RangeIndex: 1460 entries, 0 to 1459\n",
      "Data columns (total 81 columns):\n",
      " #   Column         Non-Null Count  Dtype  \n",
      "---  ------         --------------  -----  \n",
      " 0   Id             1460 non-null   int64  \n",
      " 1   MSSubClass     1460 non-null   int64  \n",
      " 2   MSZoning       1460 non-null   object \n",
      " 3   LotFrontage    1201 non-null   float64\n",
      " 4   LotArea        1460 non-null   int64  \n",
      " 5   Street         1460 non-null   object \n",
      " 6   Alley          91 non-null     object \n",
      " 7   LotShape       1460 non-null   object \n",
      " 8   LandContour    1460 non-null   object \n",
      " 9   Utilities      1460 non-null   object \n",
      " 10  LotConfig      1460 non-null   object \n",
      " 11  LandSlope      1460 non-null   object \n",
      " 12  Neighborhood   1460 non-null   object \n",
      " 13  Condition1     1460 non-null   object \n",
      " 14  Condition2     1460 non-null   object \n",
      " 15  BldgType       1460 non-null   object \n",
      " 16  HouseStyle     1460 non-null   object \n",
      " 17  OverallQual    1460 non-null   int64  \n",
      " 18  OverallCond    1460 non-null   int64  \n",
      " 19  YearBuilt      1460 non-null   int64  \n",
      " 20  YearRemodAdd   1460 non-null   int64  \n",
      " 21  RoofStyle      1460 non-null   object \n",
      " 22  RoofMatl       1460 non-null   object \n",
      " 23  Exterior1st    1460 non-null   object \n",
      " 24  Exterior2nd    1460 non-null   object \n",
      " 25  MasVnrType     588 non-null    object \n",
      " 26  MasVnrArea     1452 non-null   float64\n",
      " 27  ExterQual      1460 non-null   object \n",
      " 28  ExterCond      1460 non-null   object \n",
      " 29  Foundation     1460 non-null   object \n",
      " 30  BsmtQual       1423 non-null   object \n",
      " 31  BsmtCond       1423 non-null   object \n",
      " 32  BsmtExposure   1422 non-null   object \n",
      " 33  BsmtFinType1   1423 non-null   object \n",
      " 34  BsmtFinSF1     1460 non-null   int64  \n",
      " 35  BsmtFinType2   1422 non-null   object \n",
      " 36  BsmtFinSF2     1460 non-null   int64  \n",
      " 37  BsmtUnfSF      1460 non-null   int64  \n",
      " 38  TotalBsmtSF    1460 non-null   int64  \n",
      " 39  Heating        1460 non-null   object \n",
      " 40  HeatingQC      1460 non-null   object \n",
      " 41  CentralAir     1460 non-null   object \n",
      " 42  Electrical     1459 non-null   object \n",
      " 43  1stFlrSF       1460 non-null   int64  \n",
      " 44  2ndFlrSF       1460 non-null   int64  \n",
      " 45  LowQualFinSF   1460 non-null   int64  \n",
      " 46  GrLivArea      1460 non-null   int64  \n",
      " 47  BsmtFullBath   1460 non-null   int64  \n",
      " 48  BsmtHalfBath   1460 non-null   int64  \n",
      " 49  FullBath       1460 non-null   int64  \n",
      " 50  HalfBath       1460 non-null   int64  \n",
      " 51  BedroomAbvGr   1460 non-null   int64  \n",
      " 52  KitchenAbvGr   1460 non-null   int64  \n",
      " 53  KitchenQual    1460 non-null   object \n",
      " 54  TotRmsAbvGrd   1460 non-null   int64  \n",
      " 55  Functional     1460 non-null   object \n",
      " 56  Fireplaces     1460 non-null   int64  \n",
      " 57  FireplaceQu    770 non-null    object \n",
      " 58  GarageType     1379 non-null   object \n",
      " 59  GarageYrBlt    1379 non-null   float64\n",
      " 60  GarageFinish   1379 non-null   object \n",
      " 61  GarageCars     1460 non-null   int64  \n",
      " 62  GarageArea     1460 non-null   int64  \n",
      " 63  GarageQual     1379 non-null   object \n",
      " 64  GarageCond     1379 non-null   object \n",
      " 65  PavedDrive     1460 non-null   object \n",
      " 66  WoodDeckSF     1460 non-null   int64  \n",
      " 67  OpenPorchSF    1460 non-null   int64  \n",
      " 68  EnclosedPorch  1460 non-null   int64  \n",
      " 69  3SsnPorch      1460 non-null   int64  \n",
      " 70  ScreenPorch    1460 non-null   int64  \n",
      " 71  PoolArea       1460 non-null   int64  \n",
      " 72  PoolQC         7 non-null      object \n",
      " 73  Fence          281 non-null    object \n",
      " 74  MiscFeature    54 non-null     object \n",
      " 75  MiscVal        1460 non-null   int64  \n",
      " 76  MoSold         1460 non-null   int64  \n",
      " 77  YrSold         1460 non-null   int64  \n",
      " 78  SaleType       1460 non-null   object \n",
      " 79  SaleCondition  1460 non-null   object \n",
      " 80  SalePrice      1460 non-null   int64  \n",
      "dtypes: float64(3), int64(35), object(43)\n",
      "memory usage: 924.0+ KB\n"
     ]
    }
   ],
   "source": [
    "train.info()"
   ]
  },
  {
   "cell_type": "code",
   "execution_count": 4,
   "metadata": {},
   "outputs": [
    {
     "data": {
      "text/html": [
       "<div>\n",
       "<style scoped>\n",
       "    .dataframe tbody tr th:only-of-type {\n",
       "        vertical-align: middle;\n",
       "    }\n",
       "\n",
       "    .dataframe tbody tr th {\n",
       "        vertical-align: top;\n",
       "    }\n",
       "\n",
       "    .dataframe thead th {\n",
       "        text-align: right;\n",
       "    }\n",
       "</style>\n",
       "<table border=\"1\" class=\"dataframe\">\n",
       "  <thead>\n",
       "    <tr style=\"text-align: right;\">\n",
       "      <th></th>\n",
       "      <th>Id</th>\n",
       "      <th>MSSubClass</th>\n",
       "      <th>MSZoning</th>\n",
       "      <th>LotFrontage</th>\n",
       "      <th>LotArea</th>\n",
       "      <th>Street</th>\n",
       "      <th>Alley</th>\n",
       "      <th>LotShape</th>\n",
       "      <th>LandContour</th>\n",
       "      <th>Utilities</th>\n",
       "      <th>...</th>\n",
       "      <th>PoolArea</th>\n",
       "      <th>PoolQC</th>\n",
       "      <th>Fence</th>\n",
       "      <th>MiscFeature</th>\n",
       "      <th>MiscVal</th>\n",
       "      <th>MoSold</th>\n",
       "      <th>YrSold</th>\n",
       "      <th>SaleType</th>\n",
       "      <th>SaleCondition</th>\n",
       "      <th>SalePrice</th>\n",
       "    </tr>\n",
       "  </thead>\n",
       "  <tbody>\n",
       "    <tr>\n",
       "      <th>0</th>\n",
       "      <td>1</td>\n",
       "      <td>60</td>\n",
       "      <td>RL</td>\n",
       "      <td>65.0</td>\n",
       "      <td>8450</td>\n",
       "      <td>Pave</td>\n",
       "      <td>NaN</td>\n",
       "      <td>Reg</td>\n",
       "      <td>Lvl</td>\n",
       "      <td>AllPub</td>\n",
       "      <td>...</td>\n",
       "      <td>0</td>\n",
       "      <td>NaN</td>\n",
       "      <td>NaN</td>\n",
       "      <td>NaN</td>\n",
       "      <td>0</td>\n",
       "      <td>2</td>\n",
       "      <td>2008</td>\n",
       "      <td>WD</td>\n",
       "      <td>Normal</td>\n",
       "      <td>208500</td>\n",
       "    </tr>\n",
       "    <tr>\n",
       "      <th>1</th>\n",
       "      <td>2</td>\n",
       "      <td>20</td>\n",
       "      <td>RL</td>\n",
       "      <td>80.0</td>\n",
       "      <td>9600</td>\n",
       "      <td>Pave</td>\n",
       "      <td>NaN</td>\n",
       "      <td>Reg</td>\n",
       "      <td>Lvl</td>\n",
       "      <td>AllPub</td>\n",
       "      <td>...</td>\n",
       "      <td>0</td>\n",
       "      <td>NaN</td>\n",
       "      <td>NaN</td>\n",
       "      <td>NaN</td>\n",
       "      <td>0</td>\n",
       "      <td>5</td>\n",
       "      <td>2007</td>\n",
       "      <td>WD</td>\n",
       "      <td>Normal</td>\n",
       "      <td>181500</td>\n",
       "    </tr>\n",
       "    <tr>\n",
       "      <th>2</th>\n",
       "      <td>3</td>\n",
       "      <td>60</td>\n",
       "      <td>RL</td>\n",
       "      <td>68.0</td>\n",
       "      <td>11250</td>\n",
       "      <td>Pave</td>\n",
       "      <td>NaN</td>\n",
       "      <td>IR1</td>\n",
       "      <td>Lvl</td>\n",
       "      <td>AllPub</td>\n",
       "      <td>...</td>\n",
       "      <td>0</td>\n",
       "      <td>NaN</td>\n",
       "      <td>NaN</td>\n",
       "      <td>NaN</td>\n",
       "      <td>0</td>\n",
       "      <td>9</td>\n",
       "      <td>2008</td>\n",
       "      <td>WD</td>\n",
       "      <td>Normal</td>\n",
       "      <td>223500</td>\n",
       "    </tr>\n",
       "    <tr>\n",
       "      <th>3</th>\n",
       "      <td>4</td>\n",
       "      <td>70</td>\n",
       "      <td>RL</td>\n",
       "      <td>60.0</td>\n",
       "      <td>9550</td>\n",
       "      <td>Pave</td>\n",
       "      <td>NaN</td>\n",
       "      <td>IR1</td>\n",
       "      <td>Lvl</td>\n",
       "      <td>AllPub</td>\n",
       "      <td>...</td>\n",
       "      <td>0</td>\n",
       "      <td>NaN</td>\n",
       "      <td>NaN</td>\n",
       "      <td>NaN</td>\n",
       "      <td>0</td>\n",
       "      <td>2</td>\n",
       "      <td>2006</td>\n",
       "      <td>WD</td>\n",
       "      <td>Abnorml</td>\n",
       "      <td>140000</td>\n",
       "    </tr>\n",
       "    <tr>\n",
       "      <th>4</th>\n",
       "      <td>5</td>\n",
       "      <td>60</td>\n",
       "      <td>RL</td>\n",
       "      <td>84.0</td>\n",
       "      <td>14260</td>\n",
       "      <td>Pave</td>\n",
       "      <td>NaN</td>\n",
       "      <td>IR1</td>\n",
       "      <td>Lvl</td>\n",
       "      <td>AllPub</td>\n",
       "      <td>...</td>\n",
       "      <td>0</td>\n",
       "      <td>NaN</td>\n",
       "      <td>NaN</td>\n",
       "      <td>NaN</td>\n",
       "      <td>0</td>\n",
       "      <td>12</td>\n",
       "      <td>2008</td>\n",
       "      <td>WD</td>\n",
       "      <td>Normal</td>\n",
       "      <td>250000</td>\n",
       "    </tr>\n",
       "  </tbody>\n",
       "</table>\n",
       "<p>5 rows × 81 columns</p>\n",
       "</div>"
      ],
      "text/plain": [
       "   Id  MSSubClass MSZoning  LotFrontage  LotArea Street Alley LotShape  \\\n",
       "0   1          60       RL         65.0     8450   Pave   NaN      Reg   \n",
       "1   2          20       RL         80.0     9600   Pave   NaN      Reg   \n",
       "2   3          60       RL         68.0    11250   Pave   NaN      IR1   \n",
       "3   4          70       RL         60.0     9550   Pave   NaN      IR1   \n",
       "4   5          60       RL         84.0    14260   Pave   NaN      IR1   \n",
       "\n",
       "  LandContour Utilities  ... PoolArea PoolQC Fence MiscFeature MiscVal MoSold  \\\n",
       "0         Lvl    AllPub  ...        0    NaN   NaN         NaN       0      2   \n",
       "1         Lvl    AllPub  ...        0    NaN   NaN         NaN       0      5   \n",
       "2         Lvl    AllPub  ...        0    NaN   NaN         NaN       0      9   \n",
       "3         Lvl    AllPub  ...        0    NaN   NaN         NaN       0      2   \n",
       "4         Lvl    AllPub  ...        0    NaN   NaN         NaN       0     12   \n",
       "\n",
       "  YrSold  SaleType  SaleCondition  SalePrice  \n",
       "0   2008        WD         Normal     208500  \n",
       "1   2007        WD         Normal     181500  \n",
       "2   2008        WD         Normal     223500  \n",
       "3   2006        WD        Abnorml     140000  \n",
       "4   2008        WD         Normal     250000  \n",
       "\n",
       "[5 rows x 81 columns]"
      ]
     },
     "execution_count": 4,
     "metadata": {},
     "output_type": "execute_result"
    }
   ],
   "source": [
    "train.head()"
   ]
  },
  {
   "cell_type": "code",
   "execution_count": 5,
   "metadata": {},
   "outputs": [
    {
     "data": {
      "text/plain": [
       "['SalePrice']"
      ]
     },
     "execution_count": 5,
     "metadata": {},
     "output_type": "execute_result"
    }
   ],
   "source": [
    "#note the difference in one column from train to test\n",
    "[i for i in train.columns if i not in test.columns]"
   ]
  },
  {
   "cell_type": "markdown",
   "metadata": {
    "nbgrader": {
     "grade": false,
     "grade_id": "cell-5fc95e37458a0411",
     "locked": true,
     "schema_version": 3,
     "solution": false,
     "task": false
    }
   },
   "source": [
    "[Back to top](#Index:) \n",
    "\n",
    "### Problem 1\n",
    "\n",
    "#### Train/Test split\n",
    "\n",
    "**5 Points**\n",
    "\n",
    "Despite having a test dataset, you want to create a holdout set to assess your model's performance.  To do so, use sklearn's `train_test_split` to split `X` and `y` with arguments:\n",
    "\n",
    "- `test_size = 0.3`\n",
    "- `random_state = 22`\n",
    "\n",
    "Assign your results to `X_train, X_test, y_train, y_test`.\n"
   ]
  },
  {
   "cell_type": "code",
   "execution_count": 6,
   "metadata": {},
   "outputs": [],
   "source": [
    "X = train.drop('SalePrice', axis = 1)\n",
    "y = train['SalePrice']"
   ]
  },
  {
   "cell_type": "code",
   "execution_count": 8,
   "metadata": {
    "nbgrader": {
     "grade": false,
     "grade_id": "cell-e8fb6e1fcf3d2671",
     "locked": false,
     "schema_version": 3,
     "solution": true,
     "task": false
    }
   },
   "outputs": [
    {
     "name": "stdout",
     "output_type": "stream",
     "text": [
      "(1022, 80)\n",
      "(438, 80)\n",
      "<class 'pandas.core.frame.DataFrame'> <class 'pandas.core.series.Series'>\n"
     ]
    }
   ],
   "source": [
    "### GRADED\n",
    "\n",
    "X_train, X_test, y_train, y_test = '', '', '', ''\n",
    "\n",
    "### BEGIN SOLUTION\n",
    "X_train, X_test, y_train, y_test = train_test_split(X, y, test_size=0.3, random_state=22)\n",
    "### END SOLUTION\n",
    "\n",
    "# Answer check\n",
    "print(X_train.shape)\n",
    "print(X_test.shape)\n",
    "print(type(X_train), type(y_train))#should be DataFrame and Series"
   ]
  },
  {
   "cell_type": "markdown",
   "metadata": {
    "nbgrader": {
     "grade": false,
     "grade_id": "cell-4a49dcddc30c0ab0",
     "locked": true,
     "schema_version": 3,
     "solution": false,
     "task": false
    }
   },
   "source": [
    "[Back to top](#Index:) \n",
    "\n",
    "### Problem 2\n",
    "\n",
    "#### Baseline Predictions\n",
    "\n",
    "**10 Points**\n",
    "\n",
    "Before building a regression model, you should set a baseline to compare your later models to.  One way to do this is to guess the mean of the `SalePrice` column.  For the variables `baseline_train` and `baseline_test`, create arrays of same shape as `y_train` and `y_test` respectively.  The variable `baseline_train` should contain `y_train.mean()`. The variable `baseline_test` should contain `y_test.mean()`.\n",
    "\n",
    "\n",
    "Use the  `mean_squared_error` function to calculate the error between `baseline_train` and `y_train`, Assign the result to `mse_baseline_train`.\n",
    "\n",
    "Use the  `mean_squared_error` function to calculate the error between `baseline_test` and `y_test`, Assign the result to `mse_baseline_test`.\n"
   ]
  },
  {
   "cell_type": "code",
   "execution_count": 10,
   "metadata": {
    "nbgrader": {
     "grade": false,
     "grade_id": "cell-5cbc5d640d56621c",
     "locked": false,
     "schema_version": 3,
     "solution": true,
     "task": false
    }
   },
   "outputs": [
    {
     "name": "stdout",
     "output_type": "stream",
     "text": [
      "(1022,) (438,)\n",
      "Baseline for training data: 6277713446.182904\n",
      "Baseline for testing data: 6374354899.510017\n"
     ]
    }
   ],
   "source": [
    "### GRADED\n",
    "\n",
    "baseline_train = ''\n",
    "baseline_test = ''\n",
    "mse_baseline_train = ''\n",
    "mse_baseline_test = ''\n",
    "\n",
    "### BEGIN SOLUTION\n",
    "baseline_train = np.ones(shape = y_train.shape)*y_train.mean()\n",
    "baseline_test = np.ones(shape = y_test.shape)*y_test.mean()\n",
    "mse_baseline_train = mean_squared_error(baseline_train, y_train)\n",
    "mse_baseline_test = mean_squared_error(baseline_test, y_test)\n",
    "### END SOLUTION\n",
    "\n",
    "# Answer check\n",
    "print(baseline_train.shape, baseline_test.shape)\n",
    "print(f'Baseline for training data: {mse_baseline_train}')\n",
    "print(f'Baseline for testing data: {mse_baseline_test}')"
   ]
  },
  {
   "cell_type": "markdown",
   "metadata": {
    "nbgrader": {
     "grade": false,
     "grade_id": "cell-d2b544b45400b514",
     "locked": true,
     "schema_version": 3,
     "solution": false,
     "task": false
    }
   },
   "source": [
    "[Back to top](#Index:) \n",
    "\n",
    "### Problem 3\n",
    "\n",
    "#### Examining the Correlations\n",
    "\n",
    "**5 Points**\n",
    "\n",
    "What feature has the highest positive correlation with `SalePrice`?  Assign your answer as a string matching the column name exactly to `highest_corr` below.  "
   ]
  },
  {
   "cell_type": "code",
   "execution_count": 12,
   "metadata": {
    "nbgrader": {
     "grade": false,
     "grade_id": "cell-d7ab063f61943eb1",
     "locked": false,
     "schema_version": 3,
     "solution": true,
     "task": false
    }
   },
   "outputs": [
    {
     "name": "stdout",
     "output_type": "stream",
     "text": [
      "OverallQual\n"
     ]
    }
   ],
   "source": [
    "### GRADED\n",
    "\n",
    "highest_corr = ''\n",
    "\n",
    "### BEGIN SOLUTION\n",
    "highest_corr = train.corr()[['SalePrice']].nlargest(columns = 'SalePrice', n = 2).index[1]\n",
    "### END SOLUTION\n",
    "\n",
    "# Answer check\n",
    "print(highest_corr)"
   ]
  },
  {
   "cell_type": "markdown",
   "metadata": {
    "nbgrader": {
     "grade": false,
     "grade_id": "cell-2b08dc981729b7be",
     "locked": true,
     "schema_version": 3,
     "solution": false,
     "task": false
    }
   },
   "source": [
    "[Back to top](#Index:) \n",
    "\n",
    "### Problem 4\n",
    "\n",
    "#### Simple Model\n",
    "\n",
    "**10 Points**\n",
    "\n",
    "Complete the code below according to the instructions below:\n",
    "\n",
    "- Define a variable `X1` and assign to it the values in the column `OverallQual`.\n",
    "- Instantiate a `LinearRegression` model and use the `fit` function to train it using `X1` and `y_train`. Assing your result to `lr`.\n",
    "- Use the  `mean_squared_error` function to calculate the error between `y_train` and `lr.predict(X1)`. Assign the result to `model_1_train_mse`.\n",
    "- Use the  `mean_squared_error` function to calculate the error between `y_test` and `lr.predict(X_test[['OverallQual']]`. Assign the result to `model_1_test_mse`."
   ]
  },
  {
   "cell_type": "code",
   "execution_count": 7,
   "metadata": {
    "nbgrader": {
     "grade": false,
     "grade_id": "cell-cec09812a0afd62b",
     "locked": false,
     "schema_version": 3,
     "solution": true,
     "task": false
    }
   },
   "outputs": [
    {
     "ename": "NameError",
     "evalue": "name 'X_train' is not defined",
     "output_type": "error",
     "traceback": [
      "\u001b[1;31m---------------------------------------------------------------------------\u001b[0m",
      "\u001b[1;31mNameError\u001b[0m                                 Traceback (most recent call last)",
      "\u001b[1;32mc:\\Users\\Carmen\\Documents\\PreMaster\\ARTIFICIAL INTELLIGENCE\\UCBerkeley ML AI\\Modules\\Module 8 Feature Engineer and Overfitting\\Lab\\codio 83\\coding_activity_8.3.ipynb Cell 17\u001b[0m line \u001b[0;36m7\n\u001b[0;32m      <a href='vscode-notebook-cell:/c%3A/Users/Carmen/Documents/PreMaster/ARTIFICIAL%20INTELLIGENCE/UCBerkeley%20ML%20AI/Modules/Module%208%20Feature%20Engineer%20and%20Overfitting/Lab/codio%2083/coding_activity_8.3.ipynb#X22sZmlsZQ%3D%3D?line=3'>4</a>\u001b[0m model_1_test_mse \u001b[39m=\u001b[39m \u001b[39m'\u001b[39m\u001b[39m'\u001b[39m\n\u001b[0;32m      <a href='vscode-notebook-cell:/c%3A/Users/Carmen/Documents/PreMaster/ARTIFICIAL%20INTELLIGENCE/UCBerkeley%20ML%20AI/Modules/Module%208%20Feature%20Engineer%20and%20Overfitting/Lab/codio%2083/coding_activity_8.3.ipynb#X22sZmlsZQ%3D%3D?line=5'>6</a>\u001b[0m \u001b[39m### BEGIN SOLUTION\u001b[39;00m\n\u001b[1;32m----> <a href='vscode-notebook-cell:/c%3A/Users/Carmen/Documents/PreMaster/ARTIFICIAL%20INTELLIGENCE/UCBerkeley%20ML%20AI/Modules/Module%208%20Feature%20Engineer%20and%20Overfitting/Lab/codio%2083/coding_activity_8.3.ipynb#X22sZmlsZQ%3D%3D?line=6'>7</a>\u001b[0m X1 \u001b[39m=\u001b[39m X_train[[\u001b[39m'\u001b[39m\u001b[39mOverallQual\u001b[39m\u001b[39m'\u001b[39m]]\n\u001b[0;32m      <a href='vscode-notebook-cell:/c%3A/Users/Carmen/Documents/PreMaster/ARTIFICIAL%20INTELLIGENCE/UCBerkeley%20ML%20AI/Modules/Module%208%20Feature%20Engineer%20and%20Overfitting/Lab/codio%2083/coding_activity_8.3.ipynb#X22sZmlsZQ%3D%3D?line=7'>8</a>\u001b[0m lr \u001b[39m=\u001b[39m LinearRegression()\u001b[39m.\u001b[39mfit(X1, y_train)\n\u001b[0;32m      <a href='vscode-notebook-cell:/c%3A/Users/Carmen/Documents/PreMaster/ARTIFICIAL%20INTELLIGENCE/UCBerkeley%20ML%20AI/Modules/Module%208%20Feature%20Engineer%20and%20Overfitting/Lab/codio%2083/coding_activity_8.3.ipynb#X22sZmlsZQ%3D%3D?line=8'>9</a>\u001b[0m model_1_train_mse \u001b[39m=\u001b[39m mean_squared_error(y_train, lr\u001b[39m.\u001b[39mpredict(X1))\n",
      "\u001b[1;31mNameError\u001b[0m: name 'X_train' is not defined"
     ]
    }
   ],
   "source": [
    "### GRADED\n",
    "\n",
    "model_1_train_mse = ''\n",
    "model_1_test_mse = ''\n",
    "\n",
    "### BEGIN SOLUTION\n",
    "X1 = X_train[['OverallQual']]\n",
    "lr = LinearRegression().fit(X1, y_train)\n",
    "model_1_train_mse = mean_squared_error(y_train, lr.predict(X1))\n",
    "model_1_test_mse = mean_squared_error(y_test, lr.predict(X_test[['OverallQual']]))\n",
    "### END SOLUTION\n",
    "\n",
    "# Answer check\n",
    "print(f'Train MSE: {model_1_train_mse: .2f}')\n",
    "print(f'Test MSE: {model_1_test_mse: .2f}')"
   ]
  },
  {
   "cell_type": "markdown",
   "metadata": {
    "nbgrader": {
     "grade": false,
     "grade_id": "cell-ba47d90de87508e1",
     "locked": true,
     "schema_version": 3,
     "solution": false,
     "task": false
    }
   },
   "source": [
    "[Back to top](#Index:) \n",
    "\n",
    "### Problem 5\n",
    "\n",
    "#### Using `OneHotEncoder`\n",
    "\n",
    "**10 Points**\n",
    "\n",
    "Similar to the `pd.get_dummies()` method earlier encountered, scikit-learn has a utility for encoding categorical features in the same way.  Below, the `OneHotEncoder` is demonstrated in the `CentralAir` column.  You are to use these results to build a model where the only feature is the `CentralAir` column.  Note the two arguments are used in the `OneHotEncoder`:\n",
    "\n",
    "- `sparse = False`: returns an array that we can investigate vs with `sparse = True` you are returned a sparse matrix -- a memory saving representation\n",
    "- `drop = if_binary`: returns a single column for any binary categories.  This avoids redundant features in our regression model.\n",
    "\n",
    "In the code cell below, instantiate a `LinearRegression` model and use the `fit` function to train it using `model_2_train` and `y_train`. Assing your result to `model_2`. "
   ]
  },
  {
   "cell_type": "code",
   "execution_count": 8,
   "metadata": {},
   "outputs": [
    {
     "ename": "NameError",
     "evalue": "name 'X_train' is not defined",
     "output_type": "error",
     "traceback": [
      "\u001b[1;31m---------------------------------------------------------------------------\u001b[0m",
      "\u001b[1;31mNameError\u001b[0m                                 Traceback (most recent call last)",
      "\u001b[1;32mc:\\Users\\Carmen\\Documents\\PreMaster\\ARTIFICIAL INTELLIGENCE\\UCBerkeley ML AI\\Modules\\Module 8 Feature Engineer and Overfitting\\Lab\\codio 83\\coding_activity_8.3.ipynb Cell 19\u001b[0m line \u001b[0;36m2\n\u001b[0;32m      <a href='vscode-notebook-cell:/c%3A/Users/Carmen/Documents/PreMaster/ARTIFICIAL%20INTELLIGENCE/UCBerkeley%20ML%20AI/Modules/Module%208%20Feature%20Engineer%20and%20Overfitting/Lab/codio%2083/coding_activity_8.3.ipynb#X24sZmlsZQ%3D%3D?line=0'>1</a>\u001b[0m \u001b[39m#extract the features\u001b[39;00m\n\u001b[1;32m----> <a href='vscode-notebook-cell:/c%3A/Users/Carmen/Documents/PreMaster/ARTIFICIAL%20INTELLIGENCE/UCBerkeley%20ML%20AI/Modules/Module%208%20Feature%20Engineer%20and%20Overfitting/Lab/codio%2083/coding_activity_8.3.ipynb#X24sZmlsZQ%3D%3D?line=1'>2</a>\u001b[0m central_air_train \u001b[39m=\u001b[39m X_train[[\u001b[39m'\u001b[39m\u001b[39mCentralAir\u001b[39m\u001b[39m'\u001b[39m]]\n\u001b[0;32m      <a href='vscode-notebook-cell:/c%3A/Users/Carmen/Documents/PreMaster/ARTIFICIAL%20INTELLIGENCE/UCBerkeley%20ML%20AI/Modules/Module%208%20Feature%20Engineer%20and%20Overfitting/Lab/codio%2083/coding_activity_8.3.ipynb#X24sZmlsZQ%3D%3D?line=2'>3</a>\u001b[0m central_air_test \u001b[39m=\u001b[39m X_test[[\u001b[39m'\u001b[39m\u001b[39mCentralAir\u001b[39m\u001b[39m'\u001b[39m]]\n",
      "\u001b[1;31mNameError\u001b[0m: name 'X_train' is not defined"
     ]
    }
   ],
   "source": [
    "#extract the features\n",
    "central_air_train = X_train[['CentralAir']]\n",
    "central_air_test = X_test[['CentralAir']]"
   ]
  },
  {
   "cell_type": "code",
   "execution_count": 9,
   "metadata": {},
   "outputs": [
    {
     "ename": "NameError",
     "evalue": "name 'central_air_train' is not defined",
     "output_type": "error",
     "traceback": [
      "\u001b[1;31m---------------------------------------------------------------------------\u001b[0m",
      "\u001b[1;31mNameError\u001b[0m                                 Traceback (most recent call last)",
      "\u001b[1;32mc:\\Users\\Carmen\\Documents\\PreMaster\\ARTIFICIAL INTELLIGENCE\\UCBerkeley ML AI\\Modules\\Module 8 Feature Engineer and Overfitting\\Lab\\codio 83\\coding_activity_8.3.ipynb Cell 20\u001b[0m line \u001b[0;36m2\n\u001b[0;32m      <a href='vscode-notebook-cell:/c%3A/Users/Carmen/Documents/PreMaster/ARTIFICIAL%20INTELLIGENCE/UCBerkeley%20ML%20AI/Modules/Module%208%20Feature%20Engineer%20and%20Overfitting/Lab/codio%2083/coding_activity_8.3.ipynb#X25sZmlsZQ%3D%3D?line=0'>1</a>\u001b[0m \u001b[39m#a categorical feature\u001b[39;00m\n\u001b[1;32m----> <a href='vscode-notebook-cell:/c%3A/Users/Carmen/Documents/PreMaster/ARTIFICIAL%20INTELLIGENCE/UCBerkeley%20ML%20AI/Modules/Module%208%20Feature%20Engineer%20and%20Overfitting/Lab/codio%2083/coding_activity_8.3.ipynb#X25sZmlsZQ%3D%3D?line=1'>2</a>\u001b[0m central_air_train\u001b[39m.\u001b[39mhead()\n",
      "\u001b[1;31mNameError\u001b[0m: name 'central_air_train' is not defined"
     ]
    }
   ],
   "source": [
    "#a categorical feature\n",
    "central_air_train.head()"
   ]
  },
  {
   "cell_type": "code",
   "execution_count": 18,
   "metadata": {},
   "outputs": [
    {
     "name": "stdout",
     "output_type": "stream",
     "text": [
      "[[1.]\n",
      " [1.]\n",
      " [1.]\n",
      " [1.]\n",
      " [0.]]\n"
     ]
    }
   ],
   "source": [
    "#Instantiate a OHE object\n",
    "#sparse = False returns an array so we can view\n",
    "ohe = OneHotEncoder(sparse = False, drop='if_binary')\n",
    "print(ohe.fit_transform(central_air_train)[:5])"
   ]
  },
  {
   "cell_type": "code",
   "execution_count": 19,
   "metadata": {},
   "outputs": [],
   "source": [
    "model_2_train = ohe.fit_transform(central_air_train)\n",
    "model_2_test = ohe.transform(central_air_test)"
   ]
  },
  {
   "cell_type": "code",
   "execution_count": 20,
   "metadata": {
    "nbgrader": {
     "grade": false,
     "grade_id": "cell-190debe81fbe71c7",
     "locked": false,
     "schema_version": 3,
     "solution": true,
     "task": false
    }
   },
   "outputs": [
    {
     "name": "stdout",
     "output_type": "stream",
     "text": [
      "[84484.53030402]\n"
     ]
    }
   ],
   "source": [
    "### GRADED\n",
    "\n",
    "model_2 = ''\n",
    "\n",
    "### BEGIN SOLUTION\n",
    "model_2 = LinearRegression().fit(model_2_train, y_train)\n",
    "### END SOLUTION\n",
    "\n",
    "# Answer check\n",
    "print(model_2.coef_)"
   ]
  },
  {
   "cell_type": "markdown",
   "metadata": {
    "nbgrader": {
     "grade": false,
     "grade_id": "cell-18a9cb5b0c662a92",
     "locked": true,
     "schema_version": 3,
     "solution": false,
     "task": false
    }
   },
   "source": [
    "\n",
    "\n",
    "To build a model using both the `OverallQual` column and the `CentralAir` column, you could use the `OneHotEncoder` to transform `CentralAir`, and then concatenate the results back into a DataFrame or numpy array.  To streamline this process, the `make_column_transformer` can be used to separate specific columns for certain transformations.  Below, a `make_column_transformer` has been created for you to do just this.  \n",
    "\n",
    "\n",
    "The arguments are tuples of the form `(transformer, columns)` that specify a transformation to perform on the given column.  Further, the `remainder = passthrough` argument says to just pass the other columns through.  You are returned a numpy array with the `CentralAir` column binarized and concatenated to the `OverallQual` feature.\n",
    "\n",
    "\n",
    "For an example using the `make_column_transformer` see [here](https://scikit-learn.org/stable/auto_examples/compose/plot_column_transformer_mixed_types.html#sphx-glr-auto-examples-compose-plot-column-transformer-mixed-types-py).\n"
   ]
  },
  {
   "cell_type": "code",
   "execution_count": 10,
   "metadata": {},
   "outputs": [],
   "source": [
    "col_transformer = make_column_transformer((OneHotEncoder(drop = 'if_binary'), ['CentralAir']), \n",
    "                                          remainder='passthrough')"
   ]
  },
  {
   "cell_type": "code",
   "execution_count": 11,
   "metadata": {},
   "outputs": [
    {
     "ename": "NameError",
     "evalue": "name 'X_train' is not defined",
     "output_type": "error",
     "traceback": [
      "\u001b[1;31m---------------------------------------------------------------------------\u001b[0m",
      "\u001b[1;31mNameError\u001b[0m                                 Traceback (most recent call last)",
      "\u001b[1;32mc:\\Users\\Carmen\\Documents\\PreMaster\\ARTIFICIAL INTELLIGENCE\\UCBerkeley ML AI\\Modules\\Module 8 Feature Engineer and Overfitting\\Lab\\codio 83\\coding_activity_8.3.ipynb Cell 26\u001b[0m line \u001b[0;36m1\n\u001b[1;32m----> <a href='vscode-notebook-cell:/c%3A/Users/Carmen/Documents/PreMaster/ARTIFICIAL%20INTELLIGENCE/UCBerkeley%20ML%20AI/Modules/Module%208%20Feature%20Engineer%20and%20Overfitting/Lab/codio%2083/coding_activity_8.3.ipynb#X34sZmlsZQ%3D%3D?line=0'>1</a>\u001b[0m col_transformer\u001b[39m.\u001b[39mfit_transform(X_train[[\u001b[39m'\u001b[39m\u001b[39mOverallQual\u001b[39m\u001b[39m'\u001b[39m, \u001b[39m'\u001b[39m\u001b[39mCentralAir\u001b[39m\u001b[39m'\u001b[39m]])\n",
      "\u001b[1;31mNameError\u001b[0m: name 'X_train' is not defined"
     ]
    }
   ],
   "source": [
    "col_transformer.fit_transform(X_train[['OverallQual', 'CentralAir']])"
   ]
  },
  {
   "cell_type": "markdown",
   "metadata": {
    "nbgrader": {
     "grade": false,
     "grade_id": "cell-96e912368e23f0e1",
     "locked": true,
     "schema_version": 3,
     "solution": false,
     "task": false
    }
   },
   "source": [
    "[Back to top](#Index:) \n",
    "\n",
    "### Problem 6\n",
    "\n",
    "#### Using `make_column_transformer`\n",
    "\n",
    "**10 Points**\n",
    "\n",
    "\n",
    "Complete the code below according to the instructions below:\n",
    "\n",
    "\n",
    "- Use `Pipeline` to create a pipeline object. Inside the pipeline object, define a a tuple where the first element is a string identifier `col_transformer` and the second element is an instance of `col_transformer`. Inside the pipeline define another tuple where the first element is a string identifier `linreg`, and the second element is an instance of `LinearRegression`. Assign the pipeline object to the variable `pipe_1`.\n",
    "- Use the `fit` function on `pipe_1` to train your model on `X_train[['OverallQual', 'CentralAir']]` and `y_train`. "
   ]
  },
  {
   "cell_type": "code",
   "execution_count": 22,
   "metadata": {
    "nbgrader": {
     "grade": false,
     "grade_id": "cell-2129005f7b1c0a66",
     "locked": false,
     "schema_version": 3,
     "solution": true,
     "task": false
    }
   },
   "outputs": [
    {
     "ename": "NameError",
     "evalue": "name 'col_transformer' is not defined",
     "output_type": "error",
     "traceback": [
      "\u001b[0;31m---------------------------------------------------------------------------\u001b[0m",
      "\u001b[0;31mNameError\u001b[0m                                 Traceback (most recent call last)",
      "\u001b[0;32m/tmp/ipykernel_98/1895062386.py\u001b[0m in \u001b[0;36m<cell line: 6>\u001b[0;34m()\u001b[0m\n\u001b[1;32m      4\u001b[0m \u001b[0;34m\u001b[0m\u001b[0m\n\u001b[1;32m      5\u001b[0m \u001b[0;31m### BEGIN SOLUTION\u001b[0m\u001b[0;34m\u001b[0m\u001b[0;34m\u001b[0m\u001b[0m\n\u001b[0;32m----> 6\u001b[0;31m \u001b[0mpipe_1\u001b[0m \u001b[0;34m=\u001b[0m \u001b[0mPipeline\u001b[0m\u001b[0;34m(\u001b[0m\u001b[0;34m[\u001b[0m\u001b[0;34m(\u001b[0m\u001b[0;34m'col_transformer'\u001b[0m\u001b[0;34m,\u001b[0m \u001b[0mcol_transformer\u001b[0m\u001b[0;34m)\u001b[0m\u001b[0;34m,\u001b[0m \u001b[0;34m(\u001b[0m\u001b[0;34m'linreg'\u001b[0m\u001b[0;34m,\u001b[0m \u001b[0mLinearRegression\u001b[0m\u001b[0;34m(\u001b[0m\u001b[0;34m)\u001b[0m\u001b[0;34m)\u001b[0m\u001b[0;34m]\u001b[0m\u001b[0;34m)\u001b[0m\u001b[0;34m\u001b[0m\u001b[0;34m\u001b[0m\u001b[0m\n\u001b[0m\u001b[1;32m      7\u001b[0m \u001b[0mpipe_1\u001b[0m\u001b[0;34m.\u001b[0m\u001b[0mfit\u001b[0m\u001b[0;34m(\u001b[0m\u001b[0mX_train\u001b[0m\u001b[0;34m[\u001b[0m\u001b[0;34m[\u001b[0m\u001b[0;34m'OverallQual'\u001b[0m\u001b[0;34m,\u001b[0m \u001b[0;34m'CentralAir'\u001b[0m\u001b[0;34m]\u001b[0m\u001b[0;34m]\u001b[0m\u001b[0;34m,\u001b[0m \u001b[0my_train\u001b[0m\u001b[0;34m)\u001b[0m\u001b[0;34m\u001b[0m\u001b[0;34m\u001b[0m\u001b[0m\n\u001b[1;32m      8\u001b[0m \u001b[0;31m### END SOLUTION\u001b[0m\u001b[0;34m\u001b[0m\u001b[0;34m\u001b[0m\u001b[0m\n",
      "\u001b[0;31mNameError\u001b[0m: name 'col_transformer' is not defined"
     ]
    }
   ],
   "source": [
    "### GRADED\n",
    "\n",
    "pipe_1 = ''\n",
    "\n",
    "### BEGIN SOLUTION\n",
    "pipe_1 = Pipeline([('col_transformer', col_transformer), ('linreg', LinearRegression())])\n",
    "pipe_1.fit(X_train[['OverallQual', 'CentralAir']], y_train)\n",
    "### END SOLUTION\n",
    "\n",
    "# Answer check\n",
    "print(pipe_1.named_steps)#col_transformer and linreg should be keys\n",
    "pipe_1"
   ]
  },
  {
   "cell_type": "markdown",
   "metadata": {
    "nbgrader": {
     "grade": false,
     "grade_id": "cell-28a3a3221b800c5f",
     "locked": true,
     "schema_version": 3,
     "solution": false,
     "task": false
    }
   },
   "source": [
    "\n",
    "\n",
    "Not all columns warrant binarization as done on the `CentralAir` column.  For example, consider the `HeatingQC` feature -- representing the quality of the heating in the house.  From the data description, the unique values are described as:\n",
    "\n",
    "```\n",
    "HeatingQC: Heating quality and condition\n",
    "\n",
    "       Ex\tExcellent\n",
    "       Gd\tGood\n",
    "       TA\tAverage/Typical\n",
    "       Fa\tFair\n",
    "       Po\tPoor\n",
    "```"
   ]
  },
  {
   "cell_type": "markdown",
   "metadata": {
    "nbgrader": {
     "grade": false,
     "grade_id": "cell-49cb3865102cab23",
     "locked": true,
     "schema_version": 3,
     "solution": false,
     "task": false
    }
   },
   "source": [
    "These are ordered values, and rather than binarizing them a numeric value representing the scale can be used.  For example, using a scale of 0 - 4 you may associate the categories with an order in a list from least to greatest as:\n",
    "\n",
    "```\n",
    "['Po', 'Fa', 'TA', 'Gd', 'Ex']\n",
    "```\n",
    "\n",
    "Creating an `OrdinalEncoder` with these categories will transform the `HeatingQC` feature mapping each category as\n",
    "\n",
    "```\n",
    "Po: 0\n",
    "Fa: 1\n",
    "TA: 2\n",
    "Gd: 3\n",
    "Ex: 4\n",
    "```\n",
    "\n",
    "This is demonstrated below, and in a similar manner, the use of the `make_column_transformer` is shown using the three columns `['OverallQual', 'CentralAir', 'HeatingQC']`, applying the appropriate transformations to each column and passing the remaining numeric feature through.  "
   ]
  },
  {
   "cell_type": "code",
   "execution_count": 12,
   "metadata": {},
   "outputs": [],
   "source": [
    "oe = OrdinalEncoder(categories = [['Po', 'Fa', 'TA', 'Gd', 'Ex']])"
   ]
  },
  {
   "cell_type": "code",
   "execution_count": 24,
   "metadata": {},
   "outputs": [
    {
     "data": {
      "text/plain": [
       "array([[3.],\n",
       "       [2.],\n",
       "       [4.],\n",
       "       ...,\n",
       "       [2.],\n",
       "       [3.],\n",
       "       [4.]])"
      ]
     },
     "execution_count": 24,
     "metadata": {},
     "output_type": "execute_result"
    }
   ],
   "source": [
    "oe.fit_transform(X_train[['HeatingQC']])"
   ]
  },
  {
   "cell_type": "code",
   "execution_count": 13,
   "metadata": {},
   "outputs": [
    {
     "ename": "NameError",
     "evalue": "name 'X_train' is not defined",
     "output_type": "error",
     "traceback": [
      "\u001b[1;31m---------------------------------------------------------------------------\u001b[0m",
      "\u001b[1;31mNameError\u001b[0m                                 Traceback (most recent call last)",
      "\u001b[1;32mc:\\Users\\Carmen\\Documents\\PreMaster\\ARTIFICIAL INTELLIGENCE\\UCBerkeley ML AI\\Modules\\Module 8 Feature Engineer and Overfitting\\Lab\\codio 83\\coding_activity_8.3.ipynb Cell 33\u001b[0m line \u001b[0;36m1\n\u001b[1;32m----> <a href='vscode-notebook-cell:/c%3A/Users/Carmen/Documents/PreMaster/ARTIFICIAL%20INTELLIGENCE/UCBerkeley%20ML%20AI/Modules/Module%208%20Feature%20Engineer%20and%20Overfitting/Lab/codio%2083/coding_activity_8.3.ipynb#X44sZmlsZQ%3D%3D?line=0'>1</a>\u001b[0m X_train[\u001b[39m'\u001b[39m\u001b[39mHeatingQC\u001b[39m\u001b[39m'\u001b[39m]\u001b[39m.\u001b[39mhead()\n",
      "\u001b[1;31mNameError\u001b[0m: name 'X_train' is not defined"
     ]
    }
   ],
   "source": [
    "X_train['HeatingQC'].head()"
   ]
  },
  {
   "cell_type": "code",
   "execution_count": 26,
   "metadata": {},
   "outputs": [],
   "source": [
    "ordinal_ohe_transformer = make_column_transformer((OneHotEncoder(drop = 'if_binary'), ['CentralAir']),\n",
    "                                          (OrdinalEncoder(categories = [['Po', 'Fa', 'TA', 'Gd', 'Ex']]), ['HeatingQC']),\n",
    "                                          remainder='passthrough')"
   ]
  },
  {
   "cell_type": "code",
   "execution_count": 27,
   "metadata": {},
   "outputs": [
    {
     "data": {
      "text/plain": [
       "array([[1., 3., 5.],\n",
       "       [1., 2., 6.],\n",
       "       [1., 4., 8.],\n",
       "       [1., 2., 5.],\n",
       "       [0., 1., 6.]])"
      ]
     },
     "execution_count": 27,
     "metadata": {},
     "output_type": "execute_result"
    }
   ],
   "source": [
    "ordinal_ohe_transformer.fit_transform(X_train[['OverallQual', 'CentralAir', 'HeatingQC']])[:5]"
   ]
  },
  {
   "cell_type": "code",
   "execution_count": 28,
   "metadata": {},
   "outputs": [
    {
     "data": {
      "text/html": [
       "<div>\n",
       "<style scoped>\n",
       "    .dataframe tbody tr th:only-of-type {\n",
       "        vertical-align: middle;\n",
       "    }\n",
       "\n",
       "    .dataframe tbody tr th {\n",
       "        vertical-align: top;\n",
       "    }\n",
       "\n",
       "    .dataframe thead th {\n",
       "        text-align: right;\n",
       "    }\n",
       "</style>\n",
       "<table border=\"1\" class=\"dataframe\">\n",
       "  <thead>\n",
       "    <tr style=\"text-align: right;\">\n",
       "      <th></th>\n",
       "      <th>OverallQual</th>\n",
       "      <th>CentralAir</th>\n",
       "      <th>HeatingQC</th>\n",
       "    </tr>\n",
       "  </thead>\n",
       "  <tbody>\n",
       "    <tr>\n",
       "      <th>1079</th>\n",
       "      <td>5</td>\n",
       "      <td>Y</td>\n",
       "      <td>Gd</td>\n",
       "    </tr>\n",
       "    <tr>\n",
       "      <th>601</th>\n",
       "      <td>6</td>\n",
       "      <td>Y</td>\n",
       "      <td>TA</td>\n",
       "    </tr>\n",
       "    <tr>\n",
       "      <th>1015</th>\n",
       "      <td>8</td>\n",
       "      <td>Y</td>\n",
       "      <td>Ex</td>\n",
       "    </tr>\n",
       "    <tr>\n",
       "      <th>194</th>\n",
       "      <td>5</td>\n",
       "      <td>Y</td>\n",
       "      <td>TA</td>\n",
       "    </tr>\n",
       "    <tr>\n",
       "      <th>1248</th>\n",
       "      <td>6</td>\n",
       "      <td>N</td>\n",
       "      <td>Fa</td>\n",
       "    </tr>\n",
       "  </tbody>\n",
       "</table>\n",
       "</div>"
      ],
      "text/plain": [
       "      OverallQual CentralAir HeatingQC\n",
       "1079            5          Y        Gd\n",
       "601             6          Y        TA\n",
       "1015            8          Y        Ex\n",
       "194             5          Y        TA\n",
       "1248            6          N        Fa"
      ]
     },
     "execution_count": 28,
     "metadata": {},
     "output_type": "execute_result"
    }
   ],
   "source": [
    "X_train[['OverallQual', 'CentralAir', 'HeatingQC']].head()"
   ]
  },
  {
   "cell_type": "markdown",
   "metadata": {
    "nbgrader": {
     "grade": false,
     "grade_id": "cell-76851882f343f51e",
     "locked": true,
     "schema_version": 3,
     "solution": false,
     "task": false
    }
   },
   "source": [
    "[Back to top](#Index:) \n",
    "\n",
    "### Problem 7\n",
    "\n",
    "#### Using `OrdinalEncoder`\n",
    "\n",
    "**10 Points**\n",
    "\n",
    "\n",
    "Complete the code below according to the instructions below:\n",
    "\n",
    "\n",
    "- Use `Pipeline` to create a pipeline object. Inside the pipeline object, define a tuple where the first element is a string identifier `transformer` and the second element is an instance of `ordinal_ohe_transformer.` Inside the pipeline define another tuple where the first element is a string identifier `linreg`, and the second element is an instance of `LinearRegression`. Assign the pipeline object to the variable `pipe_2`.\n",
    "- Use the `fit` function on `pipe_2` to train your model on `X_train[['OverallQual', 'CentralAir', 'HeatingQC']]` and `y_train`. \n",
    "- Use the `predict` function on `pipe_2` to make your predictions of `X_train[['OverallQual', 'CentralAir', 'HeatingQC']]`. Assign the result to `pred_train`.\n",
    "- - Use the `predict` function on `pipe_2` to make your predictions of `X_test[['OverallQual', 'CentralAir', 'HeatingQC']]`. Assign the result to `pred_test`.\n",
    "- Use the `mean_squared_error` function to calculate the MSE between `y_train` and `pred_train`. Assign the result to `pipe_2_train_mse`.\n",
    "- Use the `mean_squared_error` function to calculate the MSE between `y_test` and `pred_test`. Assign the result to `pipe_2_test_mse`."
   ]
  },
  {
   "cell_type": "code",
   "execution_count": 29,
   "metadata": {
    "nbgrader": {
     "grade": false,
     "grade_id": "cell-e902a6f9f27546fd",
     "locked": false,
     "schema_version": 3,
     "solution": true,
     "task": false
    }
   },
   "outputs": [
    {
     "name": "stdout",
     "output_type": "stream",
     "text": [
      "{'transformer': ColumnTransformer(remainder='passthrough',\n",
      "                  transformers=[('onehotencoder',\n",
      "                                 OneHotEncoder(drop='if_binary'),\n",
      "                                 ['CentralAir']),\n",
      "                                ('ordinalencoder',\n",
      "                                 OrdinalEncoder(categories=[['Po', 'Fa', 'TA',\n",
      "                                                             'Gd', 'Ex']]),\n",
      "                                 ['HeatingQC'])]), 'linreg': LinearRegression()}\n",
      "Train MSE:  2211416025.54\n",
      "Test MSE:  2597701543.40\n"
     ]
    },
    {
     "data": {
      "text/html": [
       "<style>#sk-e455b0a1-fa07-4c99-ab53-32d49d937a7e {color: black;background-color: white;}#sk-e455b0a1-fa07-4c99-ab53-32d49d937a7e pre{padding: 0;}#sk-e455b0a1-fa07-4c99-ab53-32d49d937a7e div.sk-toggleable {background-color: white;}#sk-e455b0a1-fa07-4c99-ab53-32d49d937a7e label.sk-toggleable__label {cursor: pointer;display: block;width: 100%;margin-bottom: 0;padding: 0.3em;box-sizing: border-box;text-align: center;}#sk-e455b0a1-fa07-4c99-ab53-32d49d937a7e label.sk-toggleable__label-arrow:before {content: \"▸\";float: left;margin-right: 0.25em;color: #696969;}#sk-e455b0a1-fa07-4c99-ab53-32d49d937a7e label.sk-toggleable__label-arrow:hover:before {color: black;}#sk-e455b0a1-fa07-4c99-ab53-32d49d937a7e div.sk-estimator:hover label.sk-toggleable__label-arrow:before {color: black;}#sk-e455b0a1-fa07-4c99-ab53-32d49d937a7e div.sk-toggleable__content {max-height: 0;max-width: 0;overflow: hidden;text-align: left;background-color: #f0f8ff;}#sk-e455b0a1-fa07-4c99-ab53-32d49d937a7e div.sk-toggleable__content pre {margin: 0.2em;color: black;border-radius: 0.25em;background-color: #f0f8ff;}#sk-e455b0a1-fa07-4c99-ab53-32d49d937a7e input.sk-toggleable__control:checked~div.sk-toggleable__content {max-height: 200px;max-width: 100%;overflow: auto;}#sk-e455b0a1-fa07-4c99-ab53-32d49d937a7e input.sk-toggleable__control:checked~label.sk-toggleable__label-arrow:before {content: \"▾\";}#sk-e455b0a1-fa07-4c99-ab53-32d49d937a7e div.sk-estimator input.sk-toggleable__control:checked~label.sk-toggleable__label {background-color: #d4ebff;}#sk-e455b0a1-fa07-4c99-ab53-32d49d937a7e div.sk-label input.sk-toggleable__control:checked~label.sk-toggleable__label {background-color: #d4ebff;}#sk-e455b0a1-fa07-4c99-ab53-32d49d937a7e input.sk-hidden--visually {border: 0;clip: rect(1px 1px 1px 1px);clip: rect(1px, 1px, 1px, 1px);height: 1px;margin: -1px;overflow: hidden;padding: 0;position: absolute;width: 1px;}#sk-e455b0a1-fa07-4c99-ab53-32d49d937a7e div.sk-estimator {font-family: monospace;background-color: #f0f8ff;border: 1px dotted black;border-radius: 0.25em;box-sizing: border-box;margin-bottom: 0.5em;}#sk-e455b0a1-fa07-4c99-ab53-32d49d937a7e div.sk-estimator:hover {background-color: #d4ebff;}#sk-e455b0a1-fa07-4c99-ab53-32d49d937a7e div.sk-parallel-item::after {content: \"\";width: 100%;border-bottom: 1px solid gray;flex-grow: 1;}#sk-e455b0a1-fa07-4c99-ab53-32d49d937a7e div.sk-label:hover label.sk-toggleable__label {background-color: #d4ebff;}#sk-e455b0a1-fa07-4c99-ab53-32d49d937a7e div.sk-serial::before {content: \"\";position: absolute;border-left: 1px solid gray;box-sizing: border-box;top: 2em;bottom: 0;left: 50%;}#sk-e455b0a1-fa07-4c99-ab53-32d49d937a7e div.sk-serial {display: flex;flex-direction: column;align-items: center;background-color: white;padding-right: 0.2em;padding-left: 0.2em;}#sk-e455b0a1-fa07-4c99-ab53-32d49d937a7e div.sk-item {z-index: 1;}#sk-e455b0a1-fa07-4c99-ab53-32d49d937a7e div.sk-parallel {display: flex;align-items: stretch;justify-content: center;background-color: white;}#sk-e455b0a1-fa07-4c99-ab53-32d49d937a7e div.sk-parallel::before {content: \"\";position: absolute;border-left: 1px solid gray;box-sizing: border-box;top: 2em;bottom: 0;left: 50%;}#sk-e455b0a1-fa07-4c99-ab53-32d49d937a7e div.sk-parallel-item {display: flex;flex-direction: column;position: relative;background-color: white;}#sk-e455b0a1-fa07-4c99-ab53-32d49d937a7e div.sk-parallel-item:first-child::after {align-self: flex-end;width: 50%;}#sk-e455b0a1-fa07-4c99-ab53-32d49d937a7e div.sk-parallel-item:last-child::after {align-self: flex-start;width: 50%;}#sk-e455b0a1-fa07-4c99-ab53-32d49d937a7e div.sk-parallel-item:only-child::after {width: 0;}#sk-e455b0a1-fa07-4c99-ab53-32d49d937a7e div.sk-dashed-wrapped {border: 1px dashed gray;margin: 0 0.4em 0.5em 0.4em;box-sizing: border-box;padding-bottom: 0.4em;background-color: white;position: relative;}#sk-e455b0a1-fa07-4c99-ab53-32d49d937a7e div.sk-label label {font-family: monospace;font-weight: bold;background-color: white;display: inline-block;line-height: 1.2em;}#sk-e455b0a1-fa07-4c99-ab53-32d49d937a7e div.sk-label-container {position: relative;z-index: 2;text-align: center;}#sk-e455b0a1-fa07-4c99-ab53-32d49d937a7e div.sk-container {/* jupyter's `normalize.less` sets `[hidden] { display: none; }` but bootstrap.min.css set `[hidden] { display: none !important; }` so we also need the `!important` here to be able to override the default hidden behavior on the sphinx rendered scikit-learn.org. See: https://github.com/scikit-learn/scikit-learn/issues/21755 */display: inline-block !important;position: relative;}#sk-e455b0a1-fa07-4c99-ab53-32d49d937a7e div.sk-text-repr-fallback {display: none;}</style><div id=\"sk-e455b0a1-fa07-4c99-ab53-32d49d937a7e\" class=\"sk-top-container\"><div class=\"sk-text-repr-fallback\"><pre>Pipeline(steps=[(&#x27;transformer&#x27;,\n",
       "                 ColumnTransformer(remainder=&#x27;passthrough&#x27;,\n",
       "                                   transformers=[(&#x27;onehotencoder&#x27;,\n",
       "                                                  OneHotEncoder(drop=&#x27;if_binary&#x27;),\n",
       "                                                  [&#x27;CentralAir&#x27;]),\n",
       "                                                 (&#x27;ordinalencoder&#x27;,\n",
       "                                                  OrdinalEncoder(categories=[[&#x27;Po&#x27;,\n",
       "                                                                              &#x27;Fa&#x27;,\n",
       "                                                                              &#x27;TA&#x27;,\n",
       "                                                                              &#x27;Gd&#x27;,\n",
       "                                                                              &#x27;Ex&#x27;]]),\n",
       "                                                  [&#x27;HeatingQC&#x27;])])),\n",
       "                (&#x27;linreg&#x27;, LinearRegression())])</pre><b>Please rerun this cell to show the HTML repr or trust the notebook.</b></div><div class=\"sk-container\" hidden><div class=\"sk-item sk-dashed-wrapped\"><div class=\"sk-label-container\"><div class=\"sk-label sk-toggleable\"><input class=\"sk-toggleable__control sk-hidden--visually\" id=\"206d5970-7432-439a-94b6-1fd2f361116d\" type=\"checkbox\" ><label for=\"206d5970-7432-439a-94b6-1fd2f361116d\" class=\"sk-toggleable__label sk-toggleable__label-arrow\">Pipeline</label><div class=\"sk-toggleable__content\"><pre>Pipeline(steps=[(&#x27;transformer&#x27;,\n",
       "                 ColumnTransformer(remainder=&#x27;passthrough&#x27;,\n",
       "                                   transformers=[(&#x27;onehotencoder&#x27;,\n",
       "                                                  OneHotEncoder(drop=&#x27;if_binary&#x27;),\n",
       "                                                  [&#x27;CentralAir&#x27;]),\n",
       "                                                 (&#x27;ordinalencoder&#x27;,\n",
       "                                                  OrdinalEncoder(categories=[[&#x27;Po&#x27;,\n",
       "                                                                              &#x27;Fa&#x27;,\n",
       "                                                                              &#x27;TA&#x27;,\n",
       "                                                                              &#x27;Gd&#x27;,\n",
       "                                                                              &#x27;Ex&#x27;]]),\n",
       "                                                  [&#x27;HeatingQC&#x27;])])),\n",
       "                (&#x27;linreg&#x27;, LinearRegression())])</pre></div></div></div><div class=\"sk-serial\"><div class=\"sk-item sk-dashed-wrapped\"><div class=\"sk-label-container\"><div class=\"sk-label sk-toggleable\"><input class=\"sk-toggleable__control sk-hidden--visually\" id=\"d712ec2b-9554-42d4-bd14-98f272458a9a\" type=\"checkbox\" ><label for=\"d712ec2b-9554-42d4-bd14-98f272458a9a\" class=\"sk-toggleable__label sk-toggleable__label-arrow\">transformer: ColumnTransformer</label><div class=\"sk-toggleable__content\"><pre>ColumnTransformer(remainder=&#x27;passthrough&#x27;,\n",
       "                  transformers=[(&#x27;onehotencoder&#x27;,\n",
       "                                 OneHotEncoder(drop=&#x27;if_binary&#x27;),\n",
       "                                 [&#x27;CentralAir&#x27;]),\n",
       "                                (&#x27;ordinalencoder&#x27;,\n",
       "                                 OrdinalEncoder(categories=[[&#x27;Po&#x27;, &#x27;Fa&#x27;, &#x27;TA&#x27;,\n",
       "                                                             &#x27;Gd&#x27;, &#x27;Ex&#x27;]]),\n",
       "                                 [&#x27;HeatingQC&#x27;])])</pre></div></div></div><div class=\"sk-parallel\"><div class=\"sk-parallel-item\"><div class=\"sk-item\"><div class=\"sk-label-container\"><div class=\"sk-label sk-toggleable\"><input class=\"sk-toggleable__control sk-hidden--visually\" id=\"0f0ed53c-d4b5-449a-af5b-8874629d5e32\" type=\"checkbox\" ><label for=\"0f0ed53c-d4b5-449a-af5b-8874629d5e32\" class=\"sk-toggleable__label sk-toggleable__label-arrow\">onehotencoder</label><div class=\"sk-toggleable__content\"><pre>[&#x27;CentralAir&#x27;]</pre></div></div></div><div class=\"sk-serial\"><div class=\"sk-item\"><div class=\"sk-estimator sk-toggleable\"><input class=\"sk-toggleable__control sk-hidden--visually\" id=\"496ba8de-3be8-4f4b-bf33-d1fc50394616\" type=\"checkbox\" ><label for=\"496ba8de-3be8-4f4b-bf33-d1fc50394616\" class=\"sk-toggleable__label sk-toggleable__label-arrow\">OneHotEncoder</label><div class=\"sk-toggleable__content\"><pre>OneHotEncoder(drop=&#x27;if_binary&#x27;)</pre></div></div></div></div></div></div><div class=\"sk-parallel-item\"><div class=\"sk-item\"><div class=\"sk-label-container\"><div class=\"sk-label sk-toggleable\"><input class=\"sk-toggleable__control sk-hidden--visually\" id=\"2b852c92-19c9-4566-999c-4568cf6dceae\" type=\"checkbox\" ><label for=\"2b852c92-19c9-4566-999c-4568cf6dceae\" class=\"sk-toggleable__label sk-toggleable__label-arrow\">ordinalencoder</label><div class=\"sk-toggleable__content\"><pre>[&#x27;HeatingQC&#x27;]</pre></div></div></div><div class=\"sk-serial\"><div class=\"sk-item\"><div class=\"sk-estimator sk-toggleable\"><input class=\"sk-toggleable__control sk-hidden--visually\" id=\"b17e34ab-2ae1-4265-8f0c-c2e7bb414aab\" type=\"checkbox\" ><label for=\"b17e34ab-2ae1-4265-8f0c-c2e7bb414aab\" class=\"sk-toggleable__label sk-toggleable__label-arrow\">OrdinalEncoder</label><div class=\"sk-toggleable__content\"><pre>OrdinalEncoder(categories=[[&#x27;Po&#x27;, &#x27;Fa&#x27;, &#x27;TA&#x27;, &#x27;Gd&#x27;, &#x27;Ex&#x27;]])</pre></div></div></div></div></div></div><div class=\"sk-parallel-item\"><div class=\"sk-item\"><div class=\"sk-label-container\"><div class=\"sk-label sk-toggleable\"><input class=\"sk-toggleable__control sk-hidden--visually\" id=\"911f0ec0-1a62-4a36-b95e-1ad74628b1f3\" type=\"checkbox\" ><label for=\"911f0ec0-1a62-4a36-b95e-1ad74628b1f3\" class=\"sk-toggleable__label sk-toggleable__label-arrow\">remainder</label><div class=\"sk-toggleable__content\"><pre>[&#x27;OverallQual&#x27;]</pre></div></div></div><div class=\"sk-serial\"><div class=\"sk-item\"><div class=\"sk-estimator sk-toggleable\"><input class=\"sk-toggleable__control sk-hidden--visually\" id=\"ad7ae52f-0a6f-42ff-9551-b29b0f28d1b7\" type=\"checkbox\" ><label for=\"ad7ae52f-0a6f-42ff-9551-b29b0f28d1b7\" class=\"sk-toggleable__label sk-toggleable__label-arrow\">passthrough</label><div class=\"sk-toggleable__content\"><pre>passthrough</pre></div></div></div></div></div></div></div></div><div class=\"sk-item\"><div class=\"sk-estimator sk-toggleable\"><input class=\"sk-toggleable__control sk-hidden--visually\" id=\"0b0fa7ad-1ac1-4e6c-bf78-463fea9486dc\" type=\"checkbox\" ><label for=\"0b0fa7ad-1ac1-4e6c-bf78-463fea9486dc\" class=\"sk-toggleable__label sk-toggleable__label-arrow\">LinearRegression</label><div class=\"sk-toggleable__content\"><pre>LinearRegression()</pre></div></div></div></div></div></div></div>"
      ],
      "text/plain": [
       "Pipeline(steps=[('transformer',\n",
       "                 ColumnTransformer(remainder='passthrough',\n",
       "                                   transformers=[('onehotencoder',\n",
       "                                                  OneHotEncoder(drop='if_binary'),\n",
       "                                                  ['CentralAir']),\n",
       "                                                 ('ordinalencoder',\n",
       "                                                  OrdinalEncoder(categories=[['Po',\n",
       "                                                                              'Fa',\n",
       "                                                                              'TA',\n",
       "                                                                              'Gd',\n",
       "                                                                              'Ex']]),\n",
       "                                                  ['HeatingQC'])])),\n",
       "                ('linreg', LinearRegression())])"
      ]
     },
     "execution_count": 29,
     "metadata": {},
     "output_type": "execute_result"
    }
   ],
   "source": [
    "### GRADED\n",
    "\n",
    "pipe_2 = ''\n",
    "pipe_2_train_mse = ''\n",
    "pipe_2_test_mse = ''\n",
    "\n",
    "### BEGIN SOLUTION\n",
    "pipe_2 = Pipeline([('transformer', ordinal_ohe_transformer), \n",
    "                  ('linreg', LinearRegression())])\n",
    "pipe_2.fit(X_train[['OverallQual', 'CentralAir', 'HeatingQC']], y_train)\n",
    "pred_train = pipe_2.predict(X_train[['OverallQual', 'CentralAir', 'HeatingQC']])\n",
    "pred_test = pipe_2.predict(X_test[['OverallQual', 'CentralAir', 'HeatingQC']])\n",
    "pipe_2_train_mse = mean_squared_error(y_train, pred_train)\n",
    "pipe_2_test_mse = mean_squared_error(y_test, pred_test)\n",
    "### END SOLUTION\n",
    "\n",
    "# Answer check\n",
    "print(pipe_2.named_steps)\n",
    "print(f'Train MSE: {pipe_2_train_mse: .2f}')\n",
    "print(f'Test MSE: {pipe_2_test_mse: .2f}')\n",
    "pipe_2"
   ]
  },
  {
   "cell_type": "markdown",
   "metadata": {
    "nbgrader": {
     "grade": false,
     "grade_id": "cell-d37ccef9c286dbd9",
     "locked": true,
     "schema_version": 3,
     "solution": false,
     "task": false
    }
   },
   "source": [
    "[Back to top](#Index:) \n",
    "\n",
    "### Problem 8\n",
    "\n",
    "#### Including `PolynomialFeatures`\n",
    "\n",
    "**10 Points**\n",
    "\n",
    "Finally, the earlier transformation of continuous columns using the `PolynomialFeatures` with `degree = 2` can be implemented alongside the `OneHotEncoder` and `OrdinalEncoder`.  \n",
    "\n",
    "The `make_column_transformer` is again used, and you are to create a `Pipeline` with steps `transformer` and `linreg`.  \n",
    "\n",
    "The `Pipeline` is fit on the training data using features `['OverallQual', 'CentralAir', 'HeatingQC']`.  \n",
    "\n",
    "- Use the `predict` function on `pipe_3` to predict the values of `X_train[['OverallQual', 'CentralAir', 'HeatingQC']]`. Assign your result to `quad_train_preds`.\n",
    "- Use the `predict` function on `pipe_3` to predict the values of `X_test[['OverallQual', 'CentralAir', 'HeatingQC']]`. Assign your result to `quad_test_preds`.\n",
    "- Use the `mean_squared_error` function to calculate the MSE between `y_train` and `quad_train_preds`. Assign the result to `quad_train_mse`.\n",
    "- Use the `mean_squared_error` function to calculate the MSE between `y_test` and `quad_test_preds`. Assign the result to `quad_test_mse`."
   ]
  },
  {
   "cell_type": "code",
   "execution_count": 14,
   "metadata": {},
   "outputs": [],
   "source": [
    "poly_ordinal_ohe = make_column_transformer((OrdinalEncoder(categories = [['Po', 'Fa', 'TA', 'Gd', 'Ex']]), ['HeatingQC']),\n",
    "                                           (OneHotEncoder(drop = 'if_binary'), ['CentralAir']),\n",
    "                                           (PolynomialFeatures(include_bias = False, degree = 2), ['OverallQual']))\n",
    "pipe_3 = Pipeline([('transformer', poly_ordinal_ohe), \n",
    "                  ('linreg', LinearRegression())])"
   ]
  },
  {
   "cell_type": "code",
   "execution_count": 15,
   "metadata": {},
   "outputs": [
    {
     "ename": "NameError",
     "evalue": "name 'X_train' is not defined",
     "output_type": "error",
     "traceback": [
      "\u001b[1;31m---------------------------------------------------------------------------\u001b[0m",
      "\u001b[1;31mNameError\u001b[0m                                 Traceback (most recent call last)",
      "\u001b[1;32mc:\\Users\\Carmen\\Documents\\PreMaster\\ARTIFICIAL INTELLIGENCE\\UCBerkeley ML AI\\Modules\\Module 8 Feature Engineer and Overfitting\\Lab\\codio 83\\coding_activity_8.3.ipynb Cell 41\u001b[0m line \u001b[0;36m1\n\u001b[1;32m----> <a href='vscode-notebook-cell:/c%3A/Users/Carmen/Documents/PreMaster/ARTIFICIAL%20INTELLIGENCE/UCBerkeley%20ML%20AI/Modules/Module%208%20Feature%20Engineer%20and%20Overfitting/Lab/codio%2083/coding_activity_8.3.ipynb#X55sZmlsZQ%3D%3D?line=0'>1</a>\u001b[0m pipe_3\u001b[39m.\u001b[39mfit(X_train[[\u001b[39m'\u001b[39m\u001b[39mOverallQual\u001b[39m\u001b[39m'\u001b[39m, \u001b[39m'\u001b[39m\u001b[39mCentralAir\u001b[39m\u001b[39m'\u001b[39m, \u001b[39m'\u001b[39m\u001b[39mHeatingQC\u001b[39m\u001b[39m'\u001b[39m]], y_train)\n",
      "\u001b[1;31mNameError\u001b[0m: name 'X_train' is not defined"
     ]
    }
   ],
   "source": [
    "pipe_3.fit(X_train[['OverallQual', 'CentralAir', 'HeatingQC']], y_train)"
   ]
  },
  {
   "cell_type": "code",
   "execution_count": 37,
   "metadata": {
    "nbgrader": {
     "grade": false,
     "grade_id": "cell-6166bd840763ffd6",
     "locked": false,
     "schema_version": 3,
     "solution": true,
     "task": false
    }
   },
   "outputs": [
    {
     "name": "stdout",
     "output_type": "stream",
     "text": [
      "Train MSE:  1856951076.95\n",
      "Test MSE:  2207864528.17\n"
     ]
    }
   ],
   "source": [
    "### GRADED\n",
    "\n",
    "quad_train_mse = ''\n",
    "quad_test_mse = ''\n",
    "\n",
    "### BEGIN SOLUTION\n",
    "quad_train_preds = pipe_3.predict(X_train[['OverallQual', 'CentralAir', 'HeatingQC']])\n",
    "quad_test_preds = pipe_3.predict(X_test[['OverallQual', 'CentralAir', 'HeatingQC']])\n",
    "quad_train_mse = mean_squared_error(y_train, quad_train_preds)\n",
    "quad_test_mse = mean_squared_error(y_test, quad_test_preds)\n",
    "### END SOLUTION\n",
    "\n",
    "# Answer check\n",
    "print(f'Train MSE: {quad_train_mse: .2f}')\n",
    "print(f'Test MSE: {quad_test_mse: .2f}')"
   ]
  },
  {
   "cell_type": "markdown",
   "metadata": {
    "nbgrader": {
     "grade": false,
     "grade_id": "cell-b0a0f9ce2acfd960",
     "locked": true,
     "schema_version": 3,
     "solution": false,
     "task": false
    }
   },
   "source": [
    "[Back to top](#Index:) \n",
    "\n",
    "### Problem 9\n",
    "\n",
    "#### Including More Features\n",
    "\n",
    "**20 Points**\n",
    "\n",
    "Use the following features to build a new `make_column_transformer` and fit 5 different models of degree 1 - 5 using the `degree` argument in your `PolynomialFeatures` transformer.  Keep track of the subsequent train mean squared error and test set mean squared error with the lists `train_mses` and `test_mses` respectively.  \n",
    "\n",
    "The `poly_ordinal_ohe` object contains the different transformers needed.  Note that rather than passing a list of columns to the `PolynomialFeatures` transformer, the `make_column_selector` function is used to select any numeric feature.  For more information on the `make_column_selector` see [here](https://scikit-learn.org/stable/modules/generated/sklearn.compose.make_column_selector.html).\n",
    "\n"
   ]
  },
  {
   "cell_type": "code",
   "execution_count": null,
   "metadata": {},
   "outputs": [],
   "source": [
    "features = ['CentralAir', 'HeatingQC', 'OverallQual', 'GrLivArea', 'KitchenQual', 'FullBath']"
   ]
  },
  {
   "cell_type": "code",
   "execution_count": null,
   "metadata": {},
   "outputs": [],
   "source": [
    "X_train[features].head()"
   ]
  },
  {
   "cell_type": "code",
   "execution_count": null,
   "metadata": {},
   "outputs": [],
   "source": [
    "poly_ordinal_ohe = make_column_transformer((PolynomialFeatures(), make_column_selector(dtype_include=np.number)),\n",
    "                                           (OrdinalEncoder(categories = [['Po', 'Fa', 'TA', 'Gd', 'Ex']]), ['HeatingQC', 'KitchenQual']),\n",
    "                                               (OneHotEncoder(drop = 'if_binary', sparse = False), ['CentralAir']))"
   ]
  },
  {
   "cell_type": "code",
   "execution_count": null,
   "metadata": {
    "nbgrader": {
     "grade": false,
     "grade_id": "cell-77c2202178f5d8af",
     "locked": false,
     "schema_version": 3,
     "solution": true,
     "task": false
    }
   },
   "outputs": [],
   "source": [
    "### GRADED\n",
    "\n",
    "train_mses = []\n",
    "test_mses = []\n",
    "#for degree in 1 - 5\n",
    "for i in range(1, 6):\n",
    "    #create pipeline with PolynomialFeatures degree i \n",
    "    #ADD APPROPRIATE ARGUMENTS IN POLYNOMIALFEATURES\n",
    "    poly_ordinal_ohe = make_column_transformer((PolynomialFeatures(), make_column_selector(dtype_include=np.number)),\n",
    "                                           (OrdinalEncoder(categories = [['Po', 'Fa', 'TA', 'Gd', 'Ex']]), ['HeatingQC']),\n",
    "                                               (OneHotEncoder(drop = 'if_binary'), ['CentralAir']))\n",
    "    \n",
    "    \n",
    "    #fit on train\n",
    "\n",
    "    #predict on train and test\n",
    "\n",
    "    #compute mean squared errors\n",
    "    \n",
    "    #append to train_mses and test_mses respectively\n",
    "\n",
    "### BEGIN SOLUTION\n",
    "train_mses = []\n",
    "test_mses = []\n",
    "#for degree in 1 - 5\n",
    "for i in range(1, 6):\n",
    "    #create pipeline with PolynomialFeatures degree i\n",
    "    poly_ordinal_ohe = make_column_transformer((PolynomialFeatures(degree = i), make_column_selector(dtype_include=np.number)),\n",
    "                                           (OrdinalEncoder(categories = [['Po', 'Fa', 'TA', 'Gd', 'Ex']]), ['HeatingQC']),\n",
    "                                               (OneHotEncoder(drop = 'if_binary'), ['CentralAir']))\n",
    "    pipe = Pipeline([('transformer', poly_ordinal_ohe), ('linreg', LinearRegression())])\n",
    "\n",
    "    pipe.fit(X_train[features], y_train)\n",
    "    #fit on train\n",
    "    p1 = pipe.predict(X_train[features])\n",
    "    p2 = pipe.predict(X_test[features])\n",
    "    #predict on train and test\n",
    "    train_mses.append(mean_squared_error(y_train, p1))\n",
    "    test_mses.append(mean_squared_error(y_test, p2))\n",
    "### END SOLUTION\n",
    "\n",
    "# Answer check\n",
    "print(train_mses)\n",
    "print(test_mses)\n",
    "pipe"
   ]
  },
  {
   "cell_type": "markdown",
   "metadata": {
    "nbgrader": {
     "grade": false,
     "grade_id": "cell-71011b87c2040d72",
     "locked": true,
     "schema_version": 3,
     "solution": false,
     "task": false
    }
   },
   "source": [
    "[Back to top](#Index:) \n",
    "\n",
    "### Problem 10\n",
    "\n",
    "#### Optimal Model Complexity \n",
    "\n",
    "**10 Points**\n",
    "\n",
    "Based on your model's mean squared error on the testing data in **Problem 9** above, what was the optimal complexity?  Assign your answer as an integer to `best_complexity` below.  Compute the **MEAN SQUARED ERROR** of this model and assign it to `best_mse` as a float. "
   ]
  },
  {
   "cell_type": "code",
   "execution_count": null,
   "metadata": {
    "nbgrader": {
     "grade": false,
     "grade_id": "cell-4fd87b41a5fe40d5",
     "locked": false,
     "schema_version": 3,
     "solution": true,
     "task": false
    }
   },
   "outputs": [],
   "source": [
    "### GRADED\n",
    "\n",
    "best_complexity = ''\n",
    "best_mse = ''\n",
    "\n",
    "### BEGIN SOLUTION\n",
    "best_complexity = test_mses.index(min(test_mses)) + 1\n",
    "best_mse = min(test_mses)\n",
    "### END SOLUTION\n",
    "\n",
    "# Answer check\n",
    "print(f'The best degree polynomial model is:  {best_complexity}')\n",
    "print(f'The smallest mean squared error on the test data is : {best_mse: .2f}')"
   ]
  },
  {
   "cell_type": "markdown",
   "metadata": {
    "nbgrader": {
     "grade": false,
     "grade_id": "cell-f38feb0e2f015284",
     "locked": true,
     "schema_version": 3,
     "solution": false,
     "task": false
    }
   },
   "source": [
    "### Further Exploration\n",
    "\n",
    "This activity was meant to introduce you to a more streamlined modeling process using the `sklearn` library.  While your models should be performing better than the baseline, it is likely that with a bit more feature engineering and cross-validation, you would be able to further improve the performance.  You are encouraged to explore further feature engineering and encoding, particularly with handling missing values.  \n",
    "\n",
    "Additionally, other transformations on the data may be appropriate.  For example, if you look at the distribution of errors in your model, you will note that they are slightly skewed.  An assumption of a Linear Regression model is that these should be roughly normally distributed.  By building a model on the logarithm of the target column and evaluating the model on the logarithm of the testing data, you will improve towards this assumption.  Note that the actual Kaggle exercise is judged on the **ROOT MEAN SQUARED ERROR** of the logarithm of the target feature. \n",
    "\n",
    "If interested, scikitlearn also provides a function `TransformedTargetRegressor` that will accomplish this transformation and can easily be added to a pipeline. See [here](https://scikit-learn.org/stable/modules/generated/sklearn.compose.TransformedTargetRegressor.html) for more information on this transformer. "
   ]
  }
 ],
 "metadata": {
  "celltoolbar": "Create Assignment",
  "kernelspec": {
   "display_name": "Python 3 (ipykernel)",
   "language": "python",
   "name": "python3"
  },
  "language_info": {
   "codemirror_mode": {
    "name": "ipython",
    "version": 3
   },
   "file_extension": ".py",
   "mimetype": "text/x-python",
   "name": "python",
   "nbconvert_exporter": "python",
   "pygments_lexer": "ipython3",
   "version": "3.11.5"
  },
  "widgets": {
   "application/vnd.jupyter.widget-state+json": {
    "state": {},
    "version_major": 2,
    "version_minor": 0
   }
  }
 },
 "nbformat": 4,
 "nbformat_minor": 4
}
