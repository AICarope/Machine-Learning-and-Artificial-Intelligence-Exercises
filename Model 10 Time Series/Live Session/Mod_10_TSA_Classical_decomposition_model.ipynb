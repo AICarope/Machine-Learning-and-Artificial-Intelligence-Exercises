{
  "cells": [
    {
      "cell_type": "markdown",
      "metadata": {
        "id": "NrTzDKkmcNFY"
      },
      "source": [
        "# Classical decomposition model"
      ]
    },
    {
      "cell_type": "markdown",
      "metadata": {
        "id": "V6xrdL484ls2"
      },
      "source": [
        "# Load libraries"
      ]
    },
    {
      "cell_type": "code",
      "execution_count": 1,
      "metadata": {
        "id": "JjsBCBzNkjD2"
      },
      "outputs": [],
      "source": [
        "import numpy as np\n",
        "import pandas as pd\n",
        "\n",
        "import seaborn as sns\n",
        "import matplotlib.pyplot as plt\n",
        "import plotly.graph_objs as go\n",
        "\n",
        "import statsmodels.api as sm\n",
        "from sklearn.linear_model import LinearRegression\n",
        "from sklearn.preprocessing import OneHotEncoder\n",
        "from sklearn.metrics import mean_squared_error, mean_absolute_error\n",
        "\n",
        "# Suppress SettingWithCopyWarning\n",
        "pd.options.mode.chained_assignment = None"
      ]
    },
    {
      "cell_type": "markdown",
      "metadata": {
        "id": "N1JliiG14ndZ"
      },
      "source": [
        "# Load data"
      ]
    },
    {
      "cell_type": "code",
      "execution_count": 2,
      "metadata": {
        "id": "-8Hf2LpOkseP"
      },
      "outputs": [],
      "source": [
        "df = sns.load_dataset(\"flights\")"
      ]
    },
    {
      "cell_type": "code",
      "execution_count": 3,
      "metadata": {
        "colab": {
          "base_uri": "https://localhost:8080/",
          "height": 206
        },
        "id": "0mckrvOyktFw",
        "outputId": "9976547e-07fd-4d76-f24e-cb703883bbd3"
      },
      "outputs": [
        {
          "data": {
            "text/html": [
              "<div>\n",
              "<style scoped>\n",
              "    .dataframe tbody tr th:only-of-type {\n",
              "        vertical-align: middle;\n",
              "    }\n",
              "\n",
              "    .dataframe tbody tr th {\n",
              "        vertical-align: top;\n",
              "    }\n",
              "\n",
              "    .dataframe thead th {\n",
              "        text-align: right;\n",
              "    }\n",
              "</style>\n",
              "<table border=\"1\" class=\"dataframe\">\n",
              "  <thead>\n",
              "    <tr style=\"text-align: right;\">\n",
              "      <th></th>\n",
              "      <th>year</th>\n",
              "      <th>month</th>\n",
              "      <th>passengers</th>\n",
              "    </tr>\n",
              "  </thead>\n",
              "  <tbody>\n",
              "    <tr>\n",
              "      <th>0</th>\n",
              "      <td>1949</td>\n",
              "      <td>Jan</td>\n",
              "      <td>112</td>\n",
              "    </tr>\n",
              "    <tr>\n",
              "      <th>1</th>\n",
              "      <td>1949</td>\n",
              "      <td>Feb</td>\n",
              "      <td>118</td>\n",
              "    </tr>\n",
              "    <tr>\n",
              "      <th>2</th>\n",
              "      <td>1949</td>\n",
              "      <td>Mar</td>\n",
              "      <td>132</td>\n",
              "    </tr>\n",
              "    <tr>\n",
              "      <th>3</th>\n",
              "      <td>1949</td>\n",
              "      <td>Apr</td>\n",
              "      <td>129</td>\n",
              "    </tr>\n",
              "    <tr>\n",
              "      <th>4</th>\n",
              "      <td>1949</td>\n",
              "      <td>May</td>\n",
              "      <td>121</td>\n",
              "    </tr>\n",
              "  </tbody>\n",
              "</table>\n",
              "</div>"
            ],
            "text/plain": [
              "   year month  passengers\n",
              "0  1949   Jan         112\n",
              "1  1949   Feb         118\n",
              "2  1949   Mar         132\n",
              "3  1949   Apr         129\n",
              "4  1949   May         121"
            ]
          },
          "execution_count": 3,
          "metadata": {},
          "output_type": "execute_result"
        }
      ],
      "source": [
        "df.head()"
      ]
    },
    {
      "cell_type": "code",
      "execution_count": 4,
      "metadata": {
        "colab": {
          "base_uri": "https://localhost:8080/"
        },
        "id": "hgaXIIioqHvw",
        "outputId": "64df29c1-ac0f-4e13-f97b-d4a1c518b11b"
      },
      "outputs": [
        {
          "name": "stderr",
          "output_type": "stream",
          "text": [
            "C:\\Users\\Administrator\\AppData\\Local\\Temp\\ipykernel_28312\\1354901155.py:1: UserWarning: Could not infer format, so each element will be parsed individually, falling back to `dateutil`. To ensure parsing is consistent and as-expected, please specify a format.\n",
            "  df['date'] = pd.to_datetime(df['year'].astype(str) + '-' + df['month'].astype(str))\n"
          ]
        }
      ],
      "source": [
        "df['date'] = pd.to_datetime(df['year'].astype(str) + '-' + df['month'].astype(str))\n",
        "df.set_index('date', inplace=True)\n",
        "df = df[['passengers']]"
      ]
    },
    {
      "cell_type": "code",
      "execution_count": 5,
      "metadata": {
        "colab": {
          "base_uri": "https://localhost:8080/",
          "height": 237
        },
        "id": "tEY0FTShqy87",
        "outputId": "b341e79e-0dd9-47ce-c4b8-706ebcedcaf8"
      },
      "outputs": [
        {
          "data": {
            "text/html": [
              "<div>\n",
              "<style scoped>\n",
              "    .dataframe tbody tr th:only-of-type {\n",
              "        vertical-align: middle;\n",
              "    }\n",
              "\n",
              "    .dataframe tbody tr th {\n",
              "        vertical-align: top;\n",
              "    }\n",
              "\n",
              "    .dataframe thead th {\n",
              "        text-align: right;\n",
              "    }\n",
              "</style>\n",
              "<table border=\"1\" class=\"dataframe\">\n",
              "  <thead>\n",
              "    <tr style=\"text-align: right;\">\n",
              "      <th></th>\n",
              "      <th>passengers</th>\n",
              "    </tr>\n",
              "    <tr>\n",
              "      <th>date</th>\n",
              "      <th></th>\n",
              "    </tr>\n",
              "  </thead>\n",
              "  <tbody>\n",
              "    <tr>\n",
              "      <th>1949-01-01</th>\n",
              "      <td>112</td>\n",
              "    </tr>\n",
              "    <tr>\n",
              "      <th>1949-02-01</th>\n",
              "      <td>118</td>\n",
              "    </tr>\n",
              "    <tr>\n",
              "      <th>1949-03-01</th>\n",
              "      <td>132</td>\n",
              "    </tr>\n",
              "    <tr>\n",
              "      <th>1949-04-01</th>\n",
              "      <td>129</td>\n",
              "    </tr>\n",
              "    <tr>\n",
              "      <th>1949-05-01</th>\n",
              "      <td>121</td>\n",
              "    </tr>\n",
              "  </tbody>\n",
              "</table>\n",
              "</div>"
            ],
            "text/plain": [
              "            passengers\n",
              "date                  \n",
              "1949-01-01         112\n",
              "1949-02-01         118\n",
              "1949-03-01         132\n",
              "1949-04-01         129\n",
              "1949-05-01         121"
            ]
          },
          "execution_count": 5,
          "metadata": {},
          "output_type": "execute_result"
        }
      ],
      "source": [
        "df.head()"
      ]
    },
    {
      "cell_type": "markdown",
      "metadata": {
        "id": "7hKUsKL940gp"
      },
      "source": [
        "# Exploratory Data Analysis"
      ]
    },
    {
      "cell_type": "code",
      "execution_count": 6,
      "metadata": {
        "colab": {
          "base_uri": "https://localhost:8080/",
          "height": 542
        },
        "id": "THJo7x-V5G_V",
        "outputId": "041df864-75c3-4726-810c-c6d4f000e95a"
      },
      "outputs": [
        {
          "data": {
            "application/vnd.plotly.v1+json": {
              "config": {
                "plotlyServerURL": "https://plot.ly"
              },
              "data": [
                {
                  "line": {
                    "width": 2
                  },
                  "marker": {
                    "size": 5
                  },
                  "mode": "lines+markers",
                  "name": "Passengers",
                  "type": "scatter",
                  "x": [
                    "1949-01-01T00:00:00",
                    "1949-02-01T00:00:00",
                    "1949-03-01T00:00:00",
                    "1949-04-01T00:00:00",
                    "1949-05-01T00:00:00",
                    "1949-06-01T00:00:00",
                    "1949-07-01T00:00:00",
                    "1949-08-01T00:00:00",
                    "1949-09-01T00:00:00",
                    "1949-10-01T00:00:00",
                    "1949-11-01T00:00:00",
                    "1949-12-01T00:00:00",
                    "1950-01-01T00:00:00",
                    "1950-02-01T00:00:00",
                    "1950-03-01T00:00:00",
                    "1950-04-01T00:00:00",
                    "1950-05-01T00:00:00",
                    "1950-06-01T00:00:00",
                    "1950-07-01T00:00:00",
                    "1950-08-01T00:00:00",
                    "1950-09-01T00:00:00",
                    "1950-10-01T00:00:00",
                    "1950-11-01T00:00:00",
                    "1950-12-01T00:00:00",
                    "1951-01-01T00:00:00",
                    "1951-02-01T00:00:00",
                    "1951-03-01T00:00:00",
                    "1951-04-01T00:00:00",
                    "1951-05-01T00:00:00",
                    "1951-06-01T00:00:00",
                    "1951-07-01T00:00:00",
                    "1951-08-01T00:00:00",
                    "1951-09-01T00:00:00",
                    "1951-10-01T00:00:00",
                    "1951-11-01T00:00:00",
                    "1951-12-01T00:00:00",
                    "1952-01-01T00:00:00",
                    "1952-02-01T00:00:00",
                    "1952-03-01T00:00:00",
                    "1952-04-01T00:00:00",
                    "1952-05-01T00:00:00",
                    "1952-06-01T00:00:00",
                    "1952-07-01T00:00:00",
                    "1952-08-01T00:00:00",
                    "1952-09-01T00:00:00",
                    "1952-10-01T00:00:00",
                    "1952-11-01T00:00:00",
                    "1952-12-01T00:00:00",
                    "1953-01-01T00:00:00",
                    "1953-02-01T00:00:00",
                    "1953-03-01T00:00:00",
                    "1953-04-01T00:00:00",
                    "1953-05-01T00:00:00",
                    "1953-06-01T00:00:00",
                    "1953-07-01T00:00:00",
                    "1953-08-01T00:00:00",
                    "1953-09-01T00:00:00",
                    "1953-10-01T00:00:00",
                    "1953-11-01T00:00:00",
                    "1953-12-01T00:00:00",
                    "1954-01-01T00:00:00",
                    "1954-02-01T00:00:00",
                    "1954-03-01T00:00:00",
                    "1954-04-01T00:00:00",
                    "1954-05-01T00:00:00",
                    "1954-06-01T00:00:00",
                    "1954-07-01T00:00:00",
                    "1954-08-01T00:00:00",
                    "1954-09-01T00:00:00",
                    "1954-10-01T00:00:00",
                    "1954-11-01T00:00:00",
                    "1954-12-01T00:00:00",
                    "1955-01-01T00:00:00",
                    "1955-02-01T00:00:00",
                    "1955-03-01T00:00:00",
                    "1955-04-01T00:00:00",
                    "1955-05-01T00:00:00",
                    "1955-06-01T00:00:00",
                    "1955-07-01T00:00:00",
                    "1955-08-01T00:00:00",
                    "1955-09-01T00:00:00",
                    "1955-10-01T00:00:00",
                    "1955-11-01T00:00:00",
                    "1955-12-01T00:00:00",
                    "1956-01-01T00:00:00",
                    "1956-02-01T00:00:00",
                    "1956-03-01T00:00:00",
                    "1956-04-01T00:00:00",
                    "1956-05-01T00:00:00",
                    "1956-06-01T00:00:00",
                    "1956-07-01T00:00:00",
                    "1956-08-01T00:00:00",
                    "1956-09-01T00:00:00",
                    "1956-10-01T00:00:00",
                    "1956-11-01T00:00:00",
                    "1956-12-01T00:00:00",
                    "1957-01-01T00:00:00",
                    "1957-02-01T00:00:00",
                    "1957-03-01T00:00:00",
                    "1957-04-01T00:00:00",
                    "1957-05-01T00:00:00",
                    "1957-06-01T00:00:00",
                    "1957-07-01T00:00:00",
                    "1957-08-01T00:00:00",
                    "1957-09-01T00:00:00",
                    "1957-10-01T00:00:00",
                    "1957-11-01T00:00:00",
                    "1957-12-01T00:00:00",
                    "1958-01-01T00:00:00",
                    "1958-02-01T00:00:00",
                    "1958-03-01T00:00:00",
                    "1958-04-01T00:00:00",
                    "1958-05-01T00:00:00",
                    "1958-06-01T00:00:00",
                    "1958-07-01T00:00:00",
                    "1958-08-01T00:00:00",
                    "1958-09-01T00:00:00",
                    "1958-10-01T00:00:00",
                    "1958-11-01T00:00:00",
                    "1958-12-01T00:00:00",
                    "1959-01-01T00:00:00",
                    "1959-02-01T00:00:00",
                    "1959-03-01T00:00:00",
                    "1959-04-01T00:00:00",
                    "1959-05-01T00:00:00",
                    "1959-06-01T00:00:00",
                    "1959-07-01T00:00:00",
                    "1959-08-01T00:00:00",
                    "1959-09-01T00:00:00",
                    "1959-10-01T00:00:00",
                    "1959-11-01T00:00:00",
                    "1959-12-01T00:00:00",
                    "1960-01-01T00:00:00",
                    "1960-02-01T00:00:00",
                    "1960-03-01T00:00:00",
                    "1960-04-01T00:00:00",
                    "1960-05-01T00:00:00",
                    "1960-06-01T00:00:00",
                    "1960-07-01T00:00:00",
                    "1960-08-01T00:00:00",
                    "1960-09-01T00:00:00",
                    "1960-10-01T00:00:00",
                    "1960-11-01T00:00:00",
                    "1960-12-01T00:00:00"
                  ],
                  "y": [
                    112,
                    118,
                    132,
                    129,
                    121,
                    135,
                    148,
                    148,
                    136,
                    119,
                    104,
                    118,
                    115,
                    126,
                    141,
                    135,
                    125,
                    149,
                    170,
                    170,
                    158,
                    133,
                    114,
                    140,
                    145,
                    150,
                    178,
                    163,
                    172,
                    178,
                    199,
                    199,
                    184,
                    162,
                    146,
                    166,
                    171,
                    180,
                    193,
                    181,
                    183,
                    218,
                    230,
                    242,
                    209,
                    191,
                    172,
                    194,
                    196,
                    196,
                    236,
                    235,
                    229,
                    243,
                    264,
                    272,
                    237,
                    211,
                    180,
                    201,
                    204,
                    188,
                    235,
                    227,
                    234,
                    264,
                    302,
                    293,
                    259,
                    229,
                    203,
                    229,
                    242,
                    233,
                    267,
                    269,
                    270,
                    315,
                    364,
                    347,
                    312,
                    274,
                    237,
                    278,
                    284,
                    277,
                    317,
                    313,
                    318,
                    374,
                    413,
                    405,
                    355,
                    306,
                    271,
                    306,
                    315,
                    301,
                    356,
                    348,
                    355,
                    422,
                    465,
                    467,
                    404,
                    347,
                    305,
                    336,
                    340,
                    318,
                    362,
                    348,
                    363,
                    435,
                    491,
                    505,
                    404,
                    359,
                    310,
                    337,
                    360,
                    342,
                    406,
                    396,
                    420,
                    472,
                    548,
                    559,
                    463,
                    407,
                    362,
                    405,
                    417,
                    391,
                    419,
                    461,
                    472,
                    535,
                    622,
                    606,
                    508,
                    461,
                    390,
                    432
                  ]
                }
              ],
              "layout": {
                "hovermode": "x",
                "template": {
                  "data": {
                    "bar": [
                      {
                        "error_x": {
                          "color": "#2a3f5f"
                        },
                        "error_y": {
                          "color": "#2a3f5f"
                        },
                        "marker": {
                          "line": {
                            "color": "white",
                            "width": 0.5
                          },
                          "pattern": {
                            "fillmode": "overlay",
                            "size": 10,
                            "solidity": 0.2
                          }
                        },
                        "type": "bar"
                      }
                    ],
                    "barpolar": [
                      {
                        "marker": {
                          "line": {
                            "color": "white",
                            "width": 0.5
                          },
                          "pattern": {
                            "fillmode": "overlay",
                            "size": 10,
                            "solidity": 0.2
                          }
                        },
                        "type": "barpolar"
                      }
                    ],
                    "carpet": [
                      {
                        "aaxis": {
                          "endlinecolor": "#2a3f5f",
                          "gridcolor": "#C8D4E3",
                          "linecolor": "#C8D4E3",
                          "minorgridcolor": "#C8D4E3",
                          "startlinecolor": "#2a3f5f"
                        },
                        "baxis": {
                          "endlinecolor": "#2a3f5f",
                          "gridcolor": "#C8D4E3",
                          "linecolor": "#C8D4E3",
                          "minorgridcolor": "#C8D4E3",
                          "startlinecolor": "#2a3f5f"
                        },
                        "type": "carpet"
                      }
                    ],
                    "choropleth": [
                      {
                        "colorbar": {
                          "outlinewidth": 0,
                          "ticks": ""
                        },
                        "type": "choropleth"
                      }
                    ],
                    "contour": [
                      {
                        "colorbar": {
                          "outlinewidth": 0,
                          "ticks": ""
                        },
                        "colorscale": [
                          [
                            0,
                            "#0d0887"
                          ],
                          [
                            0.1111111111111111,
                            "#46039f"
                          ],
                          [
                            0.2222222222222222,
                            "#7201a8"
                          ],
                          [
                            0.3333333333333333,
                            "#9c179e"
                          ],
                          [
                            0.4444444444444444,
                            "#bd3786"
                          ],
                          [
                            0.5555555555555556,
                            "#d8576b"
                          ],
                          [
                            0.6666666666666666,
                            "#ed7953"
                          ],
                          [
                            0.7777777777777778,
                            "#fb9f3a"
                          ],
                          [
                            0.8888888888888888,
                            "#fdca26"
                          ],
                          [
                            1,
                            "#f0f921"
                          ]
                        ],
                        "type": "contour"
                      }
                    ],
                    "contourcarpet": [
                      {
                        "colorbar": {
                          "outlinewidth": 0,
                          "ticks": ""
                        },
                        "type": "contourcarpet"
                      }
                    ],
                    "heatmap": [
                      {
                        "colorbar": {
                          "outlinewidth": 0,
                          "ticks": ""
                        },
                        "colorscale": [
                          [
                            0,
                            "#0d0887"
                          ],
                          [
                            0.1111111111111111,
                            "#46039f"
                          ],
                          [
                            0.2222222222222222,
                            "#7201a8"
                          ],
                          [
                            0.3333333333333333,
                            "#9c179e"
                          ],
                          [
                            0.4444444444444444,
                            "#bd3786"
                          ],
                          [
                            0.5555555555555556,
                            "#d8576b"
                          ],
                          [
                            0.6666666666666666,
                            "#ed7953"
                          ],
                          [
                            0.7777777777777778,
                            "#fb9f3a"
                          ],
                          [
                            0.8888888888888888,
                            "#fdca26"
                          ],
                          [
                            1,
                            "#f0f921"
                          ]
                        ],
                        "type": "heatmap"
                      }
                    ],
                    "heatmapgl": [
                      {
                        "colorbar": {
                          "outlinewidth": 0,
                          "ticks": ""
                        },
                        "colorscale": [
                          [
                            0,
                            "#0d0887"
                          ],
                          [
                            0.1111111111111111,
                            "#46039f"
                          ],
                          [
                            0.2222222222222222,
                            "#7201a8"
                          ],
                          [
                            0.3333333333333333,
                            "#9c179e"
                          ],
                          [
                            0.4444444444444444,
                            "#bd3786"
                          ],
                          [
                            0.5555555555555556,
                            "#d8576b"
                          ],
                          [
                            0.6666666666666666,
                            "#ed7953"
                          ],
                          [
                            0.7777777777777778,
                            "#fb9f3a"
                          ],
                          [
                            0.8888888888888888,
                            "#fdca26"
                          ],
                          [
                            1,
                            "#f0f921"
                          ]
                        ],
                        "type": "heatmapgl"
                      }
                    ],
                    "histogram": [
                      {
                        "marker": {
                          "pattern": {
                            "fillmode": "overlay",
                            "size": 10,
                            "solidity": 0.2
                          }
                        },
                        "type": "histogram"
                      }
                    ],
                    "histogram2d": [
                      {
                        "colorbar": {
                          "outlinewidth": 0,
                          "ticks": ""
                        },
                        "colorscale": [
                          [
                            0,
                            "#0d0887"
                          ],
                          [
                            0.1111111111111111,
                            "#46039f"
                          ],
                          [
                            0.2222222222222222,
                            "#7201a8"
                          ],
                          [
                            0.3333333333333333,
                            "#9c179e"
                          ],
                          [
                            0.4444444444444444,
                            "#bd3786"
                          ],
                          [
                            0.5555555555555556,
                            "#d8576b"
                          ],
                          [
                            0.6666666666666666,
                            "#ed7953"
                          ],
                          [
                            0.7777777777777778,
                            "#fb9f3a"
                          ],
                          [
                            0.8888888888888888,
                            "#fdca26"
                          ],
                          [
                            1,
                            "#f0f921"
                          ]
                        ],
                        "type": "histogram2d"
                      }
                    ],
                    "histogram2dcontour": [
                      {
                        "colorbar": {
                          "outlinewidth": 0,
                          "ticks": ""
                        },
                        "colorscale": [
                          [
                            0,
                            "#0d0887"
                          ],
                          [
                            0.1111111111111111,
                            "#46039f"
                          ],
                          [
                            0.2222222222222222,
                            "#7201a8"
                          ],
                          [
                            0.3333333333333333,
                            "#9c179e"
                          ],
                          [
                            0.4444444444444444,
                            "#bd3786"
                          ],
                          [
                            0.5555555555555556,
                            "#d8576b"
                          ],
                          [
                            0.6666666666666666,
                            "#ed7953"
                          ],
                          [
                            0.7777777777777778,
                            "#fb9f3a"
                          ],
                          [
                            0.8888888888888888,
                            "#fdca26"
                          ],
                          [
                            1,
                            "#f0f921"
                          ]
                        ],
                        "type": "histogram2dcontour"
                      }
                    ],
                    "mesh3d": [
                      {
                        "colorbar": {
                          "outlinewidth": 0,
                          "ticks": ""
                        },
                        "type": "mesh3d"
                      }
                    ],
                    "parcoords": [
                      {
                        "line": {
                          "colorbar": {
                            "outlinewidth": 0,
                            "ticks": ""
                          }
                        },
                        "type": "parcoords"
                      }
                    ],
                    "pie": [
                      {
                        "automargin": true,
                        "type": "pie"
                      }
                    ],
                    "scatter": [
                      {
                        "fillpattern": {
                          "fillmode": "overlay",
                          "size": 10,
                          "solidity": 0.2
                        },
                        "type": "scatter"
                      }
                    ],
                    "scatter3d": [
                      {
                        "line": {
                          "colorbar": {
                            "outlinewidth": 0,
                            "ticks": ""
                          }
                        },
                        "marker": {
                          "colorbar": {
                            "outlinewidth": 0,
                            "ticks": ""
                          }
                        },
                        "type": "scatter3d"
                      }
                    ],
                    "scattercarpet": [
                      {
                        "marker": {
                          "colorbar": {
                            "outlinewidth": 0,
                            "ticks": ""
                          }
                        },
                        "type": "scattercarpet"
                      }
                    ],
                    "scattergeo": [
                      {
                        "marker": {
                          "colorbar": {
                            "outlinewidth": 0,
                            "ticks": ""
                          }
                        },
                        "type": "scattergeo"
                      }
                    ],
                    "scattergl": [
                      {
                        "marker": {
                          "colorbar": {
                            "outlinewidth": 0,
                            "ticks": ""
                          }
                        },
                        "type": "scattergl"
                      }
                    ],
                    "scattermapbox": [
                      {
                        "marker": {
                          "colorbar": {
                            "outlinewidth": 0,
                            "ticks": ""
                          }
                        },
                        "type": "scattermapbox"
                      }
                    ],
                    "scatterpolar": [
                      {
                        "marker": {
                          "colorbar": {
                            "outlinewidth": 0,
                            "ticks": ""
                          }
                        },
                        "type": "scatterpolar"
                      }
                    ],
                    "scatterpolargl": [
                      {
                        "marker": {
                          "colorbar": {
                            "outlinewidth": 0,
                            "ticks": ""
                          }
                        },
                        "type": "scatterpolargl"
                      }
                    ],
                    "scatterternary": [
                      {
                        "marker": {
                          "colorbar": {
                            "outlinewidth": 0,
                            "ticks": ""
                          }
                        },
                        "type": "scatterternary"
                      }
                    ],
                    "surface": [
                      {
                        "colorbar": {
                          "outlinewidth": 0,
                          "ticks": ""
                        },
                        "colorscale": [
                          [
                            0,
                            "#0d0887"
                          ],
                          [
                            0.1111111111111111,
                            "#46039f"
                          ],
                          [
                            0.2222222222222222,
                            "#7201a8"
                          ],
                          [
                            0.3333333333333333,
                            "#9c179e"
                          ],
                          [
                            0.4444444444444444,
                            "#bd3786"
                          ],
                          [
                            0.5555555555555556,
                            "#d8576b"
                          ],
                          [
                            0.6666666666666666,
                            "#ed7953"
                          ],
                          [
                            0.7777777777777778,
                            "#fb9f3a"
                          ],
                          [
                            0.8888888888888888,
                            "#fdca26"
                          ],
                          [
                            1,
                            "#f0f921"
                          ]
                        ],
                        "type": "surface"
                      }
                    ],
                    "table": [
                      {
                        "cells": {
                          "fill": {
                            "color": "#EBF0F8"
                          },
                          "line": {
                            "color": "white"
                          }
                        },
                        "header": {
                          "fill": {
                            "color": "#C8D4E3"
                          },
                          "line": {
                            "color": "white"
                          }
                        },
                        "type": "table"
                      }
                    ]
                  },
                  "layout": {
                    "annotationdefaults": {
                      "arrowcolor": "#2a3f5f",
                      "arrowhead": 0,
                      "arrowwidth": 1
                    },
                    "autotypenumbers": "strict",
                    "coloraxis": {
                      "colorbar": {
                        "outlinewidth": 0,
                        "ticks": ""
                      }
                    },
                    "colorscale": {
                      "diverging": [
                        [
                          0,
                          "#8e0152"
                        ],
                        [
                          0.1,
                          "#c51b7d"
                        ],
                        [
                          0.2,
                          "#de77ae"
                        ],
                        [
                          0.3,
                          "#f1b6da"
                        ],
                        [
                          0.4,
                          "#fde0ef"
                        ],
                        [
                          0.5,
                          "#f7f7f7"
                        ],
                        [
                          0.6,
                          "#e6f5d0"
                        ],
                        [
                          0.7,
                          "#b8e186"
                        ],
                        [
                          0.8,
                          "#7fbc41"
                        ],
                        [
                          0.9,
                          "#4d9221"
                        ],
                        [
                          1,
                          "#276419"
                        ]
                      ],
                      "sequential": [
                        [
                          0,
                          "#0d0887"
                        ],
                        [
                          0.1111111111111111,
                          "#46039f"
                        ],
                        [
                          0.2222222222222222,
                          "#7201a8"
                        ],
                        [
                          0.3333333333333333,
                          "#9c179e"
                        ],
                        [
                          0.4444444444444444,
                          "#bd3786"
                        ],
                        [
                          0.5555555555555556,
                          "#d8576b"
                        ],
                        [
                          0.6666666666666666,
                          "#ed7953"
                        ],
                        [
                          0.7777777777777778,
                          "#fb9f3a"
                        ],
                        [
                          0.8888888888888888,
                          "#fdca26"
                        ],
                        [
                          1,
                          "#f0f921"
                        ]
                      ],
                      "sequentialminus": [
                        [
                          0,
                          "#0d0887"
                        ],
                        [
                          0.1111111111111111,
                          "#46039f"
                        ],
                        [
                          0.2222222222222222,
                          "#7201a8"
                        ],
                        [
                          0.3333333333333333,
                          "#9c179e"
                        ],
                        [
                          0.4444444444444444,
                          "#bd3786"
                        ],
                        [
                          0.5555555555555556,
                          "#d8576b"
                        ],
                        [
                          0.6666666666666666,
                          "#ed7953"
                        ],
                        [
                          0.7777777777777778,
                          "#fb9f3a"
                        ],
                        [
                          0.8888888888888888,
                          "#fdca26"
                        ],
                        [
                          1,
                          "#f0f921"
                        ]
                      ]
                    },
                    "colorway": [
                      "#636efa",
                      "#EF553B",
                      "#00cc96",
                      "#ab63fa",
                      "#FFA15A",
                      "#19d3f3",
                      "#FF6692",
                      "#B6E880",
                      "#FF97FF",
                      "#FECB52"
                    ],
                    "font": {
                      "color": "#2a3f5f"
                    },
                    "geo": {
                      "bgcolor": "white",
                      "lakecolor": "white",
                      "landcolor": "white",
                      "showlakes": true,
                      "showland": true,
                      "subunitcolor": "#C8D4E3"
                    },
                    "hoverlabel": {
                      "align": "left"
                    },
                    "hovermode": "closest",
                    "mapbox": {
                      "style": "light"
                    },
                    "paper_bgcolor": "white",
                    "plot_bgcolor": "white",
                    "polar": {
                      "angularaxis": {
                        "gridcolor": "#EBF0F8",
                        "linecolor": "#EBF0F8",
                        "ticks": ""
                      },
                      "bgcolor": "white",
                      "radialaxis": {
                        "gridcolor": "#EBF0F8",
                        "linecolor": "#EBF0F8",
                        "ticks": ""
                      }
                    },
                    "scene": {
                      "xaxis": {
                        "backgroundcolor": "white",
                        "gridcolor": "#DFE8F3",
                        "gridwidth": 2,
                        "linecolor": "#EBF0F8",
                        "showbackground": true,
                        "ticks": "",
                        "zerolinecolor": "#EBF0F8"
                      },
                      "yaxis": {
                        "backgroundcolor": "white",
                        "gridcolor": "#DFE8F3",
                        "gridwidth": 2,
                        "linecolor": "#EBF0F8",
                        "showbackground": true,
                        "ticks": "",
                        "zerolinecolor": "#EBF0F8"
                      },
                      "zaxis": {
                        "backgroundcolor": "white",
                        "gridcolor": "#DFE8F3",
                        "gridwidth": 2,
                        "linecolor": "#EBF0F8",
                        "showbackground": true,
                        "ticks": "",
                        "zerolinecolor": "#EBF0F8"
                      }
                    },
                    "shapedefaults": {
                      "line": {
                        "color": "#2a3f5f"
                      }
                    },
                    "ternary": {
                      "aaxis": {
                        "gridcolor": "#DFE8F3",
                        "linecolor": "#A2B1C6",
                        "ticks": ""
                      },
                      "baxis": {
                        "gridcolor": "#DFE8F3",
                        "linecolor": "#A2B1C6",
                        "ticks": ""
                      },
                      "bgcolor": "white",
                      "caxis": {
                        "gridcolor": "#DFE8F3",
                        "linecolor": "#A2B1C6",
                        "ticks": ""
                      }
                    },
                    "title": {
                      "x": 0.05
                    },
                    "xaxis": {
                      "automargin": true,
                      "gridcolor": "#EBF0F8",
                      "linecolor": "#EBF0F8",
                      "ticks": "",
                      "title": {
                        "standoff": 15
                      },
                      "zerolinecolor": "#EBF0F8",
                      "zerolinewidth": 2
                    },
                    "yaxis": {
                      "automargin": true,
                      "gridcolor": "#EBF0F8",
                      "linecolor": "#EBF0F8",
                      "ticks": "",
                      "title": {
                        "standoff": 15
                      },
                      "zerolinecolor": "#EBF0F8",
                      "zerolinewidth": 2
                    }
                  }
                },
                "title": {
                  "text": "Number of Passengers Over Time"
                },
                "xaxis": {
                  "title": {
                    "text": "Date"
                  }
                },
                "yaxis": {
                  "title": {
                    "text": "Number of Passengers"
                  }
                }
              }
            }
          },
          "metadata": {},
          "output_type": "display_data"
        }
      ],
      "source": [
        "fig = go.Figure()\n",
        "\n",
        "fig.add_trace(go.Scatter(\n",
        "    x=df.index,\n",
        "    y=df['passengers'],\n",
        "    mode='lines+markers',\n",
        "    marker=dict(size=5),\n",
        "    line=dict(width=2),\n",
        "    name='Passengers'\n",
        "))\n",
        "\n",
        "fig.update_layout(\n",
        "    title='Number of Passengers Over Time',\n",
        "    xaxis_title='Date',\n",
        "    yaxis_title='Number of Passengers',\n",
        "    template='plotly_white',\n",
        "    hovermode='x'\n",
        ")\n",
        "\n",
        "fig.show()"
      ]
    },
    {
      "cell_type": "markdown",
      "metadata": {
        "id": "vrZN-X7Y5fV-"
      },
      "source": [
        "# ⚠️ Split your data set into train/test ⚠️\n",
        "\n",
        "- A train/test split is crucial in time series analysis to assess a model's ability to generalize and accurately predict future values, ensuring it performs well on unseen data rather than just memorizing historical patterns.\n",
        "\n",
        "- In time series analysis, you can’t use a standard random train/test split because it would break the temporal order of the data. Since time series data is sequential, each observation depends on previous points; shuffling the data would remove this critical relationship and lead to unrealistic, unreliable results when evaluating model performance.\n",
        "\n",
        "- Splitting techniques:\n",
        "  - Split the data chronologically, using the earlier portion for training and the later portion for testing.\n",
        "  - Use an expanding window where each training set includes all data up to the prediction point, gradually increasing as you move forward in time.\n",
        "\n",
        "  `from sklearn.model_selection import TimeSeriesSplit`\n",
        "  \n",
        "  `tscv = TimeSeriesSplit(n_splits=5)`\n"
      ]
    },
    {
      "cell_type": "code",
      "execution_count": 7,
      "metadata": {
        "id": "sgM4Zgea5T5b"
      },
      "outputs": [],
      "source": [
        "# Split the data chronologically\n",
        "train_size = int(len(df) * 0.8)  # 80% for training\n",
        "train, test = df[:train_size], df[train_size:]"
      ]
    },
    {
      "cell_type": "markdown",
      "metadata": {
        "id": "wpNE0sOq_mC2"
      },
      "source": [
        "# 📈 Classical decomposition model"
      ]
    },
    {
      "cell_type": "markdown",
      "metadata": {
        "id": "0096yuor_oHv"
      },
      "source": [
        "## 1. Linear Regression Model\n",
        "From the linear regression context, we know that a model takes the form:\n",
        "\n",
        "$$ Y_i = \\beta_0 + \\beta_1 X_{i1} + \\beta_2 X_{i2} + \\dots + \\beta_p X_{ip} + \\epsilon_i\n",
        " $$\n",
        "\n",
        " where:\n",
        " - $Y_i$ is the response variable\n",
        " - $\\beta_j$'s are the parameters (coefficients)\n",
        " - $X_{ij}$'s are the predictor variables\n",
        " - $\\epsilon_i$ is the error term."
      ]
    },
    {
      "cell_type": "markdown",
      "metadata": {
        "id": "Jdlp7saIAWsO"
      },
      "source": [
        "### 2. Time Series Decomposition Model\n",
        "\n",
        "Using this idea, the following model accounts for trend and seasonality in a time series dataset:\n",
        "\n",
        "$$ Y_t = m_t + s_t + \\epsilon_t\n",
        " $$\n",
        "\n",
        " where:\n",
        " - $Y_t$ is the response variable\n",
        " - $m_t$ is the trend component\n",
        " - $s_t$ is the seasonal component\n",
        " - $\\epsilon_t$ is the error term (noise, rnadom fluctuations)"
      ]
    },
    {
      "cell_type": "markdown",
      "metadata": {
        "id": "ZQokWoMnCxLV"
      },
      "source": [
        "### 3. Modeling the Trend Component\n",
        "\n",
        "We can typically model the trend component with low order polynomials:\n",
        "\n",
        "$$ m_t = \\sum^p_{i=0}\\beta_it^i$$\n",
        "\n",
        "where $p$ represents the order of the polynomial, $\\beta_i$ are coefficients and $t^i$ representes powers of time $t$."
      ]
    },
    {
      "cell_type": "markdown",
      "metadata": {
        "id": "dRypsjNXFJDr"
      },
      "source": [
        "### 4. Modeling the Seasonal Component\n",
        "\n",
        "We can account for seasonality of period $s$ by defining a categorial variable with $s$ levels and model this with $s-1$ \"dummy\" variables:\n",
        "\n",
        "$$ s_t = \\sum^{s-1}_{j=1}\\gamma_j D_{jt}$$\n",
        "\n",
        "where $D_{jt}$ are the dummy variables for each season (e.g., month), and $\\gamma_j$ are coefficients. The summation goes up to $s-1$ because one level is usually omitted to avoid multicollinearity."
      ]
    },
    {
      "cell_type": "markdown",
      "metadata": {
        "id": "OofyCvRkGOxF"
      },
      "source": [
        "### 5. Complete model\n",
        "\n",
        "Combining the trend, seasonal, and error components, the full model is:\n",
        "\n",
        "$$Y_t = \\sum^p_{i=0}\\beta_it^i + \\sum^{s-1}_{j=1}\\gamma_j D_{jt} + \\epsilon_t$$\n",
        "\n",
        "or in other words:\n",
        "\n",
        "$$Y_t = \\beta_0 + \\beta_1 t + \\beta_2 t^2 + \\gamma_1 D_{1t} + \\gamma_2 D_{2t} + \\dots + \\gamma_{s-1} D_{(s-1)t} + \\epsilon_t\n",
        "$$"
      ]
    },
    {
      "cell_type": "markdown",
      "metadata": {
        "id": "aNOYr7D9G_2Q"
      },
      "source": [
        "# 🎨 Let’s get our hands dirty with Python!\n",
        "\n",
        "For this example, we are going to work with the dataset `AirPassengers` that contains the monthly totals of international airline passengers between 1949 and 1960."
      ]
    },
    {
      "cell_type": "code",
      "execution_count": 8,
      "metadata": {
        "colab": {
          "base_uri": "https://localhost:8080/",
          "height": 237
        },
        "id": "4oWzU3qD-RGs",
        "outputId": "a174dc25-3ed2-4e49-bf85-9a42fa5864db"
      },
      "outputs": [
        {
          "data": {
            "text/html": [
              "<div>\n",
              "<style scoped>\n",
              "    .dataframe tbody tr th:only-of-type {\n",
              "        vertical-align: middle;\n",
              "    }\n",
              "\n",
              "    .dataframe tbody tr th {\n",
              "        vertical-align: top;\n",
              "    }\n",
              "\n",
              "    .dataframe thead th {\n",
              "        text-align: right;\n",
              "    }\n",
              "</style>\n",
              "<table border=\"1\" class=\"dataframe\">\n",
              "  <thead>\n",
              "    <tr style=\"text-align: right;\">\n",
              "      <th></th>\n",
              "      <th>passengers</th>\n",
              "    </tr>\n",
              "    <tr>\n",
              "      <th>date</th>\n",
              "      <th></th>\n",
              "    </tr>\n",
              "  </thead>\n",
              "  <tbody>\n",
              "    <tr>\n",
              "      <th>1949-01-01</th>\n",
              "      <td>112</td>\n",
              "    </tr>\n",
              "    <tr>\n",
              "      <th>1949-02-01</th>\n",
              "      <td>118</td>\n",
              "    </tr>\n",
              "    <tr>\n",
              "      <th>1949-03-01</th>\n",
              "      <td>132</td>\n",
              "    </tr>\n",
              "    <tr>\n",
              "      <th>1949-04-01</th>\n",
              "      <td>129</td>\n",
              "    </tr>\n",
              "    <tr>\n",
              "      <th>1949-05-01</th>\n",
              "      <td>121</td>\n",
              "    </tr>\n",
              "  </tbody>\n",
              "</table>\n",
              "</div>"
            ],
            "text/plain": [
              "            passengers\n",
              "date                  \n",
              "1949-01-01         112\n",
              "1949-02-01         118\n",
              "1949-03-01         132\n",
              "1949-04-01         129\n",
              "1949-05-01         121"
            ]
          },
          "execution_count": 8,
          "metadata": {},
          "output_type": "execute_result"
        }
      ],
      "source": [
        "# our data\n",
        "train.head()"
      ]
    },
    {
      "cell_type": "markdown",
      "metadata": {
        "id": "K2y-gwNWIXLr"
      },
      "source": [
        "Now, we need to prepare our data to use the model described above."
      ]
    },
    {
      "cell_type": "markdown",
      "metadata": {
        "id": "i1dpX8uQIjt_"
      },
      "source": [
        "### Creating a time variable $t$\n",
        "\n",
        "In time series analysis, adding a time variable $t$ allows us to explicitly model **trends** in the data. By representing time as a numerical variable, we enable models to capture any linear or non-linear changes over time (e.g., an upward or downward trend). This step is especially useful in regression-based time series models or when decomposing a time series into trend, seasonal, and residual components."
      ]
    },
    {
      "cell_type": "code",
      "execution_count": 9,
      "metadata": {
        "colab": {
          "base_uri": "https://localhost:8080/",
          "height": 237
        },
        "id": "Rlk82KWhGvN0",
        "outputId": "f2853c23-3da8-4101-c87c-25126041610d"
      },
      "outputs": [
        {
          "data": {
            "text/html": [
              "<div>\n",
              "<style scoped>\n",
              "    .dataframe tbody tr th:only-of-type {\n",
              "        vertical-align: middle;\n",
              "    }\n",
              "\n",
              "    .dataframe tbody tr th {\n",
              "        vertical-align: top;\n",
              "    }\n",
              "\n",
              "    .dataframe thead th {\n",
              "        text-align: right;\n",
              "    }\n",
              "</style>\n",
              "<table border=\"1\" class=\"dataframe\">\n",
              "  <thead>\n",
              "    <tr style=\"text-align: right;\">\n",
              "      <th></th>\n",
              "      <th>passengers</th>\n",
              "      <th>t</th>\n",
              "    </tr>\n",
              "    <tr>\n",
              "      <th>date</th>\n",
              "      <th></th>\n",
              "      <th></th>\n",
              "    </tr>\n",
              "  </thead>\n",
              "  <tbody>\n",
              "    <tr>\n",
              "      <th>1949-01-01</th>\n",
              "      <td>112</td>\n",
              "      <td>1</td>\n",
              "    </tr>\n",
              "    <tr>\n",
              "      <th>1949-02-01</th>\n",
              "      <td>118</td>\n",
              "      <td>2</td>\n",
              "    </tr>\n",
              "    <tr>\n",
              "      <th>1949-03-01</th>\n",
              "      <td>132</td>\n",
              "      <td>3</td>\n",
              "    </tr>\n",
              "    <tr>\n",
              "      <th>1949-04-01</th>\n",
              "      <td>129</td>\n",
              "      <td>4</td>\n",
              "    </tr>\n",
              "    <tr>\n",
              "      <th>1949-05-01</th>\n",
              "      <td>121</td>\n",
              "      <td>5</td>\n",
              "    </tr>\n",
              "  </tbody>\n",
              "</table>\n",
              "</div>"
            ],
            "text/plain": [
              "            passengers  t\n",
              "date                     \n",
              "1949-01-01         112  1\n",
              "1949-02-01         118  2\n",
              "1949-03-01         132  3\n",
              "1949-04-01         129  4\n",
              "1949-05-01         121  5"
            ]
          },
          "execution_count": 9,
          "metadata": {},
          "output_type": "execute_result"
        }
      ],
      "source": [
        "# Create the time variable `t` in the train DataFrame\n",
        "train['t'] = range(1, len(train) + 1)\n",
        "\n",
        "train.head()"
      ]
    },
    {
      "cell_type": "markdown",
      "metadata": {
        "id": "1jVSsBjGJr1m"
      },
      "source": [
        "### Introducing month as a seasonal variable\n",
        "\n",
        "In time series data with known seasonality, such as monthly data, certain patterns may repeat at regular intervals. For the Air Passengers dataset, we might expect higher passenger numbers in certain months (e.g., during summer or holiday seasons) and lower numbers in others. Introducing \"month\" as a categorical variable allows us to capture this **seasonal** pattern."
      ]
    },
    {
      "cell_type": "code",
      "execution_count": 10,
      "metadata": {
        "colab": {
          "base_uri": "https://localhost:8080/",
          "height": 237
        },
        "id": "ATrOZOLgJbZK",
        "outputId": "a0ab61f4-90e3-4dcd-e944-04a22fbf6a90"
      },
      "outputs": [
        {
          "data": {
            "text/html": [
              "<div>\n",
              "<style scoped>\n",
              "    .dataframe tbody tr th:only-of-type {\n",
              "        vertical-align: middle;\n",
              "    }\n",
              "\n",
              "    .dataframe tbody tr th {\n",
              "        vertical-align: top;\n",
              "    }\n",
              "\n",
              "    .dataframe thead th {\n",
              "        text-align: right;\n",
              "    }\n",
              "</style>\n",
              "<table border=\"1\" class=\"dataframe\">\n",
              "  <thead>\n",
              "    <tr style=\"text-align: right;\">\n",
              "      <th></th>\n",
              "      <th>passengers</th>\n",
              "      <th>t</th>\n",
              "      <th>month</th>\n",
              "    </tr>\n",
              "    <tr>\n",
              "      <th>date</th>\n",
              "      <th></th>\n",
              "      <th></th>\n",
              "      <th></th>\n",
              "    </tr>\n",
              "  </thead>\n",
              "  <tbody>\n",
              "    <tr>\n",
              "      <th>1949-01-01</th>\n",
              "      <td>112</td>\n",
              "      <td>1</td>\n",
              "      <td>1</td>\n",
              "    </tr>\n",
              "    <tr>\n",
              "      <th>1949-02-01</th>\n",
              "      <td>118</td>\n",
              "      <td>2</td>\n",
              "      <td>2</td>\n",
              "    </tr>\n",
              "    <tr>\n",
              "      <th>1949-03-01</th>\n",
              "      <td>132</td>\n",
              "      <td>3</td>\n",
              "      <td>3</td>\n",
              "    </tr>\n",
              "    <tr>\n",
              "      <th>1949-04-01</th>\n",
              "      <td>129</td>\n",
              "      <td>4</td>\n",
              "      <td>4</td>\n",
              "    </tr>\n",
              "    <tr>\n",
              "      <th>1949-05-01</th>\n",
              "      <td>121</td>\n",
              "      <td>5</td>\n",
              "      <td>5</td>\n",
              "    </tr>\n",
              "  </tbody>\n",
              "</table>\n",
              "</div>"
            ],
            "text/plain": [
              "            passengers  t month\n",
              "date                           \n",
              "1949-01-01         112  1     1\n",
              "1949-02-01         118  2     2\n",
              "1949-03-01         132  3     3\n",
              "1949-04-01         129  4     4\n",
              "1949-05-01         121  5     5"
            ]
          },
          "execution_count": 10,
          "metadata": {},
          "output_type": "execute_result"
        }
      ],
      "source": [
        "# Extract month from the date index and convert it to a categorical variable\n",
        "train['month'] = train.index.month.astype(str)  # Converting to string to treat as a categorical variable\n",
        "\n",
        "train.head()"
      ]
    },
    {
      "cell_type": "markdown",
      "metadata": {
        "id": "UB32dD99K6RY"
      },
      "source": [
        "### Data pre-processing\n",
        "\n",
        "In the graph, you might notice that the **variation in passenger numbers** is not consistent over time. When this happens—meaning that the \"spread\" or \"volatility\" of data points increases or decreases over time—we call it **heteroskedasticity**.\n",
        "\n",
        "To make the model handle this better, we can apply a **log transformation** to the response variable (passenger counts). The log transformation reduces the impact of large numbers and can help stabilize the variance, making the model more effective.\n"
      ]
    },
    {
      "cell_type": "code",
      "execution_count": 11,
      "metadata": {
        "colab": {
          "base_uri": "https://localhost:8080/",
          "height": 237
        },
        "id": "cya_XD-fJ56B",
        "outputId": "f4f21a4d-a19a-439a-b47d-966d961249c9"
      },
      "outputs": [
        {
          "data": {
            "text/html": [
              "<div>\n",
              "<style scoped>\n",
              "    .dataframe tbody tr th:only-of-type {\n",
              "        vertical-align: middle;\n",
              "    }\n",
              "\n",
              "    .dataframe tbody tr th {\n",
              "        vertical-align: top;\n",
              "    }\n",
              "\n",
              "    .dataframe thead th {\n",
              "        text-align: right;\n",
              "    }\n",
              "</style>\n",
              "<table border=\"1\" class=\"dataframe\">\n",
              "  <thead>\n",
              "    <tr style=\"text-align: right;\">\n",
              "      <th></th>\n",
              "      <th>passengers</th>\n",
              "      <th>t</th>\n",
              "      <th>month</th>\n",
              "      <th>log_passengers</th>\n",
              "    </tr>\n",
              "    <tr>\n",
              "      <th>date</th>\n",
              "      <th></th>\n",
              "      <th></th>\n",
              "      <th></th>\n",
              "      <th></th>\n",
              "    </tr>\n",
              "  </thead>\n",
              "  <tbody>\n",
              "    <tr>\n",
              "      <th>1949-01-01</th>\n",
              "      <td>112</td>\n",
              "      <td>1</td>\n",
              "      <td>1</td>\n",
              "      <td>4.718499</td>\n",
              "    </tr>\n",
              "    <tr>\n",
              "      <th>1949-02-01</th>\n",
              "      <td>118</td>\n",
              "      <td>2</td>\n",
              "      <td>2</td>\n",
              "      <td>4.770685</td>\n",
              "    </tr>\n",
              "    <tr>\n",
              "      <th>1949-03-01</th>\n",
              "      <td>132</td>\n",
              "      <td>3</td>\n",
              "      <td>3</td>\n",
              "      <td>4.882802</td>\n",
              "    </tr>\n",
              "    <tr>\n",
              "      <th>1949-04-01</th>\n",
              "      <td>129</td>\n",
              "      <td>4</td>\n",
              "      <td>4</td>\n",
              "      <td>4.859812</td>\n",
              "    </tr>\n",
              "    <tr>\n",
              "      <th>1949-05-01</th>\n",
              "      <td>121</td>\n",
              "      <td>5</td>\n",
              "      <td>5</td>\n",
              "      <td>4.795791</td>\n",
              "    </tr>\n",
              "  </tbody>\n",
              "</table>\n",
              "</div>"
            ],
            "text/plain": [
              "            passengers  t month  log_passengers\n",
              "date                                           \n",
              "1949-01-01         112  1     1        4.718499\n",
              "1949-02-01         118  2     2        4.770685\n",
              "1949-03-01         132  3     3        4.882802\n",
              "1949-04-01         129  4     4        4.859812\n",
              "1949-05-01         121  5     5        4.795791"
            ]
          },
          "execution_count": 11,
          "metadata": {},
          "output_type": "execute_result"
        }
      ],
      "source": [
        "# Apply a log transformation to the passengers column\n",
        "train['log_passengers'] = np.log(train['passengers'])\n",
        "\n",
        "train.head()"
      ]
    },
    {
      "cell_type": "markdown",
      "metadata": {
        "id": "BeHqWp7KMH9B"
      },
      "source": [
        "### Modeling the trend\n",
        "We're using linear regression to capture the trend in the data, but we're doing it on the log-transformed passenger counts.\n",
        "\n",
        "- We transformed the passengers data with log to stabilize the variance, making it easier to see the underlying trend.\n",
        "\n",
        "- We use $t$ (time) as the predictor for the trend, and add a constant term to allow the model to have an intercept."
      ]
    },
    {
      "cell_type": "code",
      "execution_count": 12,
      "metadata": {
        "id": "8liwNu6TLiBu"
      },
      "outputs": [],
      "source": [
        "# Prepare the data\n",
        "X = train[['t']]  # Use `t` as the predictor\n",
        "y = train['log_passengers']\n",
        "\n",
        "# Fit a linear regression model with log-transformed response\n",
        "model = LinearRegression()\n",
        "model.fit(X, y)\n",
        "\n",
        "# Get fitted values (predicted values) from the model\n",
        "train['fitted_trend'] = model.predict(X)"
      ]
    },
    {
      "cell_type": "code",
      "execution_count": 13,
      "metadata": {
        "colab": {
          "base_uri": "https://localhost:8080/",
          "height": 542
        },
        "id": "niLXUc3xL14J",
        "outputId": "2e9d90b3-2023-4fa1-af32-735ab9fa9465"
      },
      "outputs": [
        {
          "data": {
            "application/vnd.plotly.v1+json": {
              "config": {
                "plotlyServerURL": "https://plot.ly"
              },
              "data": [
                {
                  "customdata": [
                    [
                      "1949-01",
                      112
                    ],
                    [
                      "1949-02",
                      118
                    ],
                    [
                      "1949-03",
                      132
                    ],
                    [
                      "1949-04",
                      129
                    ],
                    [
                      "1949-05",
                      121
                    ],
                    [
                      "1949-06",
                      135
                    ],
                    [
                      "1949-07",
                      148
                    ],
                    [
                      "1949-08",
                      148
                    ],
                    [
                      "1949-09",
                      136
                    ],
                    [
                      "1949-10",
                      119
                    ],
                    [
                      "1949-11",
                      104
                    ],
                    [
                      "1949-12",
                      118
                    ],
                    [
                      "1950-01",
                      115
                    ],
                    [
                      "1950-02",
                      126
                    ],
                    [
                      "1950-03",
                      141
                    ],
                    [
                      "1950-04",
                      135
                    ],
                    [
                      "1950-05",
                      125
                    ],
                    [
                      "1950-06",
                      149
                    ],
                    [
                      "1950-07",
                      170
                    ],
                    [
                      "1950-08",
                      170
                    ],
                    [
                      "1950-09",
                      158
                    ],
                    [
                      "1950-10",
                      133
                    ],
                    [
                      "1950-11",
                      114
                    ],
                    [
                      "1950-12",
                      140
                    ],
                    [
                      "1951-01",
                      145
                    ],
                    [
                      "1951-02",
                      150
                    ],
                    [
                      "1951-03",
                      178
                    ],
                    [
                      "1951-04",
                      163
                    ],
                    [
                      "1951-05",
                      172
                    ],
                    [
                      "1951-06",
                      178
                    ],
                    [
                      "1951-07",
                      199
                    ],
                    [
                      "1951-08",
                      199
                    ],
                    [
                      "1951-09",
                      184
                    ],
                    [
                      "1951-10",
                      162
                    ],
                    [
                      "1951-11",
                      146
                    ],
                    [
                      "1951-12",
                      166
                    ],
                    [
                      "1952-01",
                      171
                    ],
                    [
                      "1952-02",
                      180
                    ],
                    [
                      "1952-03",
                      193
                    ],
                    [
                      "1952-04",
                      181
                    ],
                    [
                      "1952-05",
                      183
                    ],
                    [
                      "1952-06",
                      218
                    ],
                    [
                      "1952-07",
                      230
                    ],
                    [
                      "1952-08",
                      242
                    ],
                    [
                      "1952-09",
                      209
                    ],
                    [
                      "1952-10",
                      191
                    ],
                    [
                      "1952-11",
                      172
                    ],
                    [
                      "1952-12",
                      194
                    ],
                    [
                      "1953-01",
                      196
                    ],
                    [
                      "1953-02",
                      196
                    ],
                    [
                      "1953-03",
                      236
                    ],
                    [
                      "1953-04",
                      235
                    ],
                    [
                      "1953-05",
                      229
                    ],
                    [
                      "1953-06",
                      243
                    ],
                    [
                      "1953-07",
                      264
                    ],
                    [
                      "1953-08",
                      272
                    ],
                    [
                      "1953-09",
                      237
                    ],
                    [
                      "1953-10",
                      211
                    ],
                    [
                      "1953-11",
                      180
                    ],
                    [
                      "1953-12",
                      201
                    ],
                    [
                      "1954-01",
                      204
                    ],
                    [
                      "1954-02",
                      188
                    ],
                    [
                      "1954-03",
                      235
                    ],
                    [
                      "1954-04",
                      227
                    ],
                    [
                      "1954-05",
                      234
                    ],
                    [
                      "1954-06",
                      264
                    ],
                    [
                      "1954-07",
                      302
                    ],
                    [
                      "1954-08",
                      293
                    ],
                    [
                      "1954-09",
                      259
                    ],
                    [
                      "1954-10",
                      229
                    ],
                    [
                      "1954-11",
                      203
                    ],
                    [
                      "1954-12",
                      229
                    ],
                    [
                      "1955-01",
                      242
                    ],
                    [
                      "1955-02",
                      233
                    ],
                    [
                      "1955-03",
                      267
                    ],
                    [
                      "1955-04",
                      269
                    ],
                    [
                      "1955-05",
                      270
                    ],
                    [
                      "1955-06",
                      315
                    ],
                    [
                      "1955-07",
                      364
                    ],
                    [
                      "1955-08",
                      347
                    ],
                    [
                      "1955-09",
                      312
                    ],
                    [
                      "1955-10",
                      274
                    ],
                    [
                      "1955-11",
                      237
                    ],
                    [
                      "1955-12",
                      278
                    ],
                    [
                      "1956-01",
                      284
                    ],
                    [
                      "1956-02",
                      277
                    ],
                    [
                      "1956-03",
                      317
                    ],
                    [
                      "1956-04",
                      313
                    ],
                    [
                      "1956-05",
                      318
                    ],
                    [
                      "1956-06",
                      374
                    ],
                    [
                      "1956-07",
                      413
                    ],
                    [
                      "1956-08",
                      405
                    ],
                    [
                      "1956-09",
                      355
                    ],
                    [
                      "1956-10",
                      306
                    ],
                    [
                      "1956-11",
                      271
                    ],
                    [
                      "1956-12",
                      306
                    ],
                    [
                      "1957-01",
                      315
                    ],
                    [
                      "1957-02",
                      301
                    ],
                    [
                      "1957-03",
                      356
                    ],
                    [
                      "1957-04",
                      348
                    ],
                    [
                      "1957-05",
                      355
                    ],
                    [
                      "1957-06",
                      422
                    ],
                    [
                      "1957-07",
                      465
                    ],
                    [
                      "1957-08",
                      467
                    ],
                    [
                      "1957-09",
                      404
                    ],
                    [
                      "1957-10",
                      347
                    ],
                    [
                      "1957-11",
                      305
                    ],
                    [
                      "1957-12",
                      336
                    ],
                    [
                      "1958-01",
                      340
                    ],
                    [
                      "1958-02",
                      318
                    ],
                    [
                      "1958-03",
                      362
                    ],
                    [
                      "1958-04",
                      348
                    ],
                    [
                      "1958-05",
                      363
                    ],
                    [
                      "1958-06",
                      435
                    ],
                    [
                      "1958-07",
                      491
                    ]
                  ],
                  "hovertemplate": "<b>Date</b>: %{customdata[0]}<br><b>Log(Passengers)</b>: %{y:.2f}<br><b>Actual Passengers</b>: %{customdata[1]}",
                  "mode": "lines+markers",
                  "name": "Log(Passengers)",
                  "type": "scatter",
                  "x": [
                    "1949-01-01T00:00:00",
                    "1949-02-01T00:00:00",
                    "1949-03-01T00:00:00",
                    "1949-04-01T00:00:00",
                    "1949-05-01T00:00:00",
                    "1949-06-01T00:00:00",
                    "1949-07-01T00:00:00",
                    "1949-08-01T00:00:00",
                    "1949-09-01T00:00:00",
                    "1949-10-01T00:00:00",
                    "1949-11-01T00:00:00",
                    "1949-12-01T00:00:00",
                    "1950-01-01T00:00:00",
                    "1950-02-01T00:00:00",
                    "1950-03-01T00:00:00",
                    "1950-04-01T00:00:00",
                    "1950-05-01T00:00:00",
                    "1950-06-01T00:00:00",
                    "1950-07-01T00:00:00",
                    "1950-08-01T00:00:00",
                    "1950-09-01T00:00:00",
                    "1950-10-01T00:00:00",
                    "1950-11-01T00:00:00",
                    "1950-12-01T00:00:00",
                    "1951-01-01T00:00:00",
                    "1951-02-01T00:00:00",
                    "1951-03-01T00:00:00",
                    "1951-04-01T00:00:00",
                    "1951-05-01T00:00:00",
                    "1951-06-01T00:00:00",
                    "1951-07-01T00:00:00",
                    "1951-08-01T00:00:00",
                    "1951-09-01T00:00:00",
                    "1951-10-01T00:00:00",
                    "1951-11-01T00:00:00",
                    "1951-12-01T00:00:00",
                    "1952-01-01T00:00:00",
                    "1952-02-01T00:00:00",
                    "1952-03-01T00:00:00",
                    "1952-04-01T00:00:00",
                    "1952-05-01T00:00:00",
                    "1952-06-01T00:00:00",
                    "1952-07-01T00:00:00",
                    "1952-08-01T00:00:00",
                    "1952-09-01T00:00:00",
                    "1952-10-01T00:00:00",
                    "1952-11-01T00:00:00",
                    "1952-12-01T00:00:00",
                    "1953-01-01T00:00:00",
                    "1953-02-01T00:00:00",
                    "1953-03-01T00:00:00",
                    "1953-04-01T00:00:00",
                    "1953-05-01T00:00:00",
                    "1953-06-01T00:00:00",
                    "1953-07-01T00:00:00",
                    "1953-08-01T00:00:00",
                    "1953-09-01T00:00:00",
                    "1953-10-01T00:00:00",
                    "1953-11-01T00:00:00",
                    "1953-12-01T00:00:00",
                    "1954-01-01T00:00:00",
                    "1954-02-01T00:00:00",
                    "1954-03-01T00:00:00",
                    "1954-04-01T00:00:00",
                    "1954-05-01T00:00:00",
                    "1954-06-01T00:00:00",
                    "1954-07-01T00:00:00",
                    "1954-08-01T00:00:00",
                    "1954-09-01T00:00:00",
                    "1954-10-01T00:00:00",
                    "1954-11-01T00:00:00",
                    "1954-12-01T00:00:00",
                    "1955-01-01T00:00:00",
                    "1955-02-01T00:00:00",
                    "1955-03-01T00:00:00",
                    "1955-04-01T00:00:00",
                    "1955-05-01T00:00:00",
                    "1955-06-01T00:00:00",
                    "1955-07-01T00:00:00",
                    "1955-08-01T00:00:00",
                    "1955-09-01T00:00:00",
                    "1955-10-01T00:00:00",
                    "1955-11-01T00:00:00",
                    "1955-12-01T00:00:00",
                    "1956-01-01T00:00:00",
                    "1956-02-01T00:00:00",
                    "1956-03-01T00:00:00",
                    "1956-04-01T00:00:00",
                    "1956-05-01T00:00:00",
                    "1956-06-01T00:00:00",
                    "1956-07-01T00:00:00",
                    "1956-08-01T00:00:00",
                    "1956-09-01T00:00:00",
                    "1956-10-01T00:00:00",
                    "1956-11-01T00:00:00",
                    "1956-12-01T00:00:00",
                    "1957-01-01T00:00:00",
                    "1957-02-01T00:00:00",
                    "1957-03-01T00:00:00",
                    "1957-04-01T00:00:00",
                    "1957-05-01T00:00:00",
                    "1957-06-01T00:00:00",
                    "1957-07-01T00:00:00",
                    "1957-08-01T00:00:00",
                    "1957-09-01T00:00:00",
                    "1957-10-01T00:00:00",
                    "1957-11-01T00:00:00",
                    "1957-12-01T00:00:00",
                    "1958-01-01T00:00:00",
                    "1958-02-01T00:00:00",
                    "1958-03-01T00:00:00",
                    "1958-04-01T00:00:00",
                    "1958-05-01T00:00:00",
                    "1958-06-01T00:00:00",
                    "1958-07-01T00:00:00"
                  ],
                  "y": [
                    4.718498871295094,
                    4.770684624465665,
                    4.882801922586371,
                    4.859812404361672,
                    4.795790545596741,
                    4.90527477843843,
                    4.997212273764115,
                    4.997212273764115,
                    4.912654885736052,
                    4.77912349311153,
                    4.6443908991413725,
                    4.770684624465665,
                    4.74493212836325,
                    4.836281906951478,
                    4.948759890378168,
                    4.90527477843843,
                    4.8283137373023015,
                    5.003946305945459,
                    5.135798437050262,
                    5.135798437050262,
                    5.062595033026967,
                    4.890349128221754,
                    4.736198448394496,
                    4.941642422609304,
                    4.976733742420574,
                    5.0106352940962555,
                    5.181783550292085,
                    5.093750200806762,
                    5.147494476813453,
                    5.181783550292085,
                    5.293304824724492,
                    5.293304824724492,
                    5.214935757608986,
                    5.087596335232384,
                    4.983606621708336,
                    5.111987788356544,
                    5.14166355650266,
                    5.19295685089021,
                    5.262690188904886,
                    5.198497031265826,
                    5.209486152841421,
                    5.384495062789089,
                    5.438079308923196,
                    5.488937726156687,
                    5.342334251964811,
                    5.25227342804663,
                    5.147494476813453,
                    5.267858159063328,
                    5.278114659230517,
                    5.278114659230517,
                    5.4638318050256105,
                    5.459585514144159,
                    5.43372200355424,
                    5.493061443340548,
                    5.575949103146316,
                    5.605802066295998,
                    5.4680601411351315,
                    5.351858133476067,
                    5.19295685089021,
                    5.303304908059076,
                    5.318119993844216,
                    5.236441962829949,
                    5.459585514144159,
                    5.424950017481403,
                    5.455321115357702,
                    5.575949103146316,
                    5.71042701737487,
                    5.680172609017068,
                    5.556828061699537,
                    5.43372200355424,
                    5.313205979041787,
                    5.43372200355424,
                    5.488937726156687,
                    5.4510384535657,
                    5.58724865840025,
                    5.594711379601839,
                    5.598421958998375,
                    5.752572638825633,
                    5.8971538676367405,
                    5.849324779946859,
                    5.7430031878094825,
                    5.6131281063880705,
                    5.4680601411351315,
                    5.627621113690637,
                    5.648974238161206,
                    5.6240175061873385,
                    5.75890177387728,
                    5.746203190540153,
                    5.762051382780177,
                    5.924255797414532,
                    6.023447592961033,
                    6.003887067106539,
                    5.872117789475416,
                    5.723585101952381,
                    5.602118820879701,
                    5.723585101952381,
                    5.752572638825633,
                    5.707110264748875,
                    5.87493073085203,
                    5.8522024797744745,
                    5.872117789475416,
                    6.045005314036012,
                    6.142037405587356,
                    6.1463292576688975,
                    6.0014148779611505,
                    5.849324779946859,
                    5.720311776607412,
                    5.817111159963204,
                    5.8289456176102075,
                    5.762051382780177,
                    5.8916442118257715,
                    5.8522024797744745,
                    5.8944028342648505,
                    6.075346031088684,
                    6.19644412779452
                  ]
                },
                {
                  "line": {
                    "color": "red"
                  },
                  "mode": "lines",
                  "name": "Fitted Model",
                  "type": "scatter",
                  "x": [
                    "1949-01-01T00:00:00",
                    "1949-02-01T00:00:00",
                    "1949-03-01T00:00:00",
                    "1949-04-01T00:00:00",
                    "1949-05-01T00:00:00",
                    "1949-06-01T00:00:00",
                    "1949-07-01T00:00:00",
                    "1949-08-01T00:00:00",
                    "1949-09-01T00:00:00",
                    "1949-10-01T00:00:00",
                    "1949-11-01T00:00:00",
                    "1949-12-01T00:00:00",
                    "1950-01-01T00:00:00",
                    "1950-02-01T00:00:00",
                    "1950-03-01T00:00:00",
                    "1950-04-01T00:00:00",
                    "1950-05-01T00:00:00",
                    "1950-06-01T00:00:00",
                    "1950-07-01T00:00:00",
                    "1950-08-01T00:00:00",
                    "1950-09-01T00:00:00",
                    "1950-10-01T00:00:00",
                    "1950-11-01T00:00:00",
                    "1950-12-01T00:00:00",
                    "1951-01-01T00:00:00",
                    "1951-02-01T00:00:00",
                    "1951-03-01T00:00:00",
                    "1951-04-01T00:00:00",
                    "1951-05-01T00:00:00",
                    "1951-06-01T00:00:00",
                    "1951-07-01T00:00:00",
                    "1951-08-01T00:00:00",
                    "1951-09-01T00:00:00",
                    "1951-10-01T00:00:00",
                    "1951-11-01T00:00:00",
                    "1951-12-01T00:00:00",
                    "1952-01-01T00:00:00",
                    "1952-02-01T00:00:00",
                    "1952-03-01T00:00:00",
                    "1952-04-01T00:00:00",
                    "1952-05-01T00:00:00",
                    "1952-06-01T00:00:00",
                    "1952-07-01T00:00:00",
                    "1952-08-01T00:00:00",
                    "1952-09-01T00:00:00",
                    "1952-10-01T00:00:00",
                    "1952-11-01T00:00:00",
                    "1952-12-01T00:00:00",
                    "1953-01-01T00:00:00",
                    "1953-02-01T00:00:00",
                    "1953-03-01T00:00:00",
                    "1953-04-01T00:00:00",
                    "1953-05-01T00:00:00",
                    "1953-06-01T00:00:00",
                    "1953-07-01T00:00:00",
                    "1953-08-01T00:00:00",
                    "1953-09-01T00:00:00",
                    "1953-10-01T00:00:00",
                    "1953-11-01T00:00:00",
                    "1953-12-01T00:00:00",
                    "1954-01-01T00:00:00",
                    "1954-02-01T00:00:00",
                    "1954-03-01T00:00:00",
                    "1954-04-01T00:00:00",
                    "1954-05-01T00:00:00",
                    "1954-06-01T00:00:00",
                    "1954-07-01T00:00:00",
                    "1954-08-01T00:00:00",
                    "1954-09-01T00:00:00",
                    "1954-10-01T00:00:00",
                    "1954-11-01T00:00:00",
                    "1954-12-01T00:00:00",
                    "1955-01-01T00:00:00",
                    "1955-02-01T00:00:00",
                    "1955-03-01T00:00:00",
                    "1955-04-01T00:00:00",
                    "1955-05-01T00:00:00",
                    "1955-06-01T00:00:00",
                    "1955-07-01T00:00:00",
                    "1955-08-01T00:00:00",
                    "1955-09-01T00:00:00",
                    "1955-10-01T00:00:00",
                    "1955-11-01T00:00:00",
                    "1955-12-01T00:00:00",
                    "1956-01-01T00:00:00",
                    "1956-02-01T00:00:00",
                    "1956-03-01T00:00:00",
                    "1956-04-01T00:00:00",
                    "1956-05-01T00:00:00",
                    "1956-06-01T00:00:00",
                    "1956-07-01T00:00:00",
                    "1956-08-01T00:00:00",
                    "1956-09-01T00:00:00",
                    "1956-10-01T00:00:00",
                    "1956-11-01T00:00:00",
                    "1956-12-01T00:00:00",
                    "1957-01-01T00:00:00",
                    "1957-02-01T00:00:00",
                    "1957-03-01T00:00:00",
                    "1957-04-01T00:00:00",
                    "1957-05-01T00:00:00",
                    "1957-06-01T00:00:00",
                    "1957-07-01T00:00:00",
                    "1957-08-01T00:00:00",
                    "1957-09-01T00:00:00",
                    "1957-10-01T00:00:00",
                    "1957-11-01T00:00:00",
                    "1957-12-01T00:00:00",
                    "1958-01-01T00:00:00",
                    "1958-02-01T00:00:00",
                    "1958-03-01T00:00:00",
                    "1958-04-01T00:00:00",
                    "1958-05-01T00:00:00",
                    "1958-06-01T00:00:00",
                    "1958-07-01T00:00:00"
                  ],
                  "y": [
                    4.7906469050645235,
                    4.801486264413704,
                    4.812325623762885,
                    4.823164983112066,
                    4.834004342461247,
                    4.844843701810428,
                    4.855683061159609,
                    4.866522420508789,
                    4.877361779857971,
                    4.888201139207151,
                    4.8990404985563325,
                    4.909879857905513,
                    4.920719217254694,
                    4.931558576603875,
                    4.942397935953056,
                    4.9532372953022366,
                    4.964076654651418,
                    4.974916014000598,
                    4.98575537334978,
                    4.99659473269896,
                    5.0074340920481415,
                    5.018273451397322,
                    5.029112810746503,
                    5.039952170095684,
                    5.050791529444865,
                    5.0616308887940455,
                    5.072470248143227,
                    5.083309607492407,
                    5.094148966841589,
                    5.104988326190769,
                    5.1158276855399505,
                    5.126667044889131,
                    5.137506404238312,
                    5.148345763587493,
                    5.159185122936674,
                    5.1700244822858545,
                    5.180863841635036,
                    5.191703200984216,
                    5.202542560333398,
                    5.213381919682579,
                    5.2242212790317595,
                    5.23506063838094,
                    5.245899997730121,
                    5.256739357079303,
                    5.267578716428483,
                    5.278418075777664,
                    5.289257435126845,
                    5.300096794476026,
                    5.310936153825207,
                    5.321775513174388,
                    5.3326148725235685,
                    5.34345423187275,
                    5.35429359122193,
                    5.365132950571112,
                    5.375972309920292,
                    5.386811669269473,
                    5.397651028618654,
                    5.408490387967835,
                    5.419329747317016,
                    5.430169106666197,
                    5.4410084660153775,
                    5.451847825364559,
                    5.462687184713739,
                    5.473526544062921,
                    5.484365903412101,
                    5.495205262761282,
                    5.506044622110463,
                    5.516883981459644,
                    5.527723340808825,
                    5.538562700158006,
                    5.5494020595071865,
                    5.560241418856368,
                    5.571080778205548,
                    5.58192013755473,
                    5.59275949690391,
                    5.603598856253091,
                    5.614438215602272,
                    5.625277574951453,
                    5.636116934300634,
                    5.646956293649815,
                    5.6577956529989955,
                    5.668635012348177,
                    5.679474371697358,
                    5.690313731046539,
                    5.701153090395719,
                    5.7119924497449,
                    5.722831809094082,
                    5.733671168443262,
                    5.744510527792443,
                    5.755349887141624,
                    5.766189246490805,
                    5.777028605839986,
                    5.787867965189166,
                    5.798707324538348,
                    5.809546683887529,
                    5.820386043236709,
                    5.831225402585891,
                    5.842064761935071,
                    5.8529041212842525,
                    5.863743480633433,
                    5.874582839982614,
                    5.885422199331795,
                    5.896261558680976,
                    5.907100918030157,
                    5.917940277379338,
                    5.928779636728518,
                    5.9396189960777,
                    5.95045835542688,
                    5.9612977147760615,
                    5.972137074125242,
                    5.982976433474423,
                    5.993815792823604,
                    6.004655152172785,
                    6.015494511521966,
                    6.026333870871147
                  ]
                }
              ],
              "layout": {
                "template": {
                  "data": {
                    "bar": [
                      {
                        "error_x": {
                          "color": "#2a3f5f"
                        },
                        "error_y": {
                          "color": "#2a3f5f"
                        },
                        "marker": {
                          "line": {
                            "color": "white",
                            "width": 0.5
                          },
                          "pattern": {
                            "fillmode": "overlay",
                            "size": 10,
                            "solidity": 0.2
                          }
                        },
                        "type": "bar"
                      }
                    ],
                    "barpolar": [
                      {
                        "marker": {
                          "line": {
                            "color": "white",
                            "width": 0.5
                          },
                          "pattern": {
                            "fillmode": "overlay",
                            "size": 10,
                            "solidity": 0.2
                          }
                        },
                        "type": "barpolar"
                      }
                    ],
                    "carpet": [
                      {
                        "aaxis": {
                          "endlinecolor": "#2a3f5f",
                          "gridcolor": "#C8D4E3",
                          "linecolor": "#C8D4E3",
                          "minorgridcolor": "#C8D4E3",
                          "startlinecolor": "#2a3f5f"
                        },
                        "baxis": {
                          "endlinecolor": "#2a3f5f",
                          "gridcolor": "#C8D4E3",
                          "linecolor": "#C8D4E3",
                          "minorgridcolor": "#C8D4E3",
                          "startlinecolor": "#2a3f5f"
                        },
                        "type": "carpet"
                      }
                    ],
                    "choropleth": [
                      {
                        "colorbar": {
                          "outlinewidth": 0,
                          "ticks": ""
                        },
                        "type": "choropleth"
                      }
                    ],
                    "contour": [
                      {
                        "colorbar": {
                          "outlinewidth": 0,
                          "ticks": ""
                        },
                        "colorscale": [
                          [
                            0,
                            "#0d0887"
                          ],
                          [
                            0.1111111111111111,
                            "#46039f"
                          ],
                          [
                            0.2222222222222222,
                            "#7201a8"
                          ],
                          [
                            0.3333333333333333,
                            "#9c179e"
                          ],
                          [
                            0.4444444444444444,
                            "#bd3786"
                          ],
                          [
                            0.5555555555555556,
                            "#d8576b"
                          ],
                          [
                            0.6666666666666666,
                            "#ed7953"
                          ],
                          [
                            0.7777777777777778,
                            "#fb9f3a"
                          ],
                          [
                            0.8888888888888888,
                            "#fdca26"
                          ],
                          [
                            1,
                            "#f0f921"
                          ]
                        ],
                        "type": "contour"
                      }
                    ],
                    "contourcarpet": [
                      {
                        "colorbar": {
                          "outlinewidth": 0,
                          "ticks": ""
                        },
                        "type": "contourcarpet"
                      }
                    ],
                    "heatmap": [
                      {
                        "colorbar": {
                          "outlinewidth": 0,
                          "ticks": ""
                        },
                        "colorscale": [
                          [
                            0,
                            "#0d0887"
                          ],
                          [
                            0.1111111111111111,
                            "#46039f"
                          ],
                          [
                            0.2222222222222222,
                            "#7201a8"
                          ],
                          [
                            0.3333333333333333,
                            "#9c179e"
                          ],
                          [
                            0.4444444444444444,
                            "#bd3786"
                          ],
                          [
                            0.5555555555555556,
                            "#d8576b"
                          ],
                          [
                            0.6666666666666666,
                            "#ed7953"
                          ],
                          [
                            0.7777777777777778,
                            "#fb9f3a"
                          ],
                          [
                            0.8888888888888888,
                            "#fdca26"
                          ],
                          [
                            1,
                            "#f0f921"
                          ]
                        ],
                        "type": "heatmap"
                      }
                    ],
                    "heatmapgl": [
                      {
                        "colorbar": {
                          "outlinewidth": 0,
                          "ticks": ""
                        },
                        "colorscale": [
                          [
                            0,
                            "#0d0887"
                          ],
                          [
                            0.1111111111111111,
                            "#46039f"
                          ],
                          [
                            0.2222222222222222,
                            "#7201a8"
                          ],
                          [
                            0.3333333333333333,
                            "#9c179e"
                          ],
                          [
                            0.4444444444444444,
                            "#bd3786"
                          ],
                          [
                            0.5555555555555556,
                            "#d8576b"
                          ],
                          [
                            0.6666666666666666,
                            "#ed7953"
                          ],
                          [
                            0.7777777777777778,
                            "#fb9f3a"
                          ],
                          [
                            0.8888888888888888,
                            "#fdca26"
                          ],
                          [
                            1,
                            "#f0f921"
                          ]
                        ],
                        "type": "heatmapgl"
                      }
                    ],
                    "histogram": [
                      {
                        "marker": {
                          "pattern": {
                            "fillmode": "overlay",
                            "size": 10,
                            "solidity": 0.2
                          }
                        },
                        "type": "histogram"
                      }
                    ],
                    "histogram2d": [
                      {
                        "colorbar": {
                          "outlinewidth": 0,
                          "ticks": ""
                        },
                        "colorscale": [
                          [
                            0,
                            "#0d0887"
                          ],
                          [
                            0.1111111111111111,
                            "#46039f"
                          ],
                          [
                            0.2222222222222222,
                            "#7201a8"
                          ],
                          [
                            0.3333333333333333,
                            "#9c179e"
                          ],
                          [
                            0.4444444444444444,
                            "#bd3786"
                          ],
                          [
                            0.5555555555555556,
                            "#d8576b"
                          ],
                          [
                            0.6666666666666666,
                            "#ed7953"
                          ],
                          [
                            0.7777777777777778,
                            "#fb9f3a"
                          ],
                          [
                            0.8888888888888888,
                            "#fdca26"
                          ],
                          [
                            1,
                            "#f0f921"
                          ]
                        ],
                        "type": "histogram2d"
                      }
                    ],
                    "histogram2dcontour": [
                      {
                        "colorbar": {
                          "outlinewidth": 0,
                          "ticks": ""
                        },
                        "colorscale": [
                          [
                            0,
                            "#0d0887"
                          ],
                          [
                            0.1111111111111111,
                            "#46039f"
                          ],
                          [
                            0.2222222222222222,
                            "#7201a8"
                          ],
                          [
                            0.3333333333333333,
                            "#9c179e"
                          ],
                          [
                            0.4444444444444444,
                            "#bd3786"
                          ],
                          [
                            0.5555555555555556,
                            "#d8576b"
                          ],
                          [
                            0.6666666666666666,
                            "#ed7953"
                          ],
                          [
                            0.7777777777777778,
                            "#fb9f3a"
                          ],
                          [
                            0.8888888888888888,
                            "#fdca26"
                          ],
                          [
                            1,
                            "#f0f921"
                          ]
                        ],
                        "type": "histogram2dcontour"
                      }
                    ],
                    "mesh3d": [
                      {
                        "colorbar": {
                          "outlinewidth": 0,
                          "ticks": ""
                        },
                        "type": "mesh3d"
                      }
                    ],
                    "parcoords": [
                      {
                        "line": {
                          "colorbar": {
                            "outlinewidth": 0,
                            "ticks": ""
                          }
                        },
                        "type": "parcoords"
                      }
                    ],
                    "pie": [
                      {
                        "automargin": true,
                        "type": "pie"
                      }
                    ],
                    "scatter": [
                      {
                        "fillpattern": {
                          "fillmode": "overlay",
                          "size": 10,
                          "solidity": 0.2
                        },
                        "type": "scatter"
                      }
                    ],
                    "scatter3d": [
                      {
                        "line": {
                          "colorbar": {
                            "outlinewidth": 0,
                            "ticks": ""
                          }
                        },
                        "marker": {
                          "colorbar": {
                            "outlinewidth": 0,
                            "ticks": ""
                          }
                        },
                        "type": "scatter3d"
                      }
                    ],
                    "scattercarpet": [
                      {
                        "marker": {
                          "colorbar": {
                            "outlinewidth": 0,
                            "ticks": ""
                          }
                        },
                        "type": "scattercarpet"
                      }
                    ],
                    "scattergeo": [
                      {
                        "marker": {
                          "colorbar": {
                            "outlinewidth": 0,
                            "ticks": ""
                          }
                        },
                        "type": "scattergeo"
                      }
                    ],
                    "scattergl": [
                      {
                        "marker": {
                          "colorbar": {
                            "outlinewidth": 0,
                            "ticks": ""
                          }
                        },
                        "type": "scattergl"
                      }
                    ],
                    "scattermapbox": [
                      {
                        "marker": {
                          "colorbar": {
                            "outlinewidth": 0,
                            "ticks": ""
                          }
                        },
                        "type": "scattermapbox"
                      }
                    ],
                    "scatterpolar": [
                      {
                        "marker": {
                          "colorbar": {
                            "outlinewidth": 0,
                            "ticks": ""
                          }
                        },
                        "type": "scatterpolar"
                      }
                    ],
                    "scatterpolargl": [
                      {
                        "marker": {
                          "colorbar": {
                            "outlinewidth": 0,
                            "ticks": ""
                          }
                        },
                        "type": "scatterpolargl"
                      }
                    ],
                    "scatterternary": [
                      {
                        "marker": {
                          "colorbar": {
                            "outlinewidth": 0,
                            "ticks": ""
                          }
                        },
                        "type": "scatterternary"
                      }
                    ],
                    "surface": [
                      {
                        "colorbar": {
                          "outlinewidth": 0,
                          "ticks": ""
                        },
                        "colorscale": [
                          [
                            0,
                            "#0d0887"
                          ],
                          [
                            0.1111111111111111,
                            "#46039f"
                          ],
                          [
                            0.2222222222222222,
                            "#7201a8"
                          ],
                          [
                            0.3333333333333333,
                            "#9c179e"
                          ],
                          [
                            0.4444444444444444,
                            "#bd3786"
                          ],
                          [
                            0.5555555555555556,
                            "#d8576b"
                          ],
                          [
                            0.6666666666666666,
                            "#ed7953"
                          ],
                          [
                            0.7777777777777778,
                            "#fb9f3a"
                          ],
                          [
                            0.8888888888888888,
                            "#fdca26"
                          ],
                          [
                            1,
                            "#f0f921"
                          ]
                        ],
                        "type": "surface"
                      }
                    ],
                    "table": [
                      {
                        "cells": {
                          "fill": {
                            "color": "#EBF0F8"
                          },
                          "line": {
                            "color": "white"
                          }
                        },
                        "header": {
                          "fill": {
                            "color": "#C8D4E3"
                          },
                          "line": {
                            "color": "white"
                          }
                        },
                        "type": "table"
                      }
                    ]
                  },
                  "layout": {
                    "annotationdefaults": {
                      "arrowcolor": "#2a3f5f",
                      "arrowhead": 0,
                      "arrowwidth": 1
                    },
                    "autotypenumbers": "strict",
                    "coloraxis": {
                      "colorbar": {
                        "outlinewidth": 0,
                        "ticks": ""
                      }
                    },
                    "colorscale": {
                      "diverging": [
                        [
                          0,
                          "#8e0152"
                        ],
                        [
                          0.1,
                          "#c51b7d"
                        ],
                        [
                          0.2,
                          "#de77ae"
                        ],
                        [
                          0.3,
                          "#f1b6da"
                        ],
                        [
                          0.4,
                          "#fde0ef"
                        ],
                        [
                          0.5,
                          "#f7f7f7"
                        ],
                        [
                          0.6,
                          "#e6f5d0"
                        ],
                        [
                          0.7,
                          "#b8e186"
                        ],
                        [
                          0.8,
                          "#7fbc41"
                        ],
                        [
                          0.9,
                          "#4d9221"
                        ],
                        [
                          1,
                          "#276419"
                        ]
                      ],
                      "sequential": [
                        [
                          0,
                          "#0d0887"
                        ],
                        [
                          0.1111111111111111,
                          "#46039f"
                        ],
                        [
                          0.2222222222222222,
                          "#7201a8"
                        ],
                        [
                          0.3333333333333333,
                          "#9c179e"
                        ],
                        [
                          0.4444444444444444,
                          "#bd3786"
                        ],
                        [
                          0.5555555555555556,
                          "#d8576b"
                        ],
                        [
                          0.6666666666666666,
                          "#ed7953"
                        ],
                        [
                          0.7777777777777778,
                          "#fb9f3a"
                        ],
                        [
                          0.8888888888888888,
                          "#fdca26"
                        ],
                        [
                          1,
                          "#f0f921"
                        ]
                      ],
                      "sequentialminus": [
                        [
                          0,
                          "#0d0887"
                        ],
                        [
                          0.1111111111111111,
                          "#46039f"
                        ],
                        [
                          0.2222222222222222,
                          "#7201a8"
                        ],
                        [
                          0.3333333333333333,
                          "#9c179e"
                        ],
                        [
                          0.4444444444444444,
                          "#bd3786"
                        ],
                        [
                          0.5555555555555556,
                          "#d8576b"
                        ],
                        [
                          0.6666666666666666,
                          "#ed7953"
                        ],
                        [
                          0.7777777777777778,
                          "#fb9f3a"
                        ],
                        [
                          0.8888888888888888,
                          "#fdca26"
                        ],
                        [
                          1,
                          "#f0f921"
                        ]
                      ]
                    },
                    "colorway": [
                      "#636efa",
                      "#EF553B",
                      "#00cc96",
                      "#ab63fa",
                      "#FFA15A",
                      "#19d3f3",
                      "#FF6692",
                      "#B6E880",
                      "#FF97FF",
                      "#FECB52"
                    ],
                    "font": {
                      "color": "#2a3f5f"
                    },
                    "geo": {
                      "bgcolor": "white",
                      "lakecolor": "white",
                      "landcolor": "white",
                      "showlakes": true,
                      "showland": true,
                      "subunitcolor": "#C8D4E3"
                    },
                    "hoverlabel": {
                      "align": "left"
                    },
                    "hovermode": "closest",
                    "mapbox": {
                      "style": "light"
                    },
                    "paper_bgcolor": "white",
                    "plot_bgcolor": "white",
                    "polar": {
                      "angularaxis": {
                        "gridcolor": "#EBF0F8",
                        "linecolor": "#EBF0F8",
                        "ticks": ""
                      },
                      "bgcolor": "white",
                      "radialaxis": {
                        "gridcolor": "#EBF0F8",
                        "linecolor": "#EBF0F8",
                        "ticks": ""
                      }
                    },
                    "scene": {
                      "xaxis": {
                        "backgroundcolor": "white",
                        "gridcolor": "#DFE8F3",
                        "gridwidth": 2,
                        "linecolor": "#EBF0F8",
                        "showbackground": true,
                        "ticks": "",
                        "zerolinecolor": "#EBF0F8"
                      },
                      "yaxis": {
                        "backgroundcolor": "white",
                        "gridcolor": "#DFE8F3",
                        "gridwidth": 2,
                        "linecolor": "#EBF0F8",
                        "showbackground": true,
                        "ticks": "",
                        "zerolinecolor": "#EBF0F8"
                      },
                      "zaxis": {
                        "backgroundcolor": "white",
                        "gridcolor": "#DFE8F3",
                        "gridwidth": 2,
                        "linecolor": "#EBF0F8",
                        "showbackground": true,
                        "ticks": "",
                        "zerolinecolor": "#EBF0F8"
                      }
                    },
                    "shapedefaults": {
                      "line": {
                        "color": "#2a3f5f"
                      }
                    },
                    "ternary": {
                      "aaxis": {
                        "gridcolor": "#DFE8F3",
                        "linecolor": "#A2B1C6",
                        "ticks": ""
                      },
                      "baxis": {
                        "gridcolor": "#DFE8F3",
                        "linecolor": "#A2B1C6",
                        "ticks": ""
                      },
                      "bgcolor": "white",
                      "caxis": {
                        "gridcolor": "#DFE8F3",
                        "linecolor": "#A2B1C6",
                        "ticks": ""
                      }
                    },
                    "title": {
                      "x": 0.05
                    },
                    "xaxis": {
                      "automargin": true,
                      "gridcolor": "#EBF0F8",
                      "linecolor": "#EBF0F8",
                      "ticks": "",
                      "title": {
                        "standoff": 15
                      },
                      "zerolinecolor": "#EBF0F8",
                      "zerolinewidth": 2
                    },
                    "yaxis": {
                      "automargin": true,
                      "gridcolor": "#EBF0F8",
                      "linecolor": "#EBF0F8",
                      "ticks": "",
                      "title": {
                        "standoff": 15
                      },
                      "zerolinecolor": "#EBF0F8",
                      "zerolinewidth": 2
                    }
                  }
                },
                "title": {
                  "text": "Trend"
                },
                "xaxis": {
                  "title": {
                    "text": "Date"
                  }
                },
                "yaxis": {
                  "title": {
                    "text": "Log of Passengers"
                  }
                }
              }
            }
          },
          "metadata": {},
          "output_type": "display_data"
        }
      ],
      "source": [
        "fig = go.Figure()\n",
        "\n",
        "# Add the log-transformed passenger data as a line plot\n",
        "fig.add_trace(go.Scatter(\n",
        "    x=train.index,\n",
        "    y=train['log_passengers'],\n",
        "    mode='lines+markers',\n",
        "    name='Log(Passengers)',\n",
        "    customdata=np.stack((train.index.strftime('%Y-%m'), train['passengers']), axis=-1),\n",
        "    hovertemplate='<b>Date</b>: %{customdata[0]}<br>' +\n",
        "                  '<b>Log(Passengers)</b>: %{y:.2f}<br>' +\n",
        "                  '<b>Actual Passengers</b>: %{customdata[1]}'\n",
        "))\n",
        "\n",
        "# Add the fitted model trend line as a red line\n",
        "fig.add_trace(go.Scatter(\n",
        "    x=train.index,\n",
        "    y=train['fitted_trend'],\n",
        "    mode='lines',\n",
        "    name='Fitted Model',\n",
        "    line=dict(color='red')\n",
        "))\n",
        "\n",
        "# Customize layout\n",
        "fig.update_layout(\n",
        "    title='Trend',\n",
        "    xaxis_title='Date',\n",
        "    yaxis_title='Log of Passengers',\n",
        "    template='plotly_white'\n",
        ")\n",
        "\n",
        "fig.show()"
      ]
    },
    {
      "cell_type": "markdown",
      "metadata": {
        "id": "NuLuTVBmTd27"
      },
      "source": [
        "We can express the **trend** $m_t$ as:\n",
        "\n",
        "$$ \\log(\\text{Passengers}) = \\beta_0 + \\beta_1 \\cdot t + \\epsilon $$\n"
      ]
    },
    {
      "cell_type": "markdown",
      "metadata": {
        "id": "uf5RLWgOO24J"
      },
      "source": [
        "### Model seasonality\n",
        "\n",
        "Now we're modeling seasonality in the AirPassengers dataset by using month as a categorical predictor."
      ]
    },
    {
      "cell_type": "code",
      "execution_count": 14,
      "metadata": {
        "id": "aE6uUp-rL4pr"
      },
      "outputs": [],
      "source": [
        "# Convert 'month' to categorical (one-hot encode)\n",
        "one_hot_encoder = OneHotEncoder(drop='first', sparse_output=False)\n",
        "month_dummies = one_hot_encoder.fit_transform(train[['month']])\n",
        "\n",
        "X = month_dummies  # Only using 'month' for seasonality modeling\n",
        "y = train['log_passengers']\n",
        "\n",
        "# Fit the linear regression model to capture seasonality\n",
        "model = LinearRegression()\n",
        "model.fit(X, y)\n",
        "\n",
        "# Get the fitted seasonal values (predictions)\n",
        "train['seasonal_fitted'] = model.predict(X)"
      ]
    },
    {
      "cell_type": "code",
      "execution_count": 15,
      "metadata": {
        "colab": {
          "base_uri": "https://localhost:8080/",
          "height": 542
        },
        "id": "aqnyTexTQ9I2",
        "outputId": "6d2338e6-ac00-4292-9f7b-a8b5a9968548"
      },
      "outputs": [
        {
          "data": {
            "application/vnd.plotly.v1+json": {
              "config": {
                "plotlyServerURL": "https://plot.ly"
              },
              "data": [
                {
                  "customdata": [
                    [
                      "1949-01",
                      112
                    ],
                    [
                      "1949-02",
                      118
                    ],
                    [
                      "1949-03",
                      132
                    ],
                    [
                      "1949-04",
                      129
                    ],
                    [
                      "1949-05",
                      121
                    ],
                    [
                      "1949-06",
                      135
                    ],
                    [
                      "1949-07",
                      148
                    ],
                    [
                      "1949-08",
                      148
                    ],
                    [
                      "1949-09",
                      136
                    ],
                    [
                      "1949-10",
                      119
                    ],
                    [
                      "1949-11",
                      104
                    ],
                    [
                      "1949-12",
                      118
                    ],
                    [
                      "1950-01",
                      115
                    ],
                    [
                      "1950-02",
                      126
                    ],
                    [
                      "1950-03",
                      141
                    ],
                    [
                      "1950-04",
                      135
                    ],
                    [
                      "1950-05",
                      125
                    ],
                    [
                      "1950-06",
                      149
                    ],
                    [
                      "1950-07",
                      170
                    ],
                    [
                      "1950-08",
                      170
                    ],
                    [
                      "1950-09",
                      158
                    ],
                    [
                      "1950-10",
                      133
                    ],
                    [
                      "1950-11",
                      114
                    ],
                    [
                      "1950-12",
                      140
                    ],
                    [
                      "1951-01",
                      145
                    ],
                    [
                      "1951-02",
                      150
                    ],
                    [
                      "1951-03",
                      178
                    ],
                    [
                      "1951-04",
                      163
                    ],
                    [
                      "1951-05",
                      172
                    ],
                    [
                      "1951-06",
                      178
                    ],
                    [
                      "1951-07",
                      199
                    ],
                    [
                      "1951-08",
                      199
                    ],
                    [
                      "1951-09",
                      184
                    ],
                    [
                      "1951-10",
                      162
                    ],
                    [
                      "1951-11",
                      146
                    ],
                    [
                      "1951-12",
                      166
                    ],
                    [
                      "1952-01",
                      171
                    ],
                    [
                      "1952-02",
                      180
                    ],
                    [
                      "1952-03",
                      193
                    ],
                    [
                      "1952-04",
                      181
                    ],
                    [
                      "1952-05",
                      183
                    ],
                    [
                      "1952-06",
                      218
                    ],
                    [
                      "1952-07",
                      230
                    ],
                    [
                      "1952-08",
                      242
                    ],
                    [
                      "1952-09",
                      209
                    ],
                    [
                      "1952-10",
                      191
                    ],
                    [
                      "1952-11",
                      172
                    ],
                    [
                      "1952-12",
                      194
                    ],
                    [
                      "1953-01",
                      196
                    ],
                    [
                      "1953-02",
                      196
                    ],
                    [
                      "1953-03",
                      236
                    ],
                    [
                      "1953-04",
                      235
                    ],
                    [
                      "1953-05",
                      229
                    ],
                    [
                      "1953-06",
                      243
                    ],
                    [
                      "1953-07",
                      264
                    ],
                    [
                      "1953-08",
                      272
                    ],
                    [
                      "1953-09",
                      237
                    ],
                    [
                      "1953-10",
                      211
                    ],
                    [
                      "1953-11",
                      180
                    ],
                    [
                      "1953-12",
                      201
                    ],
                    [
                      "1954-01",
                      204
                    ],
                    [
                      "1954-02",
                      188
                    ],
                    [
                      "1954-03",
                      235
                    ],
                    [
                      "1954-04",
                      227
                    ],
                    [
                      "1954-05",
                      234
                    ],
                    [
                      "1954-06",
                      264
                    ],
                    [
                      "1954-07",
                      302
                    ],
                    [
                      "1954-08",
                      293
                    ],
                    [
                      "1954-09",
                      259
                    ],
                    [
                      "1954-10",
                      229
                    ],
                    [
                      "1954-11",
                      203
                    ],
                    [
                      "1954-12",
                      229
                    ],
                    [
                      "1955-01",
                      242
                    ],
                    [
                      "1955-02",
                      233
                    ],
                    [
                      "1955-03",
                      267
                    ],
                    [
                      "1955-04",
                      269
                    ],
                    [
                      "1955-05",
                      270
                    ],
                    [
                      "1955-06",
                      315
                    ],
                    [
                      "1955-07",
                      364
                    ],
                    [
                      "1955-08",
                      347
                    ],
                    [
                      "1955-09",
                      312
                    ],
                    [
                      "1955-10",
                      274
                    ],
                    [
                      "1955-11",
                      237
                    ],
                    [
                      "1955-12",
                      278
                    ],
                    [
                      "1956-01",
                      284
                    ],
                    [
                      "1956-02",
                      277
                    ],
                    [
                      "1956-03",
                      317
                    ],
                    [
                      "1956-04",
                      313
                    ],
                    [
                      "1956-05",
                      318
                    ],
                    [
                      "1956-06",
                      374
                    ],
                    [
                      "1956-07",
                      413
                    ],
                    [
                      "1956-08",
                      405
                    ],
                    [
                      "1956-09",
                      355
                    ],
                    [
                      "1956-10",
                      306
                    ],
                    [
                      "1956-11",
                      271
                    ],
                    [
                      "1956-12",
                      306
                    ],
                    [
                      "1957-01",
                      315
                    ],
                    [
                      "1957-02",
                      301
                    ],
                    [
                      "1957-03",
                      356
                    ],
                    [
                      "1957-04",
                      348
                    ],
                    [
                      "1957-05",
                      355
                    ],
                    [
                      "1957-06",
                      422
                    ],
                    [
                      "1957-07",
                      465
                    ],
                    [
                      "1957-08",
                      467
                    ],
                    [
                      "1957-09",
                      404
                    ],
                    [
                      "1957-10",
                      347
                    ],
                    [
                      "1957-11",
                      305
                    ],
                    [
                      "1957-12",
                      336
                    ],
                    [
                      "1958-01",
                      340
                    ],
                    [
                      "1958-02",
                      318
                    ],
                    [
                      "1958-03",
                      362
                    ],
                    [
                      "1958-04",
                      348
                    ],
                    [
                      "1958-05",
                      363
                    ],
                    [
                      "1958-06",
                      435
                    ],
                    [
                      "1958-07",
                      491
                    ]
                  ],
                  "hovertemplate": "<b>Date</b>: %{customdata[0]}<br><b>Log(Passengers)</b>: %{y:.2f}<br><b>Actual Passengers</b>: %{customdata[1]}",
                  "mode": "lines+markers",
                  "name": "Log(Passengers)",
                  "type": "scatter",
                  "x": [
                    "1949-01-01T00:00:00",
                    "1949-02-01T00:00:00",
                    "1949-03-01T00:00:00",
                    "1949-04-01T00:00:00",
                    "1949-05-01T00:00:00",
                    "1949-06-01T00:00:00",
                    "1949-07-01T00:00:00",
                    "1949-08-01T00:00:00",
                    "1949-09-01T00:00:00",
                    "1949-10-01T00:00:00",
                    "1949-11-01T00:00:00",
                    "1949-12-01T00:00:00",
                    "1950-01-01T00:00:00",
                    "1950-02-01T00:00:00",
                    "1950-03-01T00:00:00",
                    "1950-04-01T00:00:00",
                    "1950-05-01T00:00:00",
                    "1950-06-01T00:00:00",
                    "1950-07-01T00:00:00",
                    "1950-08-01T00:00:00",
                    "1950-09-01T00:00:00",
                    "1950-10-01T00:00:00",
                    "1950-11-01T00:00:00",
                    "1950-12-01T00:00:00",
                    "1951-01-01T00:00:00",
                    "1951-02-01T00:00:00",
                    "1951-03-01T00:00:00",
                    "1951-04-01T00:00:00",
                    "1951-05-01T00:00:00",
                    "1951-06-01T00:00:00",
                    "1951-07-01T00:00:00",
                    "1951-08-01T00:00:00",
                    "1951-09-01T00:00:00",
                    "1951-10-01T00:00:00",
                    "1951-11-01T00:00:00",
                    "1951-12-01T00:00:00",
                    "1952-01-01T00:00:00",
                    "1952-02-01T00:00:00",
                    "1952-03-01T00:00:00",
                    "1952-04-01T00:00:00",
                    "1952-05-01T00:00:00",
                    "1952-06-01T00:00:00",
                    "1952-07-01T00:00:00",
                    "1952-08-01T00:00:00",
                    "1952-09-01T00:00:00",
                    "1952-10-01T00:00:00",
                    "1952-11-01T00:00:00",
                    "1952-12-01T00:00:00",
                    "1953-01-01T00:00:00",
                    "1953-02-01T00:00:00",
                    "1953-03-01T00:00:00",
                    "1953-04-01T00:00:00",
                    "1953-05-01T00:00:00",
                    "1953-06-01T00:00:00",
                    "1953-07-01T00:00:00",
                    "1953-08-01T00:00:00",
                    "1953-09-01T00:00:00",
                    "1953-10-01T00:00:00",
                    "1953-11-01T00:00:00",
                    "1953-12-01T00:00:00",
                    "1954-01-01T00:00:00",
                    "1954-02-01T00:00:00",
                    "1954-03-01T00:00:00",
                    "1954-04-01T00:00:00",
                    "1954-05-01T00:00:00",
                    "1954-06-01T00:00:00",
                    "1954-07-01T00:00:00",
                    "1954-08-01T00:00:00",
                    "1954-09-01T00:00:00",
                    "1954-10-01T00:00:00",
                    "1954-11-01T00:00:00",
                    "1954-12-01T00:00:00",
                    "1955-01-01T00:00:00",
                    "1955-02-01T00:00:00",
                    "1955-03-01T00:00:00",
                    "1955-04-01T00:00:00",
                    "1955-05-01T00:00:00",
                    "1955-06-01T00:00:00",
                    "1955-07-01T00:00:00",
                    "1955-08-01T00:00:00",
                    "1955-09-01T00:00:00",
                    "1955-10-01T00:00:00",
                    "1955-11-01T00:00:00",
                    "1955-12-01T00:00:00",
                    "1956-01-01T00:00:00",
                    "1956-02-01T00:00:00",
                    "1956-03-01T00:00:00",
                    "1956-04-01T00:00:00",
                    "1956-05-01T00:00:00",
                    "1956-06-01T00:00:00",
                    "1956-07-01T00:00:00",
                    "1956-08-01T00:00:00",
                    "1956-09-01T00:00:00",
                    "1956-10-01T00:00:00",
                    "1956-11-01T00:00:00",
                    "1956-12-01T00:00:00",
                    "1957-01-01T00:00:00",
                    "1957-02-01T00:00:00",
                    "1957-03-01T00:00:00",
                    "1957-04-01T00:00:00",
                    "1957-05-01T00:00:00",
                    "1957-06-01T00:00:00",
                    "1957-07-01T00:00:00",
                    "1957-08-01T00:00:00",
                    "1957-09-01T00:00:00",
                    "1957-10-01T00:00:00",
                    "1957-11-01T00:00:00",
                    "1957-12-01T00:00:00",
                    "1958-01-01T00:00:00",
                    "1958-02-01T00:00:00",
                    "1958-03-01T00:00:00",
                    "1958-04-01T00:00:00",
                    "1958-05-01T00:00:00",
                    "1958-06-01T00:00:00",
                    "1958-07-01T00:00:00"
                  ],
                  "y": [
                    4.718498871295094,
                    4.770684624465665,
                    4.882801922586371,
                    4.859812404361672,
                    4.795790545596741,
                    4.90527477843843,
                    4.997212273764115,
                    4.997212273764115,
                    4.912654885736052,
                    4.77912349311153,
                    4.6443908991413725,
                    4.770684624465665,
                    4.74493212836325,
                    4.836281906951478,
                    4.948759890378168,
                    4.90527477843843,
                    4.8283137373023015,
                    5.003946305945459,
                    5.135798437050262,
                    5.135798437050262,
                    5.062595033026967,
                    4.890349128221754,
                    4.736198448394496,
                    4.941642422609304,
                    4.976733742420574,
                    5.0106352940962555,
                    5.181783550292085,
                    5.093750200806762,
                    5.147494476813453,
                    5.181783550292085,
                    5.293304824724492,
                    5.293304824724492,
                    5.214935757608986,
                    5.087596335232384,
                    4.983606621708336,
                    5.111987788356544,
                    5.14166355650266,
                    5.19295685089021,
                    5.262690188904886,
                    5.198497031265826,
                    5.209486152841421,
                    5.384495062789089,
                    5.438079308923196,
                    5.488937726156687,
                    5.342334251964811,
                    5.25227342804663,
                    5.147494476813453,
                    5.267858159063328,
                    5.278114659230517,
                    5.278114659230517,
                    5.4638318050256105,
                    5.459585514144159,
                    5.43372200355424,
                    5.493061443340548,
                    5.575949103146316,
                    5.605802066295998,
                    5.4680601411351315,
                    5.351858133476067,
                    5.19295685089021,
                    5.303304908059076,
                    5.318119993844216,
                    5.236441962829949,
                    5.459585514144159,
                    5.424950017481403,
                    5.455321115357702,
                    5.575949103146316,
                    5.71042701737487,
                    5.680172609017068,
                    5.556828061699537,
                    5.43372200355424,
                    5.313205979041787,
                    5.43372200355424,
                    5.488937726156687,
                    5.4510384535657,
                    5.58724865840025,
                    5.594711379601839,
                    5.598421958998375,
                    5.752572638825633,
                    5.8971538676367405,
                    5.849324779946859,
                    5.7430031878094825,
                    5.6131281063880705,
                    5.4680601411351315,
                    5.627621113690637,
                    5.648974238161206,
                    5.6240175061873385,
                    5.75890177387728,
                    5.746203190540153,
                    5.762051382780177,
                    5.924255797414532,
                    6.023447592961033,
                    6.003887067106539,
                    5.872117789475416,
                    5.723585101952381,
                    5.602118820879701,
                    5.723585101952381,
                    5.752572638825633,
                    5.707110264748875,
                    5.87493073085203,
                    5.8522024797744745,
                    5.872117789475416,
                    6.045005314036012,
                    6.142037405587356,
                    6.1463292576688975,
                    6.0014148779611505,
                    5.849324779946859,
                    5.720311776607412,
                    5.817111159963204,
                    5.8289456176102075,
                    5.762051382780177,
                    5.8916442118257715,
                    5.8522024797744745,
                    5.8944028342648505,
                    6.075346031088684,
                    6.19644412779452
                  ]
                },
                {
                  "line": {
                    "color": "red"
                  },
                  "mode": "lines",
                  "name": "Fitted Seasonal Model",
                  "type": "scatter",
                  "x": [
                    "1949-01-01T00:00:00",
                    "1949-02-01T00:00:00",
                    "1949-03-01T00:00:00",
                    "1949-04-01T00:00:00",
                    "1949-05-01T00:00:00",
                    "1949-06-01T00:00:00",
                    "1949-07-01T00:00:00",
                    "1949-08-01T00:00:00",
                    "1949-09-01T00:00:00",
                    "1949-10-01T00:00:00",
                    "1949-11-01T00:00:00",
                    "1949-12-01T00:00:00",
                    "1950-01-01T00:00:00",
                    "1950-02-01T00:00:00",
                    "1950-03-01T00:00:00",
                    "1950-04-01T00:00:00",
                    "1950-05-01T00:00:00",
                    "1950-06-01T00:00:00",
                    "1950-07-01T00:00:00",
                    "1950-08-01T00:00:00",
                    "1950-09-01T00:00:00",
                    "1950-10-01T00:00:00",
                    "1950-11-01T00:00:00",
                    "1950-12-01T00:00:00",
                    "1951-01-01T00:00:00",
                    "1951-02-01T00:00:00",
                    "1951-03-01T00:00:00",
                    "1951-04-01T00:00:00",
                    "1951-05-01T00:00:00",
                    "1951-06-01T00:00:00",
                    "1951-07-01T00:00:00",
                    "1951-08-01T00:00:00",
                    "1951-09-01T00:00:00",
                    "1951-10-01T00:00:00",
                    "1951-11-01T00:00:00",
                    "1951-12-01T00:00:00",
                    "1952-01-01T00:00:00",
                    "1952-02-01T00:00:00",
                    "1952-03-01T00:00:00",
                    "1952-04-01T00:00:00",
                    "1952-05-01T00:00:00",
                    "1952-06-01T00:00:00",
                    "1952-07-01T00:00:00",
                    "1952-08-01T00:00:00",
                    "1952-09-01T00:00:00",
                    "1952-10-01T00:00:00",
                    "1952-11-01T00:00:00",
                    "1952-12-01T00:00:00",
                    "1953-01-01T00:00:00",
                    "1953-02-01T00:00:00",
                    "1953-03-01T00:00:00",
                    "1953-04-01T00:00:00",
                    "1953-05-01T00:00:00",
                    "1953-06-01T00:00:00",
                    "1953-07-01T00:00:00",
                    "1953-08-01T00:00:00",
                    "1953-09-01T00:00:00",
                    "1953-10-01T00:00:00",
                    "1953-11-01T00:00:00",
                    "1953-12-01T00:00:00",
                    "1954-01-01T00:00:00",
                    "1954-02-01T00:00:00",
                    "1954-03-01T00:00:00",
                    "1954-04-01T00:00:00",
                    "1954-05-01T00:00:00",
                    "1954-06-01T00:00:00",
                    "1954-07-01T00:00:00",
                    "1954-08-01T00:00:00",
                    "1954-09-01T00:00:00",
                    "1954-10-01T00:00:00",
                    "1954-11-01T00:00:00",
                    "1954-12-01T00:00:00",
                    "1955-01-01T00:00:00",
                    "1955-02-01T00:00:00",
                    "1955-03-01T00:00:00",
                    "1955-04-01T00:00:00",
                    "1955-05-01T00:00:00",
                    "1955-06-01T00:00:00",
                    "1955-07-01T00:00:00",
                    "1955-08-01T00:00:00",
                    "1955-09-01T00:00:00",
                    "1955-10-01T00:00:00",
                    "1955-11-01T00:00:00",
                    "1955-12-01T00:00:00",
                    "1956-01-01T00:00:00",
                    "1956-02-01T00:00:00",
                    "1956-03-01T00:00:00",
                    "1956-04-01T00:00:00",
                    "1956-05-01T00:00:00",
                    "1956-06-01T00:00:00",
                    "1956-07-01T00:00:00",
                    "1956-08-01T00:00:00",
                    "1956-09-01T00:00:00",
                    "1956-10-01T00:00:00",
                    "1956-11-01T00:00:00",
                    "1956-12-01T00:00:00",
                    "1957-01-01T00:00:00",
                    "1957-02-01T00:00:00",
                    "1957-03-01T00:00:00",
                    "1957-04-01T00:00:00",
                    "1957-05-01T00:00:00",
                    "1957-06-01T00:00:00",
                    "1957-07-01T00:00:00",
                    "1957-08-01T00:00:00",
                    "1957-09-01T00:00:00",
                    "1957-10-01T00:00:00",
                    "1957-11-01T00:00:00",
                    "1957-12-01T00:00:00",
                    "1958-01-01T00:00:00",
                    "1958-02-01T00:00:00",
                    "1958-03-01T00:00:00",
                    "1958-04-01T00:00:00",
                    "1958-05-01T00:00:00",
                    "1958-06-01T00:00:00",
                    "1958-07-01T00:00:00"
                  ],
                  "y": [
                    5.289749317241005,
                    5.286933290574617,
                    5.4312178246286615,
                    5.39871894761892,
                    5.399712199698468,
                    5.534169002531679,
                    5.6409853958962906,
                    5.577863226858991,
                    5.463771554046393,
                    5.331217834436657,
                    5.2009271127346555,
                    5.333057475746042,
                    5.289749317241005,
                    5.286933290574617,
                    5.4312178246286615,
                    5.39871894761892,
                    5.399712199698468,
                    5.534169002531679,
                    5.6409853958962906,
                    5.577863226858991,
                    5.463771554046393,
                    5.331217834436657,
                    5.2009271127346555,
                    5.333057475746042,
                    5.289749317241005,
                    5.286933290574617,
                    5.4312178246286615,
                    5.39871894761892,
                    5.399712199698468,
                    5.534169002531679,
                    5.6409853958962906,
                    5.577863226858991,
                    5.463771554046393,
                    5.331217834436657,
                    5.2009271127346555,
                    5.333057475746042,
                    5.289749317241005,
                    5.286933290574617,
                    5.4312178246286615,
                    5.39871894761892,
                    5.399712199698468,
                    5.534169002531679,
                    5.6409853958962906,
                    5.577863226858991,
                    5.463771554046393,
                    5.331217834436657,
                    5.2009271127346555,
                    5.333057475746042,
                    5.289749317241005,
                    5.286933290574617,
                    5.4312178246286615,
                    5.39871894761892,
                    5.399712199698468,
                    5.534169002531679,
                    5.6409853958962906,
                    5.577863226858991,
                    5.463771554046393,
                    5.331217834436657,
                    5.2009271127346555,
                    5.333057475746042,
                    5.289749317241005,
                    5.286933290574617,
                    5.4312178246286615,
                    5.39871894761892,
                    5.399712199698468,
                    5.534169002531679,
                    5.6409853958962906,
                    5.577863226858991,
                    5.463771554046393,
                    5.331217834436657,
                    5.2009271127346555,
                    5.333057475746042,
                    5.289749317241005,
                    5.286933290574617,
                    5.4312178246286615,
                    5.39871894761892,
                    5.399712199698468,
                    5.534169002531679,
                    5.6409853958962906,
                    5.577863226858991,
                    5.463771554046393,
                    5.331217834436657,
                    5.2009271127346555,
                    5.333057475746042,
                    5.289749317241005,
                    5.286933290574617,
                    5.4312178246286615,
                    5.39871894761892,
                    5.399712199698468,
                    5.534169002531679,
                    5.6409853958962906,
                    5.577863226858991,
                    5.463771554046393,
                    5.331217834436657,
                    5.2009271127346555,
                    5.333057475746042,
                    5.289749317241005,
                    5.286933290574617,
                    5.4312178246286615,
                    5.39871894761892,
                    5.399712199698468,
                    5.534169002531679,
                    5.6409853958962906,
                    5.577863226858991,
                    5.463771554046393,
                    5.331217834436657,
                    5.2009271127346555,
                    5.333057475746042,
                    5.289749317241005,
                    5.286933290574617,
                    5.4312178246286615,
                    5.39871894761892,
                    5.399712199698468,
                    5.534169002531679,
                    5.6409853958962906
                  ]
                }
              ],
              "layout": {
                "template": {
                  "data": {
                    "bar": [
                      {
                        "error_x": {
                          "color": "#2a3f5f"
                        },
                        "error_y": {
                          "color": "#2a3f5f"
                        },
                        "marker": {
                          "line": {
                            "color": "white",
                            "width": 0.5
                          },
                          "pattern": {
                            "fillmode": "overlay",
                            "size": 10,
                            "solidity": 0.2
                          }
                        },
                        "type": "bar"
                      }
                    ],
                    "barpolar": [
                      {
                        "marker": {
                          "line": {
                            "color": "white",
                            "width": 0.5
                          },
                          "pattern": {
                            "fillmode": "overlay",
                            "size": 10,
                            "solidity": 0.2
                          }
                        },
                        "type": "barpolar"
                      }
                    ],
                    "carpet": [
                      {
                        "aaxis": {
                          "endlinecolor": "#2a3f5f",
                          "gridcolor": "#C8D4E3",
                          "linecolor": "#C8D4E3",
                          "minorgridcolor": "#C8D4E3",
                          "startlinecolor": "#2a3f5f"
                        },
                        "baxis": {
                          "endlinecolor": "#2a3f5f",
                          "gridcolor": "#C8D4E3",
                          "linecolor": "#C8D4E3",
                          "minorgridcolor": "#C8D4E3",
                          "startlinecolor": "#2a3f5f"
                        },
                        "type": "carpet"
                      }
                    ],
                    "choropleth": [
                      {
                        "colorbar": {
                          "outlinewidth": 0,
                          "ticks": ""
                        },
                        "type": "choropleth"
                      }
                    ],
                    "contour": [
                      {
                        "colorbar": {
                          "outlinewidth": 0,
                          "ticks": ""
                        },
                        "colorscale": [
                          [
                            0,
                            "#0d0887"
                          ],
                          [
                            0.1111111111111111,
                            "#46039f"
                          ],
                          [
                            0.2222222222222222,
                            "#7201a8"
                          ],
                          [
                            0.3333333333333333,
                            "#9c179e"
                          ],
                          [
                            0.4444444444444444,
                            "#bd3786"
                          ],
                          [
                            0.5555555555555556,
                            "#d8576b"
                          ],
                          [
                            0.6666666666666666,
                            "#ed7953"
                          ],
                          [
                            0.7777777777777778,
                            "#fb9f3a"
                          ],
                          [
                            0.8888888888888888,
                            "#fdca26"
                          ],
                          [
                            1,
                            "#f0f921"
                          ]
                        ],
                        "type": "contour"
                      }
                    ],
                    "contourcarpet": [
                      {
                        "colorbar": {
                          "outlinewidth": 0,
                          "ticks": ""
                        },
                        "type": "contourcarpet"
                      }
                    ],
                    "heatmap": [
                      {
                        "colorbar": {
                          "outlinewidth": 0,
                          "ticks": ""
                        },
                        "colorscale": [
                          [
                            0,
                            "#0d0887"
                          ],
                          [
                            0.1111111111111111,
                            "#46039f"
                          ],
                          [
                            0.2222222222222222,
                            "#7201a8"
                          ],
                          [
                            0.3333333333333333,
                            "#9c179e"
                          ],
                          [
                            0.4444444444444444,
                            "#bd3786"
                          ],
                          [
                            0.5555555555555556,
                            "#d8576b"
                          ],
                          [
                            0.6666666666666666,
                            "#ed7953"
                          ],
                          [
                            0.7777777777777778,
                            "#fb9f3a"
                          ],
                          [
                            0.8888888888888888,
                            "#fdca26"
                          ],
                          [
                            1,
                            "#f0f921"
                          ]
                        ],
                        "type": "heatmap"
                      }
                    ],
                    "heatmapgl": [
                      {
                        "colorbar": {
                          "outlinewidth": 0,
                          "ticks": ""
                        },
                        "colorscale": [
                          [
                            0,
                            "#0d0887"
                          ],
                          [
                            0.1111111111111111,
                            "#46039f"
                          ],
                          [
                            0.2222222222222222,
                            "#7201a8"
                          ],
                          [
                            0.3333333333333333,
                            "#9c179e"
                          ],
                          [
                            0.4444444444444444,
                            "#bd3786"
                          ],
                          [
                            0.5555555555555556,
                            "#d8576b"
                          ],
                          [
                            0.6666666666666666,
                            "#ed7953"
                          ],
                          [
                            0.7777777777777778,
                            "#fb9f3a"
                          ],
                          [
                            0.8888888888888888,
                            "#fdca26"
                          ],
                          [
                            1,
                            "#f0f921"
                          ]
                        ],
                        "type": "heatmapgl"
                      }
                    ],
                    "histogram": [
                      {
                        "marker": {
                          "pattern": {
                            "fillmode": "overlay",
                            "size": 10,
                            "solidity": 0.2
                          }
                        },
                        "type": "histogram"
                      }
                    ],
                    "histogram2d": [
                      {
                        "colorbar": {
                          "outlinewidth": 0,
                          "ticks": ""
                        },
                        "colorscale": [
                          [
                            0,
                            "#0d0887"
                          ],
                          [
                            0.1111111111111111,
                            "#46039f"
                          ],
                          [
                            0.2222222222222222,
                            "#7201a8"
                          ],
                          [
                            0.3333333333333333,
                            "#9c179e"
                          ],
                          [
                            0.4444444444444444,
                            "#bd3786"
                          ],
                          [
                            0.5555555555555556,
                            "#d8576b"
                          ],
                          [
                            0.6666666666666666,
                            "#ed7953"
                          ],
                          [
                            0.7777777777777778,
                            "#fb9f3a"
                          ],
                          [
                            0.8888888888888888,
                            "#fdca26"
                          ],
                          [
                            1,
                            "#f0f921"
                          ]
                        ],
                        "type": "histogram2d"
                      }
                    ],
                    "histogram2dcontour": [
                      {
                        "colorbar": {
                          "outlinewidth": 0,
                          "ticks": ""
                        },
                        "colorscale": [
                          [
                            0,
                            "#0d0887"
                          ],
                          [
                            0.1111111111111111,
                            "#46039f"
                          ],
                          [
                            0.2222222222222222,
                            "#7201a8"
                          ],
                          [
                            0.3333333333333333,
                            "#9c179e"
                          ],
                          [
                            0.4444444444444444,
                            "#bd3786"
                          ],
                          [
                            0.5555555555555556,
                            "#d8576b"
                          ],
                          [
                            0.6666666666666666,
                            "#ed7953"
                          ],
                          [
                            0.7777777777777778,
                            "#fb9f3a"
                          ],
                          [
                            0.8888888888888888,
                            "#fdca26"
                          ],
                          [
                            1,
                            "#f0f921"
                          ]
                        ],
                        "type": "histogram2dcontour"
                      }
                    ],
                    "mesh3d": [
                      {
                        "colorbar": {
                          "outlinewidth": 0,
                          "ticks": ""
                        },
                        "type": "mesh3d"
                      }
                    ],
                    "parcoords": [
                      {
                        "line": {
                          "colorbar": {
                            "outlinewidth": 0,
                            "ticks": ""
                          }
                        },
                        "type": "parcoords"
                      }
                    ],
                    "pie": [
                      {
                        "automargin": true,
                        "type": "pie"
                      }
                    ],
                    "scatter": [
                      {
                        "fillpattern": {
                          "fillmode": "overlay",
                          "size": 10,
                          "solidity": 0.2
                        },
                        "type": "scatter"
                      }
                    ],
                    "scatter3d": [
                      {
                        "line": {
                          "colorbar": {
                            "outlinewidth": 0,
                            "ticks": ""
                          }
                        },
                        "marker": {
                          "colorbar": {
                            "outlinewidth": 0,
                            "ticks": ""
                          }
                        },
                        "type": "scatter3d"
                      }
                    ],
                    "scattercarpet": [
                      {
                        "marker": {
                          "colorbar": {
                            "outlinewidth": 0,
                            "ticks": ""
                          }
                        },
                        "type": "scattercarpet"
                      }
                    ],
                    "scattergeo": [
                      {
                        "marker": {
                          "colorbar": {
                            "outlinewidth": 0,
                            "ticks": ""
                          }
                        },
                        "type": "scattergeo"
                      }
                    ],
                    "scattergl": [
                      {
                        "marker": {
                          "colorbar": {
                            "outlinewidth": 0,
                            "ticks": ""
                          }
                        },
                        "type": "scattergl"
                      }
                    ],
                    "scattermapbox": [
                      {
                        "marker": {
                          "colorbar": {
                            "outlinewidth": 0,
                            "ticks": ""
                          }
                        },
                        "type": "scattermapbox"
                      }
                    ],
                    "scatterpolar": [
                      {
                        "marker": {
                          "colorbar": {
                            "outlinewidth": 0,
                            "ticks": ""
                          }
                        },
                        "type": "scatterpolar"
                      }
                    ],
                    "scatterpolargl": [
                      {
                        "marker": {
                          "colorbar": {
                            "outlinewidth": 0,
                            "ticks": ""
                          }
                        },
                        "type": "scatterpolargl"
                      }
                    ],
                    "scatterternary": [
                      {
                        "marker": {
                          "colorbar": {
                            "outlinewidth": 0,
                            "ticks": ""
                          }
                        },
                        "type": "scatterternary"
                      }
                    ],
                    "surface": [
                      {
                        "colorbar": {
                          "outlinewidth": 0,
                          "ticks": ""
                        },
                        "colorscale": [
                          [
                            0,
                            "#0d0887"
                          ],
                          [
                            0.1111111111111111,
                            "#46039f"
                          ],
                          [
                            0.2222222222222222,
                            "#7201a8"
                          ],
                          [
                            0.3333333333333333,
                            "#9c179e"
                          ],
                          [
                            0.4444444444444444,
                            "#bd3786"
                          ],
                          [
                            0.5555555555555556,
                            "#d8576b"
                          ],
                          [
                            0.6666666666666666,
                            "#ed7953"
                          ],
                          [
                            0.7777777777777778,
                            "#fb9f3a"
                          ],
                          [
                            0.8888888888888888,
                            "#fdca26"
                          ],
                          [
                            1,
                            "#f0f921"
                          ]
                        ],
                        "type": "surface"
                      }
                    ],
                    "table": [
                      {
                        "cells": {
                          "fill": {
                            "color": "#EBF0F8"
                          },
                          "line": {
                            "color": "white"
                          }
                        },
                        "header": {
                          "fill": {
                            "color": "#C8D4E3"
                          },
                          "line": {
                            "color": "white"
                          }
                        },
                        "type": "table"
                      }
                    ]
                  },
                  "layout": {
                    "annotationdefaults": {
                      "arrowcolor": "#2a3f5f",
                      "arrowhead": 0,
                      "arrowwidth": 1
                    },
                    "autotypenumbers": "strict",
                    "coloraxis": {
                      "colorbar": {
                        "outlinewidth": 0,
                        "ticks": ""
                      }
                    },
                    "colorscale": {
                      "diverging": [
                        [
                          0,
                          "#8e0152"
                        ],
                        [
                          0.1,
                          "#c51b7d"
                        ],
                        [
                          0.2,
                          "#de77ae"
                        ],
                        [
                          0.3,
                          "#f1b6da"
                        ],
                        [
                          0.4,
                          "#fde0ef"
                        ],
                        [
                          0.5,
                          "#f7f7f7"
                        ],
                        [
                          0.6,
                          "#e6f5d0"
                        ],
                        [
                          0.7,
                          "#b8e186"
                        ],
                        [
                          0.8,
                          "#7fbc41"
                        ],
                        [
                          0.9,
                          "#4d9221"
                        ],
                        [
                          1,
                          "#276419"
                        ]
                      ],
                      "sequential": [
                        [
                          0,
                          "#0d0887"
                        ],
                        [
                          0.1111111111111111,
                          "#46039f"
                        ],
                        [
                          0.2222222222222222,
                          "#7201a8"
                        ],
                        [
                          0.3333333333333333,
                          "#9c179e"
                        ],
                        [
                          0.4444444444444444,
                          "#bd3786"
                        ],
                        [
                          0.5555555555555556,
                          "#d8576b"
                        ],
                        [
                          0.6666666666666666,
                          "#ed7953"
                        ],
                        [
                          0.7777777777777778,
                          "#fb9f3a"
                        ],
                        [
                          0.8888888888888888,
                          "#fdca26"
                        ],
                        [
                          1,
                          "#f0f921"
                        ]
                      ],
                      "sequentialminus": [
                        [
                          0,
                          "#0d0887"
                        ],
                        [
                          0.1111111111111111,
                          "#46039f"
                        ],
                        [
                          0.2222222222222222,
                          "#7201a8"
                        ],
                        [
                          0.3333333333333333,
                          "#9c179e"
                        ],
                        [
                          0.4444444444444444,
                          "#bd3786"
                        ],
                        [
                          0.5555555555555556,
                          "#d8576b"
                        ],
                        [
                          0.6666666666666666,
                          "#ed7953"
                        ],
                        [
                          0.7777777777777778,
                          "#fb9f3a"
                        ],
                        [
                          0.8888888888888888,
                          "#fdca26"
                        ],
                        [
                          1,
                          "#f0f921"
                        ]
                      ]
                    },
                    "colorway": [
                      "#636efa",
                      "#EF553B",
                      "#00cc96",
                      "#ab63fa",
                      "#FFA15A",
                      "#19d3f3",
                      "#FF6692",
                      "#B6E880",
                      "#FF97FF",
                      "#FECB52"
                    ],
                    "font": {
                      "color": "#2a3f5f"
                    },
                    "geo": {
                      "bgcolor": "white",
                      "lakecolor": "white",
                      "landcolor": "white",
                      "showlakes": true,
                      "showland": true,
                      "subunitcolor": "#C8D4E3"
                    },
                    "hoverlabel": {
                      "align": "left"
                    },
                    "hovermode": "closest",
                    "mapbox": {
                      "style": "light"
                    },
                    "paper_bgcolor": "white",
                    "plot_bgcolor": "white",
                    "polar": {
                      "angularaxis": {
                        "gridcolor": "#EBF0F8",
                        "linecolor": "#EBF0F8",
                        "ticks": ""
                      },
                      "bgcolor": "white",
                      "radialaxis": {
                        "gridcolor": "#EBF0F8",
                        "linecolor": "#EBF0F8",
                        "ticks": ""
                      }
                    },
                    "scene": {
                      "xaxis": {
                        "backgroundcolor": "white",
                        "gridcolor": "#DFE8F3",
                        "gridwidth": 2,
                        "linecolor": "#EBF0F8",
                        "showbackground": true,
                        "ticks": "",
                        "zerolinecolor": "#EBF0F8"
                      },
                      "yaxis": {
                        "backgroundcolor": "white",
                        "gridcolor": "#DFE8F3",
                        "gridwidth": 2,
                        "linecolor": "#EBF0F8",
                        "showbackground": true,
                        "ticks": "",
                        "zerolinecolor": "#EBF0F8"
                      },
                      "zaxis": {
                        "backgroundcolor": "white",
                        "gridcolor": "#DFE8F3",
                        "gridwidth": 2,
                        "linecolor": "#EBF0F8",
                        "showbackground": true,
                        "ticks": "",
                        "zerolinecolor": "#EBF0F8"
                      }
                    },
                    "shapedefaults": {
                      "line": {
                        "color": "#2a3f5f"
                      }
                    },
                    "ternary": {
                      "aaxis": {
                        "gridcolor": "#DFE8F3",
                        "linecolor": "#A2B1C6",
                        "ticks": ""
                      },
                      "baxis": {
                        "gridcolor": "#DFE8F3",
                        "linecolor": "#A2B1C6",
                        "ticks": ""
                      },
                      "bgcolor": "white",
                      "caxis": {
                        "gridcolor": "#DFE8F3",
                        "linecolor": "#A2B1C6",
                        "ticks": ""
                      }
                    },
                    "title": {
                      "x": 0.05
                    },
                    "xaxis": {
                      "automargin": true,
                      "gridcolor": "#EBF0F8",
                      "linecolor": "#EBF0F8",
                      "ticks": "",
                      "title": {
                        "standoff": 15
                      },
                      "zerolinecolor": "#EBF0F8",
                      "zerolinewidth": 2
                    },
                    "yaxis": {
                      "automargin": true,
                      "gridcolor": "#EBF0F8",
                      "linecolor": "#EBF0F8",
                      "ticks": "",
                      "title": {
                        "standoff": 15
                      },
                      "zerolinecolor": "#EBF0F8",
                      "zerolinewidth": 2
                    }
                  }
                },
                "title": {
                  "text": "Seasonality"
                },
                "xaxis": {
                  "title": {
                    "text": "Date"
                  }
                },
                "yaxis": {
                  "title": {
                    "text": "Log of Passengers"
                  }
                }
              }
            }
          },
          "metadata": {},
          "output_type": "display_data"
        }
      ],
      "source": [
        "# Create the Plotly figure\n",
        "fig = go.Figure()\n",
        "\n",
        "# Add the log-transformed passenger data\n",
        "fig.add_trace(go.Scatter(\n",
        "    x=train.index,\n",
        "    y=train['log_passengers'],\n",
        "    mode='lines+markers',\n",
        "    name='Log(Passengers)',\n",
        "    customdata=np.stack((train.index.strftime('%Y-%m'), train['passengers']), axis=-1),\n",
        "    hovertemplate='<b>Date</b>: %{customdata[0]}<br>' +\n",
        "                  '<b>Log(Passengers)</b>: %{y:.2f}<br>' +\n",
        "                  '<b>Actual Passengers</b>: %{customdata[1]}'\n",
        "))\n",
        "\n",
        "# Add the fitted seasonal model\n",
        "fig.add_trace(go.Scatter(\n",
        "    x=train.index,\n",
        "    y=train['seasonal_fitted'],\n",
        "    mode='lines',\n",
        "    name='Fitted Seasonal Model',\n",
        "    line=dict(color='red')\n",
        "))\n",
        "\n",
        "# Customize layout\n",
        "fig.update_layout(\n",
        "    title='Seasonality',\n",
        "    xaxis_title='Date',\n",
        "    yaxis_title='Log of Passengers',\n",
        "    template='plotly_white'\n",
        ")\n",
        "\n",
        "fig.show()"
      ]
    },
    {
      "cell_type": "markdown",
      "metadata": {
        "id": "HZLShA53T2SP"
      },
      "source": [
        "We can express the **seasonality** $s_t$ as:\n",
        "\n",
        "$$ \\log(\\text{Passengers}) = \\text{Intercept} + \\beta_{\\text{Feb}} \\cdot \\text{Feb} + \\beta_{\\text{Mar}} \\cdot \\text{Mar} + \\beta_{\\text{Apr}} \\cdot \\text{Apr} + \\dots + \\beta_{\\text{Dec}} \\cdot \\text{Dec} + \\epsilon $$\n"
      ]
    },
    {
      "cell_type": "markdown",
      "metadata": {
        "id": "aEcAm5d_SKu7"
      },
      "source": [
        "### If we add trend and seasonality...\n",
        "\n",
        "$$ Y_t = m_t + s_t + \\epsilon_t\n",
        " $$\n",
        "\n",
        " $\\rightarrow$\n",
        "\n",
        "$$\n",
        "\\log(\\text{Passengers}) = \\beta_0 + \\beta_1 \\cdot t + \\beta_{\\text{Feb}} \\cdot \\text{Feb} + \\beta_{\\text{Mar}} \\cdot \\text{Mar} + \\beta_{\\text{Apr}} \\cdot \\text{Apr} + \\dots + \\beta_{\\text{Dec}} \\cdot \\text{Dec} + \\epsilon\n",
        "$$\n"
      ]
    },
    {
      "cell_type": "code",
      "execution_count": 16,
      "metadata": {
        "id": "1nFRmicMRi7l"
      },
      "outputs": [],
      "source": [
        "# Combine trend and seasonality features\n",
        "X = np.column_stack((train['t'], month_dummies))  # Stack 't' and month dummies as features\n",
        "y = train['log_passengers']\n",
        "\n",
        "# Fit the linear regression model with both trend and seasonality\n",
        "model = LinearRegression()\n",
        "model.fit(X, y)\n",
        "\n",
        "# Get fitted values (predicted values) from the model\n",
        "train['fitted'] = model.predict(X)"
      ]
    },
    {
      "cell_type": "code",
      "execution_count": 17,
      "metadata": {
        "colab": {
          "base_uri": "https://localhost:8080/",
          "height": 542
        },
        "id": "JFXMhyIbVCQW",
        "outputId": "7221d464-da4b-479b-d04a-8bd316ec50ec"
      },
      "outputs": [
        {
          "data": {
            "application/vnd.plotly.v1+json": {
              "config": {
                "plotlyServerURL": "https://plot.ly"
              },
              "data": [
                {
                  "customdata": [
                    [
                      "1949-01",
                      112
                    ],
                    [
                      "1949-02",
                      118
                    ],
                    [
                      "1949-03",
                      132
                    ],
                    [
                      "1949-04",
                      129
                    ],
                    [
                      "1949-05",
                      121
                    ],
                    [
                      "1949-06",
                      135
                    ],
                    [
                      "1949-07",
                      148
                    ],
                    [
                      "1949-08",
                      148
                    ],
                    [
                      "1949-09",
                      136
                    ],
                    [
                      "1949-10",
                      119
                    ],
                    [
                      "1949-11",
                      104
                    ],
                    [
                      "1949-12",
                      118
                    ],
                    [
                      "1950-01",
                      115
                    ],
                    [
                      "1950-02",
                      126
                    ],
                    [
                      "1950-03",
                      141
                    ],
                    [
                      "1950-04",
                      135
                    ],
                    [
                      "1950-05",
                      125
                    ],
                    [
                      "1950-06",
                      149
                    ],
                    [
                      "1950-07",
                      170
                    ],
                    [
                      "1950-08",
                      170
                    ],
                    [
                      "1950-09",
                      158
                    ],
                    [
                      "1950-10",
                      133
                    ],
                    [
                      "1950-11",
                      114
                    ],
                    [
                      "1950-12",
                      140
                    ],
                    [
                      "1951-01",
                      145
                    ],
                    [
                      "1951-02",
                      150
                    ],
                    [
                      "1951-03",
                      178
                    ],
                    [
                      "1951-04",
                      163
                    ],
                    [
                      "1951-05",
                      172
                    ],
                    [
                      "1951-06",
                      178
                    ],
                    [
                      "1951-07",
                      199
                    ],
                    [
                      "1951-08",
                      199
                    ],
                    [
                      "1951-09",
                      184
                    ],
                    [
                      "1951-10",
                      162
                    ],
                    [
                      "1951-11",
                      146
                    ],
                    [
                      "1951-12",
                      166
                    ],
                    [
                      "1952-01",
                      171
                    ],
                    [
                      "1952-02",
                      180
                    ],
                    [
                      "1952-03",
                      193
                    ],
                    [
                      "1952-04",
                      181
                    ],
                    [
                      "1952-05",
                      183
                    ],
                    [
                      "1952-06",
                      218
                    ],
                    [
                      "1952-07",
                      230
                    ],
                    [
                      "1952-08",
                      242
                    ],
                    [
                      "1952-09",
                      209
                    ],
                    [
                      "1952-10",
                      191
                    ],
                    [
                      "1952-11",
                      172
                    ],
                    [
                      "1952-12",
                      194
                    ],
                    [
                      "1953-01",
                      196
                    ],
                    [
                      "1953-02",
                      196
                    ],
                    [
                      "1953-03",
                      236
                    ],
                    [
                      "1953-04",
                      235
                    ],
                    [
                      "1953-05",
                      229
                    ],
                    [
                      "1953-06",
                      243
                    ],
                    [
                      "1953-07",
                      264
                    ],
                    [
                      "1953-08",
                      272
                    ],
                    [
                      "1953-09",
                      237
                    ],
                    [
                      "1953-10",
                      211
                    ],
                    [
                      "1953-11",
                      180
                    ],
                    [
                      "1953-12",
                      201
                    ],
                    [
                      "1954-01",
                      204
                    ],
                    [
                      "1954-02",
                      188
                    ],
                    [
                      "1954-03",
                      235
                    ],
                    [
                      "1954-04",
                      227
                    ],
                    [
                      "1954-05",
                      234
                    ],
                    [
                      "1954-06",
                      264
                    ],
                    [
                      "1954-07",
                      302
                    ],
                    [
                      "1954-08",
                      293
                    ],
                    [
                      "1954-09",
                      259
                    ],
                    [
                      "1954-10",
                      229
                    ],
                    [
                      "1954-11",
                      203
                    ],
                    [
                      "1954-12",
                      229
                    ],
                    [
                      "1955-01",
                      242
                    ],
                    [
                      "1955-02",
                      233
                    ],
                    [
                      "1955-03",
                      267
                    ],
                    [
                      "1955-04",
                      269
                    ],
                    [
                      "1955-05",
                      270
                    ],
                    [
                      "1955-06",
                      315
                    ],
                    [
                      "1955-07",
                      364
                    ],
                    [
                      "1955-08",
                      347
                    ],
                    [
                      "1955-09",
                      312
                    ],
                    [
                      "1955-10",
                      274
                    ],
                    [
                      "1955-11",
                      237
                    ],
                    [
                      "1955-12",
                      278
                    ],
                    [
                      "1956-01",
                      284
                    ],
                    [
                      "1956-02",
                      277
                    ],
                    [
                      "1956-03",
                      317
                    ],
                    [
                      "1956-04",
                      313
                    ],
                    [
                      "1956-05",
                      318
                    ],
                    [
                      "1956-06",
                      374
                    ],
                    [
                      "1956-07",
                      413
                    ],
                    [
                      "1956-08",
                      405
                    ],
                    [
                      "1956-09",
                      355
                    ],
                    [
                      "1956-10",
                      306
                    ],
                    [
                      "1956-11",
                      271
                    ],
                    [
                      "1956-12",
                      306
                    ],
                    [
                      "1957-01",
                      315
                    ],
                    [
                      "1957-02",
                      301
                    ],
                    [
                      "1957-03",
                      356
                    ],
                    [
                      "1957-04",
                      348
                    ],
                    [
                      "1957-05",
                      355
                    ],
                    [
                      "1957-06",
                      422
                    ],
                    [
                      "1957-07",
                      465
                    ],
                    [
                      "1957-08",
                      467
                    ],
                    [
                      "1957-09",
                      404
                    ],
                    [
                      "1957-10",
                      347
                    ],
                    [
                      "1957-11",
                      305
                    ],
                    [
                      "1957-12",
                      336
                    ],
                    [
                      "1958-01",
                      340
                    ],
                    [
                      "1958-02",
                      318
                    ],
                    [
                      "1958-03",
                      362
                    ],
                    [
                      "1958-04",
                      348
                    ],
                    [
                      "1958-05",
                      363
                    ],
                    [
                      "1958-06",
                      435
                    ],
                    [
                      "1958-07",
                      491
                    ]
                  ],
                  "hovertemplate": "<b>Date</b>: %{customdata[0]}<br><b>Log(Passengers)</b>: %{y:.2f}<br><b>Actual Passengers</b>: %{customdata[1]}",
                  "mode": "lines+markers",
                  "name": "Log(Passengers)",
                  "type": "scatter",
                  "x": [
                    "1949-01-01T00:00:00",
                    "1949-02-01T00:00:00",
                    "1949-03-01T00:00:00",
                    "1949-04-01T00:00:00",
                    "1949-05-01T00:00:00",
                    "1949-06-01T00:00:00",
                    "1949-07-01T00:00:00",
                    "1949-08-01T00:00:00",
                    "1949-09-01T00:00:00",
                    "1949-10-01T00:00:00",
                    "1949-11-01T00:00:00",
                    "1949-12-01T00:00:00",
                    "1950-01-01T00:00:00",
                    "1950-02-01T00:00:00",
                    "1950-03-01T00:00:00",
                    "1950-04-01T00:00:00",
                    "1950-05-01T00:00:00",
                    "1950-06-01T00:00:00",
                    "1950-07-01T00:00:00",
                    "1950-08-01T00:00:00",
                    "1950-09-01T00:00:00",
                    "1950-10-01T00:00:00",
                    "1950-11-01T00:00:00",
                    "1950-12-01T00:00:00",
                    "1951-01-01T00:00:00",
                    "1951-02-01T00:00:00",
                    "1951-03-01T00:00:00",
                    "1951-04-01T00:00:00",
                    "1951-05-01T00:00:00",
                    "1951-06-01T00:00:00",
                    "1951-07-01T00:00:00",
                    "1951-08-01T00:00:00",
                    "1951-09-01T00:00:00",
                    "1951-10-01T00:00:00",
                    "1951-11-01T00:00:00",
                    "1951-12-01T00:00:00",
                    "1952-01-01T00:00:00",
                    "1952-02-01T00:00:00",
                    "1952-03-01T00:00:00",
                    "1952-04-01T00:00:00",
                    "1952-05-01T00:00:00",
                    "1952-06-01T00:00:00",
                    "1952-07-01T00:00:00",
                    "1952-08-01T00:00:00",
                    "1952-09-01T00:00:00",
                    "1952-10-01T00:00:00",
                    "1952-11-01T00:00:00",
                    "1952-12-01T00:00:00",
                    "1953-01-01T00:00:00",
                    "1953-02-01T00:00:00",
                    "1953-03-01T00:00:00",
                    "1953-04-01T00:00:00",
                    "1953-05-01T00:00:00",
                    "1953-06-01T00:00:00",
                    "1953-07-01T00:00:00",
                    "1953-08-01T00:00:00",
                    "1953-09-01T00:00:00",
                    "1953-10-01T00:00:00",
                    "1953-11-01T00:00:00",
                    "1953-12-01T00:00:00",
                    "1954-01-01T00:00:00",
                    "1954-02-01T00:00:00",
                    "1954-03-01T00:00:00",
                    "1954-04-01T00:00:00",
                    "1954-05-01T00:00:00",
                    "1954-06-01T00:00:00",
                    "1954-07-01T00:00:00",
                    "1954-08-01T00:00:00",
                    "1954-09-01T00:00:00",
                    "1954-10-01T00:00:00",
                    "1954-11-01T00:00:00",
                    "1954-12-01T00:00:00",
                    "1955-01-01T00:00:00",
                    "1955-02-01T00:00:00",
                    "1955-03-01T00:00:00",
                    "1955-04-01T00:00:00",
                    "1955-05-01T00:00:00",
                    "1955-06-01T00:00:00",
                    "1955-07-01T00:00:00",
                    "1955-08-01T00:00:00",
                    "1955-09-01T00:00:00",
                    "1955-10-01T00:00:00",
                    "1955-11-01T00:00:00",
                    "1955-12-01T00:00:00",
                    "1956-01-01T00:00:00",
                    "1956-02-01T00:00:00",
                    "1956-03-01T00:00:00",
                    "1956-04-01T00:00:00",
                    "1956-05-01T00:00:00",
                    "1956-06-01T00:00:00",
                    "1956-07-01T00:00:00",
                    "1956-08-01T00:00:00",
                    "1956-09-01T00:00:00",
                    "1956-10-01T00:00:00",
                    "1956-11-01T00:00:00",
                    "1956-12-01T00:00:00",
                    "1957-01-01T00:00:00",
                    "1957-02-01T00:00:00",
                    "1957-03-01T00:00:00",
                    "1957-04-01T00:00:00",
                    "1957-05-01T00:00:00",
                    "1957-06-01T00:00:00",
                    "1957-07-01T00:00:00",
                    "1957-08-01T00:00:00",
                    "1957-09-01T00:00:00",
                    "1957-10-01T00:00:00",
                    "1957-11-01T00:00:00",
                    "1957-12-01T00:00:00",
                    "1958-01-01T00:00:00",
                    "1958-02-01T00:00:00",
                    "1958-03-01T00:00:00",
                    "1958-04-01T00:00:00",
                    "1958-05-01T00:00:00",
                    "1958-06-01T00:00:00",
                    "1958-07-01T00:00:00"
                  ],
                  "y": [
                    4.718498871295094,
                    4.770684624465665,
                    4.882801922586371,
                    4.859812404361672,
                    4.795790545596741,
                    4.90527477843843,
                    4.997212273764115,
                    4.997212273764115,
                    4.912654885736052,
                    4.77912349311153,
                    4.6443908991413725,
                    4.770684624465665,
                    4.74493212836325,
                    4.836281906951478,
                    4.948759890378168,
                    4.90527477843843,
                    4.8283137373023015,
                    5.003946305945459,
                    5.135798437050262,
                    5.135798437050262,
                    5.062595033026967,
                    4.890349128221754,
                    4.736198448394496,
                    4.941642422609304,
                    4.976733742420574,
                    5.0106352940962555,
                    5.181783550292085,
                    5.093750200806762,
                    5.147494476813453,
                    5.181783550292085,
                    5.293304824724492,
                    5.293304824724492,
                    5.214935757608986,
                    5.087596335232384,
                    4.983606621708336,
                    5.111987788356544,
                    5.14166355650266,
                    5.19295685089021,
                    5.262690188904886,
                    5.198497031265826,
                    5.209486152841421,
                    5.384495062789089,
                    5.438079308923196,
                    5.488937726156687,
                    5.342334251964811,
                    5.25227342804663,
                    5.147494476813453,
                    5.267858159063328,
                    5.278114659230517,
                    5.278114659230517,
                    5.4638318050256105,
                    5.459585514144159,
                    5.43372200355424,
                    5.493061443340548,
                    5.575949103146316,
                    5.605802066295998,
                    5.4680601411351315,
                    5.351858133476067,
                    5.19295685089021,
                    5.303304908059076,
                    5.318119993844216,
                    5.236441962829949,
                    5.459585514144159,
                    5.424950017481403,
                    5.455321115357702,
                    5.575949103146316,
                    5.71042701737487,
                    5.680172609017068,
                    5.556828061699537,
                    5.43372200355424,
                    5.313205979041787,
                    5.43372200355424,
                    5.488937726156687,
                    5.4510384535657,
                    5.58724865840025,
                    5.594711379601839,
                    5.598421958998375,
                    5.752572638825633,
                    5.8971538676367405,
                    5.849324779946859,
                    5.7430031878094825,
                    5.6131281063880705,
                    5.4680601411351315,
                    5.627621113690637,
                    5.648974238161206,
                    5.6240175061873385,
                    5.75890177387728,
                    5.746203190540153,
                    5.762051382780177,
                    5.924255797414532,
                    6.023447592961033,
                    6.003887067106539,
                    5.872117789475416,
                    5.723585101952381,
                    5.602118820879701,
                    5.723585101952381,
                    5.752572638825633,
                    5.707110264748875,
                    5.87493073085203,
                    5.8522024797744745,
                    5.872117789475416,
                    6.045005314036012,
                    6.142037405587356,
                    6.1463292576688975,
                    6.0014148779611505,
                    5.849324779946859,
                    5.720311776607412,
                    5.817111159963204,
                    5.8289456176102075,
                    5.762051382780177,
                    5.8916442118257715,
                    5.8522024797744745,
                    5.8944028342648505,
                    6.075346031088684,
                    6.19644412779452
                  ]
                },
                {
                  "line": {
                    "color": "red"
                  },
                  "mode": "lines",
                  "name": "Fitted Model",
                  "type": "scatter",
                  "x": [
                    "1949-01-01T00:00:00",
                    "1949-02-01T00:00:00",
                    "1949-03-01T00:00:00",
                    "1949-04-01T00:00:00",
                    "1949-05-01T00:00:00",
                    "1949-06-01T00:00:00",
                    "1949-07-01T00:00:00",
                    "1949-08-01T00:00:00",
                    "1949-09-01T00:00:00",
                    "1949-10-01T00:00:00",
                    "1949-11-01T00:00:00",
                    "1949-12-01T00:00:00",
                    "1950-01-01T00:00:00",
                    "1950-02-01T00:00:00",
                    "1950-03-01T00:00:00",
                    "1950-04-01T00:00:00",
                    "1950-05-01T00:00:00",
                    "1950-06-01T00:00:00",
                    "1950-07-01T00:00:00",
                    "1950-08-01T00:00:00",
                    "1950-09-01T00:00:00",
                    "1950-10-01T00:00:00",
                    "1950-11-01T00:00:00",
                    "1950-12-01T00:00:00",
                    "1951-01-01T00:00:00",
                    "1951-02-01T00:00:00",
                    "1951-03-01T00:00:00",
                    "1951-04-01T00:00:00",
                    "1951-05-01T00:00:00",
                    "1951-06-01T00:00:00",
                    "1951-07-01T00:00:00",
                    "1951-08-01T00:00:00",
                    "1951-09-01T00:00:00",
                    "1951-10-01T00:00:00",
                    "1951-11-01T00:00:00",
                    "1951-12-01T00:00:00",
                    "1952-01-01T00:00:00",
                    "1952-02-01T00:00:00",
                    "1952-03-01T00:00:00",
                    "1952-04-01T00:00:00",
                    "1952-05-01T00:00:00",
                    "1952-06-01T00:00:00",
                    "1952-07-01T00:00:00",
                    "1952-08-01T00:00:00",
                    "1952-09-01T00:00:00",
                    "1952-10-01T00:00:00",
                    "1952-11-01T00:00:00",
                    "1952-12-01T00:00:00",
                    "1953-01-01T00:00:00",
                    "1953-02-01T00:00:00",
                    "1953-03-01T00:00:00",
                    "1953-04-01T00:00:00",
                    "1953-05-01T00:00:00",
                    "1953-06-01T00:00:00",
                    "1953-07-01T00:00:00",
                    "1953-08-01T00:00:00",
                    "1953-09-01T00:00:00",
                    "1953-10-01T00:00:00",
                    "1953-11-01T00:00:00",
                    "1953-12-01T00:00:00",
                    "1954-01-01T00:00:00",
                    "1954-02-01T00:00:00",
                    "1954-03-01T00:00:00",
                    "1954-04-01T00:00:00",
                    "1954-05-01T00:00:00",
                    "1954-06-01T00:00:00",
                    "1954-07-01T00:00:00",
                    "1954-08-01T00:00:00",
                    "1954-09-01T00:00:00",
                    "1954-10-01T00:00:00",
                    "1954-11-01T00:00:00",
                    "1954-12-01T00:00:00",
                    "1955-01-01T00:00:00",
                    "1955-02-01T00:00:00",
                    "1955-03-01T00:00:00",
                    "1955-04-01T00:00:00",
                    "1955-05-01T00:00:00",
                    "1955-06-01T00:00:00",
                    "1955-07-01T00:00:00",
                    "1955-08-01T00:00:00",
                    "1955-09-01T00:00:00",
                    "1955-10-01T00:00:00",
                    "1955-11-01T00:00:00",
                    "1955-12-01T00:00:00",
                    "1956-01-01T00:00:00",
                    "1956-02-01T00:00:00",
                    "1956-03-01T00:00:00",
                    "1956-04-01T00:00:00",
                    "1956-05-01T00:00:00",
                    "1956-06-01T00:00:00",
                    "1956-07-01T00:00:00",
                    "1956-08-01T00:00:00",
                    "1956-09-01T00:00:00",
                    "1956-10-01T00:00:00",
                    "1956-11-01T00:00:00",
                    "1956-12-01T00:00:00",
                    "1957-01-01T00:00:00",
                    "1957-02-01T00:00:00",
                    "1957-03-01T00:00:00",
                    "1957-04-01T00:00:00",
                    "1957-05-01T00:00:00",
                    "1957-06-01T00:00:00",
                    "1957-07-01T00:00:00",
                    "1957-08-01T00:00:00",
                    "1957-09-01T00:00:00",
                    "1957-10-01T00:00:00",
                    "1957-11-01T00:00:00",
                    "1957-12-01T00:00:00",
                    "1958-01-01T00:00:00",
                    "1958-02-01T00:00:00",
                    "1958-03-01T00:00:00",
                    "1958-04-01T00:00:00",
                    "1958-05-01T00:00:00",
                    "1958-06-01T00:00:00",
                    "1958-07-01T00:00:00"
                  ],
                  "y": [
                    4.70629744823928,
                    4.703481421572891,
                    4.847765955626937,
                    4.815267078617194,
                    4.816260330696743,
                    4.950717133529953,
                    5.057533526894565,
                    5.059239343301902,
                    4.945147670489304,
                    4.8125939508795685,
                    4.682303229177567,
                    4.814433592188953,
                    4.835953419128552,
                    4.833137392462164,
                    4.977421926516208,
                    4.944923049506467,
                    4.945916301586015,
                    5.080373104419226,
                    5.187189497783837,
                    5.188895314191175,
                    5.074803641378576,
                    4.942249921768841,
                    4.8119592000668385,
                    4.944089563078226,
                    4.965609390017824,
                    4.9627933633514365,
                    5.107077897405481,
                    5.074579020395739,
                    5.075572272475287,
                    5.210029075308499,
                    5.31684546867311,
                    5.318551285080447,
                    5.204459612267849,
                    5.071905892658113,
                    4.941615170956111,
                    5.073745533967498,
                    5.095265360907097,
                    5.092449334240708,
                    5.2367338682947535,
                    5.204234991285011,
                    5.20522824336456,
                    5.339685046197771,
                    5.446501439562382,
                    5.448207255969719,
                    5.334115583157121,
                    5.2015618635473855,
                    5.071271141845384,
                    5.203401504856771,
                    5.224921331796369,
                    5.222105305129981,
                    5.366389839184025,
                    5.333890962174284,
                    5.334884214253832,
                    5.469341017087043,
                    5.576157410451654,
                    5.577863226858992,
                    5.463771554046393,
                    5.331217834436658,
                    5.200927112734656,
                    5.333057475746043,
                    5.354577302685641,
                    5.351761276019253,
                    5.496045810073298,
                    5.463546933063556,
                    5.464540185143104,
                    5.5989969879763155,
                    5.705813381340927,
                    5.7075191977482636,
                    5.593427524935666,
                    5.46087380532593,
                    5.330583083623928,
                    5.462713446635315,
                    5.4842332735749135,
                    5.481417246908526,
                    5.6257017809625705,
                    5.593202903952829,
                    5.5941961560323765,
                    5.728652958865588,
                    5.835469352230199,
                    5.837175168637536,
                    5.723083495824938,
                    5.590529776215202,
                    5.460239054513201,
                    5.592369417524588,
                    5.613889244464186,
                    5.611073217797799,
                    5.755357751851843,
                    5.722858874842101,
                    5.723852126921649,
                    5.858308929754861,
                    5.965125323119471,
                    5.966831139526809,
                    5.852739466714211,
                    5.720185747104475,
                    5.589895025402473,
                    5.72202538841386,
                    5.743545215353459,
                    5.74072918868707,
                    5.885013722741115,
                    5.852514845731373,
                    5.853508097810922,
                    5.9879649006441324,
                    6.094781294008744,
                    6.096487110416081,
                    5.982395437603483,
                    5.849841717993748,
                    5.719550996291746,
                    5.851681359303132,
                    5.8732011862427305,
                    5.870385159576343,
                    6.014669693630387,
                    5.982170816620646,
                    5.9831640687001935,
                    6.117620871533405,
                    6.224437264898016
                  ]
                }
              ],
              "layout": {
                "template": {
                  "data": {
                    "bar": [
                      {
                        "error_x": {
                          "color": "#2a3f5f"
                        },
                        "error_y": {
                          "color": "#2a3f5f"
                        },
                        "marker": {
                          "line": {
                            "color": "white",
                            "width": 0.5
                          },
                          "pattern": {
                            "fillmode": "overlay",
                            "size": 10,
                            "solidity": 0.2
                          }
                        },
                        "type": "bar"
                      }
                    ],
                    "barpolar": [
                      {
                        "marker": {
                          "line": {
                            "color": "white",
                            "width": 0.5
                          },
                          "pattern": {
                            "fillmode": "overlay",
                            "size": 10,
                            "solidity": 0.2
                          }
                        },
                        "type": "barpolar"
                      }
                    ],
                    "carpet": [
                      {
                        "aaxis": {
                          "endlinecolor": "#2a3f5f",
                          "gridcolor": "#C8D4E3",
                          "linecolor": "#C8D4E3",
                          "minorgridcolor": "#C8D4E3",
                          "startlinecolor": "#2a3f5f"
                        },
                        "baxis": {
                          "endlinecolor": "#2a3f5f",
                          "gridcolor": "#C8D4E3",
                          "linecolor": "#C8D4E3",
                          "minorgridcolor": "#C8D4E3",
                          "startlinecolor": "#2a3f5f"
                        },
                        "type": "carpet"
                      }
                    ],
                    "choropleth": [
                      {
                        "colorbar": {
                          "outlinewidth": 0,
                          "ticks": ""
                        },
                        "type": "choropleth"
                      }
                    ],
                    "contour": [
                      {
                        "colorbar": {
                          "outlinewidth": 0,
                          "ticks": ""
                        },
                        "colorscale": [
                          [
                            0,
                            "#0d0887"
                          ],
                          [
                            0.1111111111111111,
                            "#46039f"
                          ],
                          [
                            0.2222222222222222,
                            "#7201a8"
                          ],
                          [
                            0.3333333333333333,
                            "#9c179e"
                          ],
                          [
                            0.4444444444444444,
                            "#bd3786"
                          ],
                          [
                            0.5555555555555556,
                            "#d8576b"
                          ],
                          [
                            0.6666666666666666,
                            "#ed7953"
                          ],
                          [
                            0.7777777777777778,
                            "#fb9f3a"
                          ],
                          [
                            0.8888888888888888,
                            "#fdca26"
                          ],
                          [
                            1,
                            "#f0f921"
                          ]
                        ],
                        "type": "contour"
                      }
                    ],
                    "contourcarpet": [
                      {
                        "colorbar": {
                          "outlinewidth": 0,
                          "ticks": ""
                        },
                        "type": "contourcarpet"
                      }
                    ],
                    "heatmap": [
                      {
                        "colorbar": {
                          "outlinewidth": 0,
                          "ticks": ""
                        },
                        "colorscale": [
                          [
                            0,
                            "#0d0887"
                          ],
                          [
                            0.1111111111111111,
                            "#46039f"
                          ],
                          [
                            0.2222222222222222,
                            "#7201a8"
                          ],
                          [
                            0.3333333333333333,
                            "#9c179e"
                          ],
                          [
                            0.4444444444444444,
                            "#bd3786"
                          ],
                          [
                            0.5555555555555556,
                            "#d8576b"
                          ],
                          [
                            0.6666666666666666,
                            "#ed7953"
                          ],
                          [
                            0.7777777777777778,
                            "#fb9f3a"
                          ],
                          [
                            0.8888888888888888,
                            "#fdca26"
                          ],
                          [
                            1,
                            "#f0f921"
                          ]
                        ],
                        "type": "heatmap"
                      }
                    ],
                    "heatmapgl": [
                      {
                        "colorbar": {
                          "outlinewidth": 0,
                          "ticks": ""
                        },
                        "colorscale": [
                          [
                            0,
                            "#0d0887"
                          ],
                          [
                            0.1111111111111111,
                            "#46039f"
                          ],
                          [
                            0.2222222222222222,
                            "#7201a8"
                          ],
                          [
                            0.3333333333333333,
                            "#9c179e"
                          ],
                          [
                            0.4444444444444444,
                            "#bd3786"
                          ],
                          [
                            0.5555555555555556,
                            "#d8576b"
                          ],
                          [
                            0.6666666666666666,
                            "#ed7953"
                          ],
                          [
                            0.7777777777777778,
                            "#fb9f3a"
                          ],
                          [
                            0.8888888888888888,
                            "#fdca26"
                          ],
                          [
                            1,
                            "#f0f921"
                          ]
                        ],
                        "type": "heatmapgl"
                      }
                    ],
                    "histogram": [
                      {
                        "marker": {
                          "pattern": {
                            "fillmode": "overlay",
                            "size": 10,
                            "solidity": 0.2
                          }
                        },
                        "type": "histogram"
                      }
                    ],
                    "histogram2d": [
                      {
                        "colorbar": {
                          "outlinewidth": 0,
                          "ticks": ""
                        },
                        "colorscale": [
                          [
                            0,
                            "#0d0887"
                          ],
                          [
                            0.1111111111111111,
                            "#46039f"
                          ],
                          [
                            0.2222222222222222,
                            "#7201a8"
                          ],
                          [
                            0.3333333333333333,
                            "#9c179e"
                          ],
                          [
                            0.4444444444444444,
                            "#bd3786"
                          ],
                          [
                            0.5555555555555556,
                            "#d8576b"
                          ],
                          [
                            0.6666666666666666,
                            "#ed7953"
                          ],
                          [
                            0.7777777777777778,
                            "#fb9f3a"
                          ],
                          [
                            0.8888888888888888,
                            "#fdca26"
                          ],
                          [
                            1,
                            "#f0f921"
                          ]
                        ],
                        "type": "histogram2d"
                      }
                    ],
                    "histogram2dcontour": [
                      {
                        "colorbar": {
                          "outlinewidth": 0,
                          "ticks": ""
                        },
                        "colorscale": [
                          [
                            0,
                            "#0d0887"
                          ],
                          [
                            0.1111111111111111,
                            "#46039f"
                          ],
                          [
                            0.2222222222222222,
                            "#7201a8"
                          ],
                          [
                            0.3333333333333333,
                            "#9c179e"
                          ],
                          [
                            0.4444444444444444,
                            "#bd3786"
                          ],
                          [
                            0.5555555555555556,
                            "#d8576b"
                          ],
                          [
                            0.6666666666666666,
                            "#ed7953"
                          ],
                          [
                            0.7777777777777778,
                            "#fb9f3a"
                          ],
                          [
                            0.8888888888888888,
                            "#fdca26"
                          ],
                          [
                            1,
                            "#f0f921"
                          ]
                        ],
                        "type": "histogram2dcontour"
                      }
                    ],
                    "mesh3d": [
                      {
                        "colorbar": {
                          "outlinewidth": 0,
                          "ticks": ""
                        },
                        "type": "mesh3d"
                      }
                    ],
                    "parcoords": [
                      {
                        "line": {
                          "colorbar": {
                            "outlinewidth": 0,
                            "ticks": ""
                          }
                        },
                        "type": "parcoords"
                      }
                    ],
                    "pie": [
                      {
                        "automargin": true,
                        "type": "pie"
                      }
                    ],
                    "scatter": [
                      {
                        "fillpattern": {
                          "fillmode": "overlay",
                          "size": 10,
                          "solidity": 0.2
                        },
                        "type": "scatter"
                      }
                    ],
                    "scatter3d": [
                      {
                        "line": {
                          "colorbar": {
                            "outlinewidth": 0,
                            "ticks": ""
                          }
                        },
                        "marker": {
                          "colorbar": {
                            "outlinewidth": 0,
                            "ticks": ""
                          }
                        },
                        "type": "scatter3d"
                      }
                    ],
                    "scattercarpet": [
                      {
                        "marker": {
                          "colorbar": {
                            "outlinewidth": 0,
                            "ticks": ""
                          }
                        },
                        "type": "scattercarpet"
                      }
                    ],
                    "scattergeo": [
                      {
                        "marker": {
                          "colorbar": {
                            "outlinewidth": 0,
                            "ticks": ""
                          }
                        },
                        "type": "scattergeo"
                      }
                    ],
                    "scattergl": [
                      {
                        "marker": {
                          "colorbar": {
                            "outlinewidth": 0,
                            "ticks": ""
                          }
                        },
                        "type": "scattergl"
                      }
                    ],
                    "scattermapbox": [
                      {
                        "marker": {
                          "colorbar": {
                            "outlinewidth": 0,
                            "ticks": ""
                          }
                        },
                        "type": "scattermapbox"
                      }
                    ],
                    "scatterpolar": [
                      {
                        "marker": {
                          "colorbar": {
                            "outlinewidth": 0,
                            "ticks": ""
                          }
                        },
                        "type": "scatterpolar"
                      }
                    ],
                    "scatterpolargl": [
                      {
                        "marker": {
                          "colorbar": {
                            "outlinewidth": 0,
                            "ticks": ""
                          }
                        },
                        "type": "scatterpolargl"
                      }
                    ],
                    "scatterternary": [
                      {
                        "marker": {
                          "colorbar": {
                            "outlinewidth": 0,
                            "ticks": ""
                          }
                        },
                        "type": "scatterternary"
                      }
                    ],
                    "surface": [
                      {
                        "colorbar": {
                          "outlinewidth": 0,
                          "ticks": ""
                        },
                        "colorscale": [
                          [
                            0,
                            "#0d0887"
                          ],
                          [
                            0.1111111111111111,
                            "#46039f"
                          ],
                          [
                            0.2222222222222222,
                            "#7201a8"
                          ],
                          [
                            0.3333333333333333,
                            "#9c179e"
                          ],
                          [
                            0.4444444444444444,
                            "#bd3786"
                          ],
                          [
                            0.5555555555555556,
                            "#d8576b"
                          ],
                          [
                            0.6666666666666666,
                            "#ed7953"
                          ],
                          [
                            0.7777777777777778,
                            "#fb9f3a"
                          ],
                          [
                            0.8888888888888888,
                            "#fdca26"
                          ],
                          [
                            1,
                            "#f0f921"
                          ]
                        ],
                        "type": "surface"
                      }
                    ],
                    "table": [
                      {
                        "cells": {
                          "fill": {
                            "color": "#EBF0F8"
                          },
                          "line": {
                            "color": "white"
                          }
                        },
                        "header": {
                          "fill": {
                            "color": "#C8D4E3"
                          },
                          "line": {
                            "color": "white"
                          }
                        },
                        "type": "table"
                      }
                    ]
                  },
                  "layout": {
                    "annotationdefaults": {
                      "arrowcolor": "#2a3f5f",
                      "arrowhead": 0,
                      "arrowwidth": 1
                    },
                    "autotypenumbers": "strict",
                    "coloraxis": {
                      "colorbar": {
                        "outlinewidth": 0,
                        "ticks": ""
                      }
                    },
                    "colorscale": {
                      "diverging": [
                        [
                          0,
                          "#8e0152"
                        ],
                        [
                          0.1,
                          "#c51b7d"
                        ],
                        [
                          0.2,
                          "#de77ae"
                        ],
                        [
                          0.3,
                          "#f1b6da"
                        ],
                        [
                          0.4,
                          "#fde0ef"
                        ],
                        [
                          0.5,
                          "#f7f7f7"
                        ],
                        [
                          0.6,
                          "#e6f5d0"
                        ],
                        [
                          0.7,
                          "#b8e186"
                        ],
                        [
                          0.8,
                          "#7fbc41"
                        ],
                        [
                          0.9,
                          "#4d9221"
                        ],
                        [
                          1,
                          "#276419"
                        ]
                      ],
                      "sequential": [
                        [
                          0,
                          "#0d0887"
                        ],
                        [
                          0.1111111111111111,
                          "#46039f"
                        ],
                        [
                          0.2222222222222222,
                          "#7201a8"
                        ],
                        [
                          0.3333333333333333,
                          "#9c179e"
                        ],
                        [
                          0.4444444444444444,
                          "#bd3786"
                        ],
                        [
                          0.5555555555555556,
                          "#d8576b"
                        ],
                        [
                          0.6666666666666666,
                          "#ed7953"
                        ],
                        [
                          0.7777777777777778,
                          "#fb9f3a"
                        ],
                        [
                          0.8888888888888888,
                          "#fdca26"
                        ],
                        [
                          1,
                          "#f0f921"
                        ]
                      ],
                      "sequentialminus": [
                        [
                          0,
                          "#0d0887"
                        ],
                        [
                          0.1111111111111111,
                          "#46039f"
                        ],
                        [
                          0.2222222222222222,
                          "#7201a8"
                        ],
                        [
                          0.3333333333333333,
                          "#9c179e"
                        ],
                        [
                          0.4444444444444444,
                          "#bd3786"
                        ],
                        [
                          0.5555555555555556,
                          "#d8576b"
                        ],
                        [
                          0.6666666666666666,
                          "#ed7953"
                        ],
                        [
                          0.7777777777777778,
                          "#fb9f3a"
                        ],
                        [
                          0.8888888888888888,
                          "#fdca26"
                        ],
                        [
                          1,
                          "#f0f921"
                        ]
                      ]
                    },
                    "colorway": [
                      "#636efa",
                      "#EF553B",
                      "#00cc96",
                      "#ab63fa",
                      "#FFA15A",
                      "#19d3f3",
                      "#FF6692",
                      "#B6E880",
                      "#FF97FF",
                      "#FECB52"
                    ],
                    "font": {
                      "color": "#2a3f5f"
                    },
                    "geo": {
                      "bgcolor": "white",
                      "lakecolor": "white",
                      "landcolor": "white",
                      "showlakes": true,
                      "showland": true,
                      "subunitcolor": "#C8D4E3"
                    },
                    "hoverlabel": {
                      "align": "left"
                    },
                    "hovermode": "closest",
                    "mapbox": {
                      "style": "light"
                    },
                    "paper_bgcolor": "white",
                    "plot_bgcolor": "white",
                    "polar": {
                      "angularaxis": {
                        "gridcolor": "#EBF0F8",
                        "linecolor": "#EBF0F8",
                        "ticks": ""
                      },
                      "bgcolor": "white",
                      "radialaxis": {
                        "gridcolor": "#EBF0F8",
                        "linecolor": "#EBF0F8",
                        "ticks": ""
                      }
                    },
                    "scene": {
                      "xaxis": {
                        "backgroundcolor": "white",
                        "gridcolor": "#DFE8F3",
                        "gridwidth": 2,
                        "linecolor": "#EBF0F8",
                        "showbackground": true,
                        "ticks": "",
                        "zerolinecolor": "#EBF0F8"
                      },
                      "yaxis": {
                        "backgroundcolor": "white",
                        "gridcolor": "#DFE8F3",
                        "gridwidth": 2,
                        "linecolor": "#EBF0F8",
                        "showbackground": true,
                        "ticks": "",
                        "zerolinecolor": "#EBF0F8"
                      },
                      "zaxis": {
                        "backgroundcolor": "white",
                        "gridcolor": "#DFE8F3",
                        "gridwidth": 2,
                        "linecolor": "#EBF0F8",
                        "showbackground": true,
                        "ticks": "",
                        "zerolinecolor": "#EBF0F8"
                      }
                    },
                    "shapedefaults": {
                      "line": {
                        "color": "#2a3f5f"
                      }
                    },
                    "ternary": {
                      "aaxis": {
                        "gridcolor": "#DFE8F3",
                        "linecolor": "#A2B1C6",
                        "ticks": ""
                      },
                      "baxis": {
                        "gridcolor": "#DFE8F3",
                        "linecolor": "#A2B1C6",
                        "ticks": ""
                      },
                      "bgcolor": "white",
                      "caxis": {
                        "gridcolor": "#DFE8F3",
                        "linecolor": "#A2B1C6",
                        "ticks": ""
                      }
                    },
                    "title": {
                      "x": 0.05
                    },
                    "xaxis": {
                      "automargin": true,
                      "gridcolor": "#EBF0F8",
                      "linecolor": "#EBF0F8",
                      "ticks": "",
                      "title": {
                        "standoff": 15
                      },
                      "zerolinecolor": "#EBF0F8",
                      "zerolinewidth": 2
                    },
                    "yaxis": {
                      "automargin": true,
                      "gridcolor": "#EBF0F8",
                      "linecolor": "#EBF0F8",
                      "ticks": "",
                      "title": {
                        "standoff": 15
                      },
                      "zerolinecolor": "#EBF0F8",
                      "zerolinewidth": 2
                    }
                  }
                },
                "title": {
                  "text": "First model: Trend + Seasonality"
                },
                "xaxis": {
                  "title": {
                    "text": "Date"
                  }
                },
                "yaxis": {
                  "title": {
                    "text": "Log of Passengers"
                  }
                }
              }
            }
          },
          "metadata": {},
          "output_type": "display_data"
        }
      ],
      "source": [
        "fig = go.Figure()\n",
        "\n",
        "# Add the log-transformed passenger data\n",
        "fig.add_trace(go.Scatter(\n",
        "    x=train.index,\n",
        "    y=train['log_passengers'],\n",
        "    mode='lines+markers',\n",
        "    name='Log(Passengers)',\n",
        "    customdata=np.stack((train.index.strftime('%Y-%m'), train['passengers']), axis=-1),\n",
        "    hovertemplate='<b>Date</b>: %{customdata[0]}<br>' +\n",
        "                  '<b>Log(Passengers)</b>: %{y:.2f}<br>' +\n",
        "                  '<b>Actual Passengers</b>: %{customdata[1]}'\n",
        "))\n",
        "\n",
        "# Add the fitted trend + seasonality model\n",
        "fig.add_trace(go.Scatter(\n",
        "    x=train.index,\n",
        "    y=train['fitted'],\n",
        "    mode='lines',\n",
        "    name='Fitted Model',\n",
        "    line=dict(color='red')\n",
        "))\n",
        "\n",
        "# Customize layout\n",
        "fig.update_layout(\n",
        "    title='First model: Trend + Seasonality',\n",
        "    xaxis_title='Date',\n",
        "    yaxis_title='Log of Passengers',\n",
        "    template='plotly_white'\n",
        ")\n",
        "\n",
        "fig.show()\n",
        "\n",
        "#Red is prediction Blue is the actual value"
      ]
    },
    {
      "cell_type": "markdown",
      "metadata": {
        "id": "wamihkOGVq6i"
      },
      "source": [
        "See how much better our model already fits our data just by accounting for trend and seasonality?\n",
        "\n",
        "But remember… we need to “undo” our log transformation, and we can do this by exponentiating the fitted values."
      ]
    },
    {
      "cell_type": "code",
      "execution_count": 18,
      "metadata": {
        "id": "vXSPiZMsVYhG"
      },
      "outputs": [],
      "source": [
        "# Undo the log transformation by exponentiating the fitted values\n",
        "train['fitted_original_scale'] = np.exp(train['fitted'])"
      ]
    },
    {
      "cell_type": "code",
      "execution_count": 19,
      "metadata": {
        "colab": {
          "base_uri": "https://localhost:8080/",
          "height": 542
        },
        "id": "13Q76eedV0zY",
        "outputId": "4f145aa3-f38d-46af-eacf-ceadac18e9f1"
      },
      "outputs": [
        {
          "data": {
            "application/vnd.plotly.v1+json": {
              "config": {
                "plotlyServerURL": "https://plot.ly"
              },
              "data": [
                {
                  "customdata": [
                    [
                      "1949-01",
                      112
                    ],
                    [
                      "1949-02",
                      118
                    ],
                    [
                      "1949-03",
                      132
                    ],
                    [
                      "1949-04",
                      129
                    ],
                    [
                      "1949-05",
                      121
                    ],
                    [
                      "1949-06",
                      135
                    ],
                    [
                      "1949-07",
                      148
                    ],
                    [
                      "1949-08",
                      148
                    ],
                    [
                      "1949-09",
                      136
                    ],
                    [
                      "1949-10",
                      119
                    ],
                    [
                      "1949-11",
                      104
                    ],
                    [
                      "1949-12",
                      118
                    ],
                    [
                      "1950-01",
                      115
                    ],
                    [
                      "1950-02",
                      126
                    ],
                    [
                      "1950-03",
                      141
                    ],
                    [
                      "1950-04",
                      135
                    ],
                    [
                      "1950-05",
                      125
                    ],
                    [
                      "1950-06",
                      149
                    ],
                    [
                      "1950-07",
                      170
                    ],
                    [
                      "1950-08",
                      170
                    ],
                    [
                      "1950-09",
                      158
                    ],
                    [
                      "1950-10",
                      133
                    ],
                    [
                      "1950-11",
                      114
                    ],
                    [
                      "1950-12",
                      140
                    ],
                    [
                      "1951-01",
                      145
                    ],
                    [
                      "1951-02",
                      150
                    ],
                    [
                      "1951-03",
                      178
                    ],
                    [
                      "1951-04",
                      163
                    ],
                    [
                      "1951-05",
                      172
                    ],
                    [
                      "1951-06",
                      178
                    ],
                    [
                      "1951-07",
                      199
                    ],
                    [
                      "1951-08",
                      199
                    ],
                    [
                      "1951-09",
                      184
                    ],
                    [
                      "1951-10",
                      162
                    ],
                    [
                      "1951-11",
                      146
                    ],
                    [
                      "1951-12",
                      166
                    ],
                    [
                      "1952-01",
                      171
                    ],
                    [
                      "1952-02",
                      180
                    ],
                    [
                      "1952-03",
                      193
                    ],
                    [
                      "1952-04",
                      181
                    ],
                    [
                      "1952-05",
                      183
                    ],
                    [
                      "1952-06",
                      218
                    ],
                    [
                      "1952-07",
                      230
                    ],
                    [
                      "1952-08",
                      242
                    ],
                    [
                      "1952-09",
                      209
                    ],
                    [
                      "1952-10",
                      191
                    ],
                    [
                      "1952-11",
                      172
                    ],
                    [
                      "1952-12",
                      194
                    ],
                    [
                      "1953-01",
                      196
                    ],
                    [
                      "1953-02",
                      196
                    ],
                    [
                      "1953-03",
                      236
                    ],
                    [
                      "1953-04",
                      235
                    ],
                    [
                      "1953-05",
                      229
                    ],
                    [
                      "1953-06",
                      243
                    ],
                    [
                      "1953-07",
                      264
                    ],
                    [
                      "1953-08",
                      272
                    ],
                    [
                      "1953-09",
                      237
                    ],
                    [
                      "1953-10",
                      211
                    ],
                    [
                      "1953-11",
                      180
                    ],
                    [
                      "1953-12",
                      201
                    ],
                    [
                      "1954-01",
                      204
                    ],
                    [
                      "1954-02",
                      188
                    ],
                    [
                      "1954-03",
                      235
                    ],
                    [
                      "1954-04",
                      227
                    ],
                    [
                      "1954-05",
                      234
                    ],
                    [
                      "1954-06",
                      264
                    ],
                    [
                      "1954-07",
                      302
                    ],
                    [
                      "1954-08",
                      293
                    ],
                    [
                      "1954-09",
                      259
                    ],
                    [
                      "1954-10",
                      229
                    ],
                    [
                      "1954-11",
                      203
                    ],
                    [
                      "1954-12",
                      229
                    ],
                    [
                      "1955-01",
                      242
                    ],
                    [
                      "1955-02",
                      233
                    ],
                    [
                      "1955-03",
                      267
                    ],
                    [
                      "1955-04",
                      269
                    ],
                    [
                      "1955-05",
                      270
                    ],
                    [
                      "1955-06",
                      315
                    ],
                    [
                      "1955-07",
                      364
                    ],
                    [
                      "1955-08",
                      347
                    ],
                    [
                      "1955-09",
                      312
                    ],
                    [
                      "1955-10",
                      274
                    ],
                    [
                      "1955-11",
                      237
                    ],
                    [
                      "1955-12",
                      278
                    ],
                    [
                      "1956-01",
                      284
                    ],
                    [
                      "1956-02",
                      277
                    ],
                    [
                      "1956-03",
                      317
                    ],
                    [
                      "1956-04",
                      313
                    ],
                    [
                      "1956-05",
                      318
                    ],
                    [
                      "1956-06",
                      374
                    ],
                    [
                      "1956-07",
                      413
                    ],
                    [
                      "1956-08",
                      405
                    ],
                    [
                      "1956-09",
                      355
                    ],
                    [
                      "1956-10",
                      306
                    ],
                    [
                      "1956-11",
                      271
                    ],
                    [
                      "1956-12",
                      306
                    ],
                    [
                      "1957-01",
                      315
                    ],
                    [
                      "1957-02",
                      301
                    ],
                    [
                      "1957-03",
                      356
                    ],
                    [
                      "1957-04",
                      348
                    ],
                    [
                      "1957-05",
                      355
                    ],
                    [
                      "1957-06",
                      422
                    ],
                    [
                      "1957-07",
                      465
                    ],
                    [
                      "1957-08",
                      467
                    ],
                    [
                      "1957-09",
                      404
                    ],
                    [
                      "1957-10",
                      347
                    ],
                    [
                      "1957-11",
                      305
                    ],
                    [
                      "1957-12",
                      336
                    ],
                    [
                      "1958-01",
                      340
                    ],
                    [
                      "1958-02",
                      318
                    ],
                    [
                      "1958-03",
                      362
                    ],
                    [
                      "1958-04",
                      348
                    ],
                    [
                      "1958-05",
                      363
                    ],
                    [
                      "1958-06",
                      435
                    ],
                    [
                      "1958-07",
                      491
                    ]
                  ],
                  "hovertemplate": "<b>Date</b>: %{customdata[0]}<br><b>Actual Passengers</b>: %{customdata[1]}",
                  "mode": "lines+markers",
                  "name": "Actual Passengers",
                  "type": "scatter",
                  "x": [
                    "1949-01-01T00:00:00",
                    "1949-02-01T00:00:00",
                    "1949-03-01T00:00:00",
                    "1949-04-01T00:00:00",
                    "1949-05-01T00:00:00",
                    "1949-06-01T00:00:00",
                    "1949-07-01T00:00:00",
                    "1949-08-01T00:00:00",
                    "1949-09-01T00:00:00",
                    "1949-10-01T00:00:00",
                    "1949-11-01T00:00:00",
                    "1949-12-01T00:00:00",
                    "1950-01-01T00:00:00",
                    "1950-02-01T00:00:00",
                    "1950-03-01T00:00:00",
                    "1950-04-01T00:00:00",
                    "1950-05-01T00:00:00",
                    "1950-06-01T00:00:00",
                    "1950-07-01T00:00:00",
                    "1950-08-01T00:00:00",
                    "1950-09-01T00:00:00",
                    "1950-10-01T00:00:00",
                    "1950-11-01T00:00:00",
                    "1950-12-01T00:00:00",
                    "1951-01-01T00:00:00",
                    "1951-02-01T00:00:00",
                    "1951-03-01T00:00:00",
                    "1951-04-01T00:00:00",
                    "1951-05-01T00:00:00",
                    "1951-06-01T00:00:00",
                    "1951-07-01T00:00:00",
                    "1951-08-01T00:00:00",
                    "1951-09-01T00:00:00",
                    "1951-10-01T00:00:00",
                    "1951-11-01T00:00:00",
                    "1951-12-01T00:00:00",
                    "1952-01-01T00:00:00",
                    "1952-02-01T00:00:00",
                    "1952-03-01T00:00:00",
                    "1952-04-01T00:00:00",
                    "1952-05-01T00:00:00",
                    "1952-06-01T00:00:00",
                    "1952-07-01T00:00:00",
                    "1952-08-01T00:00:00",
                    "1952-09-01T00:00:00",
                    "1952-10-01T00:00:00",
                    "1952-11-01T00:00:00",
                    "1952-12-01T00:00:00",
                    "1953-01-01T00:00:00",
                    "1953-02-01T00:00:00",
                    "1953-03-01T00:00:00",
                    "1953-04-01T00:00:00",
                    "1953-05-01T00:00:00",
                    "1953-06-01T00:00:00",
                    "1953-07-01T00:00:00",
                    "1953-08-01T00:00:00",
                    "1953-09-01T00:00:00",
                    "1953-10-01T00:00:00",
                    "1953-11-01T00:00:00",
                    "1953-12-01T00:00:00",
                    "1954-01-01T00:00:00",
                    "1954-02-01T00:00:00",
                    "1954-03-01T00:00:00",
                    "1954-04-01T00:00:00",
                    "1954-05-01T00:00:00",
                    "1954-06-01T00:00:00",
                    "1954-07-01T00:00:00",
                    "1954-08-01T00:00:00",
                    "1954-09-01T00:00:00",
                    "1954-10-01T00:00:00",
                    "1954-11-01T00:00:00",
                    "1954-12-01T00:00:00",
                    "1955-01-01T00:00:00",
                    "1955-02-01T00:00:00",
                    "1955-03-01T00:00:00",
                    "1955-04-01T00:00:00",
                    "1955-05-01T00:00:00",
                    "1955-06-01T00:00:00",
                    "1955-07-01T00:00:00",
                    "1955-08-01T00:00:00",
                    "1955-09-01T00:00:00",
                    "1955-10-01T00:00:00",
                    "1955-11-01T00:00:00",
                    "1955-12-01T00:00:00",
                    "1956-01-01T00:00:00",
                    "1956-02-01T00:00:00",
                    "1956-03-01T00:00:00",
                    "1956-04-01T00:00:00",
                    "1956-05-01T00:00:00",
                    "1956-06-01T00:00:00",
                    "1956-07-01T00:00:00",
                    "1956-08-01T00:00:00",
                    "1956-09-01T00:00:00",
                    "1956-10-01T00:00:00",
                    "1956-11-01T00:00:00",
                    "1956-12-01T00:00:00",
                    "1957-01-01T00:00:00",
                    "1957-02-01T00:00:00",
                    "1957-03-01T00:00:00",
                    "1957-04-01T00:00:00",
                    "1957-05-01T00:00:00",
                    "1957-06-01T00:00:00",
                    "1957-07-01T00:00:00",
                    "1957-08-01T00:00:00",
                    "1957-09-01T00:00:00",
                    "1957-10-01T00:00:00",
                    "1957-11-01T00:00:00",
                    "1957-12-01T00:00:00",
                    "1958-01-01T00:00:00",
                    "1958-02-01T00:00:00",
                    "1958-03-01T00:00:00",
                    "1958-04-01T00:00:00",
                    "1958-05-01T00:00:00",
                    "1958-06-01T00:00:00",
                    "1958-07-01T00:00:00"
                  ],
                  "y": [
                    112,
                    118,
                    132,
                    129,
                    121,
                    135,
                    148,
                    148,
                    136,
                    119,
                    104,
                    118,
                    115,
                    126,
                    141,
                    135,
                    125,
                    149,
                    170,
                    170,
                    158,
                    133,
                    114,
                    140,
                    145,
                    150,
                    178,
                    163,
                    172,
                    178,
                    199,
                    199,
                    184,
                    162,
                    146,
                    166,
                    171,
                    180,
                    193,
                    181,
                    183,
                    218,
                    230,
                    242,
                    209,
                    191,
                    172,
                    194,
                    196,
                    196,
                    236,
                    235,
                    229,
                    243,
                    264,
                    272,
                    237,
                    211,
                    180,
                    201,
                    204,
                    188,
                    235,
                    227,
                    234,
                    264,
                    302,
                    293,
                    259,
                    229,
                    203,
                    229,
                    242,
                    233,
                    267,
                    269,
                    270,
                    315,
                    364,
                    347,
                    312,
                    274,
                    237,
                    278,
                    284,
                    277,
                    317,
                    313,
                    318,
                    374,
                    413,
                    405,
                    355,
                    306,
                    271,
                    306,
                    315,
                    301,
                    356,
                    348,
                    355,
                    422,
                    465,
                    467,
                    404,
                    347,
                    305,
                    336,
                    340,
                    318,
                    362,
                    348,
                    363,
                    435,
                    491
                  ]
                },
                {
                  "line": {
                    "color": "red"
                  },
                  "mode": "lines",
                  "name": "Fitted Model (Original Scale)",
                  "type": "scatter",
                  "x": [
                    "1949-01-01T00:00:00",
                    "1949-02-01T00:00:00",
                    "1949-03-01T00:00:00",
                    "1949-04-01T00:00:00",
                    "1949-05-01T00:00:00",
                    "1949-06-01T00:00:00",
                    "1949-07-01T00:00:00",
                    "1949-08-01T00:00:00",
                    "1949-09-01T00:00:00",
                    "1949-10-01T00:00:00",
                    "1949-11-01T00:00:00",
                    "1949-12-01T00:00:00",
                    "1950-01-01T00:00:00",
                    "1950-02-01T00:00:00",
                    "1950-03-01T00:00:00",
                    "1950-04-01T00:00:00",
                    "1950-05-01T00:00:00",
                    "1950-06-01T00:00:00",
                    "1950-07-01T00:00:00",
                    "1950-08-01T00:00:00",
                    "1950-09-01T00:00:00",
                    "1950-10-01T00:00:00",
                    "1950-11-01T00:00:00",
                    "1950-12-01T00:00:00",
                    "1951-01-01T00:00:00",
                    "1951-02-01T00:00:00",
                    "1951-03-01T00:00:00",
                    "1951-04-01T00:00:00",
                    "1951-05-01T00:00:00",
                    "1951-06-01T00:00:00",
                    "1951-07-01T00:00:00",
                    "1951-08-01T00:00:00",
                    "1951-09-01T00:00:00",
                    "1951-10-01T00:00:00",
                    "1951-11-01T00:00:00",
                    "1951-12-01T00:00:00",
                    "1952-01-01T00:00:00",
                    "1952-02-01T00:00:00",
                    "1952-03-01T00:00:00",
                    "1952-04-01T00:00:00",
                    "1952-05-01T00:00:00",
                    "1952-06-01T00:00:00",
                    "1952-07-01T00:00:00",
                    "1952-08-01T00:00:00",
                    "1952-09-01T00:00:00",
                    "1952-10-01T00:00:00",
                    "1952-11-01T00:00:00",
                    "1952-12-01T00:00:00",
                    "1953-01-01T00:00:00",
                    "1953-02-01T00:00:00",
                    "1953-03-01T00:00:00",
                    "1953-04-01T00:00:00",
                    "1953-05-01T00:00:00",
                    "1953-06-01T00:00:00",
                    "1953-07-01T00:00:00",
                    "1953-08-01T00:00:00",
                    "1953-09-01T00:00:00",
                    "1953-10-01T00:00:00",
                    "1953-11-01T00:00:00",
                    "1953-12-01T00:00:00",
                    "1954-01-01T00:00:00",
                    "1954-02-01T00:00:00",
                    "1954-03-01T00:00:00",
                    "1954-04-01T00:00:00",
                    "1954-05-01T00:00:00",
                    "1954-06-01T00:00:00",
                    "1954-07-01T00:00:00",
                    "1954-08-01T00:00:00",
                    "1954-09-01T00:00:00",
                    "1954-10-01T00:00:00",
                    "1954-11-01T00:00:00",
                    "1954-12-01T00:00:00",
                    "1955-01-01T00:00:00",
                    "1955-02-01T00:00:00",
                    "1955-03-01T00:00:00",
                    "1955-04-01T00:00:00",
                    "1955-05-01T00:00:00",
                    "1955-06-01T00:00:00",
                    "1955-07-01T00:00:00",
                    "1955-08-01T00:00:00",
                    "1955-09-01T00:00:00",
                    "1955-10-01T00:00:00",
                    "1955-11-01T00:00:00",
                    "1955-12-01T00:00:00",
                    "1956-01-01T00:00:00",
                    "1956-02-01T00:00:00",
                    "1956-03-01T00:00:00",
                    "1956-04-01T00:00:00",
                    "1956-05-01T00:00:00",
                    "1956-06-01T00:00:00",
                    "1956-07-01T00:00:00",
                    "1956-08-01T00:00:00",
                    "1956-09-01T00:00:00",
                    "1956-10-01T00:00:00",
                    "1956-11-01T00:00:00",
                    "1956-12-01T00:00:00",
                    "1957-01-01T00:00:00",
                    "1957-02-01T00:00:00",
                    "1957-03-01T00:00:00",
                    "1957-04-01T00:00:00",
                    "1957-05-01T00:00:00",
                    "1957-06-01T00:00:00",
                    "1957-07-01T00:00:00",
                    "1957-08-01T00:00:00",
                    "1957-09-01T00:00:00",
                    "1957-10-01T00:00:00",
                    "1957-11-01T00:00:00",
                    "1957-12-01T00:00:00",
                    "1958-01-01T00:00:00",
                    "1958-02-01T00:00:00",
                    "1958-03-01T00:00:00",
                    "1958-04-01T00:00:00",
                    "1958-05-01T00:00:00",
                    "1958-06-01T00:00:00",
                    "1958-07-01T00:00:00"
                  ],
                  "y": [
                    110.6417437978123,
                    110.3306119802159,
                    127.45533068284992,
                    123.37976000586227,
                    123.50236808934932,
                    141.2762415321397,
                    157.20230250945716,
                    157.47068962083847,
                    140.49159578239363,
                    123.05039056654991,
                    108.01857781942724,
                    123.2769674944102,
                    125.95861733153481,
                    125.60441346410568,
                    145.09982103755257,
                    140.46004196602595,
                    140.59962350315286,
                    160.83405263119258,
                    178.9648643066344,
                    179.27040603346197,
                    159.940783144102,
                    140.08507572143333,
                    122.97230901491687,
                    140.34301920255433,
                    143.39590768801418,
                    142.99266902000863,
                    165.18695571485242,
                    159.9048611227674,
                    160.06376586177464,
                    183.0993817873366,
                    203.74016248499456,
                    204.08800238815624,
                    182.08245105544225,
                    159.47798580343752,
                    139.99618482053816,
                    159.77163811870722,
                    163.24715829126154,
                    162.78809660863456,
                    188.05488623778984,
                    182.04155610943207,
                    182.2224590898603,
                    208.4470487588948,
                    231.94527020839993,
                    232.34126390617703,
                    207.28933753242103,
                    181.55558559640414,
                    159.37678914306537,
                    181.88989015757562,
                    185.8465497366472,
                    185.3239370876705,
                    214.08857669702982,
                    207.24278122665004,
                    207.44872781158034,
                    237.30376209985704,
                    264.0549988567422,
                    264.505812599656,
                    235.9857811972575,
                    206.68953457865112,
                    181.44037960830673,
                    207.0701191468925,
                    211.57452546520003,
                    210.9795640663147,
                    243.72628432639834,
                    235.93277979198615,
                    236.16723693439485,
                    270.1553024714754,
                    300.60989111175684,
                    301.1231140037895,
                    268.65486469399264,
                    235.30294352555296,
                    206.55837985828083,
                    235.73621495049568,
                    240.86419623747054,
                    240.18687036934088,
                    277.4669372276531,
                    268.5945259511687,
                    268.86144055742494,
                    307.5547003875263,
                    342.22532057894756,
                    342.80959233429417,
                    305.84654701469896,
                    267.87749725528914,
                    235.1536321836736,
                    268.370749329432,
                    274.2086312213668,
                    273.437538621919,
                    315.878533442836,
                    305.77785517781405,
                    306.08172055082434,
                    350.1315460593206,
                    389.6018511307828,
                    390.26700751681926,
                    348.1869216377758,
                    304.9615634237265,
                    267.70751574985115,
                    305.5230996678447,
                    312.16915843384436,
                    311.2913183499196,
                    359.6077027661533,
                    348.1087203323821,
                    348.45465181290257,
                    398.6025880645656,
                    443.53703036276795,
                    444.2942687776604,
                    396.3887563319916,
                    347.1794238737882,
                    304.76805024631284,
                    347.8186973203449,
                    355.3848142680241,
                    354.3854489343451,
                    409.3905922611628,
                    396.2997290990254,
                    396.6935501785033,
                    453.7837992605533,
                    504.9388156961955
                  ]
                }
              ],
              "layout": {
                "template": {
                  "data": {
                    "bar": [
                      {
                        "error_x": {
                          "color": "#2a3f5f"
                        },
                        "error_y": {
                          "color": "#2a3f5f"
                        },
                        "marker": {
                          "line": {
                            "color": "white",
                            "width": 0.5
                          },
                          "pattern": {
                            "fillmode": "overlay",
                            "size": 10,
                            "solidity": 0.2
                          }
                        },
                        "type": "bar"
                      }
                    ],
                    "barpolar": [
                      {
                        "marker": {
                          "line": {
                            "color": "white",
                            "width": 0.5
                          },
                          "pattern": {
                            "fillmode": "overlay",
                            "size": 10,
                            "solidity": 0.2
                          }
                        },
                        "type": "barpolar"
                      }
                    ],
                    "carpet": [
                      {
                        "aaxis": {
                          "endlinecolor": "#2a3f5f",
                          "gridcolor": "#C8D4E3",
                          "linecolor": "#C8D4E3",
                          "minorgridcolor": "#C8D4E3",
                          "startlinecolor": "#2a3f5f"
                        },
                        "baxis": {
                          "endlinecolor": "#2a3f5f",
                          "gridcolor": "#C8D4E3",
                          "linecolor": "#C8D4E3",
                          "minorgridcolor": "#C8D4E3",
                          "startlinecolor": "#2a3f5f"
                        },
                        "type": "carpet"
                      }
                    ],
                    "choropleth": [
                      {
                        "colorbar": {
                          "outlinewidth": 0,
                          "ticks": ""
                        },
                        "type": "choropleth"
                      }
                    ],
                    "contour": [
                      {
                        "colorbar": {
                          "outlinewidth": 0,
                          "ticks": ""
                        },
                        "colorscale": [
                          [
                            0,
                            "#0d0887"
                          ],
                          [
                            0.1111111111111111,
                            "#46039f"
                          ],
                          [
                            0.2222222222222222,
                            "#7201a8"
                          ],
                          [
                            0.3333333333333333,
                            "#9c179e"
                          ],
                          [
                            0.4444444444444444,
                            "#bd3786"
                          ],
                          [
                            0.5555555555555556,
                            "#d8576b"
                          ],
                          [
                            0.6666666666666666,
                            "#ed7953"
                          ],
                          [
                            0.7777777777777778,
                            "#fb9f3a"
                          ],
                          [
                            0.8888888888888888,
                            "#fdca26"
                          ],
                          [
                            1,
                            "#f0f921"
                          ]
                        ],
                        "type": "contour"
                      }
                    ],
                    "contourcarpet": [
                      {
                        "colorbar": {
                          "outlinewidth": 0,
                          "ticks": ""
                        },
                        "type": "contourcarpet"
                      }
                    ],
                    "heatmap": [
                      {
                        "colorbar": {
                          "outlinewidth": 0,
                          "ticks": ""
                        },
                        "colorscale": [
                          [
                            0,
                            "#0d0887"
                          ],
                          [
                            0.1111111111111111,
                            "#46039f"
                          ],
                          [
                            0.2222222222222222,
                            "#7201a8"
                          ],
                          [
                            0.3333333333333333,
                            "#9c179e"
                          ],
                          [
                            0.4444444444444444,
                            "#bd3786"
                          ],
                          [
                            0.5555555555555556,
                            "#d8576b"
                          ],
                          [
                            0.6666666666666666,
                            "#ed7953"
                          ],
                          [
                            0.7777777777777778,
                            "#fb9f3a"
                          ],
                          [
                            0.8888888888888888,
                            "#fdca26"
                          ],
                          [
                            1,
                            "#f0f921"
                          ]
                        ],
                        "type": "heatmap"
                      }
                    ],
                    "heatmapgl": [
                      {
                        "colorbar": {
                          "outlinewidth": 0,
                          "ticks": ""
                        },
                        "colorscale": [
                          [
                            0,
                            "#0d0887"
                          ],
                          [
                            0.1111111111111111,
                            "#46039f"
                          ],
                          [
                            0.2222222222222222,
                            "#7201a8"
                          ],
                          [
                            0.3333333333333333,
                            "#9c179e"
                          ],
                          [
                            0.4444444444444444,
                            "#bd3786"
                          ],
                          [
                            0.5555555555555556,
                            "#d8576b"
                          ],
                          [
                            0.6666666666666666,
                            "#ed7953"
                          ],
                          [
                            0.7777777777777778,
                            "#fb9f3a"
                          ],
                          [
                            0.8888888888888888,
                            "#fdca26"
                          ],
                          [
                            1,
                            "#f0f921"
                          ]
                        ],
                        "type": "heatmapgl"
                      }
                    ],
                    "histogram": [
                      {
                        "marker": {
                          "pattern": {
                            "fillmode": "overlay",
                            "size": 10,
                            "solidity": 0.2
                          }
                        },
                        "type": "histogram"
                      }
                    ],
                    "histogram2d": [
                      {
                        "colorbar": {
                          "outlinewidth": 0,
                          "ticks": ""
                        },
                        "colorscale": [
                          [
                            0,
                            "#0d0887"
                          ],
                          [
                            0.1111111111111111,
                            "#46039f"
                          ],
                          [
                            0.2222222222222222,
                            "#7201a8"
                          ],
                          [
                            0.3333333333333333,
                            "#9c179e"
                          ],
                          [
                            0.4444444444444444,
                            "#bd3786"
                          ],
                          [
                            0.5555555555555556,
                            "#d8576b"
                          ],
                          [
                            0.6666666666666666,
                            "#ed7953"
                          ],
                          [
                            0.7777777777777778,
                            "#fb9f3a"
                          ],
                          [
                            0.8888888888888888,
                            "#fdca26"
                          ],
                          [
                            1,
                            "#f0f921"
                          ]
                        ],
                        "type": "histogram2d"
                      }
                    ],
                    "histogram2dcontour": [
                      {
                        "colorbar": {
                          "outlinewidth": 0,
                          "ticks": ""
                        },
                        "colorscale": [
                          [
                            0,
                            "#0d0887"
                          ],
                          [
                            0.1111111111111111,
                            "#46039f"
                          ],
                          [
                            0.2222222222222222,
                            "#7201a8"
                          ],
                          [
                            0.3333333333333333,
                            "#9c179e"
                          ],
                          [
                            0.4444444444444444,
                            "#bd3786"
                          ],
                          [
                            0.5555555555555556,
                            "#d8576b"
                          ],
                          [
                            0.6666666666666666,
                            "#ed7953"
                          ],
                          [
                            0.7777777777777778,
                            "#fb9f3a"
                          ],
                          [
                            0.8888888888888888,
                            "#fdca26"
                          ],
                          [
                            1,
                            "#f0f921"
                          ]
                        ],
                        "type": "histogram2dcontour"
                      }
                    ],
                    "mesh3d": [
                      {
                        "colorbar": {
                          "outlinewidth": 0,
                          "ticks": ""
                        },
                        "type": "mesh3d"
                      }
                    ],
                    "parcoords": [
                      {
                        "line": {
                          "colorbar": {
                            "outlinewidth": 0,
                            "ticks": ""
                          }
                        },
                        "type": "parcoords"
                      }
                    ],
                    "pie": [
                      {
                        "automargin": true,
                        "type": "pie"
                      }
                    ],
                    "scatter": [
                      {
                        "fillpattern": {
                          "fillmode": "overlay",
                          "size": 10,
                          "solidity": 0.2
                        },
                        "type": "scatter"
                      }
                    ],
                    "scatter3d": [
                      {
                        "line": {
                          "colorbar": {
                            "outlinewidth": 0,
                            "ticks": ""
                          }
                        },
                        "marker": {
                          "colorbar": {
                            "outlinewidth": 0,
                            "ticks": ""
                          }
                        },
                        "type": "scatter3d"
                      }
                    ],
                    "scattercarpet": [
                      {
                        "marker": {
                          "colorbar": {
                            "outlinewidth": 0,
                            "ticks": ""
                          }
                        },
                        "type": "scattercarpet"
                      }
                    ],
                    "scattergeo": [
                      {
                        "marker": {
                          "colorbar": {
                            "outlinewidth": 0,
                            "ticks": ""
                          }
                        },
                        "type": "scattergeo"
                      }
                    ],
                    "scattergl": [
                      {
                        "marker": {
                          "colorbar": {
                            "outlinewidth": 0,
                            "ticks": ""
                          }
                        },
                        "type": "scattergl"
                      }
                    ],
                    "scattermapbox": [
                      {
                        "marker": {
                          "colorbar": {
                            "outlinewidth": 0,
                            "ticks": ""
                          }
                        },
                        "type": "scattermapbox"
                      }
                    ],
                    "scatterpolar": [
                      {
                        "marker": {
                          "colorbar": {
                            "outlinewidth": 0,
                            "ticks": ""
                          }
                        },
                        "type": "scatterpolar"
                      }
                    ],
                    "scatterpolargl": [
                      {
                        "marker": {
                          "colorbar": {
                            "outlinewidth": 0,
                            "ticks": ""
                          }
                        },
                        "type": "scatterpolargl"
                      }
                    ],
                    "scatterternary": [
                      {
                        "marker": {
                          "colorbar": {
                            "outlinewidth": 0,
                            "ticks": ""
                          }
                        },
                        "type": "scatterternary"
                      }
                    ],
                    "surface": [
                      {
                        "colorbar": {
                          "outlinewidth": 0,
                          "ticks": ""
                        },
                        "colorscale": [
                          [
                            0,
                            "#0d0887"
                          ],
                          [
                            0.1111111111111111,
                            "#46039f"
                          ],
                          [
                            0.2222222222222222,
                            "#7201a8"
                          ],
                          [
                            0.3333333333333333,
                            "#9c179e"
                          ],
                          [
                            0.4444444444444444,
                            "#bd3786"
                          ],
                          [
                            0.5555555555555556,
                            "#d8576b"
                          ],
                          [
                            0.6666666666666666,
                            "#ed7953"
                          ],
                          [
                            0.7777777777777778,
                            "#fb9f3a"
                          ],
                          [
                            0.8888888888888888,
                            "#fdca26"
                          ],
                          [
                            1,
                            "#f0f921"
                          ]
                        ],
                        "type": "surface"
                      }
                    ],
                    "table": [
                      {
                        "cells": {
                          "fill": {
                            "color": "#EBF0F8"
                          },
                          "line": {
                            "color": "white"
                          }
                        },
                        "header": {
                          "fill": {
                            "color": "#C8D4E3"
                          },
                          "line": {
                            "color": "white"
                          }
                        },
                        "type": "table"
                      }
                    ]
                  },
                  "layout": {
                    "annotationdefaults": {
                      "arrowcolor": "#2a3f5f",
                      "arrowhead": 0,
                      "arrowwidth": 1
                    },
                    "autotypenumbers": "strict",
                    "coloraxis": {
                      "colorbar": {
                        "outlinewidth": 0,
                        "ticks": ""
                      }
                    },
                    "colorscale": {
                      "diverging": [
                        [
                          0,
                          "#8e0152"
                        ],
                        [
                          0.1,
                          "#c51b7d"
                        ],
                        [
                          0.2,
                          "#de77ae"
                        ],
                        [
                          0.3,
                          "#f1b6da"
                        ],
                        [
                          0.4,
                          "#fde0ef"
                        ],
                        [
                          0.5,
                          "#f7f7f7"
                        ],
                        [
                          0.6,
                          "#e6f5d0"
                        ],
                        [
                          0.7,
                          "#b8e186"
                        ],
                        [
                          0.8,
                          "#7fbc41"
                        ],
                        [
                          0.9,
                          "#4d9221"
                        ],
                        [
                          1,
                          "#276419"
                        ]
                      ],
                      "sequential": [
                        [
                          0,
                          "#0d0887"
                        ],
                        [
                          0.1111111111111111,
                          "#46039f"
                        ],
                        [
                          0.2222222222222222,
                          "#7201a8"
                        ],
                        [
                          0.3333333333333333,
                          "#9c179e"
                        ],
                        [
                          0.4444444444444444,
                          "#bd3786"
                        ],
                        [
                          0.5555555555555556,
                          "#d8576b"
                        ],
                        [
                          0.6666666666666666,
                          "#ed7953"
                        ],
                        [
                          0.7777777777777778,
                          "#fb9f3a"
                        ],
                        [
                          0.8888888888888888,
                          "#fdca26"
                        ],
                        [
                          1,
                          "#f0f921"
                        ]
                      ],
                      "sequentialminus": [
                        [
                          0,
                          "#0d0887"
                        ],
                        [
                          0.1111111111111111,
                          "#46039f"
                        ],
                        [
                          0.2222222222222222,
                          "#7201a8"
                        ],
                        [
                          0.3333333333333333,
                          "#9c179e"
                        ],
                        [
                          0.4444444444444444,
                          "#bd3786"
                        ],
                        [
                          0.5555555555555556,
                          "#d8576b"
                        ],
                        [
                          0.6666666666666666,
                          "#ed7953"
                        ],
                        [
                          0.7777777777777778,
                          "#fb9f3a"
                        ],
                        [
                          0.8888888888888888,
                          "#fdca26"
                        ],
                        [
                          1,
                          "#f0f921"
                        ]
                      ]
                    },
                    "colorway": [
                      "#636efa",
                      "#EF553B",
                      "#00cc96",
                      "#ab63fa",
                      "#FFA15A",
                      "#19d3f3",
                      "#FF6692",
                      "#B6E880",
                      "#FF97FF",
                      "#FECB52"
                    ],
                    "font": {
                      "color": "#2a3f5f"
                    },
                    "geo": {
                      "bgcolor": "white",
                      "lakecolor": "white",
                      "landcolor": "white",
                      "showlakes": true,
                      "showland": true,
                      "subunitcolor": "#C8D4E3"
                    },
                    "hoverlabel": {
                      "align": "left"
                    },
                    "hovermode": "closest",
                    "mapbox": {
                      "style": "light"
                    },
                    "paper_bgcolor": "white",
                    "plot_bgcolor": "white",
                    "polar": {
                      "angularaxis": {
                        "gridcolor": "#EBF0F8",
                        "linecolor": "#EBF0F8",
                        "ticks": ""
                      },
                      "bgcolor": "white",
                      "radialaxis": {
                        "gridcolor": "#EBF0F8",
                        "linecolor": "#EBF0F8",
                        "ticks": ""
                      }
                    },
                    "scene": {
                      "xaxis": {
                        "backgroundcolor": "white",
                        "gridcolor": "#DFE8F3",
                        "gridwidth": 2,
                        "linecolor": "#EBF0F8",
                        "showbackground": true,
                        "ticks": "",
                        "zerolinecolor": "#EBF0F8"
                      },
                      "yaxis": {
                        "backgroundcolor": "white",
                        "gridcolor": "#DFE8F3",
                        "gridwidth": 2,
                        "linecolor": "#EBF0F8",
                        "showbackground": true,
                        "ticks": "",
                        "zerolinecolor": "#EBF0F8"
                      },
                      "zaxis": {
                        "backgroundcolor": "white",
                        "gridcolor": "#DFE8F3",
                        "gridwidth": 2,
                        "linecolor": "#EBF0F8",
                        "showbackground": true,
                        "ticks": "",
                        "zerolinecolor": "#EBF0F8"
                      }
                    },
                    "shapedefaults": {
                      "line": {
                        "color": "#2a3f5f"
                      }
                    },
                    "ternary": {
                      "aaxis": {
                        "gridcolor": "#DFE8F3",
                        "linecolor": "#A2B1C6",
                        "ticks": ""
                      },
                      "baxis": {
                        "gridcolor": "#DFE8F3",
                        "linecolor": "#A2B1C6",
                        "ticks": ""
                      },
                      "bgcolor": "white",
                      "caxis": {
                        "gridcolor": "#DFE8F3",
                        "linecolor": "#A2B1C6",
                        "ticks": ""
                      }
                    },
                    "title": {
                      "x": 0.05
                    },
                    "xaxis": {
                      "automargin": true,
                      "gridcolor": "#EBF0F8",
                      "linecolor": "#EBF0F8",
                      "ticks": "",
                      "title": {
                        "standoff": 15
                      },
                      "zerolinecolor": "#EBF0F8",
                      "zerolinewidth": 2
                    },
                    "yaxis": {
                      "automargin": true,
                      "gridcolor": "#EBF0F8",
                      "linecolor": "#EBF0F8",
                      "ticks": "",
                      "title": {
                        "standoff": 15
                      },
                      "zerolinecolor": "#EBF0F8",
                      "zerolinewidth": 2
                    }
                  }
                },
                "title": {
                  "text": "First model: Trend + Seasonality (Original Scale)"
                },
                "xaxis": {
                  "title": {
                    "text": "Date"
                  }
                },
                "yaxis": {
                  "title": {
                    "text": "Number of Passengers"
                  }
                }
              }
            }
          },
          "metadata": {},
          "output_type": "display_data"
        }
      ],
      "source": [
        "fig = go.Figure()\n",
        "\n",
        "# Add the original passenger data\n",
        "fig.add_trace(go.Scatter(\n",
        "    x=train.index,\n",
        "    y=train['passengers'],\n",
        "    mode='lines+markers',\n",
        "    name='Actual Passengers',\n",
        "    customdata=np.stack((train.index.strftime('%Y-%m'), train['passengers']), axis=-1),\n",
        "    hovertemplate='<b>Date</b>: %{customdata[0]}<br>' +\n",
        "                  '<b>Actual Passengers</b>: %{customdata[1]}'\n",
        "))\n",
        "\n",
        "# Add the fitted model on the original scale\n",
        "fig.add_trace(go.Scatter(\n",
        "    x=train.index,\n",
        "    y=train['fitted_original_scale'],\n",
        "    mode='lines',\n",
        "    name='Fitted Model (Original Scale)',\n",
        "    line=dict(color='red')\n",
        "))\n",
        "\n",
        "# Customize layout\n",
        "fig.update_layout(\n",
        "    title='First model: Trend + Seasonality (Original Scale)',\n",
        "    xaxis_title='Date',\n",
        "    yaxis_title='Number of Passengers',\n",
        "    template='plotly_white'\n",
        ")\n",
        "\n",
        "# Show the figure\n",
        "fig.show()"
      ]
    },
    {
      "cell_type": "markdown",
      "metadata": {
        "id": "05gT0S6ZWELv"
      },
      "source": [
        "# Performance metrics"
      ]
    },
    {
      "cell_type": "markdown",
      "metadata": {
        "id": "kKpIwrskXkc7"
      },
      "source": [
        "### Performance on train dataset\n",
        "\n",
        "We want to make sure our model is at least learning from our train dataset. We want to make sure our model has low bias."
      ]
    },
    {
      "cell_type": "code",
      "execution_count": 20,
      "metadata": {
        "id": "sZ9nRNUHV74c"
      },
      "outputs": [],
      "source": [
        "# Train dataset\n",
        "mse = mean_squared_error(train['passengers'], train['fitted_original_scale'])\n",
        "rmse = np.sqrt(mse)"
      ]
    },
    {
      "cell_type": "code",
      "execution_count": 21,
      "metadata": {
        "colab": {
          "base_uri": "https://localhost:8080/"
        },
        "id": "fEGGXPROWmA9",
        "outputId": "adc3a359-1406-40e0-bedc-47cecc70d0bf"
      },
      "outputs": [
        {
          "data": {
            "text/plain": [
              "12.57157137859886"
            ]
          },
          "execution_count": 21,
          "metadata": {},
          "output_type": "execute_result"
        }
      ],
      "source": [
        "rmse"
      ]
    },
    {
      "cell_type": "code",
      "execution_count": 22,
      "metadata": {
        "colab": {
          "base_uri": "https://localhost:8080/",
          "height": 335
        },
        "id": "XQIsSdEfWnBU",
        "outputId": "ec0b56e3-846a-48fd-a87b-006f34eb319a"
      },
      "outputs": [
        {
          "data": {
            "text/plain": [
              "count    115.000000\n",
              "mean     239.947826\n",
              "std       91.347788\n",
              "min      104.000000\n",
              "25%      170.000000\n",
              "50%      229.000000\n",
              "75%      306.000000\n",
              "max      491.000000\n",
              "Name: passengers, dtype: float64"
            ]
          },
          "execution_count": 22,
          "metadata": {},
          "output_type": "execute_result"
        }
      ],
      "source": [
        "train.passengers.describe()"
      ]
    },
    {
      "cell_type": "markdown",
      "metadata": {
        "id": "KnZH3reKW0HU"
      },
      "source": [
        "An RMSE of 12.57 implies that the model’s predictions are, on average, about 12.57 passengers away from the actual counts, which is a small error relative to the mean and the variability in the data."
      ]
    },
    {
      "cell_type": "markdown",
      "metadata": {
        "id": "hBGv7HKrXsFW"
      },
      "source": [
        "### Performance on test dataset\n",
        "\n",
        "We want to make sure our model is not a memorization machine and that is capable of of predicting in data it has not seen. We want to make sure our model is not overfitting."
      ]
    },
    {
      "cell_type": "code",
      "execution_count": 23,
      "metadata": {
        "colab": {
          "base_uri": "https://localhost:8080/"
        },
        "id": "KIq7CGxrWodL",
        "outputId": "4873b6a4-1d5f-404e-c437-dc1ed7ad5925"
      },
      "outputs": [
        {
          "name": "stdout",
          "output_type": "stream",
          "text": [
            "Test RMSE: 52.84\n"
          ]
        }
      ],
      "source": [
        "# Prepare trend and seasonality for the test set\n",
        "test['t'] = range(len(train) + 1, len(train) + len(test) + 1)\n",
        "test['month'] = test.index.month.astype(str)\n",
        "test['log_passengers'] = np.log(test['passengers'])\n",
        "\n",
        "# One-hot encode the 'month' column for seasonality in the test set\n",
        "month_dummies_test = one_hot_encoder.transform(test[['month']])  # Use transform, not fit_transform\n",
        "\n",
        "# Combine trend and seasonality features for test set\n",
        "X_test = np.column_stack((test['t'], month_dummies_test))\n",
        "\n",
        "# Make predictions on the test set\n",
        "test['fitted_log'] = model.predict(X_test)\n",
        "test['fitted_original_scale'] = np.exp(test['fitted_log'])  # Exponentiate to original scale\n",
        "\n",
        "# Compute RMSE on the test set\n",
        "test_rmse = np.sqrt(mean_squared_error(test['passengers'], test['fitted_original_scale']))\n",
        "print(f\"Test RMSE: {test_rmse:.2f}\")"
      ]
    },
    {
      "cell_type": "code",
      "execution_count": 24,
      "metadata": {
        "colab": {
          "base_uri": "https://localhost:8080/",
          "height": 335
        },
        "id": "Kvd6643SY_JK",
        "outputId": "9564b4c9-326b-4132-e5bc-d6d2755383f1"
      },
      "outputs": [
        {
          "data": {
            "text/plain": [
              "count     29.000000\n",
              "mean     440.310345\n",
              "std       79.514196\n",
              "min      310.000000\n",
              "25%      391.000000\n",
              "50%      419.000000\n",
              "75%      472.000000\n",
              "max      622.000000\n",
              "Name: passengers, dtype: float64"
            ]
          },
          "execution_count": 24,
          "metadata": {},
          "output_type": "execute_result"
        }
      ],
      "source": [
        "test.passengers.describe()"
      ]
    },
    {
      "cell_type": "markdown",
      "metadata": {
        "id": "8p6IH9XVYzxQ"
      },
      "source": [
        "- An RMSE of 52.84 indicates that, on average, the model's predictions on the test set are about 52.84 passengers away from the actual values.\n",
        "\n",
        "- An RMSE of 52.84 could indicate that the model is reasonably accurate but has room for improvement.\n",
        "\n",
        "- The Train RMSE is significantly lower than 52.84, which could suggest some degree of overfitting. However, given the heteroskedasticity in the data, this difference may also reflect the model's difficulty in predicting periods of high variance, which are more challenging to forecast accurately.\n",
        "\n",
        "- Given the heteroskedasticity, we might consider using **Mean Absolute Percentage Error (MAPE)** as an additional metric, as it provides a relative error percentage. This could give a clearer picture of performance, especially in periods with high variability.\n",
        "\n"
      ]
    },
    {
      "cell_type": "code",
      "execution_count": 25,
      "metadata": {
        "colab": {
          "base_uri": "https://localhost:8080/",
          "height": 542
        },
        "id": "3PxfYRZvbLgl",
        "outputId": "758ea9e1-4df4-4e8d-901e-8b9789c85a02"
      },
      "outputs": [
        {
          "data": {
            "application/vnd.plotly.v1+json": {
              "config": {
                "plotlyServerURL": "https://plot.ly"
              },
              "data": [
                {
                  "mode": "lines+markers",
                  "name": "Actual Passengers",
                  "type": "scatter",
                  "x": [
                    "1949-01-01T00:00:00",
                    "1949-02-01T00:00:00",
                    "1949-03-01T00:00:00",
                    "1949-04-01T00:00:00",
                    "1949-05-01T00:00:00",
                    "1949-06-01T00:00:00",
                    "1949-07-01T00:00:00",
                    "1949-08-01T00:00:00",
                    "1949-09-01T00:00:00",
                    "1949-10-01T00:00:00",
                    "1949-11-01T00:00:00",
                    "1949-12-01T00:00:00",
                    "1950-01-01T00:00:00",
                    "1950-02-01T00:00:00",
                    "1950-03-01T00:00:00",
                    "1950-04-01T00:00:00",
                    "1950-05-01T00:00:00",
                    "1950-06-01T00:00:00",
                    "1950-07-01T00:00:00",
                    "1950-08-01T00:00:00",
                    "1950-09-01T00:00:00",
                    "1950-10-01T00:00:00",
                    "1950-11-01T00:00:00",
                    "1950-12-01T00:00:00",
                    "1951-01-01T00:00:00",
                    "1951-02-01T00:00:00",
                    "1951-03-01T00:00:00",
                    "1951-04-01T00:00:00",
                    "1951-05-01T00:00:00",
                    "1951-06-01T00:00:00",
                    "1951-07-01T00:00:00",
                    "1951-08-01T00:00:00",
                    "1951-09-01T00:00:00",
                    "1951-10-01T00:00:00",
                    "1951-11-01T00:00:00",
                    "1951-12-01T00:00:00",
                    "1952-01-01T00:00:00",
                    "1952-02-01T00:00:00",
                    "1952-03-01T00:00:00",
                    "1952-04-01T00:00:00",
                    "1952-05-01T00:00:00",
                    "1952-06-01T00:00:00",
                    "1952-07-01T00:00:00",
                    "1952-08-01T00:00:00",
                    "1952-09-01T00:00:00",
                    "1952-10-01T00:00:00",
                    "1952-11-01T00:00:00",
                    "1952-12-01T00:00:00",
                    "1953-01-01T00:00:00",
                    "1953-02-01T00:00:00",
                    "1953-03-01T00:00:00",
                    "1953-04-01T00:00:00",
                    "1953-05-01T00:00:00",
                    "1953-06-01T00:00:00",
                    "1953-07-01T00:00:00",
                    "1953-08-01T00:00:00",
                    "1953-09-01T00:00:00",
                    "1953-10-01T00:00:00",
                    "1953-11-01T00:00:00",
                    "1953-12-01T00:00:00",
                    "1954-01-01T00:00:00",
                    "1954-02-01T00:00:00",
                    "1954-03-01T00:00:00",
                    "1954-04-01T00:00:00",
                    "1954-05-01T00:00:00",
                    "1954-06-01T00:00:00",
                    "1954-07-01T00:00:00",
                    "1954-08-01T00:00:00",
                    "1954-09-01T00:00:00",
                    "1954-10-01T00:00:00",
                    "1954-11-01T00:00:00",
                    "1954-12-01T00:00:00",
                    "1955-01-01T00:00:00",
                    "1955-02-01T00:00:00",
                    "1955-03-01T00:00:00",
                    "1955-04-01T00:00:00",
                    "1955-05-01T00:00:00",
                    "1955-06-01T00:00:00",
                    "1955-07-01T00:00:00",
                    "1955-08-01T00:00:00",
                    "1955-09-01T00:00:00",
                    "1955-10-01T00:00:00",
                    "1955-11-01T00:00:00",
                    "1955-12-01T00:00:00",
                    "1956-01-01T00:00:00",
                    "1956-02-01T00:00:00",
                    "1956-03-01T00:00:00",
                    "1956-04-01T00:00:00",
                    "1956-05-01T00:00:00",
                    "1956-06-01T00:00:00",
                    "1956-07-01T00:00:00",
                    "1956-08-01T00:00:00",
                    "1956-09-01T00:00:00",
                    "1956-10-01T00:00:00",
                    "1956-11-01T00:00:00",
                    "1956-12-01T00:00:00",
                    "1957-01-01T00:00:00",
                    "1957-02-01T00:00:00",
                    "1957-03-01T00:00:00",
                    "1957-04-01T00:00:00",
                    "1957-05-01T00:00:00",
                    "1957-06-01T00:00:00",
                    "1957-07-01T00:00:00",
                    "1957-08-01T00:00:00",
                    "1957-09-01T00:00:00",
                    "1957-10-01T00:00:00",
                    "1957-11-01T00:00:00",
                    "1957-12-01T00:00:00",
                    "1958-01-01T00:00:00",
                    "1958-02-01T00:00:00",
                    "1958-03-01T00:00:00",
                    "1958-04-01T00:00:00",
                    "1958-05-01T00:00:00",
                    "1958-06-01T00:00:00",
                    "1958-07-01T00:00:00",
                    "1958-08-01T00:00:00",
                    "1958-09-01T00:00:00",
                    "1958-10-01T00:00:00",
                    "1958-11-01T00:00:00",
                    "1958-12-01T00:00:00",
                    "1959-01-01T00:00:00",
                    "1959-02-01T00:00:00",
                    "1959-03-01T00:00:00",
                    "1959-04-01T00:00:00",
                    "1959-05-01T00:00:00",
                    "1959-06-01T00:00:00",
                    "1959-07-01T00:00:00",
                    "1959-08-01T00:00:00",
                    "1959-09-01T00:00:00",
                    "1959-10-01T00:00:00",
                    "1959-11-01T00:00:00",
                    "1959-12-01T00:00:00",
                    "1960-01-01T00:00:00",
                    "1960-02-01T00:00:00",
                    "1960-03-01T00:00:00",
                    "1960-04-01T00:00:00",
                    "1960-05-01T00:00:00",
                    "1960-06-01T00:00:00",
                    "1960-07-01T00:00:00",
                    "1960-08-01T00:00:00",
                    "1960-09-01T00:00:00",
                    "1960-10-01T00:00:00",
                    "1960-11-01T00:00:00",
                    "1960-12-01T00:00:00"
                  ],
                  "y": [
                    112,
                    118,
                    132,
                    129,
                    121,
                    135,
                    148,
                    148,
                    136,
                    119,
                    104,
                    118,
                    115,
                    126,
                    141,
                    135,
                    125,
                    149,
                    170,
                    170,
                    158,
                    133,
                    114,
                    140,
                    145,
                    150,
                    178,
                    163,
                    172,
                    178,
                    199,
                    199,
                    184,
                    162,
                    146,
                    166,
                    171,
                    180,
                    193,
                    181,
                    183,
                    218,
                    230,
                    242,
                    209,
                    191,
                    172,
                    194,
                    196,
                    196,
                    236,
                    235,
                    229,
                    243,
                    264,
                    272,
                    237,
                    211,
                    180,
                    201,
                    204,
                    188,
                    235,
                    227,
                    234,
                    264,
                    302,
                    293,
                    259,
                    229,
                    203,
                    229,
                    242,
                    233,
                    267,
                    269,
                    270,
                    315,
                    364,
                    347,
                    312,
                    274,
                    237,
                    278,
                    284,
                    277,
                    317,
                    313,
                    318,
                    374,
                    413,
                    405,
                    355,
                    306,
                    271,
                    306,
                    315,
                    301,
                    356,
                    348,
                    355,
                    422,
                    465,
                    467,
                    404,
                    347,
                    305,
                    336,
                    340,
                    318,
                    362,
                    348,
                    363,
                    435,
                    491,
                    505,
                    404,
                    359,
                    310,
                    337,
                    360,
                    342,
                    406,
                    396,
                    420,
                    472,
                    548,
                    559,
                    463,
                    407,
                    362,
                    405,
                    417,
                    391,
                    419,
                    461,
                    472,
                    535,
                    622,
                    606,
                    508,
                    461,
                    390,
                    432
                  ]
                },
                {
                  "line": {
                    "color": "red"
                  },
                  "mode": "lines",
                  "name": "Fitted Model (Train)",
                  "type": "scatter",
                  "x": [
                    "1949-01-01T00:00:00",
                    "1949-02-01T00:00:00",
                    "1949-03-01T00:00:00",
                    "1949-04-01T00:00:00",
                    "1949-05-01T00:00:00",
                    "1949-06-01T00:00:00",
                    "1949-07-01T00:00:00",
                    "1949-08-01T00:00:00",
                    "1949-09-01T00:00:00",
                    "1949-10-01T00:00:00",
                    "1949-11-01T00:00:00",
                    "1949-12-01T00:00:00",
                    "1950-01-01T00:00:00",
                    "1950-02-01T00:00:00",
                    "1950-03-01T00:00:00",
                    "1950-04-01T00:00:00",
                    "1950-05-01T00:00:00",
                    "1950-06-01T00:00:00",
                    "1950-07-01T00:00:00",
                    "1950-08-01T00:00:00",
                    "1950-09-01T00:00:00",
                    "1950-10-01T00:00:00",
                    "1950-11-01T00:00:00",
                    "1950-12-01T00:00:00",
                    "1951-01-01T00:00:00",
                    "1951-02-01T00:00:00",
                    "1951-03-01T00:00:00",
                    "1951-04-01T00:00:00",
                    "1951-05-01T00:00:00",
                    "1951-06-01T00:00:00",
                    "1951-07-01T00:00:00",
                    "1951-08-01T00:00:00",
                    "1951-09-01T00:00:00",
                    "1951-10-01T00:00:00",
                    "1951-11-01T00:00:00",
                    "1951-12-01T00:00:00",
                    "1952-01-01T00:00:00",
                    "1952-02-01T00:00:00",
                    "1952-03-01T00:00:00",
                    "1952-04-01T00:00:00",
                    "1952-05-01T00:00:00",
                    "1952-06-01T00:00:00",
                    "1952-07-01T00:00:00",
                    "1952-08-01T00:00:00",
                    "1952-09-01T00:00:00",
                    "1952-10-01T00:00:00",
                    "1952-11-01T00:00:00",
                    "1952-12-01T00:00:00",
                    "1953-01-01T00:00:00",
                    "1953-02-01T00:00:00",
                    "1953-03-01T00:00:00",
                    "1953-04-01T00:00:00",
                    "1953-05-01T00:00:00",
                    "1953-06-01T00:00:00",
                    "1953-07-01T00:00:00",
                    "1953-08-01T00:00:00",
                    "1953-09-01T00:00:00",
                    "1953-10-01T00:00:00",
                    "1953-11-01T00:00:00",
                    "1953-12-01T00:00:00",
                    "1954-01-01T00:00:00",
                    "1954-02-01T00:00:00",
                    "1954-03-01T00:00:00",
                    "1954-04-01T00:00:00",
                    "1954-05-01T00:00:00",
                    "1954-06-01T00:00:00",
                    "1954-07-01T00:00:00",
                    "1954-08-01T00:00:00",
                    "1954-09-01T00:00:00",
                    "1954-10-01T00:00:00",
                    "1954-11-01T00:00:00",
                    "1954-12-01T00:00:00",
                    "1955-01-01T00:00:00",
                    "1955-02-01T00:00:00",
                    "1955-03-01T00:00:00",
                    "1955-04-01T00:00:00",
                    "1955-05-01T00:00:00",
                    "1955-06-01T00:00:00",
                    "1955-07-01T00:00:00",
                    "1955-08-01T00:00:00",
                    "1955-09-01T00:00:00",
                    "1955-10-01T00:00:00",
                    "1955-11-01T00:00:00",
                    "1955-12-01T00:00:00",
                    "1956-01-01T00:00:00",
                    "1956-02-01T00:00:00",
                    "1956-03-01T00:00:00",
                    "1956-04-01T00:00:00",
                    "1956-05-01T00:00:00",
                    "1956-06-01T00:00:00",
                    "1956-07-01T00:00:00",
                    "1956-08-01T00:00:00",
                    "1956-09-01T00:00:00",
                    "1956-10-01T00:00:00",
                    "1956-11-01T00:00:00",
                    "1956-12-01T00:00:00",
                    "1957-01-01T00:00:00",
                    "1957-02-01T00:00:00",
                    "1957-03-01T00:00:00",
                    "1957-04-01T00:00:00",
                    "1957-05-01T00:00:00",
                    "1957-06-01T00:00:00",
                    "1957-07-01T00:00:00",
                    "1957-08-01T00:00:00",
                    "1957-09-01T00:00:00",
                    "1957-10-01T00:00:00",
                    "1957-11-01T00:00:00",
                    "1957-12-01T00:00:00",
                    "1958-01-01T00:00:00",
                    "1958-02-01T00:00:00",
                    "1958-03-01T00:00:00",
                    "1958-04-01T00:00:00",
                    "1958-05-01T00:00:00",
                    "1958-06-01T00:00:00",
                    "1958-07-01T00:00:00"
                  ],
                  "y": [
                    110.6417437978123,
                    110.3306119802159,
                    127.45533068284992,
                    123.37976000586227,
                    123.50236808934932,
                    141.2762415321397,
                    157.20230250945716,
                    157.47068962083847,
                    140.49159578239363,
                    123.05039056654991,
                    108.01857781942724,
                    123.2769674944102,
                    125.95861733153481,
                    125.60441346410568,
                    145.09982103755257,
                    140.46004196602595,
                    140.59962350315286,
                    160.83405263119258,
                    178.9648643066344,
                    179.27040603346197,
                    159.940783144102,
                    140.08507572143333,
                    122.97230901491687,
                    140.34301920255433,
                    143.39590768801418,
                    142.99266902000863,
                    165.18695571485242,
                    159.9048611227674,
                    160.06376586177464,
                    183.0993817873366,
                    203.74016248499456,
                    204.08800238815624,
                    182.08245105544225,
                    159.47798580343752,
                    139.99618482053816,
                    159.77163811870722,
                    163.24715829126154,
                    162.78809660863456,
                    188.05488623778984,
                    182.04155610943207,
                    182.2224590898603,
                    208.4470487588948,
                    231.94527020839993,
                    232.34126390617703,
                    207.28933753242103,
                    181.55558559640414,
                    159.37678914306537,
                    181.88989015757562,
                    185.8465497366472,
                    185.3239370876705,
                    214.08857669702982,
                    207.24278122665004,
                    207.44872781158034,
                    237.30376209985704,
                    264.0549988567422,
                    264.505812599656,
                    235.9857811972575,
                    206.68953457865112,
                    181.44037960830673,
                    207.0701191468925,
                    211.57452546520003,
                    210.9795640663147,
                    243.72628432639834,
                    235.93277979198615,
                    236.16723693439485,
                    270.1553024714754,
                    300.60989111175684,
                    301.1231140037895,
                    268.65486469399264,
                    235.30294352555296,
                    206.55837985828083,
                    235.73621495049568,
                    240.86419623747054,
                    240.18687036934088,
                    277.4669372276531,
                    268.5945259511687,
                    268.86144055742494,
                    307.5547003875263,
                    342.22532057894756,
                    342.80959233429417,
                    305.84654701469896,
                    267.87749725528914,
                    235.1536321836736,
                    268.370749329432,
                    274.2086312213668,
                    273.437538621919,
                    315.878533442836,
                    305.77785517781405,
                    306.08172055082434,
                    350.1315460593206,
                    389.6018511307828,
                    390.26700751681926,
                    348.1869216377758,
                    304.9615634237265,
                    267.70751574985115,
                    305.5230996678447,
                    312.16915843384436,
                    311.2913183499196,
                    359.6077027661533,
                    348.1087203323821,
                    348.45465181290257,
                    398.6025880645656,
                    443.53703036276795,
                    444.2942687776604,
                    396.3887563319916,
                    347.1794238737882,
                    304.76805024631284,
                    347.8186973203449,
                    355.3848142680241,
                    354.3854489343451,
                    409.3905922611628,
                    396.2997290990254,
                    396.6935501785033,
                    453.7837992605533,
                    504.9388156961955
                  ]
                },
                {
                  "line": {
                    "color": "orange"
                  },
                  "mode": "lines",
                  "name": "Fitted Model (Test)",
                  "type": "scatter",
                  "x": [
                    "1958-08-01T00:00:00",
                    "1958-09-01T00:00:00",
                    "1958-10-01T00:00:00",
                    "1958-11-01T00:00:00",
                    "1958-12-01T00:00:00",
                    "1959-01-01T00:00:00",
                    "1959-02-01T00:00:00",
                    "1959-03-01T00:00:00",
                    "1959-04-01T00:00:00",
                    "1959-05-01T00:00:00",
                    "1959-06-01T00:00:00",
                    "1959-07-01T00:00:00",
                    "1959-08-01T00:00:00",
                    "1959-09-01T00:00:00",
                    "1959-10-01T00:00:00",
                    "1959-11-01T00:00:00",
                    "1959-12-01T00:00:00",
                    "1960-01-01T00:00:00",
                    "1960-02-01T00:00:00",
                    "1960-03-01T00:00:00",
                    "1960-04-01T00:00:00",
                    "1960-05-01T00:00:00",
                    "1960-06-01T00:00:00",
                    "1960-07-01T00:00:00",
                    "1960-08-01T00:00:00",
                    "1960-09-01T00:00:00",
                    "1960-10-01T00:00:00",
                    "1960-11-01T00:00:00",
                    "1960-12-01T00:00:00"
                  ],
                  "y": [
                    505.80088366851953,
                    451.2634920558036,
                    395.24178394200146,
                    346.959121378312,
                    395.9695562697062,
                    404.58310118128963,
                    403.4453870481022,
                    466.065258732607,
                    451.1621401900032,
                    451.6104805445961,
                    516.6041130620739,
                    574.8408591457237,
                    575.8222689293414,
                    513.7349029442264,
                    449.9577366383487,
                    394.9909835047309,
                    450.7862593367744,
                    460.5922346417983,
                    459.2970191633008,
                    530.585776770665,
                    513.6195202645796,
                    514.1299273606721,
                    588.1210613237757,
                    654.4199080591364,
                    655.5371809358734,
                    584.85464733867,
                    512.2483831072259,
                    449.6722162260672,
                    513.1916037212484
                  ]
                }
              ],
              "layout": {
                "template": {
                  "data": {
                    "bar": [
                      {
                        "error_x": {
                          "color": "#2a3f5f"
                        },
                        "error_y": {
                          "color": "#2a3f5f"
                        },
                        "marker": {
                          "line": {
                            "color": "white",
                            "width": 0.5
                          },
                          "pattern": {
                            "fillmode": "overlay",
                            "size": 10,
                            "solidity": 0.2
                          }
                        },
                        "type": "bar"
                      }
                    ],
                    "barpolar": [
                      {
                        "marker": {
                          "line": {
                            "color": "white",
                            "width": 0.5
                          },
                          "pattern": {
                            "fillmode": "overlay",
                            "size": 10,
                            "solidity": 0.2
                          }
                        },
                        "type": "barpolar"
                      }
                    ],
                    "carpet": [
                      {
                        "aaxis": {
                          "endlinecolor": "#2a3f5f",
                          "gridcolor": "#C8D4E3",
                          "linecolor": "#C8D4E3",
                          "minorgridcolor": "#C8D4E3",
                          "startlinecolor": "#2a3f5f"
                        },
                        "baxis": {
                          "endlinecolor": "#2a3f5f",
                          "gridcolor": "#C8D4E3",
                          "linecolor": "#C8D4E3",
                          "minorgridcolor": "#C8D4E3",
                          "startlinecolor": "#2a3f5f"
                        },
                        "type": "carpet"
                      }
                    ],
                    "choropleth": [
                      {
                        "colorbar": {
                          "outlinewidth": 0,
                          "ticks": ""
                        },
                        "type": "choropleth"
                      }
                    ],
                    "contour": [
                      {
                        "colorbar": {
                          "outlinewidth": 0,
                          "ticks": ""
                        },
                        "colorscale": [
                          [
                            0,
                            "#0d0887"
                          ],
                          [
                            0.1111111111111111,
                            "#46039f"
                          ],
                          [
                            0.2222222222222222,
                            "#7201a8"
                          ],
                          [
                            0.3333333333333333,
                            "#9c179e"
                          ],
                          [
                            0.4444444444444444,
                            "#bd3786"
                          ],
                          [
                            0.5555555555555556,
                            "#d8576b"
                          ],
                          [
                            0.6666666666666666,
                            "#ed7953"
                          ],
                          [
                            0.7777777777777778,
                            "#fb9f3a"
                          ],
                          [
                            0.8888888888888888,
                            "#fdca26"
                          ],
                          [
                            1,
                            "#f0f921"
                          ]
                        ],
                        "type": "contour"
                      }
                    ],
                    "contourcarpet": [
                      {
                        "colorbar": {
                          "outlinewidth": 0,
                          "ticks": ""
                        },
                        "type": "contourcarpet"
                      }
                    ],
                    "heatmap": [
                      {
                        "colorbar": {
                          "outlinewidth": 0,
                          "ticks": ""
                        },
                        "colorscale": [
                          [
                            0,
                            "#0d0887"
                          ],
                          [
                            0.1111111111111111,
                            "#46039f"
                          ],
                          [
                            0.2222222222222222,
                            "#7201a8"
                          ],
                          [
                            0.3333333333333333,
                            "#9c179e"
                          ],
                          [
                            0.4444444444444444,
                            "#bd3786"
                          ],
                          [
                            0.5555555555555556,
                            "#d8576b"
                          ],
                          [
                            0.6666666666666666,
                            "#ed7953"
                          ],
                          [
                            0.7777777777777778,
                            "#fb9f3a"
                          ],
                          [
                            0.8888888888888888,
                            "#fdca26"
                          ],
                          [
                            1,
                            "#f0f921"
                          ]
                        ],
                        "type": "heatmap"
                      }
                    ],
                    "heatmapgl": [
                      {
                        "colorbar": {
                          "outlinewidth": 0,
                          "ticks": ""
                        },
                        "colorscale": [
                          [
                            0,
                            "#0d0887"
                          ],
                          [
                            0.1111111111111111,
                            "#46039f"
                          ],
                          [
                            0.2222222222222222,
                            "#7201a8"
                          ],
                          [
                            0.3333333333333333,
                            "#9c179e"
                          ],
                          [
                            0.4444444444444444,
                            "#bd3786"
                          ],
                          [
                            0.5555555555555556,
                            "#d8576b"
                          ],
                          [
                            0.6666666666666666,
                            "#ed7953"
                          ],
                          [
                            0.7777777777777778,
                            "#fb9f3a"
                          ],
                          [
                            0.8888888888888888,
                            "#fdca26"
                          ],
                          [
                            1,
                            "#f0f921"
                          ]
                        ],
                        "type": "heatmapgl"
                      }
                    ],
                    "histogram": [
                      {
                        "marker": {
                          "pattern": {
                            "fillmode": "overlay",
                            "size": 10,
                            "solidity": 0.2
                          }
                        },
                        "type": "histogram"
                      }
                    ],
                    "histogram2d": [
                      {
                        "colorbar": {
                          "outlinewidth": 0,
                          "ticks": ""
                        },
                        "colorscale": [
                          [
                            0,
                            "#0d0887"
                          ],
                          [
                            0.1111111111111111,
                            "#46039f"
                          ],
                          [
                            0.2222222222222222,
                            "#7201a8"
                          ],
                          [
                            0.3333333333333333,
                            "#9c179e"
                          ],
                          [
                            0.4444444444444444,
                            "#bd3786"
                          ],
                          [
                            0.5555555555555556,
                            "#d8576b"
                          ],
                          [
                            0.6666666666666666,
                            "#ed7953"
                          ],
                          [
                            0.7777777777777778,
                            "#fb9f3a"
                          ],
                          [
                            0.8888888888888888,
                            "#fdca26"
                          ],
                          [
                            1,
                            "#f0f921"
                          ]
                        ],
                        "type": "histogram2d"
                      }
                    ],
                    "histogram2dcontour": [
                      {
                        "colorbar": {
                          "outlinewidth": 0,
                          "ticks": ""
                        },
                        "colorscale": [
                          [
                            0,
                            "#0d0887"
                          ],
                          [
                            0.1111111111111111,
                            "#46039f"
                          ],
                          [
                            0.2222222222222222,
                            "#7201a8"
                          ],
                          [
                            0.3333333333333333,
                            "#9c179e"
                          ],
                          [
                            0.4444444444444444,
                            "#bd3786"
                          ],
                          [
                            0.5555555555555556,
                            "#d8576b"
                          ],
                          [
                            0.6666666666666666,
                            "#ed7953"
                          ],
                          [
                            0.7777777777777778,
                            "#fb9f3a"
                          ],
                          [
                            0.8888888888888888,
                            "#fdca26"
                          ],
                          [
                            1,
                            "#f0f921"
                          ]
                        ],
                        "type": "histogram2dcontour"
                      }
                    ],
                    "mesh3d": [
                      {
                        "colorbar": {
                          "outlinewidth": 0,
                          "ticks": ""
                        },
                        "type": "mesh3d"
                      }
                    ],
                    "parcoords": [
                      {
                        "line": {
                          "colorbar": {
                            "outlinewidth": 0,
                            "ticks": ""
                          }
                        },
                        "type": "parcoords"
                      }
                    ],
                    "pie": [
                      {
                        "automargin": true,
                        "type": "pie"
                      }
                    ],
                    "scatter": [
                      {
                        "fillpattern": {
                          "fillmode": "overlay",
                          "size": 10,
                          "solidity": 0.2
                        },
                        "type": "scatter"
                      }
                    ],
                    "scatter3d": [
                      {
                        "line": {
                          "colorbar": {
                            "outlinewidth": 0,
                            "ticks": ""
                          }
                        },
                        "marker": {
                          "colorbar": {
                            "outlinewidth": 0,
                            "ticks": ""
                          }
                        },
                        "type": "scatter3d"
                      }
                    ],
                    "scattercarpet": [
                      {
                        "marker": {
                          "colorbar": {
                            "outlinewidth": 0,
                            "ticks": ""
                          }
                        },
                        "type": "scattercarpet"
                      }
                    ],
                    "scattergeo": [
                      {
                        "marker": {
                          "colorbar": {
                            "outlinewidth": 0,
                            "ticks": ""
                          }
                        },
                        "type": "scattergeo"
                      }
                    ],
                    "scattergl": [
                      {
                        "marker": {
                          "colorbar": {
                            "outlinewidth": 0,
                            "ticks": ""
                          }
                        },
                        "type": "scattergl"
                      }
                    ],
                    "scattermapbox": [
                      {
                        "marker": {
                          "colorbar": {
                            "outlinewidth": 0,
                            "ticks": ""
                          }
                        },
                        "type": "scattermapbox"
                      }
                    ],
                    "scatterpolar": [
                      {
                        "marker": {
                          "colorbar": {
                            "outlinewidth": 0,
                            "ticks": ""
                          }
                        },
                        "type": "scatterpolar"
                      }
                    ],
                    "scatterpolargl": [
                      {
                        "marker": {
                          "colorbar": {
                            "outlinewidth": 0,
                            "ticks": ""
                          }
                        },
                        "type": "scatterpolargl"
                      }
                    ],
                    "scatterternary": [
                      {
                        "marker": {
                          "colorbar": {
                            "outlinewidth": 0,
                            "ticks": ""
                          }
                        },
                        "type": "scatterternary"
                      }
                    ],
                    "surface": [
                      {
                        "colorbar": {
                          "outlinewidth": 0,
                          "ticks": ""
                        },
                        "colorscale": [
                          [
                            0,
                            "#0d0887"
                          ],
                          [
                            0.1111111111111111,
                            "#46039f"
                          ],
                          [
                            0.2222222222222222,
                            "#7201a8"
                          ],
                          [
                            0.3333333333333333,
                            "#9c179e"
                          ],
                          [
                            0.4444444444444444,
                            "#bd3786"
                          ],
                          [
                            0.5555555555555556,
                            "#d8576b"
                          ],
                          [
                            0.6666666666666666,
                            "#ed7953"
                          ],
                          [
                            0.7777777777777778,
                            "#fb9f3a"
                          ],
                          [
                            0.8888888888888888,
                            "#fdca26"
                          ],
                          [
                            1,
                            "#f0f921"
                          ]
                        ],
                        "type": "surface"
                      }
                    ],
                    "table": [
                      {
                        "cells": {
                          "fill": {
                            "color": "#EBF0F8"
                          },
                          "line": {
                            "color": "white"
                          }
                        },
                        "header": {
                          "fill": {
                            "color": "#C8D4E3"
                          },
                          "line": {
                            "color": "white"
                          }
                        },
                        "type": "table"
                      }
                    ]
                  },
                  "layout": {
                    "annotationdefaults": {
                      "arrowcolor": "#2a3f5f",
                      "arrowhead": 0,
                      "arrowwidth": 1
                    },
                    "autotypenumbers": "strict",
                    "coloraxis": {
                      "colorbar": {
                        "outlinewidth": 0,
                        "ticks": ""
                      }
                    },
                    "colorscale": {
                      "diverging": [
                        [
                          0,
                          "#8e0152"
                        ],
                        [
                          0.1,
                          "#c51b7d"
                        ],
                        [
                          0.2,
                          "#de77ae"
                        ],
                        [
                          0.3,
                          "#f1b6da"
                        ],
                        [
                          0.4,
                          "#fde0ef"
                        ],
                        [
                          0.5,
                          "#f7f7f7"
                        ],
                        [
                          0.6,
                          "#e6f5d0"
                        ],
                        [
                          0.7,
                          "#b8e186"
                        ],
                        [
                          0.8,
                          "#7fbc41"
                        ],
                        [
                          0.9,
                          "#4d9221"
                        ],
                        [
                          1,
                          "#276419"
                        ]
                      ],
                      "sequential": [
                        [
                          0,
                          "#0d0887"
                        ],
                        [
                          0.1111111111111111,
                          "#46039f"
                        ],
                        [
                          0.2222222222222222,
                          "#7201a8"
                        ],
                        [
                          0.3333333333333333,
                          "#9c179e"
                        ],
                        [
                          0.4444444444444444,
                          "#bd3786"
                        ],
                        [
                          0.5555555555555556,
                          "#d8576b"
                        ],
                        [
                          0.6666666666666666,
                          "#ed7953"
                        ],
                        [
                          0.7777777777777778,
                          "#fb9f3a"
                        ],
                        [
                          0.8888888888888888,
                          "#fdca26"
                        ],
                        [
                          1,
                          "#f0f921"
                        ]
                      ],
                      "sequentialminus": [
                        [
                          0,
                          "#0d0887"
                        ],
                        [
                          0.1111111111111111,
                          "#46039f"
                        ],
                        [
                          0.2222222222222222,
                          "#7201a8"
                        ],
                        [
                          0.3333333333333333,
                          "#9c179e"
                        ],
                        [
                          0.4444444444444444,
                          "#bd3786"
                        ],
                        [
                          0.5555555555555556,
                          "#d8576b"
                        ],
                        [
                          0.6666666666666666,
                          "#ed7953"
                        ],
                        [
                          0.7777777777777778,
                          "#fb9f3a"
                        ],
                        [
                          0.8888888888888888,
                          "#fdca26"
                        ],
                        [
                          1,
                          "#f0f921"
                        ]
                      ]
                    },
                    "colorway": [
                      "#636efa",
                      "#EF553B",
                      "#00cc96",
                      "#ab63fa",
                      "#FFA15A",
                      "#19d3f3",
                      "#FF6692",
                      "#B6E880",
                      "#FF97FF",
                      "#FECB52"
                    ],
                    "font": {
                      "color": "#2a3f5f"
                    },
                    "geo": {
                      "bgcolor": "white",
                      "lakecolor": "white",
                      "landcolor": "white",
                      "showlakes": true,
                      "showland": true,
                      "subunitcolor": "#C8D4E3"
                    },
                    "hoverlabel": {
                      "align": "left"
                    },
                    "hovermode": "closest",
                    "mapbox": {
                      "style": "light"
                    },
                    "paper_bgcolor": "white",
                    "plot_bgcolor": "white",
                    "polar": {
                      "angularaxis": {
                        "gridcolor": "#EBF0F8",
                        "linecolor": "#EBF0F8",
                        "ticks": ""
                      },
                      "bgcolor": "white",
                      "radialaxis": {
                        "gridcolor": "#EBF0F8",
                        "linecolor": "#EBF0F8",
                        "ticks": ""
                      }
                    },
                    "scene": {
                      "xaxis": {
                        "backgroundcolor": "white",
                        "gridcolor": "#DFE8F3",
                        "gridwidth": 2,
                        "linecolor": "#EBF0F8",
                        "showbackground": true,
                        "ticks": "",
                        "zerolinecolor": "#EBF0F8"
                      },
                      "yaxis": {
                        "backgroundcolor": "white",
                        "gridcolor": "#DFE8F3",
                        "gridwidth": 2,
                        "linecolor": "#EBF0F8",
                        "showbackground": true,
                        "ticks": "",
                        "zerolinecolor": "#EBF0F8"
                      },
                      "zaxis": {
                        "backgroundcolor": "white",
                        "gridcolor": "#DFE8F3",
                        "gridwidth": 2,
                        "linecolor": "#EBF0F8",
                        "showbackground": true,
                        "ticks": "",
                        "zerolinecolor": "#EBF0F8"
                      }
                    },
                    "shapedefaults": {
                      "line": {
                        "color": "#2a3f5f"
                      }
                    },
                    "ternary": {
                      "aaxis": {
                        "gridcolor": "#DFE8F3",
                        "linecolor": "#A2B1C6",
                        "ticks": ""
                      },
                      "baxis": {
                        "gridcolor": "#DFE8F3",
                        "linecolor": "#A2B1C6",
                        "ticks": ""
                      },
                      "bgcolor": "white",
                      "caxis": {
                        "gridcolor": "#DFE8F3",
                        "linecolor": "#A2B1C6",
                        "ticks": ""
                      }
                    },
                    "title": {
                      "x": 0.05
                    },
                    "xaxis": {
                      "automargin": true,
                      "gridcolor": "#EBF0F8",
                      "linecolor": "#EBF0F8",
                      "ticks": "",
                      "title": {
                        "standoff": 15
                      },
                      "zerolinecolor": "#EBF0F8",
                      "zerolinewidth": 2
                    },
                    "yaxis": {
                      "automargin": true,
                      "gridcolor": "#EBF0F8",
                      "linecolor": "#EBF0F8",
                      "ticks": "",
                      "title": {
                        "standoff": 15
                      },
                      "zerolinecolor": "#EBF0F8",
                      "zerolinewidth": 2
                    }
                  }
                },
                "title": {
                  "text": "Air Passengers: Actual vs. Fitted Model (Train and Test)"
                },
                "xaxis": {
                  "title": {
                    "text": "Date"
                  }
                },
                "yaxis": {
                  "title": {
                    "text": "Number of Passengers"
                  }
                }
              }
            }
          },
          "metadata": {},
          "output_type": "display_data"
        }
      ],
      "source": [
        "fig = go.Figure()\n",
        "\n",
        "# Add actual passenger data from df\n",
        "fig.add_trace(go.Scatter(\n",
        "    x=df.index,\n",
        "    y=df['passengers'],\n",
        "    mode='lines+markers',\n",
        "    name='Actual Passengers'\n",
        "))\n",
        "\n",
        "# Add fitted values for the training set\n",
        "fig.add_trace(go.Scatter(\n",
        "    x=train.index,\n",
        "    y=train['fitted_original_scale'],\n",
        "    mode='lines',\n",
        "    name='Fitted Model (Train)',\n",
        "    line=dict(color='red')\n",
        "))\n",
        "\n",
        "# Add fitted values for the test set\n",
        "fig.add_trace(go.Scatter(\n",
        "    x=test.index,\n",
        "    y=test['fitted_original_scale'],\n",
        "    mode='lines',\n",
        "    name='Fitted Model (Test)',\n",
        "    line=dict(color='orange')\n",
        "))\n",
        "\n",
        "# Customize layout\n",
        "fig.update_layout(\n",
        "    title='Air Passengers: Actual vs. Fitted Model (Train and Test)',\n",
        "    xaxis_title='Date',\n",
        "    yaxis_title='Number of Passengers',\n",
        "    template='plotly_white'\n",
        ")\n",
        "\n",
        "# Show the figure\n",
        "fig.show()"
      ]
    },
    {
      "cell_type": "markdown",
      "metadata": {
        "id": "6v1mmzs-cGSn"
      },
      "source": [
        "# Forecasting"
      ]
    },
    {
      "cell_type": "code",
      "execution_count": 26,
      "metadata": {
        "id": "REvMz0kibrry"
      },
      "outputs": [],
      "source": [
        "# Step 1: Generate future dates for the next five years (60 months)\n",
        "future_dates = pd.date_range(start=df.index[-1] + pd.DateOffset(months=1), periods=60, freq='MS')\n",
        "\n",
        "# Step 2: Create a new DataFrame for these future dates\n",
        "future_df = pd.DataFrame(index=future_dates)\n",
        "future_df['t'] = range(len(train) + len(test) + 1, len(train) + len(test) + 61)  # Continuing t from the last train/test value\n",
        "future_df['month'] = future_df.index.month.astype(str)  # Extract month as a categorical variable\n",
        "\n",
        "# Step 3: One-hot encode the 'month' column for seasonality\n",
        "month_dummies_future = one_hot_encoder.transform(future_df[['month']])  # Use the same encoder as before\n",
        "\n",
        "# Step 4: Combine trend and seasonality features\n",
        "X_future = np.column_stack((future_df['t'], month_dummies_future))\n",
        "\n",
        "# Step 5: Make predictions using the fitted model\n",
        "future_df['predicted_log'] = model.predict(X_future)\n",
        "future_df['predicted_passengers'] = np.exp(future_df['predicted_log'])  # Convert log predictions back to original scale"
      ]
    },
    {
      "cell_type": "code",
      "execution_count": 27,
      "metadata": {
        "colab": {
          "base_uri": "https://localhost:8080/",
          "height": 542
        },
        "id": "5VHMP6ZJcV_Q",
        "outputId": "9ce40d37-3755-4091-c5aa-7db307708450"
      },
      "outputs": [
        {
          "data": {
            "application/vnd.plotly.v1+json": {
              "config": {
                "plotlyServerURL": "https://plot.ly"
              },
              "data": [
                {
                  "mode": "lines+markers",
                  "name": "Actual Passengers",
                  "type": "scatter",
                  "x": [
                    "1949-01-01T00:00:00",
                    "1949-02-01T00:00:00",
                    "1949-03-01T00:00:00",
                    "1949-04-01T00:00:00",
                    "1949-05-01T00:00:00",
                    "1949-06-01T00:00:00",
                    "1949-07-01T00:00:00",
                    "1949-08-01T00:00:00",
                    "1949-09-01T00:00:00",
                    "1949-10-01T00:00:00",
                    "1949-11-01T00:00:00",
                    "1949-12-01T00:00:00",
                    "1950-01-01T00:00:00",
                    "1950-02-01T00:00:00",
                    "1950-03-01T00:00:00",
                    "1950-04-01T00:00:00",
                    "1950-05-01T00:00:00",
                    "1950-06-01T00:00:00",
                    "1950-07-01T00:00:00",
                    "1950-08-01T00:00:00",
                    "1950-09-01T00:00:00",
                    "1950-10-01T00:00:00",
                    "1950-11-01T00:00:00",
                    "1950-12-01T00:00:00",
                    "1951-01-01T00:00:00",
                    "1951-02-01T00:00:00",
                    "1951-03-01T00:00:00",
                    "1951-04-01T00:00:00",
                    "1951-05-01T00:00:00",
                    "1951-06-01T00:00:00",
                    "1951-07-01T00:00:00",
                    "1951-08-01T00:00:00",
                    "1951-09-01T00:00:00",
                    "1951-10-01T00:00:00",
                    "1951-11-01T00:00:00",
                    "1951-12-01T00:00:00",
                    "1952-01-01T00:00:00",
                    "1952-02-01T00:00:00",
                    "1952-03-01T00:00:00",
                    "1952-04-01T00:00:00",
                    "1952-05-01T00:00:00",
                    "1952-06-01T00:00:00",
                    "1952-07-01T00:00:00",
                    "1952-08-01T00:00:00",
                    "1952-09-01T00:00:00",
                    "1952-10-01T00:00:00",
                    "1952-11-01T00:00:00",
                    "1952-12-01T00:00:00",
                    "1953-01-01T00:00:00",
                    "1953-02-01T00:00:00",
                    "1953-03-01T00:00:00",
                    "1953-04-01T00:00:00",
                    "1953-05-01T00:00:00",
                    "1953-06-01T00:00:00",
                    "1953-07-01T00:00:00",
                    "1953-08-01T00:00:00",
                    "1953-09-01T00:00:00",
                    "1953-10-01T00:00:00",
                    "1953-11-01T00:00:00",
                    "1953-12-01T00:00:00",
                    "1954-01-01T00:00:00",
                    "1954-02-01T00:00:00",
                    "1954-03-01T00:00:00",
                    "1954-04-01T00:00:00",
                    "1954-05-01T00:00:00",
                    "1954-06-01T00:00:00",
                    "1954-07-01T00:00:00",
                    "1954-08-01T00:00:00",
                    "1954-09-01T00:00:00",
                    "1954-10-01T00:00:00",
                    "1954-11-01T00:00:00",
                    "1954-12-01T00:00:00",
                    "1955-01-01T00:00:00",
                    "1955-02-01T00:00:00",
                    "1955-03-01T00:00:00",
                    "1955-04-01T00:00:00",
                    "1955-05-01T00:00:00",
                    "1955-06-01T00:00:00",
                    "1955-07-01T00:00:00",
                    "1955-08-01T00:00:00",
                    "1955-09-01T00:00:00",
                    "1955-10-01T00:00:00",
                    "1955-11-01T00:00:00",
                    "1955-12-01T00:00:00",
                    "1956-01-01T00:00:00",
                    "1956-02-01T00:00:00",
                    "1956-03-01T00:00:00",
                    "1956-04-01T00:00:00",
                    "1956-05-01T00:00:00",
                    "1956-06-01T00:00:00",
                    "1956-07-01T00:00:00",
                    "1956-08-01T00:00:00",
                    "1956-09-01T00:00:00",
                    "1956-10-01T00:00:00",
                    "1956-11-01T00:00:00",
                    "1956-12-01T00:00:00",
                    "1957-01-01T00:00:00",
                    "1957-02-01T00:00:00",
                    "1957-03-01T00:00:00",
                    "1957-04-01T00:00:00",
                    "1957-05-01T00:00:00",
                    "1957-06-01T00:00:00",
                    "1957-07-01T00:00:00",
                    "1957-08-01T00:00:00",
                    "1957-09-01T00:00:00",
                    "1957-10-01T00:00:00",
                    "1957-11-01T00:00:00",
                    "1957-12-01T00:00:00",
                    "1958-01-01T00:00:00",
                    "1958-02-01T00:00:00",
                    "1958-03-01T00:00:00",
                    "1958-04-01T00:00:00",
                    "1958-05-01T00:00:00",
                    "1958-06-01T00:00:00",
                    "1958-07-01T00:00:00",
                    "1958-08-01T00:00:00",
                    "1958-09-01T00:00:00",
                    "1958-10-01T00:00:00",
                    "1958-11-01T00:00:00",
                    "1958-12-01T00:00:00",
                    "1959-01-01T00:00:00",
                    "1959-02-01T00:00:00",
                    "1959-03-01T00:00:00",
                    "1959-04-01T00:00:00",
                    "1959-05-01T00:00:00",
                    "1959-06-01T00:00:00",
                    "1959-07-01T00:00:00",
                    "1959-08-01T00:00:00",
                    "1959-09-01T00:00:00",
                    "1959-10-01T00:00:00",
                    "1959-11-01T00:00:00",
                    "1959-12-01T00:00:00",
                    "1960-01-01T00:00:00",
                    "1960-02-01T00:00:00",
                    "1960-03-01T00:00:00",
                    "1960-04-01T00:00:00",
                    "1960-05-01T00:00:00",
                    "1960-06-01T00:00:00",
                    "1960-07-01T00:00:00",
                    "1960-08-01T00:00:00",
                    "1960-09-01T00:00:00",
                    "1960-10-01T00:00:00",
                    "1960-11-01T00:00:00",
                    "1960-12-01T00:00:00"
                  ],
                  "y": [
                    112,
                    118,
                    132,
                    129,
                    121,
                    135,
                    148,
                    148,
                    136,
                    119,
                    104,
                    118,
                    115,
                    126,
                    141,
                    135,
                    125,
                    149,
                    170,
                    170,
                    158,
                    133,
                    114,
                    140,
                    145,
                    150,
                    178,
                    163,
                    172,
                    178,
                    199,
                    199,
                    184,
                    162,
                    146,
                    166,
                    171,
                    180,
                    193,
                    181,
                    183,
                    218,
                    230,
                    242,
                    209,
                    191,
                    172,
                    194,
                    196,
                    196,
                    236,
                    235,
                    229,
                    243,
                    264,
                    272,
                    237,
                    211,
                    180,
                    201,
                    204,
                    188,
                    235,
                    227,
                    234,
                    264,
                    302,
                    293,
                    259,
                    229,
                    203,
                    229,
                    242,
                    233,
                    267,
                    269,
                    270,
                    315,
                    364,
                    347,
                    312,
                    274,
                    237,
                    278,
                    284,
                    277,
                    317,
                    313,
                    318,
                    374,
                    413,
                    405,
                    355,
                    306,
                    271,
                    306,
                    315,
                    301,
                    356,
                    348,
                    355,
                    422,
                    465,
                    467,
                    404,
                    347,
                    305,
                    336,
                    340,
                    318,
                    362,
                    348,
                    363,
                    435,
                    491,
                    505,
                    404,
                    359,
                    310,
                    337,
                    360,
                    342,
                    406,
                    396,
                    420,
                    472,
                    548,
                    559,
                    463,
                    407,
                    362,
                    405,
                    417,
                    391,
                    419,
                    461,
                    472,
                    535,
                    622,
                    606,
                    508,
                    461,
                    390,
                    432
                  ]
                },
                {
                  "line": {
                    "color": "red"
                  },
                  "mode": "lines",
                  "name": "Fitted Model (Train)",
                  "type": "scatter",
                  "x": [
                    "1949-01-01T00:00:00",
                    "1949-02-01T00:00:00",
                    "1949-03-01T00:00:00",
                    "1949-04-01T00:00:00",
                    "1949-05-01T00:00:00",
                    "1949-06-01T00:00:00",
                    "1949-07-01T00:00:00",
                    "1949-08-01T00:00:00",
                    "1949-09-01T00:00:00",
                    "1949-10-01T00:00:00",
                    "1949-11-01T00:00:00",
                    "1949-12-01T00:00:00",
                    "1950-01-01T00:00:00",
                    "1950-02-01T00:00:00",
                    "1950-03-01T00:00:00",
                    "1950-04-01T00:00:00",
                    "1950-05-01T00:00:00",
                    "1950-06-01T00:00:00",
                    "1950-07-01T00:00:00",
                    "1950-08-01T00:00:00",
                    "1950-09-01T00:00:00",
                    "1950-10-01T00:00:00",
                    "1950-11-01T00:00:00",
                    "1950-12-01T00:00:00",
                    "1951-01-01T00:00:00",
                    "1951-02-01T00:00:00",
                    "1951-03-01T00:00:00",
                    "1951-04-01T00:00:00",
                    "1951-05-01T00:00:00",
                    "1951-06-01T00:00:00",
                    "1951-07-01T00:00:00",
                    "1951-08-01T00:00:00",
                    "1951-09-01T00:00:00",
                    "1951-10-01T00:00:00",
                    "1951-11-01T00:00:00",
                    "1951-12-01T00:00:00",
                    "1952-01-01T00:00:00",
                    "1952-02-01T00:00:00",
                    "1952-03-01T00:00:00",
                    "1952-04-01T00:00:00",
                    "1952-05-01T00:00:00",
                    "1952-06-01T00:00:00",
                    "1952-07-01T00:00:00",
                    "1952-08-01T00:00:00",
                    "1952-09-01T00:00:00",
                    "1952-10-01T00:00:00",
                    "1952-11-01T00:00:00",
                    "1952-12-01T00:00:00",
                    "1953-01-01T00:00:00",
                    "1953-02-01T00:00:00",
                    "1953-03-01T00:00:00",
                    "1953-04-01T00:00:00",
                    "1953-05-01T00:00:00",
                    "1953-06-01T00:00:00",
                    "1953-07-01T00:00:00",
                    "1953-08-01T00:00:00",
                    "1953-09-01T00:00:00",
                    "1953-10-01T00:00:00",
                    "1953-11-01T00:00:00",
                    "1953-12-01T00:00:00",
                    "1954-01-01T00:00:00",
                    "1954-02-01T00:00:00",
                    "1954-03-01T00:00:00",
                    "1954-04-01T00:00:00",
                    "1954-05-01T00:00:00",
                    "1954-06-01T00:00:00",
                    "1954-07-01T00:00:00",
                    "1954-08-01T00:00:00",
                    "1954-09-01T00:00:00",
                    "1954-10-01T00:00:00",
                    "1954-11-01T00:00:00",
                    "1954-12-01T00:00:00",
                    "1955-01-01T00:00:00",
                    "1955-02-01T00:00:00",
                    "1955-03-01T00:00:00",
                    "1955-04-01T00:00:00",
                    "1955-05-01T00:00:00",
                    "1955-06-01T00:00:00",
                    "1955-07-01T00:00:00",
                    "1955-08-01T00:00:00",
                    "1955-09-01T00:00:00",
                    "1955-10-01T00:00:00",
                    "1955-11-01T00:00:00",
                    "1955-12-01T00:00:00",
                    "1956-01-01T00:00:00",
                    "1956-02-01T00:00:00",
                    "1956-03-01T00:00:00",
                    "1956-04-01T00:00:00",
                    "1956-05-01T00:00:00",
                    "1956-06-01T00:00:00",
                    "1956-07-01T00:00:00",
                    "1956-08-01T00:00:00",
                    "1956-09-01T00:00:00",
                    "1956-10-01T00:00:00",
                    "1956-11-01T00:00:00",
                    "1956-12-01T00:00:00",
                    "1957-01-01T00:00:00",
                    "1957-02-01T00:00:00",
                    "1957-03-01T00:00:00",
                    "1957-04-01T00:00:00",
                    "1957-05-01T00:00:00",
                    "1957-06-01T00:00:00",
                    "1957-07-01T00:00:00",
                    "1957-08-01T00:00:00",
                    "1957-09-01T00:00:00",
                    "1957-10-01T00:00:00",
                    "1957-11-01T00:00:00",
                    "1957-12-01T00:00:00",
                    "1958-01-01T00:00:00",
                    "1958-02-01T00:00:00",
                    "1958-03-01T00:00:00",
                    "1958-04-01T00:00:00",
                    "1958-05-01T00:00:00",
                    "1958-06-01T00:00:00",
                    "1958-07-01T00:00:00"
                  ],
                  "y": [
                    110.6417437978123,
                    110.3306119802159,
                    127.45533068284992,
                    123.37976000586227,
                    123.50236808934932,
                    141.2762415321397,
                    157.20230250945716,
                    157.47068962083847,
                    140.49159578239363,
                    123.05039056654991,
                    108.01857781942724,
                    123.2769674944102,
                    125.95861733153481,
                    125.60441346410568,
                    145.09982103755257,
                    140.46004196602595,
                    140.59962350315286,
                    160.83405263119258,
                    178.9648643066344,
                    179.27040603346197,
                    159.940783144102,
                    140.08507572143333,
                    122.97230901491687,
                    140.34301920255433,
                    143.39590768801418,
                    142.99266902000863,
                    165.18695571485242,
                    159.9048611227674,
                    160.06376586177464,
                    183.0993817873366,
                    203.74016248499456,
                    204.08800238815624,
                    182.08245105544225,
                    159.47798580343752,
                    139.99618482053816,
                    159.77163811870722,
                    163.24715829126154,
                    162.78809660863456,
                    188.05488623778984,
                    182.04155610943207,
                    182.2224590898603,
                    208.4470487588948,
                    231.94527020839993,
                    232.34126390617703,
                    207.28933753242103,
                    181.55558559640414,
                    159.37678914306537,
                    181.88989015757562,
                    185.8465497366472,
                    185.3239370876705,
                    214.08857669702982,
                    207.24278122665004,
                    207.44872781158034,
                    237.30376209985704,
                    264.0549988567422,
                    264.505812599656,
                    235.9857811972575,
                    206.68953457865112,
                    181.44037960830673,
                    207.0701191468925,
                    211.57452546520003,
                    210.9795640663147,
                    243.72628432639834,
                    235.93277979198615,
                    236.16723693439485,
                    270.1553024714754,
                    300.60989111175684,
                    301.1231140037895,
                    268.65486469399264,
                    235.30294352555296,
                    206.55837985828083,
                    235.73621495049568,
                    240.86419623747054,
                    240.18687036934088,
                    277.4669372276531,
                    268.5945259511687,
                    268.86144055742494,
                    307.5547003875263,
                    342.22532057894756,
                    342.80959233429417,
                    305.84654701469896,
                    267.87749725528914,
                    235.1536321836736,
                    268.370749329432,
                    274.2086312213668,
                    273.437538621919,
                    315.878533442836,
                    305.77785517781405,
                    306.08172055082434,
                    350.1315460593206,
                    389.6018511307828,
                    390.26700751681926,
                    348.1869216377758,
                    304.9615634237265,
                    267.70751574985115,
                    305.5230996678447,
                    312.16915843384436,
                    311.2913183499196,
                    359.6077027661533,
                    348.1087203323821,
                    348.45465181290257,
                    398.6025880645656,
                    443.53703036276795,
                    444.2942687776604,
                    396.3887563319916,
                    347.1794238737882,
                    304.76805024631284,
                    347.8186973203449,
                    355.3848142680241,
                    354.3854489343451,
                    409.3905922611628,
                    396.2997290990254,
                    396.6935501785033,
                    453.7837992605533,
                    504.9388156961955
                  ]
                },
                {
                  "line": {
                    "color": "orange"
                  },
                  "mode": "lines",
                  "name": "Fitted Model (Test)",
                  "type": "scatter",
                  "x": [
                    "1958-08-01T00:00:00",
                    "1958-09-01T00:00:00",
                    "1958-10-01T00:00:00",
                    "1958-11-01T00:00:00",
                    "1958-12-01T00:00:00",
                    "1959-01-01T00:00:00",
                    "1959-02-01T00:00:00",
                    "1959-03-01T00:00:00",
                    "1959-04-01T00:00:00",
                    "1959-05-01T00:00:00",
                    "1959-06-01T00:00:00",
                    "1959-07-01T00:00:00",
                    "1959-08-01T00:00:00",
                    "1959-09-01T00:00:00",
                    "1959-10-01T00:00:00",
                    "1959-11-01T00:00:00",
                    "1959-12-01T00:00:00",
                    "1960-01-01T00:00:00",
                    "1960-02-01T00:00:00",
                    "1960-03-01T00:00:00",
                    "1960-04-01T00:00:00",
                    "1960-05-01T00:00:00",
                    "1960-06-01T00:00:00",
                    "1960-07-01T00:00:00",
                    "1960-08-01T00:00:00",
                    "1960-09-01T00:00:00",
                    "1960-10-01T00:00:00",
                    "1960-11-01T00:00:00",
                    "1960-12-01T00:00:00"
                  ],
                  "y": [
                    505.80088366851953,
                    451.2634920558036,
                    395.24178394200146,
                    346.959121378312,
                    395.9695562697062,
                    404.58310118128963,
                    403.4453870481022,
                    466.065258732607,
                    451.1621401900032,
                    451.6104805445961,
                    516.6041130620739,
                    574.8408591457237,
                    575.8222689293414,
                    513.7349029442264,
                    449.9577366383487,
                    394.9909835047309,
                    450.7862593367744,
                    460.5922346417983,
                    459.2970191633008,
                    530.585776770665,
                    513.6195202645796,
                    514.1299273606721,
                    588.1210613237757,
                    654.4199080591364,
                    655.5371809358734,
                    584.85464733867,
                    512.2483831072259,
                    449.6722162260672,
                    513.1916037212484
                  ]
                },
                {
                  "line": {
                    "color": "green"
                  },
                  "mode": "lines",
                  "name": "Forecasted Passengers (Next 5 Years)",
                  "type": "scatter",
                  "x": [
                    "1961-01-01T00:00:00",
                    "1961-02-01T00:00:00",
                    "1961-03-01T00:00:00",
                    "1961-04-01T00:00:00",
                    "1961-05-01T00:00:00",
                    "1961-06-01T00:00:00",
                    "1961-07-01T00:00:00",
                    "1961-08-01T00:00:00",
                    "1961-09-01T00:00:00",
                    "1961-10-01T00:00:00",
                    "1961-11-01T00:00:00",
                    "1961-12-01T00:00:00",
                    "1962-01-01T00:00:00",
                    "1962-02-01T00:00:00",
                    "1962-03-01T00:00:00",
                    "1962-04-01T00:00:00",
                    "1962-05-01T00:00:00",
                    "1962-06-01T00:00:00",
                    "1962-07-01T00:00:00",
                    "1962-08-01T00:00:00",
                    "1962-09-01T00:00:00",
                    "1962-10-01T00:00:00",
                    "1962-11-01T00:00:00",
                    "1962-12-01T00:00:00",
                    "1963-01-01T00:00:00",
                    "1963-02-01T00:00:00",
                    "1963-03-01T00:00:00",
                    "1963-04-01T00:00:00",
                    "1963-05-01T00:00:00",
                    "1963-06-01T00:00:00",
                    "1963-07-01T00:00:00",
                    "1963-08-01T00:00:00",
                    "1963-09-01T00:00:00",
                    "1963-10-01T00:00:00",
                    "1963-11-01T00:00:00",
                    "1963-12-01T00:00:00",
                    "1964-01-01T00:00:00",
                    "1964-02-01T00:00:00",
                    "1964-03-01T00:00:00",
                    "1964-04-01T00:00:00",
                    "1964-05-01T00:00:00",
                    "1964-06-01T00:00:00",
                    "1964-07-01T00:00:00",
                    "1964-08-01T00:00:00",
                    "1964-09-01T00:00:00",
                    "1964-10-01T00:00:00",
                    "1964-11-01T00:00:00",
                    "1964-12-01T00:00:00",
                    "1965-01-01T00:00:00",
                    "1965-02-01T00:00:00",
                    "1965-03-01T00:00:00",
                    "1965-04-01T00:00:00",
                    "1965-05-01T00:00:00",
                    "1965-06-01T00:00:00",
                    "1965-07-01T00:00:00",
                    "1965-08-01T00:00:00",
                    "1965-09-01T00:00:00",
                    "1965-10-01T00:00:00",
                    "1965-11-01T00:00:00",
                    "1965-12-01T00:00:00"
                  ],
                  "y": [
                    524.3550855013715,
                    522.880564717281,
                    604.0382998657402,
                    584.7232914661624,
                    585.3043576161812,
                    669.5385770787385,
                    745.0156147574097,
                    746.2875591601751,
                    665.8199716494149,
                    583.1623386595271,
                    511.92333620253606,
                    584.2361355855587,
                    596.9450525039304,
                    595.2664039865131,
                    687.6593449703388,
                    665.6704313085685,
                    666.3319383159804,
                    762.2272618287193,
                    848.153088555191,
                    849.6011166935369,
                    757.9938650816915,
                    663.8933854080369,
                    582.792293346816,
                    665.115835194665,
                    679.5841321309891,
                    677.6730971185087,
                    782.8566083146409,
                    757.8236228754341,
                    758.576706703912,
                    867.7474585703847,
                    965.5685698076917,
                    967.2170581259571,
                    862.9280045147259,
                    755.8005686747098,
                    663.4721122579655,
                    757.1922503275432,
                    773.6634899762217,
                    771.4878976583337,
                    891.2326628940644,
                    862.7341945459428,
                    863.5915327847829,
                    987.8755189742419,
                    1099.238658186886,
                    1101.115357722961,
                    982.3888757932291,
                    860.4310754774685,
                    755.3209758765443,
                    862.01541689093,
                    880.7668799524243,
                    878.290105899232,
                    1014.6119365578708,
                    982.1682354195768,
                    983.1442607012028,
                    1124.633706904104,
                    1251.4135872226689,
                    1253.5500907754574,
                    1118.387511163239,
                    979.5462802383115,
                    859.8850894538798,
                    981.3499525862951
                  ]
                }
              ],
              "layout": {
                "template": {
                  "data": {
                    "bar": [
                      {
                        "error_x": {
                          "color": "#2a3f5f"
                        },
                        "error_y": {
                          "color": "#2a3f5f"
                        },
                        "marker": {
                          "line": {
                            "color": "white",
                            "width": 0.5
                          },
                          "pattern": {
                            "fillmode": "overlay",
                            "size": 10,
                            "solidity": 0.2
                          }
                        },
                        "type": "bar"
                      }
                    ],
                    "barpolar": [
                      {
                        "marker": {
                          "line": {
                            "color": "white",
                            "width": 0.5
                          },
                          "pattern": {
                            "fillmode": "overlay",
                            "size": 10,
                            "solidity": 0.2
                          }
                        },
                        "type": "barpolar"
                      }
                    ],
                    "carpet": [
                      {
                        "aaxis": {
                          "endlinecolor": "#2a3f5f",
                          "gridcolor": "#C8D4E3",
                          "linecolor": "#C8D4E3",
                          "minorgridcolor": "#C8D4E3",
                          "startlinecolor": "#2a3f5f"
                        },
                        "baxis": {
                          "endlinecolor": "#2a3f5f",
                          "gridcolor": "#C8D4E3",
                          "linecolor": "#C8D4E3",
                          "minorgridcolor": "#C8D4E3",
                          "startlinecolor": "#2a3f5f"
                        },
                        "type": "carpet"
                      }
                    ],
                    "choropleth": [
                      {
                        "colorbar": {
                          "outlinewidth": 0,
                          "ticks": ""
                        },
                        "type": "choropleth"
                      }
                    ],
                    "contour": [
                      {
                        "colorbar": {
                          "outlinewidth": 0,
                          "ticks": ""
                        },
                        "colorscale": [
                          [
                            0,
                            "#0d0887"
                          ],
                          [
                            0.1111111111111111,
                            "#46039f"
                          ],
                          [
                            0.2222222222222222,
                            "#7201a8"
                          ],
                          [
                            0.3333333333333333,
                            "#9c179e"
                          ],
                          [
                            0.4444444444444444,
                            "#bd3786"
                          ],
                          [
                            0.5555555555555556,
                            "#d8576b"
                          ],
                          [
                            0.6666666666666666,
                            "#ed7953"
                          ],
                          [
                            0.7777777777777778,
                            "#fb9f3a"
                          ],
                          [
                            0.8888888888888888,
                            "#fdca26"
                          ],
                          [
                            1,
                            "#f0f921"
                          ]
                        ],
                        "type": "contour"
                      }
                    ],
                    "contourcarpet": [
                      {
                        "colorbar": {
                          "outlinewidth": 0,
                          "ticks": ""
                        },
                        "type": "contourcarpet"
                      }
                    ],
                    "heatmap": [
                      {
                        "colorbar": {
                          "outlinewidth": 0,
                          "ticks": ""
                        },
                        "colorscale": [
                          [
                            0,
                            "#0d0887"
                          ],
                          [
                            0.1111111111111111,
                            "#46039f"
                          ],
                          [
                            0.2222222222222222,
                            "#7201a8"
                          ],
                          [
                            0.3333333333333333,
                            "#9c179e"
                          ],
                          [
                            0.4444444444444444,
                            "#bd3786"
                          ],
                          [
                            0.5555555555555556,
                            "#d8576b"
                          ],
                          [
                            0.6666666666666666,
                            "#ed7953"
                          ],
                          [
                            0.7777777777777778,
                            "#fb9f3a"
                          ],
                          [
                            0.8888888888888888,
                            "#fdca26"
                          ],
                          [
                            1,
                            "#f0f921"
                          ]
                        ],
                        "type": "heatmap"
                      }
                    ],
                    "heatmapgl": [
                      {
                        "colorbar": {
                          "outlinewidth": 0,
                          "ticks": ""
                        },
                        "colorscale": [
                          [
                            0,
                            "#0d0887"
                          ],
                          [
                            0.1111111111111111,
                            "#46039f"
                          ],
                          [
                            0.2222222222222222,
                            "#7201a8"
                          ],
                          [
                            0.3333333333333333,
                            "#9c179e"
                          ],
                          [
                            0.4444444444444444,
                            "#bd3786"
                          ],
                          [
                            0.5555555555555556,
                            "#d8576b"
                          ],
                          [
                            0.6666666666666666,
                            "#ed7953"
                          ],
                          [
                            0.7777777777777778,
                            "#fb9f3a"
                          ],
                          [
                            0.8888888888888888,
                            "#fdca26"
                          ],
                          [
                            1,
                            "#f0f921"
                          ]
                        ],
                        "type": "heatmapgl"
                      }
                    ],
                    "histogram": [
                      {
                        "marker": {
                          "pattern": {
                            "fillmode": "overlay",
                            "size": 10,
                            "solidity": 0.2
                          }
                        },
                        "type": "histogram"
                      }
                    ],
                    "histogram2d": [
                      {
                        "colorbar": {
                          "outlinewidth": 0,
                          "ticks": ""
                        },
                        "colorscale": [
                          [
                            0,
                            "#0d0887"
                          ],
                          [
                            0.1111111111111111,
                            "#46039f"
                          ],
                          [
                            0.2222222222222222,
                            "#7201a8"
                          ],
                          [
                            0.3333333333333333,
                            "#9c179e"
                          ],
                          [
                            0.4444444444444444,
                            "#bd3786"
                          ],
                          [
                            0.5555555555555556,
                            "#d8576b"
                          ],
                          [
                            0.6666666666666666,
                            "#ed7953"
                          ],
                          [
                            0.7777777777777778,
                            "#fb9f3a"
                          ],
                          [
                            0.8888888888888888,
                            "#fdca26"
                          ],
                          [
                            1,
                            "#f0f921"
                          ]
                        ],
                        "type": "histogram2d"
                      }
                    ],
                    "histogram2dcontour": [
                      {
                        "colorbar": {
                          "outlinewidth": 0,
                          "ticks": ""
                        },
                        "colorscale": [
                          [
                            0,
                            "#0d0887"
                          ],
                          [
                            0.1111111111111111,
                            "#46039f"
                          ],
                          [
                            0.2222222222222222,
                            "#7201a8"
                          ],
                          [
                            0.3333333333333333,
                            "#9c179e"
                          ],
                          [
                            0.4444444444444444,
                            "#bd3786"
                          ],
                          [
                            0.5555555555555556,
                            "#d8576b"
                          ],
                          [
                            0.6666666666666666,
                            "#ed7953"
                          ],
                          [
                            0.7777777777777778,
                            "#fb9f3a"
                          ],
                          [
                            0.8888888888888888,
                            "#fdca26"
                          ],
                          [
                            1,
                            "#f0f921"
                          ]
                        ],
                        "type": "histogram2dcontour"
                      }
                    ],
                    "mesh3d": [
                      {
                        "colorbar": {
                          "outlinewidth": 0,
                          "ticks": ""
                        },
                        "type": "mesh3d"
                      }
                    ],
                    "parcoords": [
                      {
                        "line": {
                          "colorbar": {
                            "outlinewidth": 0,
                            "ticks": ""
                          }
                        },
                        "type": "parcoords"
                      }
                    ],
                    "pie": [
                      {
                        "automargin": true,
                        "type": "pie"
                      }
                    ],
                    "scatter": [
                      {
                        "fillpattern": {
                          "fillmode": "overlay",
                          "size": 10,
                          "solidity": 0.2
                        },
                        "type": "scatter"
                      }
                    ],
                    "scatter3d": [
                      {
                        "line": {
                          "colorbar": {
                            "outlinewidth": 0,
                            "ticks": ""
                          }
                        },
                        "marker": {
                          "colorbar": {
                            "outlinewidth": 0,
                            "ticks": ""
                          }
                        },
                        "type": "scatter3d"
                      }
                    ],
                    "scattercarpet": [
                      {
                        "marker": {
                          "colorbar": {
                            "outlinewidth": 0,
                            "ticks": ""
                          }
                        },
                        "type": "scattercarpet"
                      }
                    ],
                    "scattergeo": [
                      {
                        "marker": {
                          "colorbar": {
                            "outlinewidth": 0,
                            "ticks": ""
                          }
                        },
                        "type": "scattergeo"
                      }
                    ],
                    "scattergl": [
                      {
                        "marker": {
                          "colorbar": {
                            "outlinewidth": 0,
                            "ticks": ""
                          }
                        },
                        "type": "scattergl"
                      }
                    ],
                    "scattermapbox": [
                      {
                        "marker": {
                          "colorbar": {
                            "outlinewidth": 0,
                            "ticks": ""
                          }
                        },
                        "type": "scattermapbox"
                      }
                    ],
                    "scatterpolar": [
                      {
                        "marker": {
                          "colorbar": {
                            "outlinewidth": 0,
                            "ticks": ""
                          }
                        },
                        "type": "scatterpolar"
                      }
                    ],
                    "scatterpolargl": [
                      {
                        "marker": {
                          "colorbar": {
                            "outlinewidth": 0,
                            "ticks": ""
                          }
                        },
                        "type": "scatterpolargl"
                      }
                    ],
                    "scatterternary": [
                      {
                        "marker": {
                          "colorbar": {
                            "outlinewidth": 0,
                            "ticks": ""
                          }
                        },
                        "type": "scatterternary"
                      }
                    ],
                    "surface": [
                      {
                        "colorbar": {
                          "outlinewidth": 0,
                          "ticks": ""
                        },
                        "colorscale": [
                          [
                            0,
                            "#0d0887"
                          ],
                          [
                            0.1111111111111111,
                            "#46039f"
                          ],
                          [
                            0.2222222222222222,
                            "#7201a8"
                          ],
                          [
                            0.3333333333333333,
                            "#9c179e"
                          ],
                          [
                            0.4444444444444444,
                            "#bd3786"
                          ],
                          [
                            0.5555555555555556,
                            "#d8576b"
                          ],
                          [
                            0.6666666666666666,
                            "#ed7953"
                          ],
                          [
                            0.7777777777777778,
                            "#fb9f3a"
                          ],
                          [
                            0.8888888888888888,
                            "#fdca26"
                          ],
                          [
                            1,
                            "#f0f921"
                          ]
                        ],
                        "type": "surface"
                      }
                    ],
                    "table": [
                      {
                        "cells": {
                          "fill": {
                            "color": "#EBF0F8"
                          },
                          "line": {
                            "color": "white"
                          }
                        },
                        "header": {
                          "fill": {
                            "color": "#C8D4E3"
                          },
                          "line": {
                            "color": "white"
                          }
                        },
                        "type": "table"
                      }
                    ]
                  },
                  "layout": {
                    "annotationdefaults": {
                      "arrowcolor": "#2a3f5f",
                      "arrowhead": 0,
                      "arrowwidth": 1
                    },
                    "autotypenumbers": "strict",
                    "coloraxis": {
                      "colorbar": {
                        "outlinewidth": 0,
                        "ticks": ""
                      }
                    },
                    "colorscale": {
                      "diverging": [
                        [
                          0,
                          "#8e0152"
                        ],
                        [
                          0.1,
                          "#c51b7d"
                        ],
                        [
                          0.2,
                          "#de77ae"
                        ],
                        [
                          0.3,
                          "#f1b6da"
                        ],
                        [
                          0.4,
                          "#fde0ef"
                        ],
                        [
                          0.5,
                          "#f7f7f7"
                        ],
                        [
                          0.6,
                          "#e6f5d0"
                        ],
                        [
                          0.7,
                          "#b8e186"
                        ],
                        [
                          0.8,
                          "#7fbc41"
                        ],
                        [
                          0.9,
                          "#4d9221"
                        ],
                        [
                          1,
                          "#276419"
                        ]
                      ],
                      "sequential": [
                        [
                          0,
                          "#0d0887"
                        ],
                        [
                          0.1111111111111111,
                          "#46039f"
                        ],
                        [
                          0.2222222222222222,
                          "#7201a8"
                        ],
                        [
                          0.3333333333333333,
                          "#9c179e"
                        ],
                        [
                          0.4444444444444444,
                          "#bd3786"
                        ],
                        [
                          0.5555555555555556,
                          "#d8576b"
                        ],
                        [
                          0.6666666666666666,
                          "#ed7953"
                        ],
                        [
                          0.7777777777777778,
                          "#fb9f3a"
                        ],
                        [
                          0.8888888888888888,
                          "#fdca26"
                        ],
                        [
                          1,
                          "#f0f921"
                        ]
                      ],
                      "sequentialminus": [
                        [
                          0,
                          "#0d0887"
                        ],
                        [
                          0.1111111111111111,
                          "#46039f"
                        ],
                        [
                          0.2222222222222222,
                          "#7201a8"
                        ],
                        [
                          0.3333333333333333,
                          "#9c179e"
                        ],
                        [
                          0.4444444444444444,
                          "#bd3786"
                        ],
                        [
                          0.5555555555555556,
                          "#d8576b"
                        ],
                        [
                          0.6666666666666666,
                          "#ed7953"
                        ],
                        [
                          0.7777777777777778,
                          "#fb9f3a"
                        ],
                        [
                          0.8888888888888888,
                          "#fdca26"
                        ],
                        [
                          1,
                          "#f0f921"
                        ]
                      ]
                    },
                    "colorway": [
                      "#636efa",
                      "#EF553B",
                      "#00cc96",
                      "#ab63fa",
                      "#FFA15A",
                      "#19d3f3",
                      "#FF6692",
                      "#B6E880",
                      "#FF97FF",
                      "#FECB52"
                    ],
                    "font": {
                      "color": "#2a3f5f"
                    },
                    "geo": {
                      "bgcolor": "white",
                      "lakecolor": "white",
                      "landcolor": "white",
                      "showlakes": true,
                      "showland": true,
                      "subunitcolor": "#C8D4E3"
                    },
                    "hoverlabel": {
                      "align": "left"
                    },
                    "hovermode": "closest",
                    "mapbox": {
                      "style": "light"
                    },
                    "paper_bgcolor": "white",
                    "plot_bgcolor": "white",
                    "polar": {
                      "angularaxis": {
                        "gridcolor": "#EBF0F8",
                        "linecolor": "#EBF0F8",
                        "ticks": ""
                      },
                      "bgcolor": "white",
                      "radialaxis": {
                        "gridcolor": "#EBF0F8",
                        "linecolor": "#EBF0F8",
                        "ticks": ""
                      }
                    },
                    "scene": {
                      "xaxis": {
                        "backgroundcolor": "white",
                        "gridcolor": "#DFE8F3",
                        "gridwidth": 2,
                        "linecolor": "#EBF0F8",
                        "showbackground": true,
                        "ticks": "",
                        "zerolinecolor": "#EBF0F8"
                      },
                      "yaxis": {
                        "backgroundcolor": "white",
                        "gridcolor": "#DFE8F3",
                        "gridwidth": 2,
                        "linecolor": "#EBF0F8",
                        "showbackground": true,
                        "ticks": "",
                        "zerolinecolor": "#EBF0F8"
                      },
                      "zaxis": {
                        "backgroundcolor": "white",
                        "gridcolor": "#DFE8F3",
                        "gridwidth": 2,
                        "linecolor": "#EBF0F8",
                        "showbackground": true,
                        "ticks": "",
                        "zerolinecolor": "#EBF0F8"
                      }
                    },
                    "shapedefaults": {
                      "line": {
                        "color": "#2a3f5f"
                      }
                    },
                    "ternary": {
                      "aaxis": {
                        "gridcolor": "#DFE8F3",
                        "linecolor": "#A2B1C6",
                        "ticks": ""
                      },
                      "baxis": {
                        "gridcolor": "#DFE8F3",
                        "linecolor": "#A2B1C6",
                        "ticks": ""
                      },
                      "bgcolor": "white",
                      "caxis": {
                        "gridcolor": "#DFE8F3",
                        "linecolor": "#A2B1C6",
                        "ticks": ""
                      }
                    },
                    "title": {
                      "x": 0.05
                    },
                    "xaxis": {
                      "automargin": true,
                      "gridcolor": "#EBF0F8",
                      "linecolor": "#EBF0F8",
                      "ticks": "",
                      "title": {
                        "standoff": 15
                      },
                      "zerolinecolor": "#EBF0F8",
                      "zerolinewidth": 2
                    },
                    "yaxis": {
                      "automargin": true,
                      "gridcolor": "#EBF0F8",
                      "linecolor": "#EBF0F8",
                      "ticks": "",
                      "title": {
                        "standoff": 15
                      },
                      "zerolinecolor": "#EBF0F8",
                      "zerolinewidth": 2
                    }
                  }
                },
                "title": {
                  "text": "Air Passengers: Historical Data and 5-Year Forecast"
                },
                "xaxis": {
                  "title": {
                    "text": "Date"
                  }
                },
                "yaxis": {
                  "title": {
                    "text": "Number of Passengers"
                  }
                }
              }
            }
          },
          "metadata": {},
          "output_type": "display_data"
        }
      ],
      "source": [
        "fig = go.Figure()\n",
        "\n",
        "# Plot actual data\n",
        "fig.add_trace(go.Scatter(\n",
        "    x=df.index,\n",
        "    y=df['passengers'],\n",
        "    mode='lines+markers',\n",
        "    name='Actual Passengers',\n",
        "))\n",
        "\n",
        "# Plot fitted model for training data\n",
        "fig.add_trace(go.Scatter(\n",
        "    x=train.index,\n",
        "    y=train['fitted_original_scale'],\n",
        "    mode='lines',\n",
        "    name='Fitted Model (Train)',\n",
        "    line=dict(color='red')\n",
        "))\n",
        "\n",
        "# Plot fitted model for test data\n",
        "fig.add_trace(go.Scatter(\n",
        "    x=test.index,\n",
        "    y=test['fitted_original_scale'],\n",
        "    mode='lines',\n",
        "    name='Fitted Model (Test)',\n",
        "    line=dict(color='orange')\n",
        "))\n",
        "\n",
        "# Plot future predictions\n",
        "fig.add_trace(go.Scatter(\n",
        "    x=future_df.index,\n",
        "    y=future_df['predicted_passengers'],\n",
        "    mode='lines',\n",
        "    name='Forecasted Passengers (Next 5 Years)',\n",
        "    line=dict(color='green') #, dash='dash')\n",
        "))\n",
        "\n",
        "# Customize layout\n",
        "fig.update_layout(\n",
        "    title='Air Passengers: Historical Data and 5-Year Forecast',\n",
        "    xaxis_title='Date',\n",
        "    yaxis_title='Number of Passengers',\n",
        "    template='plotly_white'\n",
        ")\n",
        "\n",
        "fig.show()"
      ]
    }
  ],
  "metadata": {
    "colab": {
      "provenance": []
    },
    "kernelspec": {
      "display_name": "Python 3",
      "name": "python3"
    },
    "language_info": {
      "codemirror_mode": {
        "name": "ipython",
        "version": 3
      },
      "file_extension": ".py",
      "mimetype": "text/x-python",
      "name": "python",
      "nbconvert_exporter": "python",
      "pygments_lexer": "ipython3",
      "version": "3.11.5"
    }
  },
  "nbformat": 4,
  "nbformat_minor": 0
}
