{
 "cells": [
  {
   "cell_type": "markdown",
   "metadata": {
    "nbgrader": {
     "grade": false,
     "grade_id": "cell-26090d854d8d09fe",
     "locked": true,
     "schema_version": 3,
     "solution": false,
     "task": false
    }
   },
   "source": [
    "### Required Codio Assignment 23.1: Translating Data into Text\n",
    "\n",
    "**Expected Time = 60 minutes**\n",
    "\n",
    "**Total Points = 20**\n",
    "\n",
    "In this assignment, you will generate a narrative from a dataframe without explicitly crafting a prompt. You will utilize the `pandas` library to convert the dataframe to a format that the `OpenAI` can interpret. Next you will use the OpenAI API to train you model to generate a narrative from the data.\n",
    "\n",
    "#### Index\n",
    "\n",
    "- [Problem 1](#-Problem-1)\n",
    "- [Problem 2](#-Problem-2)\n",
    "- [Problem 3](#-Problem-3)\n",
    "\n"
   ]
  },
  {
   "cell_type": "markdown",
   "metadata": {
    "nbgrader": {
     "grade": false,
     "grade_id": "cell-d722697a795c9a9f",
     "locked": true,
     "schema_version": 3,
     "solution": false,
     "task": false
    }
   },
   "source": [
    "## The Dataset\n",
    "\n",
    "For this assignment, you will be using a dataset that contains list of video games with global sales greater than 100,000 copies. The fields in this dataset include:\n",
    "\n",
    "- Rank: The ranking of overall sales\n",
    "- Name: The name of the video game\n",
    "- Platform: The platform of the games release (i.e. PC,PS4, etc.)\n",
    "- Year: The year of the game's release\n",
    "- Genre: The genre of the game\n",
    "- Publisher: The publisher of the game\n",
    "- NA_Sales: Sales in North America (in millions)\n",
    "- EU_Sales: Sales in Europe (in millions)\n",
    "- JP_Sales: Sales in Japan (in millions)\n",
    "- Other_Sales: Sales in the rest of the world (in millions)\n",
    "- Global_Sales: Total worldwide sales.\n",
    "\n",
    "\n",
    "Run the code cell below to import the necessary libraries and the dataset."
   ]
  },
  {
   "cell_type": "code",
   "execution_count": 1,
   "metadata": {},
   "outputs": [],
   "source": [
    "from groq import Groq\n",
    "import pandas as pd\n",
    "import openai \n",
    "from openai import OpenAI\n",
    "\n",
    "# Sample dataset to feed the program\n",
    "data = pd.read_csv('data/vgsales.csv')"
   ]
  },
  {
   "cell_type": "code",
   "execution_count": 2,
   "metadata": {},
   "outputs": [
    {
     "data": {
      "text/html": [
       "<div>\n",
       "<style scoped>\n",
       "    .dataframe tbody tr th:only-of-type {\n",
       "        vertical-align: middle;\n",
       "    }\n",
       "\n",
       "    .dataframe tbody tr th {\n",
       "        vertical-align: top;\n",
       "    }\n",
       "\n",
       "    .dataframe thead th {\n",
       "        text-align: right;\n",
       "    }\n",
       "</style>\n",
       "<table border=\"1\" class=\"dataframe\">\n",
       "  <thead>\n",
       "    <tr style=\"text-align: right;\">\n",
       "      <th></th>\n",
       "      <th>Rank</th>\n",
       "      <th>Name</th>\n",
       "      <th>Platform</th>\n",
       "      <th>Year</th>\n",
       "      <th>Genre</th>\n",
       "      <th>Publisher</th>\n",
       "      <th>NA_Sales</th>\n",
       "      <th>EU_Sales</th>\n",
       "      <th>JP_Sales</th>\n",
       "      <th>Other_Sales</th>\n",
       "      <th>Global_Sales</th>\n",
       "    </tr>\n",
       "  </thead>\n",
       "  <tbody>\n",
       "    <tr>\n",
       "      <th>0</th>\n",
       "      <td>1</td>\n",
       "      <td>Wii Sports</td>\n",
       "      <td>Wii</td>\n",
       "      <td>2006</td>\n",
       "      <td>Sports</td>\n",
       "      <td>Nintendo</td>\n",
       "      <td>41.49</td>\n",
       "      <td>29.02</td>\n",
       "      <td>3.77</td>\n",
       "      <td>8.46</td>\n",
       "      <td>82.74</td>\n",
       "    </tr>\n",
       "    <tr>\n",
       "      <th>1</th>\n",
       "      <td>2</td>\n",
       "      <td>Super Mario Bros.</td>\n",
       "      <td>NES</td>\n",
       "      <td>1985</td>\n",
       "      <td>Platform</td>\n",
       "      <td>Nintendo</td>\n",
       "      <td>29.08</td>\n",
       "      <td>3.58</td>\n",
       "      <td>6.81</td>\n",
       "      <td>0.77</td>\n",
       "      <td>40.24</td>\n",
       "    </tr>\n",
       "    <tr>\n",
       "      <th>2</th>\n",
       "      <td>3</td>\n",
       "      <td>Mario Kart Wii</td>\n",
       "      <td>Wii</td>\n",
       "      <td>2008</td>\n",
       "      <td>Racing</td>\n",
       "      <td>Nintendo</td>\n",
       "      <td>15.85</td>\n",
       "      <td>12.88</td>\n",
       "      <td>3.79</td>\n",
       "      <td>3.31</td>\n",
       "      <td>35.82</td>\n",
       "    </tr>\n",
       "    <tr>\n",
       "      <th>3</th>\n",
       "      <td>4</td>\n",
       "      <td>Wii Sports Resort</td>\n",
       "      <td>Wii</td>\n",
       "      <td>2009</td>\n",
       "      <td>Sports</td>\n",
       "      <td>Nintendo</td>\n",
       "      <td>15.75</td>\n",
       "      <td>11.01</td>\n",
       "      <td>3.28</td>\n",
       "      <td>2.96</td>\n",
       "      <td>33.00</td>\n",
       "    </tr>\n",
       "    <tr>\n",
       "      <th>4</th>\n",
       "      <td>5</td>\n",
       "      <td>Pokemon Red/Pokemon Blue</td>\n",
       "      <td>GB</td>\n",
       "      <td>1996</td>\n",
       "      <td>Role-Playing</td>\n",
       "      <td>Nintendo</td>\n",
       "      <td>11.27</td>\n",
       "      <td>8.89</td>\n",
       "      <td>10.22</td>\n",
       "      <td>1.00</td>\n",
       "      <td>31.37</td>\n",
       "    </tr>\n",
       "  </tbody>\n",
       "</table>\n",
       "</div>"
      ],
      "text/plain": [
       "   Rank                      Name Platform  Year         Genre Publisher  \\\n",
       "0     1                Wii Sports      Wii  2006        Sports  Nintendo   \n",
       "1     2         Super Mario Bros.      NES  1985      Platform  Nintendo   \n",
       "2     3            Mario Kart Wii      Wii  2008        Racing  Nintendo   \n",
       "3     4         Wii Sports Resort      Wii  2009        Sports  Nintendo   \n",
       "4     5  Pokemon Red/Pokemon Blue       GB  1996  Role-Playing  Nintendo   \n",
       "\n",
       "   NA_Sales  EU_Sales  JP_Sales  Other_Sales  Global_Sales  \n",
       "0     41.49     29.02      3.77         8.46         82.74  \n",
       "1     29.08      3.58      6.81         0.77         40.24  \n",
       "2     15.85     12.88      3.79         3.31         35.82  \n",
       "3     15.75     11.01      3.28         2.96         33.00  \n",
       "4     11.27      8.89     10.22         1.00         31.37  "
      ]
     },
     "execution_count": 2,
     "metadata": {},
     "output_type": "execute_result"
    }
   ],
   "source": [
    "data.head()"
   ]
  },
  {
   "cell_type": "markdown",
   "metadata": {
    "nbgrader": {
     "grade": false,
     "grade_id": "cell-f268f8678a486dd6",
     "locked": true,
     "schema_version": 3,
     "solution": false,
     "task": false
    }
   },
   "source": [
    "[Back to top](#-Index)\n",
    "\n",
    "### Problem 1\n",
    "\n",
    "#### Total Sale Calculation\n",
    "\n",
    "**5 Points**\n",
    "\n",
    "\n",
    "In the code cell below, use the `groupby` function on the `data` dataframe to calculate the total `Global_Sales` for each `Genre` of video games and assign the result to the dataframe `total_sales` below. Ensure to use the function `reset_index` with default arguments to reset the index of the dataframe."
   ]
  },
  {
   "cell_type": "code",
   "execution_count": 3,
   "metadata": {
    "nbgrader": {
     "grade": false,
     "grade_id": "cell-91832b44d0e10f6a",
     "locked": false,
     "schema_version": 3,
     "solution": true,
     "task": false
    }
   },
   "outputs": [
    {
     "data": {
      "text/html": [
       "<div>\n",
       "<style scoped>\n",
       "    .dataframe tbody tr th:only-of-type {\n",
       "        vertical-align: middle;\n",
       "    }\n",
       "\n",
       "    .dataframe tbody tr th {\n",
       "        vertical-align: top;\n",
       "    }\n",
       "\n",
       "    .dataframe thead th {\n",
       "        text-align: right;\n",
       "    }\n",
       "</style>\n",
       "<table border=\"1\" class=\"dataframe\">\n",
       "  <thead>\n",
       "    <tr style=\"text-align: right;\">\n",
       "      <th></th>\n",
       "      <th>Genre</th>\n",
       "      <th>Global_Sales</th>\n",
       "    </tr>\n",
       "  </thead>\n",
       "  <tbody>\n",
       "    <tr>\n",
       "      <th>0</th>\n",
       "      <td>Action</td>\n",
       "      <td>1751.18</td>\n",
       "    </tr>\n",
       "    <tr>\n",
       "      <th>1</th>\n",
       "      <td>Adventure</td>\n",
       "      <td>238.92</td>\n",
       "    </tr>\n",
       "    <tr>\n",
       "      <th>2</th>\n",
       "      <td>Fighting</td>\n",
       "      <td>448.91</td>\n",
       "    </tr>\n",
       "    <tr>\n",
       "      <th>3</th>\n",
       "      <td>Idea Factory</td>\n",
       "      <td>0.00</td>\n",
       "    </tr>\n",
       "    <tr>\n",
       "      <th>4</th>\n",
       "      <td>Misc</td>\n",
       "      <td>809.96</td>\n",
       "    </tr>\n",
       "    <tr>\n",
       "      <th>5</th>\n",
       "      <td>Platform</td>\n",
       "      <td>831.37</td>\n",
       "    </tr>\n",
       "    <tr>\n",
       "      <th>6</th>\n",
       "      <td>Puzzle</td>\n",
       "      <td>244.95</td>\n",
       "    </tr>\n",
       "    <tr>\n",
       "      <th>7</th>\n",
       "      <td>Racing</td>\n",
       "      <td>732.04</td>\n",
       "    </tr>\n",
       "    <tr>\n",
       "      <th>8</th>\n",
       "      <td>Role-Playing</td>\n",
       "      <td>927.37</td>\n",
       "    </tr>\n",
       "    <tr>\n",
       "      <th>9</th>\n",
       "      <td>Shooter</td>\n",
       "      <td>1037.37</td>\n",
       "    </tr>\n",
       "    <tr>\n",
       "      <th>10</th>\n",
       "      <td>Simulation</td>\n",
       "      <td>392.20</td>\n",
       "    </tr>\n",
       "    <tr>\n",
       "      <th>11</th>\n",
       "      <td>Sony Computer Entertainment</td>\n",
       "      <td>0.00</td>\n",
       "    </tr>\n",
       "    <tr>\n",
       "      <th>12</th>\n",
       "      <td>Sports</td>\n",
       "      <td>1330.93</td>\n",
       "    </tr>\n",
       "    <tr>\n",
       "      <th>13</th>\n",
       "      <td>Strategy</td>\n",
       "      <td>175.12</td>\n",
       "    </tr>\n",
       "  </tbody>\n",
       "</table>\n",
       "</div>"
      ],
      "text/plain": [
       "                          Genre  Global_Sales\n",
       "0                        Action       1751.18\n",
       "1                     Adventure        238.92\n",
       "2                      Fighting        448.91\n",
       "3                  Idea Factory          0.00\n",
       "4                          Misc        809.96\n",
       "5                      Platform        831.37\n",
       "6                        Puzzle        244.95\n",
       "7                        Racing        732.04\n",
       "8                  Role-Playing        927.37\n",
       "9                       Shooter       1037.37\n",
       "10                   Simulation        392.20\n",
       "11  Sony Computer Entertainment          0.00\n",
       "12                       Sports       1330.93\n",
       "13                     Strategy        175.12"
      ]
     },
     "execution_count": 3,
     "metadata": {},
     "output_type": "execute_result"
    }
   ],
   "source": [
    "### GRADED\n",
    "total_sales = ...\n",
    "\n",
    "    \n",
    "### BEGIN SOLUTION\n",
    "total_sales = data.groupby('Genre')['Global_Sales'].sum().reset_index()\n",
    "### END SOLUTION\n",
    "\n",
    "### ANSWER CHECK\n",
    "total_sales"
   ]
  },
  {
   "cell_type": "markdown",
   "metadata": {
    "nbgrader": {
     "grade": false,
     "grade_id": "cell-4685cbb817792eb1",
     "locked": true,
     "schema_version": 3,
     "solution": false,
     "task": false
    }
   },
   "source": [
    "[Back to top](#-Index)\n",
    "\n",
    "### Problem 2\n",
    "\n",
    "#### Data Preparation\n",
    "\n",
    "**5 Points**\n",
    "\n",
    "Next, you will convert the `total_sales` dataframe to a string format, which can be passed directly to the OpenAI library.\n",
    "\n",
    "In the code cell below, use the `to_string` function on the `total_sales` dataframe with argument `index` equal to `False`. Additionally, to ensure that your data is formatted correctly, use the `replace` function with argument `'\\n', ' '` to delete any newline characters.\n",
    "\n",
    "Next, define a dictionary `data_dict` with key equal to `data` and field equal to `data_string`."
   ]
  },
  {
   "cell_type": "code",
   "execution_count": 5,
   "metadata": {
    "nbgrader": {
     "grade": false,
     "grade_id": "cell-168529f9177d5100",
     "locked": false,
     "schema_version": 3,
     "solution": true,
     "task": false
    }
   },
   "outputs": [
    {
     "data": {
      "text/plain": [
       "{'data': '                      Genre  Global_Sales                      Action       1751.18                   Adventure        238.92                    Fighting        448.91                Idea Factory          0.00                        Misc        809.96                    Platform        831.37                      Puzzle        244.95                      Racing        732.04                Role-Playing        927.37                     Shooter       1037.37                  Simulation        392.20 Sony Computer Entertainment          0.00                      Sports       1330.93                    Strategy        175.12'}"
      ]
     },
     "execution_count": 5,
     "metadata": {},
     "output_type": "execute_result"
    }
   ],
   "source": [
    "### GRADED\n",
    "data_string = ...\n",
    "data_dict = ...\n",
    "\n",
    "    \n",
    "### BEGIN SOLUTION\n",
    "\n",
    "data_string = total_sales.to_string(index=False).replace('\\n', ' ')\n",
    "data_dict = {\"data\": data_string}\n",
    "### END SOLUTION\n",
    "\n",
    "### ANSWER CHECK\n",
    "data_dict"
   ]
  },
  {
   "cell_type": "markdown",
   "metadata": {
    "nbgrader": {
     "grade": false,
     "grade_id": "cell-e19c68052d83c120",
     "locked": true,
     "schema_version": 3,
     "solution": false,
     "task": false
    }
   },
   "source": [
    "[Back to top](#-Index)\n",
    "\n",
    "### Problem 3\n",
    "\n",
    "#### Obtaining Your OpenAI API Key\n",
    "\n",
    "**10 Points**\n",
    "\n",
    "To use the OpenAI library, you are required to obtain an API key. You will obtain a free API key from Groq. To access Groq and get your personal API key, follow the steps below:\n",
    "\n",
    "1. **Create an OpenAI Account:**\n",
    "Visit the [Groq website](https://console.groq.com/login) and sign up if you don't already have an account.\n",
    "2. **Log In:**\n",
    "Log in using your credentials at the Groq platform.\n",
    "3. **Navigate to the API Dashboard:**\n",
    "Once logged in, navigate to the [Groq playground](https://console.groq.com/playground). \n",
    "4. **Generate an API Key:**\n",
    "In the menu on the left, click on API Keys, and click on the Create API key button. Copy your API key and store it in a secure place. \n",
    "\n",
    "\n",
    "You can now use this API key in your applications to authenticate requests to OpenAI's API. \n",
    "\n",
    "Once you have generated your API key, in the code cell below, invoke the `Groq` function and assign to the `api_key` argument your API key as a string followed by a comma. Assign the function call to the `client` variable below."
   ]
  },
  {
   "cell_type": "code",
   "execution_count": 7,
   "metadata": {
    "nbgrader": {
     "grade": false,
     "grade_id": "cell-4f2870aa3807e715",
     "locked": false,
     "schema_version": 3,
     "solution": true,
     "task": false
    }
   },
   "outputs": [
    {
     "data": {
      "text/plain": [
       "<groq.Groq at 0x79d9e1406ee0>"
      ]
     },
     "execution_count": 7,
     "metadata": {},
     "output_type": "execute_result"
    }
   ],
   "source": [
    "### GRADED\n",
    "import os\n",
    "client = OpenAI(api_key=\"...\",)\n",
    "\n",
    "    \n",
    "### BEGIN SOLUTION\n",
    "\n",
    "client = Groq(\n",
    "    api_key=(\"your_key\"),\n",
    ")\n",
    "### END SOLUTION\n",
    "\n",
    "### ANSWER CHECK\n",
    "client"
   ]
  },
  {
   "cell_type": "markdown",
   "metadata": {
    "nbgrader": {
     "grade": false,
     "grade_id": "cell-dee3e6e2355a56ef",
     "locked": true,
     "schema_version": 3,
     "solution": false,
     "task": false
    }
   },
   "source": [
    "[Back to top](#-Index)\n",
    "\n",
    "### Problem 4\n",
    "\n",
    "#### Generating the Text Narrative from Your Data\n",
    "\n",
    "**This question is not graded**\n",
    "\n",
    "In the code cell below you will generate a narrative based on the data in the dataframe using OpenAI. \n",
    "\n",
    "Complete the code below using the instructions below:\n",
    "\n",
    "- Use the `chat.completions.create()` method on the `client` object to send a chat request and receive a response.\n",
    "- Inside the `chat.completions.create()` method, set the parameter `messages` to defines the conversation history or prompt that will be sent to the model equal to `{\"role\": \"user\", \"content\":  f\"Analyze the following data: {data_object['data']}\"}`.\n",
    "- Inside the `chat.completions.create()` method, set the parameter `model` equal to `\"llama3-8b-8192\"`.\n",
    "\n",
    "Assign this object to the `chat_completion` variable below.\n",
    "\n",
    "\n",
    "Once you are done, run the code cell to visualize the narrative.\n",
    "\n",
    "Lastly, ensure that your narrative is formatted correctly."
   ]
  },
  {
   "cell_type": "code",
   "execution_count": 9,
   "metadata": {
    "nbgrader": {
     "grade": false,
     "grade_id": "cell-41624bdbf40189a7",
     "locked": false,
     "schema_version": 3,
     "solution": true,
     "task": false
    }
   },
   "outputs": [
    {
     "data": {
      "text/plain": [
       "\"Here's an analysis of the data:  **Genre Breakdown:**  The data shows that the top 5 genres by global sales are:  1. Action (1751.18) 2. Platform (831.37) 3. Racing (732.04) 4. Role-Playing (927.37) 5. Shooter (1037.37)  These genres make up about 63% of the total global sales.  **Other Genres:**  The following genres are represented in the data but are not among the top 5 most popular:  1. Adventure (238.92) 2. Fighting (448.91) 3. Misc (809.96) 4. Puzzle (244.95) 5. Simulation (392.20) 6. Sports (1330.93) 7. Strategy (175.12)  **Publisher Representation:**  Only two publishers are represented in the data:  1. Idea Factory (0.00) 2. Sony Computer Entertainment (0.00)  It appears that neither of these publishers has significant global sales in the analyzed genres.  **Comparison of Genre and Publisher:**  The data does not show any significant overlap between genres and publishers. This could be due to various factors such as market trends, competition, or strategic decisions made by the publishers.  **Insights and Observations:**  1. The top 5 genres by global sales are action, platform, racing, role-playing, and shooter. 2. Sony Computer Entertainment and Idea Factory do not have significant global sales in the analyzed genres. 3. There is a lack of overlap between genres and publishers, suggesting that different publishers are focused on different genres.  Overall, this analysis provides an overview of the genre breakdown and publisher representation in the analyzed data.\""
      ]
     },
     "execution_count": 9,
     "metadata": {},
     "output_type": "execute_result"
    }
   ],
   "source": [
    "### GRADED\n",
    "narrative = ...\n",
    "\n",
    "    \n",
    "### BEGIN SOLUTION\n",
    "chat_completion = client.chat.completions.create(\n",
    "    messages=[\n",
    "        {\"role\": \"user\", \"content\":  f\"Analyze the following data: {data_dict['data']}\"}\n",
    "    ],\n",
    "    model=\"llama3-8b-8192\",\n",
    ")\n",
    "\n",
    "narrative = chat_completion.choices[0].message.content\n",
    "\n",
    "narrative.replace('\\n', ' ')\n",
    "### END SOLUTION"
   ]
  },
  {
   "cell_type": "code",
   "execution_count": null,
   "metadata": {},
   "outputs": [],
   "source": []
  }
 ],
 "metadata": {
  "celltoolbar": "Create Assignment",
  "kernelspec": {
   "display_name": "Python 3 (ipykernel)",
   "language": "python",
   "name": "python3"
  },
  "language_info": {
   "codemirror_mode": {
    "name": "ipython",
    "version": 3
   },
   "file_extension": ".py",
   "mimetype": "text/x-python",
   "name": "python",
   "nbconvert_exporter": "python",
   "pygments_lexer": "ipython3",
   "version": "3.9.11"
  }
 },
 "nbformat": 4,
 "nbformat_minor": 2
}
