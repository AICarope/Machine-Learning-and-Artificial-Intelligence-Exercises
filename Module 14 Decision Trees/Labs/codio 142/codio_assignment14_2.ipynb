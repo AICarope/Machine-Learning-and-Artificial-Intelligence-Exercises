{
 "cells": [
  {
   "cell_type": "markdown",
   "metadata": {
    "nbgrader": {
     "grade": false,
     "grade_id": "cell-5afcb04ad5158774",
     "locked": true,
     "schema_version": 3,
     "solution": false
    }
   },
   "source": [
    "### Required Codio Assignment 14.2: Preventing Overfitting by Limiting Growth\n",
    "\n",
    "**Expected Time = 60 minutes**\n",
    "\n",
    "**Total Points = 50**\n",
    "\n",
    "This activity focuses on using the hyperparameters in the scikit-learn model that restrict the depth of the tree.  You will compare different setting combinations of these hyperparameters to determine the best parameters using a test set for evaluating your classifier.  \n",
    "\n",
    "#### Index\n",
    "\n",
    "- [Problem 1](#-Problem-1)\n",
    "- [Problem 2](#-Problem-2)\n",
    "- [Problem 3](#-Problem-3)\n",
    "- [Problem 4](#-Problem-4)\n",
    "- [Problem 5](#-Problem-5)"
   ]
  },
  {
   "cell_type": "code",
   "execution_count": 1,
   "metadata": {},
   "outputs": [],
   "source": [
    "import pandas as pd\n",
    "import numpy as np\n",
    "import matplotlib.pyplot as plt\n",
    "import seaborn as sns\n",
    "\n",
    "from sklearn.tree import DecisionTreeClassifier, export_text, plot_tree\n",
    "from sklearn.model_selection import train_test_split, GridSearchCV"
   ]
  },
  {
   "cell_type": "markdown",
   "metadata": {
    "nbgrader": {
     "grade": false,
     "grade_id": "cell-c0cce16b64e692a7",
     "locked": true,
     "schema_version": 3,
     "solution": false
    }
   },
   "source": [
    "### The Data\n",
    "\n",
    "For this exercise, you will use the credit card default dataset.  Again, the goal is to predict credit card default.  Below, the data is loaded, cleaned, and split for you."
   ]
  },
  {
   "cell_type": "code",
   "execution_count": 2,
   "metadata": {},
   "outputs": [
    {
     "data": {
      "text/html": [
       "<div>\n",
       "<style scoped>\n",
       "    .dataframe tbody tr th:only-of-type {\n",
       "        vertical-align: middle;\n",
       "    }\n",
       "\n",
       "    .dataframe tbody tr th {\n",
       "        vertical-align: top;\n",
       "    }\n",
       "\n",
       "    .dataframe thead th {\n",
       "        text-align: right;\n",
       "    }\n",
       "</style>\n",
       "<table border=\"1\" class=\"dataframe\">\n",
       "  <thead>\n",
       "    <tr style=\"text-align: right;\">\n",
       "      <th></th>\n",
       "      <th>ID</th>\n",
       "      <th>LIMIT_BAL</th>\n",
       "      <th>SEX</th>\n",
       "      <th>EDUCATION</th>\n",
       "      <th>MARRIAGE</th>\n",
       "      <th>AGE</th>\n",
       "      <th>PAY_0</th>\n",
       "      <th>PAY_2</th>\n",
       "      <th>PAY_3</th>\n",
       "      <th>PAY_4</th>\n",
       "      <th>...</th>\n",
       "      <th>BILL_AMT4</th>\n",
       "      <th>BILL_AMT5</th>\n",
       "      <th>BILL_AMT6</th>\n",
       "      <th>PAY_AMT1</th>\n",
       "      <th>PAY_AMT2</th>\n",
       "      <th>PAY_AMT3</th>\n",
       "      <th>PAY_AMT4</th>\n",
       "      <th>PAY_AMT5</th>\n",
       "      <th>PAY_AMT6</th>\n",
       "      <th>default payment next month</th>\n",
       "    </tr>\n",
       "  </thead>\n",
       "  <tbody>\n",
       "    <tr>\n",
       "      <th>0</th>\n",
       "      <td>1</td>\n",
       "      <td>20000</td>\n",
       "      <td>2</td>\n",
       "      <td>2</td>\n",
       "      <td>1</td>\n",
       "      <td>24</td>\n",
       "      <td>2</td>\n",
       "      <td>2</td>\n",
       "      <td>-1</td>\n",
       "      <td>-1</td>\n",
       "      <td>...</td>\n",
       "      <td>0</td>\n",
       "      <td>0</td>\n",
       "      <td>0</td>\n",
       "      <td>0</td>\n",
       "      <td>689</td>\n",
       "      <td>0</td>\n",
       "      <td>0</td>\n",
       "      <td>0</td>\n",
       "      <td>0</td>\n",
       "      <td>1</td>\n",
       "    </tr>\n",
       "    <tr>\n",
       "      <th>1</th>\n",
       "      <td>2</td>\n",
       "      <td>120000</td>\n",
       "      <td>2</td>\n",
       "      <td>2</td>\n",
       "      <td>2</td>\n",
       "      <td>26</td>\n",
       "      <td>-1</td>\n",
       "      <td>2</td>\n",
       "      <td>0</td>\n",
       "      <td>0</td>\n",
       "      <td>...</td>\n",
       "      <td>3272</td>\n",
       "      <td>3455</td>\n",
       "      <td>3261</td>\n",
       "      <td>0</td>\n",
       "      <td>1000</td>\n",
       "      <td>1000</td>\n",
       "      <td>1000</td>\n",
       "      <td>0</td>\n",
       "      <td>2000</td>\n",
       "      <td>1</td>\n",
       "    </tr>\n",
       "    <tr>\n",
       "      <th>2</th>\n",
       "      <td>3</td>\n",
       "      <td>90000</td>\n",
       "      <td>2</td>\n",
       "      <td>2</td>\n",
       "      <td>2</td>\n",
       "      <td>34</td>\n",
       "      <td>0</td>\n",
       "      <td>0</td>\n",
       "      <td>0</td>\n",
       "      <td>0</td>\n",
       "      <td>...</td>\n",
       "      <td>14331</td>\n",
       "      <td>14948</td>\n",
       "      <td>15549</td>\n",
       "      <td>1518</td>\n",
       "      <td>1500</td>\n",
       "      <td>1000</td>\n",
       "      <td>1000</td>\n",
       "      <td>1000</td>\n",
       "      <td>5000</td>\n",
       "      <td>0</td>\n",
       "    </tr>\n",
       "    <tr>\n",
       "      <th>3</th>\n",
       "      <td>4</td>\n",
       "      <td>50000</td>\n",
       "      <td>2</td>\n",
       "      <td>2</td>\n",
       "      <td>1</td>\n",
       "      <td>37</td>\n",
       "      <td>0</td>\n",
       "      <td>0</td>\n",
       "      <td>0</td>\n",
       "      <td>0</td>\n",
       "      <td>...</td>\n",
       "      <td>28314</td>\n",
       "      <td>28959</td>\n",
       "      <td>29547</td>\n",
       "      <td>2000</td>\n",
       "      <td>2019</td>\n",
       "      <td>1200</td>\n",
       "      <td>1100</td>\n",
       "      <td>1069</td>\n",
       "      <td>1000</td>\n",
       "      <td>0</td>\n",
       "    </tr>\n",
       "    <tr>\n",
       "      <th>4</th>\n",
       "      <td>5</td>\n",
       "      <td>50000</td>\n",
       "      <td>1</td>\n",
       "      <td>2</td>\n",
       "      <td>1</td>\n",
       "      <td>57</td>\n",
       "      <td>-1</td>\n",
       "      <td>0</td>\n",
       "      <td>-1</td>\n",
       "      <td>0</td>\n",
       "      <td>...</td>\n",
       "      <td>20940</td>\n",
       "      <td>19146</td>\n",
       "      <td>19131</td>\n",
       "      <td>2000</td>\n",
       "      <td>36681</td>\n",
       "      <td>10000</td>\n",
       "      <td>9000</td>\n",
       "      <td>689</td>\n",
       "      <td>679</td>\n",
       "      <td>0</td>\n",
       "    </tr>\n",
       "  </tbody>\n",
       "</table>\n",
       "<p>5 rows × 25 columns</p>\n",
       "</div>"
      ],
      "text/plain": [
       "   ID  LIMIT_BAL  SEX  EDUCATION  MARRIAGE  AGE  PAY_0  PAY_2  PAY_3  PAY_4  \\\n",
       "0   1      20000    2          2         1   24      2      2     -1     -1   \n",
       "1   2     120000    2          2         2   26     -1      2      0      0   \n",
       "2   3      90000    2          2         2   34      0      0      0      0   \n",
       "3   4      50000    2          2         1   37      0      0      0      0   \n",
       "4   5      50000    1          2         1   57     -1      0     -1      0   \n",
       "\n",
       "   ...  BILL_AMT4  BILL_AMT5  BILL_AMT6  PAY_AMT1  PAY_AMT2  PAY_AMT3  \\\n",
       "0  ...          0          0          0         0       689         0   \n",
       "1  ...       3272       3455       3261         0      1000      1000   \n",
       "2  ...      14331      14948      15549      1518      1500      1000   \n",
       "3  ...      28314      28959      29547      2000      2019      1200   \n",
       "4  ...      20940      19146      19131      2000     36681     10000   \n",
       "\n",
       "   PAY_AMT4  PAY_AMT5  PAY_AMT6  default payment next month  \n",
       "0         0         0         0                           1  \n",
       "1      1000         0      2000                           1  \n",
       "2      1000      1000      5000                           0  \n",
       "3      1100      1069      1000                           0  \n",
       "4      9000       689       679                           0  \n",
       "\n",
       "[5 rows x 25 columns]"
      ]
     },
     "execution_count": 2,
     "metadata": {},
     "output_type": "execute_result"
    }
   ],
   "source": [
    "default = pd.read_excel('data/Default.xls', skiprows = 1)\n",
    "default.head()"
   ]
  },
  {
   "cell_type": "code",
   "execution_count": 3,
   "metadata": {},
   "outputs": [],
   "source": [
    "default = default.rename({'default payment next month': 'default'}, axis = 1)"
   ]
  },
  {
   "cell_type": "code",
   "execution_count": 4,
   "metadata": {},
   "outputs": [
    {
     "name": "stdout",
     "output_type": "stream",
     "text": [
      "<class 'pandas.core.frame.DataFrame'>\n",
      "RangeIndex: 30000 entries, 0 to 29999\n",
      "Data columns (total 25 columns):\n",
      " #   Column     Non-Null Count  Dtype\n",
      "---  ------     --------------  -----\n",
      " 0   ID         30000 non-null  int64\n",
      " 1   LIMIT_BAL  30000 non-null  int64\n",
      " 2   SEX        30000 non-null  int64\n",
      " 3   EDUCATION  30000 non-null  int64\n",
      " 4   MARRIAGE   30000 non-null  int64\n",
      " 5   AGE        30000 non-null  int64\n",
      " 6   PAY_0      30000 non-null  int64\n",
      " 7   PAY_2      30000 non-null  int64\n",
      " 8   PAY_3      30000 non-null  int64\n",
      " 9   PAY_4      30000 non-null  int64\n",
      " 10  PAY_5      30000 non-null  int64\n",
      " 11  PAY_6      30000 non-null  int64\n",
      " 12  BILL_AMT1  30000 non-null  int64\n",
      " 13  BILL_AMT2  30000 non-null  int64\n",
      " 14  BILL_AMT3  30000 non-null  int64\n",
      " 15  BILL_AMT4  30000 non-null  int64\n",
      " 16  BILL_AMT5  30000 non-null  int64\n",
      " 17  BILL_AMT6  30000 non-null  int64\n",
      " 18  PAY_AMT1   30000 non-null  int64\n",
      " 19  PAY_AMT2   30000 non-null  int64\n",
      " 20  PAY_AMT3   30000 non-null  int64\n",
      " 21  PAY_AMT4   30000 non-null  int64\n",
      " 22  PAY_AMT5   30000 non-null  int64\n",
      " 23  PAY_AMT6   30000 non-null  int64\n",
      " 24  default    30000 non-null  int64\n",
      "dtypes: int64(25)\n",
      "memory usage: 5.7 MB\n"
     ]
    }
   ],
   "source": [
    "default.info()"
   ]
  },
  {
   "cell_type": "code",
   "execution_count": 5,
   "metadata": {},
   "outputs": [],
   "source": [
    "X_train, X_test, y_train, y_test = train_test_split(default.drop('default', axis = 1), default.default, \n",
    "                                                   random_state = 42)"
   ]
  },
  {
   "cell_type": "markdown",
   "metadata": {
    "nbgrader": {
     "grade": false,
     "grade_id": "cell-090e42f4d5861669",
     "locked": true,
     "schema_version": 3,
     "solution": false
    }
   },
   "source": [
    "[Back to top](#-Index)\n",
    "\n",
    "### Problem 1\n",
    "\n",
    "#### Unlimited Growth\n",
    "\n",
    "**10 Points**\n",
    "\n",
    "Use a  `DecisionTreeClassifier` with `random_state=42` to fit the estimator on the training data `X_train` and `y_train`. Assign the estimator ato the variable `dtree`.\n",
    "\n",
    "Compare the training and test set accuracy score and assign them as floats to `train_acc` and `test_acc`, respectively.  \n",
    "\n",
    "Examine the depth of the tree with the `.get_depth()` method.  Assign this to `depth_1`.  \n",
    "\n",
    "<div class=\"alert alert-block alert-info\"><b>Note: </b> Use <code>random_state = 42</code> for all estimators in this assignment!</div>"
   ]
  },
  {
   "cell_type": "code",
   "execution_count": 6,
   "metadata": {
    "nbgrader": {
     "grade": false,
     "grade_id": "cell-2f1dff9c3cd02c35",
     "locked": false,
     "schema_version": 3,
     "solution": true
    }
   },
   "outputs": [
    {
     "name": "stdout",
     "output_type": "stream",
     "text": [
      "Training Accuracy:  1.00\n",
      "Trest Accuracy:  0.73\n",
      "Depth of tree: 41\n"
     ]
    }
   ],
   "source": [
    "### GRADED\n",
    "dtree = ''\n",
    "depth_1 = ''\n",
    "train_acc = ''\n",
    "test_acc = ''\n",
    "\n",
    "\n",
    "### BEGIN SOLUTION\n",
    "dtree = DecisionTreeClassifier(random_state=42).fit(X_train, y_train)\n",
    "depth_1 = dtree.get_depth()\n",
    "train_acc = dtree.score(X_train, y_train)\n",
    "test_acc = dtree.score(X_test, y_test)\n",
    "### END SOLUTION\n",
    "\n",
    "### Answer Check\n",
    "print(f'Training Accuracy: {train_acc: .2f}')\n",
    "print(f'Trest Accuracy: {test_acc: .2f}')\n",
    "print(f'Depth of tree: {depth_1}')"
   ]
  },
  {
   "cell_type": "markdown",
   "metadata": {
    "nbgrader": {
     "grade": false,
     "grade_id": "cell-b0382d0f6be35f3c",
     "locked": true,
     "schema_version": 3,
     "solution": false
    }
   },
   "source": [
    "[Back to top](#-Index)\n",
    "\n",
    "### Problem 2\n",
    "\n",
    "### `min_samples_split`\n",
    "\n",
    "Setting the `min_samples_split` argument will control splitting nodes with either a number of samples or percent of the data as valued.  From the estimators docstring:\n",
    "\n",
    "```\n",
    "min_samples_split : int or float, default=2\n",
    "    The minimum number of samples required to split an internal node:\n",
    "\n",
    "    - If int, then consider `min_samples_split` as the minimum number.\n",
    "    - If float, then `min_samples_split` is a fraction and\n",
    "      `ceil(min_samples_split * n_samples)` are the minimum\n",
    "      number of samples for each split.\n",
    "```\n",
    "\n",
    "Inside the `DecisionTreeClassifier` estimator, use this argument with value `0.05` to limit the trees growth to nodes with more than 5% of the samples. Fit this estimator to the training data `X_train` and `y_train` and assign the estimator to `dtree_samples`.\n",
    "\n",
    "\n",
    "Evaluate the train and test accuracy as floats and assign the results to `samples_train_acc` and `samples_test_acc`, respectively.  Assign the depth of the tree with the `.get_depth()` method and assign the result to `depth_2` below.  Remember to set `random_state = 42` in your estimator.\n",
    "\n",
    "**10 Points**\n"
   ]
  },
  {
   "cell_type": "code",
   "execution_count": 7,
   "metadata": {
    "nbgrader": {
     "grade": false,
     "grade_id": "cell-e47257ee1e2bddf8",
     "locked": false,
     "schema_version": 3,
     "solution": true
    }
   },
   "outputs": [
    {
     "name": "stdout",
     "output_type": "stream",
     "text": [
      "Training Accuracy:  0.82\n",
      "Trest Accuracy:  0.82\n",
      "Depth of tree: 24\n"
     ]
    }
   ],
   "source": [
    "### GRADED\n",
    "dtree_samples = ''\n",
    "depth_2 = ''\n",
    "samples_train_acc = ''\n",
    "samples_test_acc = ''\n",
    "\n",
    "\n",
    "### BEGIN SOLUTION\n",
    "dtree_samples = DecisionTreeClassifier(min_samples_split=0.05, random_state=42).fit(X_train, y_train)\n",
    "depth_2 = dtree_samples.get_depth()\n",
    "samples_train_acc = dtree_samples.score(X_train, y_train)\n",
    "samples_test_acc = dtree_samples.score(X_test, y_test)\n",
    "### END SOLUTION\n",
    "\n",
    "### Answer Check\n",
    "print(f'Training Accuracy: {samples_train_acc: .2f}')\n",
    "print(f'Trest Accuracy: {samples_test_acc: .2f}')\n",
    "print(f'Depth of tree: {depth_2}')"
   ]
  },
  {
   "cell_type": "markdown",
   "metadata": {
    "nbgrader": {
     "grade": false,
     "grade_id": "cell-176dc44067ebef18",
     "locked": true,
     "schema_version": 3,
     "solution": false
    }
   },
   "source": [
    "[Back to top](#-Index)\n",
    "\n",
    "### Problem 3\n",
    "\n",
    "#### `max_depth`\n",
    "\n",
    "Below, create a tree that grows to a maximum depth of 5 and fit it to the training data.  Assign the estimator as `depth_tree`. Be sure to set `random_state = 42`. \n",
    "\n",
    "Calculate the accuracy on the train and test set as floats to `depth_train_acc` and `depth_test_acc` respectively.  \n",
    "\n",
    "\n",
    "\n",
    "**10 Points**\n"
   ]
  },
  {
   "cell_type": "code",
   "execution_count": 9,
   "metadata": {
    "nbgrader": {
     "grade": false,
     "grade_id": "cell-9dbd281f9066d379",
     "locked": false,
     "schema_version": 3,
     "solution": true
    }
   },
   "outputs": [
    {
     "name": "stdout",
     "output_type": "stream",
     "text": [
      "Training Accuracy:  0.83\n",
      "Trest Accuracy:  0.82\n"
     ]
    }
   ],
   "source": [
    "### GRADED\n",
    "depth_tree = ''\n",
    "depth_train_acc = ''\n",
    "depth_test_acc = ''\n",
    "\n",
    "\n",
    "### BEGIN SOLUTION\n",
    "depth_tree = DecisionTreeClassifier(max_depth=5, random_state=42).fit(X_train, y_train)\n",
    "depth_train_acc = depth_tree.score(X_train, y_train)\n",
    "depth_test_acc = depth_tree.score(X_test, y_test)\n",
    "### END SOLUTION\n",
    "\n",
    "### Answer Check\n",
    "print(f'Training Accuracy: {depth_train_acc: .2f}')\n",
    "print(f'Trest Accuracy: {depth_test_acc: .2f}')"
   ]
  },
  {
   "cell_type": "markdown",
   "metadata": {
    "nbgrader": {
     "grade": false,
     "grade_id": "cell-9f80bf530b1dab98",
     "locked": true,
     "schema_version": 3,
     "solution": false
    }
   },
   "source": [
    "[Back to top](#-Index)\n",
    "\n",
    "### Problem 4\n",
    "\n",
    "### `min_impurity_decrease`\n",
    "\n",
    "**10 Points**\n",
    "\n",
    "The argument `min_impurity_decrease` stops splitting when there is less than a given amount of impurity decrease. \n",
    "\n",
    "Below, define a decision tree called `imp_tree` with a `min_impurity_decrease = 0.01` and `random_state=42` and fit it to the training data. Calculate its depth as `depth_4`. \n",
    "\n",
    "Finally, calculate the train and test scores as floats to `imp_training_acc` and `imp_test_acc` respectively. \n",
    "\n",
    "\n"
   ]
  },
  {
   "cell_type": "code",
   "execution_count": 10,
   "metadata": {
    "nbgrader": {
     "grade": false,
     "grade_id": "cell-968716b9fa2e91a4",
     "locked": false,
     "schema_version": 3,
     "solution": true
    }
   },
   "outputs": [
    {
     "name": "stdout",
     "output_type": "stream",
     "text": [
      "Training Accuracy:  0.82\n",
      "Trest Accuracy:  0.82\n",
      "Depth of tree: 2\n"
     ]
    }
   ],
   "source": [
    "### GRADED\n",
    "imp_tree = ''\n",
    "imp_train_acc = ''\n",
    "imp_test_acc = ''\n",
    "depth_4 = ''\n",
    "\n",
    "\n",
    "### BEGIN SOLUTION\n",
    "imp_tree = DecisionTreeClassifier(min_impurity_decrease=0.01, random_state=42).fit(X_train, y_train)\n",
    "imp_train_acc = imp_tree.score(X_train, y_train)\n",
    "imp_test_acc = imp_tree.score(X_test, y_test)\n",
    "depth_4 = imp_tree.get_depth()\n",
    "### END SOLUTION\n",
    "\n",
    "### Answer Check\n",
    "print(f'Training Accuracy: {imp_train_acc: .2f}')\n",
    "print(f'Trest Accuracy: {imp_test_acc: .2f}')\n",
    "print(f'Depth of tree: {depth_4}')"
   ]
  },
  {
   "cell_type": "markdown",
   "metadata": {
    "nbgrader": {
     "grade": false,
     "grade_id": "cell-d1d6c66958bdfaf2",
     "locked": true,
     "schema_version": 3,
     "solution": false
    }
   },
   "source": [
    "[Back to top](#-Index)\n",
    "\n",
    "### Problem 5\n",
    "\n",
    "###  Grid Searching parameters\n",
    "\n",
    "**10 Points**\n",
    "\n",
    "\n",
    "Finally, consider the parameters defined below to perform a grid search with a decision tree. \n",
    "\n",
    "Below, define a decision tree called `grid` with `param_grid=params` and `random_state=42` and fit it to the training data. \n",
    "\n",
    "Calculate the train and test scores as floats to `grid_training_acc` and `grid_test_acc` respectively. \n",
    "\n",
    "Finally, use the method `best_params_` on `grid` to derive the best parameters for this tree. Assign the results to `best_params`.\n"
   ]
  },
  {
   "cell_type": "code",
   "execution_count": 11,
   "metadata": {},
   "outputs": [],
   "source": [
    "params = {'min_impurity_decrease': [0.01, 0.02, 0.03, 0.05],\n",
    "         'max_depth': [2, 5, 10],\n",
    "         'min_samples_split': [0.1, 0.2, 0.05]}"
   ]
  },
  {
   "cell_type": "code",
   "execution_count": 12,
   "metadata": {
    "nbgrader": {
     "grade": false,
     "grade_id": "cell-037066f865c79951",
     "locked": false,
     "schema_version": 3,
     "solution": true
    }
   },
   "outputs": [
    {
     "name": "stdout",
     "output_type": "stream",
     "text": [
      "Training Accuracy:  0.82\n",
      "Test Accuracy:  0.82\n",
      "Best parameters of tree: {'max_depth': 2, 'min_impurity_decrease': 0.01, 'min_samples_split': 0.1}\n"
     ]
    }
   ],
   "source": [
    "### GRADED\n",
    "grid = ''\n",
    "grid_train_acc = ''\n",
    "grid_test_acc = ''\n",
    "best_params = ''\n",
    "\n",
    "### BEGIN SOLUTION\n",
    "grid = GridSearchCV(DecisionTreeClassifier(random_state = 42), param_grid=params).fit(X_train, y_train)\n",
    "grid_train_acc = grid.score(X_train, y_train)\n",
    "grid_test_acc = grid.score(X_test, y_test)\n",
    "best_params = grid.best_params_\n",
    "### END SOLUTION\n",
    "\n",
    "### Answer Check\n",
    "print(f'Training Accuracy: {grid_train_acc: .2f}')\n",
    "print(f'Test Accuracy: {grid_test_acc: .2f}')\n",
    "print(f'Best parameters of tree: {best_params}')"
   ]
  },
  {
   "cell_type": "markdown",
   "metadata": {
    "nbgrader": {
     "grade": false,
     "grade_id": "cell-deb1fbcfb0199bea",
     "locked": true,
     "schema_version": 3,
     "solution": false
    }
   },
   "source": [
    "Note how long the basic grid search takes.  You likely don't want to try to be too exhaustive with the parameters due to the time for training cost. "
   ]
  },
  {
   "cell_type": "code",
   "execution_count": null,
   "metadata": {},
   "outputs": [],
   "source": []
  }
 ],
 "metadata": {
  "celltoolbar": "Create Assignment",
  "kernelspec": {
   "display_name": "Python 3 (ipykernel)",
   "language": "python",
   "name": "python3"
  },
  "language_info": {
   "codemirror_mode": {
    "name": "ipython",
    "version": 3
   },
   "file_extension": ".py",
   "mimetype": "text/x-python",
   "name": "python",
   "nbconvert_exporter": "python",
   "pygments_lexer": "ipython3",
   "version": "3.11.5"
  }
 },
 "nbformat": 4,
 "nbformat_minor": 4
}
