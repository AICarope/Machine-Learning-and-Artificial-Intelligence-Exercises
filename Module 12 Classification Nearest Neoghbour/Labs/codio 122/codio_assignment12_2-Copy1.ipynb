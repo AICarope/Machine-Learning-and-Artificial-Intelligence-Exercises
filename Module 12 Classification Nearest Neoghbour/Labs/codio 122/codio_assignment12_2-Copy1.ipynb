{
 "cells": [
  {
   "cell_type": "markdown",
   "metadata": {
    "deletable": false,
    "editable": false,
    "nbgrader": {
     "cell_type": "markdown",
     "checksum": "6cb2c18f1f95f86b8bcad16ce71dcfac",
     "grade": false,
     "grade_id": "cell-1006daf9a11a75b1",
     "locked": true,
     "schema_version": 3,
     "solution": false
    }
   },
   "source": [
    "### Codio Assignment 12.2: Decision Boundaries\n",
    "\n",
    "**Estimated Time: 60 Minutes**\n",
    "\n",
    "**Total Points: 55**\n",
    "\n",
    "This activity focuses on the effect of changing your decision threshold and the resulting predictions.  Again, you will use the `KNeighborsClassifier` ,but this time, you will explore the `predict_proba` method of the fit estimator to change the thresholds for classifying observations.  You will explore the results of changing the decision threshold on the false negative rate of the classifier for the insurance data.  Here, we suppose the important thing is to not make the mistake of predicting somebody would not default when they really do.  \n",
    "\n",
    "#### Index\n",
    "\n",
    "- [Problem 1](#Problem-1)\n",
    "- [Problem 2](#Problem-2)\n",
    "- [Problem 3](#Problem-3)\n",
    "- [Problem 4](#Problem-4)\n",
    "- [Problem 5](#Problem-5)\n",
    "- [Problem 6](#Problem-6)"
   ]
  },
  {
   "cell_type": "code",
   "execution_count": 2,
   "metadata": {},
   "outputs": [],
   "source": [
    "import pandas as pd\n",
    "import numpy as np\n",
    "import matplotlib.pyplot as plt\n",
    "\n",
    "from sklearn.neighbors import KNeighborsClassifier\n",
    "from sklearn.preprocessing import StandardScaler, OneHotEncoder\n",
    "from sklearn.model_selection import train_test_split, GridSearchCV\n",
    "from sklearn.compose import make_column_transformer\n",
    "from sklearn.pipeline import Pipeline\n",
    "from sklearn import set_config\n",
    "\n",
    "set_config(display=\"diagram\")"
   ]
  },
  {
   "cell_type": "markdown",
   "metadata": {
    "deletable": false,
    "editable": false,
    "nbgrader": {
     "cell_type": "markdown",
     "checksum": "600c1b51c2f62622c376ca7e1e96fa76",
     "grade": false,
     "grade_id": "cell-a80926e87f2438cb",
     "locked": true,
     "schema_version": 3,
     "solution": false
    }
   },
   "source": [
    "### The Dataset\n",
    "\n",
    "You continue to use the default example, and the data is again loaded and split for you below. "
   ]
  },
  {
   "cell_type": "code",
   "execution_count": 3,
   "metadata": {},
   "outputs": [],
   "source": [
    "default = pd.read_csv('data/default.csv')"
   ]
  },
  {
   "cell_type": "code",
   "execution_count": 4,
   "metadata": {},
   "outputs": [
    {
     "data": {
      "text/html": [
       "<div>\n",
       "<style scoped>\n",
       "    .dataframe tbody tr th:only-of-type {\n",
       "        vertical-align: middle;\n",
       "    }\n",
       "\n",
       "    .dataframe tbody tr th {\n",
       "        vertical-align: top;\n",
       "    }\n",
       "\n",
       "    .dataframe thead th {\n",
       "        text-align: right;\n",
       "    }\n",
       "</style>\n",
       "<table border=\"1\" class=\"dataframe\">\n",
       "  <thead>\n",
       "    <tr style=\"text-align: right;\">\n",
       "      <th></th>\n",
       "      <th>Unnamed: 0</th>\n",
       "      <th>default</th>\n",
       "      <th>student</th>\n",
       "      <th>balance</th>\n",
       "      <th>income</th>\n",
       "    </tr>\n",
       "  </thead>\n",
       "  <tbody>\n",
       "    <tr>\n",
       "      <th>0</th>\n",
       "      <td>1</td>\n",
       "      <td>No</td>\n",
       "      <td>No</td>\n",
       "      <td>729.526495</td>\n",
       "      <td>44361.625074</td>\n",
       "    </tr>\n",
       "    <tr>\n",
       "      <th>1</th>\n",
       "      <td>2</td>\n",
       "      <td>No</td>\n",
       "      <td>Yes</td>\n",
       "      <td>817.180407</td>\n",
       "      <td>12106.134700</td>\n",
       "    </tr>\n",
       "  </tbody>\n",
       "</table>\n",
       "</div>"
      ],
      "text/plain": [
       "   Unnamed: 0 default student     balance        income\n",
       "0           1      No      No  729.526495  44361.625074\n",
       "1           2      No     Yes  817.180407  12106.134700"
      ]
     },
     "execution_count": 4,
     "metadata": {},
     "output_type": "execute_result"
    }
   ],
   "source": [
    "default.head(2)"
   ]
  },
  {
   "cell_type": "code",
   "execution_count": 5,
   "metadata": {},
   "outputs": [],
   "source": [
    "X_train, X_test, y_train, y_test = train_test_split(default.drop('default', axis = 1), \n",
    "                                                    default['default'],\n",
    "                                                   random_state=42)"
   ]
  },
  {
   "cell_type": "code",
   "execution_count": 6,
   "metadata": {},
   "outputs": [],
   "source": [
    "transformer = make_column_transformer((OneHotEncoder(drop = 'if_binary'), ['student']),\n",
    "                                     remainder = StandardScaler())"
   ]
  },
  {
   "cell_type": "markdown",
   "metadata": {
    "deletable": false,
    "editable": false,
    "nbgrader": {
     "cell_type": "markdown",
     "checksum": "0bb894234e1831ca0ee2564c1f5fdcef",
     "grade": false,
     "grade_id": "cell-f566d9c26133a887",
     "locked": true,
     "schema_version": 3,
     "solution": false
    }
   },
   "source": [
    "[Back to top](#-Index)\n",
    "\n",
    "### Problem 1\n",
    "\n",
    "#### Basic Pipeline\n",
    "\n",
    "**10 Points**\n",
    "\n",
    "Use the `Pipeline` function to create a pipeline `base_pipe` with steps `transformer` and `knn`. Assign `transformer` to `'transformer'` and assign a `KNeighborsClassifier()` with `n_neighbors = 10` to `'knn'`. "
   ]
  },
  {
   "cell_type": "code",
   "execution_count": 7,
   "metadata": {
    "deletable": false,
    "nbgrader": {
     "cell_type": "code",
     "checksum": "d94c7438371aa1f14c15f480f9db0f97",
     "grade": false,
     "grade_id": "cell-830cd0eb38495628",
     "locked": false,
     "schema_version": 3,
     "solution": true
    }
   },
   "outputs": [
    {
     "data": {
      "text/html": [
       "<style>#sk-37af6f73-8682-4522-adaf-4be9a2810c66 {color: black;background-color: white;}#sk-37af6f73-8682-4522-adaf-4be9a2810c66 pre{padding: 0;}#sk-37af6f73-8682-4522-adaf-4be9a2810c66 div.sk-toggleable {background-color: white;}#sk-37af6f73-8682-4522-adaf-4be9a2810c66 label.sk-toggleable__label {cursor: pointer;display: block;width: 100%;margin-bottom: 0;padding: 0.3em;box-sizing: border-box;text-align: center;}#sk-37af6f73-8682-4522-adaf-4be9a2810c66 label.sk-toggleable__label-arrow:before {content: \"▸\";float: left;margin-right: 0.25em;color: #696969;}#sk-37af6f73-8682-4522-adaf-4be9a2810c66 label.sk-toggleable__label-arrow:hover:before {color: black;}#sk-37af6f73-8682-4522-adaf-4be9a2810c66 div.sk-estimator:hover label.sk-toggleable__label-arrow:before {color: black;}#sk-37af6f73-8682-4522-adaf-4be9a2810c66 div.sk-toggleable__content {max-height: 0;max-width: 0;overflow: hidden;text-align: left;background-color: #f0f8ff;}#sk-37af6f73-8682-4522-adaf-4be9a2810c66 div.sk-toggleable__content pre {margin: 0.2em;color: black;border-radius: 0.25em;background-color: #f0f8ff;}#sk-37af6f73-8682-4522-adaf-4be9a2810c66 input.sk-toggleable__control:checked~div.sk-toggleable__content {max-height: 200px;max-width: 100%;overflow: auto;}#sk-37af6f73-8682-4522-adaf-4be9a2810c66 input.sk-toggleable__control:checked~label.sk-toggleable__label-arrow:before {content: \"▾\";}#sk-37af6f73-8682-4522-adaf-4be9a2810c66 div.sk-estimator input.sk-toggleable__control:checked~label.sk-toggleable__label {background-color: #d4ebff;}#sk-37af6f73-8682-4522-adaf-4be9a2810c66 div.sk-label input.sk-toggleable__control:checked~label.sk-toggleable__label {background-color: #d4ebff;}#sk-37af6f73-8682-4522-adaf-4be9a2810c66 input.sk-hidden--visually {border: 0;clip: rect(1px 1px 1px 1px);clip: rect(1px, 1px, 1px, 1px);height: 1px;margin: -1px;overflow: hidden;padding: 0;position: absolute;width: 1px;}#sk-37af6f73-8682-4522-adaf-4be9a2810c66 div.sk-estimator {font-family: monospace;background-color: #f0f8ff;border: 1px dotted black;border-radius: 0.25em;box-sizing: border-box;margin-bottom: 0.5em;}#sk-37af6f73-8682-4522-adaf-4be9a2810c66 div.sk-estimator:hover {background-color: #d4ebff;}#sk-37af6f73-8682-4522-adaf-4be9a2810c66 div.sk-parallel-item::after {content: \"\";width: 100%;border-bottom: 1px solid gray;flex-grow: 1;}#sk-37af6f73-8682-4522-adaf-4be9a2810c66 div.sk-label:hover label.sk-toggleable__label {background-color: #d4ebff;}#sk-37af6f73-8682-4522-adaf-4be9a2810c66 div.sk-serial::before {content: \"\";position: absolute;border-left: 1px solid gray;box-sizing: border-box;top: 2em;bottom: 0;left: 50%;}#sk-37af6f73-8682-4522-adaf-4be9a2810c66 div.sk-serial {display: flex;flex-direction: column;align-items: center;background-color: white;padding-right: 0.2em;padding-left: 0.2em;}#sk-37af6f73-8682-4522-adaf-4be9a2810c66 div.sk-item {z-index: 1;}#sk-37af6f73-8682-4522-adaf-4be9a2810c66 div.sk-parallel {display: flex;align-items: stretch;justify-content: center;background-color: white;}#sk-37af6f73-8682-4522-adaf-4be9a2810c66 div.sk-parallel::before {content: \"\";position: absolute;border-left: 1px solid gray;box-sizing: border-box;top: 2em;bottom: 0;left: 50%;}#sk-37af6f73-8682-4522-adaf-4be9a2810c66 div.sk-parallel-item {display: flex;flex-direction: column;position: relative;background-color: white;}#sk-37af6f73-8682-4522-adaf-4be9a2810c66 div.sk-parallel-item:first-child::after {align-self: flex-end;width: 50%;}#sk-37af6f73-8682-4522-adaf-4be9a2810c66 div.sk-parallel-item:last-child::after {align-self: flex-start;width: 50%;}#sk-37af6f73-8682-4522-adaf-4be9a2810c66 div.sk-parallel-item:only-child::after {width: 0;}#sk-37af6f73-8682-4522-adaf-4be9a2810c66 div.sk-dashed-wrapped {border: 1px dashed gray;margin: 0 0.4em 0.5em 0.4em;box-sizing: border-box;padding-bottom: 0.4em;background-color: white;position: relative;}#sk-37af6f73-8682-4522-adaf-4be9a2810c66 div.sk-label label {font-family: monospace;font-weight: bold;background-color: white;display: inline-block;line-height: 1.2em;}#sk-37af6f73-8682-4522-adaf-4be9a2810c66 div.sk-label-container {position: relative;z-index: 2;text-align: center;}#sk-37af6f73-8682-4522-adaf-4be9a2810c66 div.sk-container {/* jupyter's `normalize.less` sets `[hidden] { display: none; }` but bootstrap.min.css set `[hidden] { display: none !important; }` so we also need the `!important` here to be able to override the default hidden behavior on the sphinx rendered scikit-learn.org. See: https://github.com/scikit-learn/scikit-learn/issues/21755 */display: inline-block !important;position: relative;}#sk-37af6f73-8682-4522-adaf-4be9a2810c66 div.sk-text-repr-fallback {display: none;}</style><div id=\"sk-37af6f73-8682-4522-adaf-4be9a2810c66\" class=\"sk-top-container\"><div class=\"sk-text-repr-fallback\"><pre>Pipeline(steps=[(&#x27;transformer&#x27;,\n",
       "                 ColumnTransformer(remainder=StandardScaler(),\n",
       "                                   transformers=[(&#x27;onehotencoder&#x27;,\n",
       "                                                  OneHotEncoder(drop=&#x27;if_binary&#x27;),\n",
       "                                                  [&#x27;student&#x27;])])),\n",
       "                (&#x27;knn&#x27;, KNeighborsClassifier(n_neighbors=10))])</pre><b>Please rerun this cell to show the HTML repr or trust the notebook.</b></div><div class=\"sk-container\" hidden><div class=\"sk-item sk-dashed-wrapped\"><div class=\"sk-label-container\"><div class=\"sk-label sk-toggleable\"><input class=\"sk-toggleable__control sk-hidden--visually\" id=\"46e5d3b8-4cf6-48ed-b742-5a3872e18d46\" type=\"checkbox\" ><label for=\"46e5d3b8-4cf6-48ed-b742-5a3872e18d46\" class=\"sk-toggleable__label sk-toggleable__label-arrow\">Pipeline</label><div class=\"sk-toggleable__content\"><pre>Pipeline(steps=[(&#x27;transformer&#x27;,\n",
       "                 ColumnTransformer(remainder=StandardScaler(),\n",
       "                                   transformers=[(&#x27;onehotencoder&#x27;,\n",
       "                                                  OneHotEncoder(drop=&#x27;if_binary&#x27;),\n",
       "                                                  [&#x27;student&#x27;])])),\n",
       "                (&#x27;knn&#x27;, KNeighborsClassifier(n_neighbors=10))])</pre></div></div></div><div class=\"sk-serial\"><div class=\"sk-item sk-dashed-wrapped\"><div class=\"sk-label-container\"><div class=\"sk-label sk-toggleable\"><input class=\"sk-toggleable__control sk-hidden--visually\" id=\"1c5f8da3-9a18-467f-b822-caee566adfc0\" type=\"checkbox\" ><label for=\"1c5f8da3-9a18-467f-b822-caee566adfc0\" class=\"sk-toggleable__label sk-toggleable__label-arrow\">transformer: ColumnTransformer</label><div class=\"sk-toggleable__content\"><pre>ColumnTransformer(remainder=StandardScaler(),\n",
       "                  transformers=[(&#x27;onehotencoder&#x27;,\n",
       "                                 OneHotEncoder(drop=&#x27;if_binary&#x27;),\n",
       "                                 [&#x27;student&#x27;])])</pre></div></div></div><div class=\"sk-parallel\"><div class=\"sk-parallel-item\"><div class=\"sk-item\"><div class=\"sk-label-container\"><div class=\"sk-label sk-toggleable\"><input class=\"sk-toggleable__control sk-hidden--visually\" id=\"44a37c7e-b7d7-4b98-99cb-eb301f204c4e\" type=\"checkbox\" ><label for=\"44a37c7e-b7d7-4b98-99cb-eb301f204c4e\" class=\"sk-toggleable__label sk-toggleable__label-arrow\">onehotencoder</label><div class=\"sk-toggleable__content\"><pre>[&#x27;student&#x27;]</pre></div></div></div><div class=\"sk-serial\"><div class=\"sk-item\"><div class=\"sk-estimator sk-toggleable\"><input class=\"sk-toggleable__control sk-hidden--visually\" id=\"faa08dd1-096b-4682-978a-f3e3e5581447\" type=\"checkbox\" ><label for=\"faa08dd1-096b-4682-978a-f3e3e5581447\" class=\"sk-toggleable__label sk-toggleable__label-arrow\">OneHotEncoder</label><div class=\"sk-toggleable__content\"><pre>OneHotEncoder(drop=&#x27;if_binary&#x27;)</pre></div></div></div></div></div></div><div class=\"sk-parallel-item\"><div class=\"sk-item\"><div class=\"sk-label-container\"><div class=\"sk-label sk-toggleable\"><input class=\"sk-toggleable__control sk-hidden--visually\" id=\"b3d8c203-1129-443b-9b24-ca824b532c61\" type=\"checkbox\" ><label for=\"b3d8c203-1129-443b-9b24-ca824b532c61\" class=\"sk-toggleable__label sk-toggleable__label-arrow\">remainder</label><div class=\"sk-toggleable__content\"><pre></pre></div></div></div><div class=\"sk-serial\"><div class=\"sk-item\"><div class=\"sk-estimator sk-toggleable\"><input class=\"sk-toggleable__control sk-hidden--visually\" id=\"89f69fd2-dc0d-422c-9118-1ad2f1d65cb6\" type=\"checkbox\" ><label for=\"89f69fd2-dc0d-422c-9118-1ad2f1d65cb6\" class=\"sk-toggleable__label sk-toggleable__label-arrow\">StandardScaler</label><div class=\"sk-toggleable__content\"><pre>StandardScaler()</pre></div></div></div></div></div></div></div></div><div class=\"sk-item\"><div class=\"sk-estimator sk-toggleable\"><input class=\"sk-toggleable__control sk-hidden--visually\" id=\"d4ead1a5-6642-4622-8b9a-f56e1721c833\" type=\"checkbox\" ><label for=\"d4ead1a5-6642-4622-8b9a-f56e1721c833\" class=\"sk-toggleable__label sk-toggleable__label-arrow\">KNeighborsClassifier</label><div class=\"sk-toggleable__content\"><pre>KNeighborsClassifier(n_neighbors=10)</pre></div></div></div></div></div></div></div>"
      ],
      "text/plain": [
       "Pipeline(steps=[('transformer',\n",
       "                 ColumnTransformer(remainder=StandardScaler(),\n",
       "                                   transformers=[('onehotencoder',\n",
       "                                                  OneHotEncoder(drop='if_binary'),\n",
       "                                                  ['student'])])),\n",
       "                ('knn', KNeighborsClassifier(n_neighbors=10))])"
      ]
     },
     "execution_count": 7,
     "metadata": {},
     "output_type": "execute_result"
    }
   ],
   "source": [
    "### GRADED\n",
    "\n",
    "base_pipe = ''\n",
    "\n",
    "# YOUR CODE HERE\n",
    "base_pipe = Pipeline(steps=[\n",
    "    ('transformer', transformer),  # Add the transformer step\n",
    "    ('knn', KNeighborsClassifier(n_neighbors=10))  # Add the KNN classifier step\n",
    "])\n",
    "\n",
    "# Answer check\n",
    "base_pipe"
   ]
  },
  {
   "cell_type": "code",
   "execution_count": null,
   "metadata": {
    "deletable": false,
    "editable": false,
    "nbgrader": {
     "cell_type": "code",
     "checksum": "6809d7a5e623a576904e62609984a7da",
     "grade": true,
     "grade_id": "cell-66eb1d9a491832ce",
     "locked": true,
     "points": 10,
     "schema_version": 3,
     "solution": false
    }
   },
   "outputs": [],
   "source": []
  },
  {
   "cell_type": "markdown",
   "metadata": {
    "deletable": false,
    "editable": false,
    "nbgrader": {
     "cell_type": "markdown",
     "checksum": "330e27ed3f6bb7621866b4671423c619",
     "grade": false,
     "grade_id": "cell-3e82c6e400298551",
     "locked": true,
     "schema_version": 3,
     "solution": false
    }
   },
   "source": [
    "[Back to top](#-Index)\n",
    "\n",
    "### Problem 2\n",
    "\n",
    "#### Accuracy of KNN with 50% probability boundary\n",
    "\n",
    "**10 Points**\n",
    "\n",
    "- Use the `fit` function to train `base_pipe` on `X_train` and `y_train`.\n",
    "- Use the `score` function to calculate the performance of `base_pipe` on the test sets. Assign the result to `base_acc`.\n",
    "- Use the `predict` function on `base_pipe` to make predictions on `X_test`. Assign the reusl to `preds`.\n",
    "- Initialize the `base_fn` variable to `0`.\n",
    "- Use a `for` loop to loop over `zip(preds, y_test)`. Inside the `for` loop:\n",
    "    - Use an `if` block to determine the accuracy for this default setting and assign it to `base_acc`. Also, consider the proportion of false negatives here.  Assign these as `base_fn`.  "
   ]
  },
  {
   "cell_type": "code",
   "execution_count": 8,
   "metadata": {
    "deletable": false,
    "nbgrader": {
     "cell_type": "code",
     "checksum": "5497992f1b30f8f907254b3d5b1e67f0",
     "grade": false,
     "grade_id": "cell-2523cafd377338ae",
     "locked": false,
     "schema_version": 3,
     "solution": true
    }
   },
   "outputs": [
    {
     "name": "stdout",
     "output_type": "stream",
     "text": [
      "0.9712\n",
      "0\n"
     ]
    }
   ],
   "source": [
    "### GRADED\n",
    "\n",
    "base_acc = ''\n",
    "base_fn = ''\n",
    "\n",
    "# YOUR CODE HERE\n",
    "# Fit the pipeline on the training data\n",
    "base_pipe.fit(X_train, y_train)\n",
    "\n",
    "# Calculate the accuracy of the pipeline on the test set\n",
    "base_acc = base_pipe.score(X_test, y_test)\n",
    "\n",
    "# Make predictions on the test set\n",
    "preds = base_pipe.predict(X_test)\n",
    "\n",
    "# Initialize the base_fn variable for counting false negatives\n",
    "base_fn = 0\n",
    "\n",
    "# Loop over predictions and true values to calculate false negatives\n",
    "for pred, true in zip(preds, y_test):\n",
    "    if true == 1 and pred == 0:  # True positive is 1, False negative is when pred = 0 but true = 1\n",
    "        base_fn += 1\n",
    "\n",
    "# Answer check\n",
    "print(base_acc)\n",
    "print(base_fn)"
   ]
  },
  {
   "cell_type": "code",
   "execution_count": null,
   "metadata": {
    "deletable": false,
    "editable": false,
    "nbgrader": {
     "cell_type": "code",
     "checksum": "cc83f848bb8b82364c15be61b00f184a",
     "grade": true,
     "grade_id": "cell-dad7116fd83c5334",
     "locked": true,
     "points": 10,
     "schema_version": 3,
     "solution": false
    }
   },
   "outputs": [],
   "source": []
  },
  {
   "cell_type": "markdown",
   "metadata": {
    "deletable": false,
    "editable": false,
    "nbgrader": {
     "cell_type": "markdown",
     "checksum": "0ea1c5640e69910584098c081d8e2498",
     "grade": false,
     "grade_id": "cell-a21760fb4744ddb2",
     "locked": true,
     "schema_version": 3,
     "solution": false
    }
   },
   "source": [
    "[Back to top](#-Index)\n",
    "\n",
    "### Problem 3\n",
    "\n",
    "#### Prediction probabilities\n",
    "\n",
    "**10 Points**\n",
    "\n",
    "As demonstrated in Video 12.5, your fit estimator has a `predict_proba` method that will output a probability for each observation.  \n",
    "\n",
    "\n",
    "Use the `predict_proba` function on `base_pipe` to predict the probabilities on `X_test`. Assign the predicted probabilities as an array using the test data to `base_probs` below. "
   ]
  },
  {
   "cell_type": "code",
   "execution_count": 9,
   "metadata": {
    "deletable": false,
    "nbgrader": {
     "cell_type": "code",
     "checksum": "19bf6012db1804d293d375e0d820faf9",
     "grade": false,
     "grade_id": "cell-65049225ccb60cc8",
     "locked": false,
     "schema_version": 3,
     "solution": true
    }
   },
   "outputs": [
    {
     "data": {
      "text/html": [
       "<div>\n",
       "<style scoped>\n",
       "    .dataframe tbody tr th:only-of-type {\n",
       "        vertical-align: middle;\n",
       "    }\n",
       "\n",
       "    .dataframe tbody tr th {\n",
       "        vertical-align: top;\n",
       "    }\n",
       "\n",
       "    .dataframe thead th {\n",
       "        text-align: right;\n",
       "    }\n",
       "</style>\n",
       "<table border=\"1\" class=\"dataframe\">\n",
       "  <thead>\n",
       "    <tr style=\"text-align: right;\">\n",
       "      <th></th>\n",
       "      <th>p_no</th>\n",
       "      <th>p_yes</th>\n",
       "    </tr>\n",
       "  </thead>\n",
       "  <tbody>\n",
       "    <tr>\n",
       "      <th>0</th>\n",
       "      <td>1.0</td>\n",
       "      <td>0.0</td>\n",
       "    </tr>\n",
       "    <tr>\n",
       "      <th>1</th>\n",
       "      <td>1.0</td>\n",
       "      <td>0.0</td>\n",
       "    </tr>\n",
       "    <tr>\n",
       "      <th>2</th>\n",
       "      <td>1.0</td>\n",
       "      <td>0.0</td>\n",
       "    </tr>\n",
       "    <tr>\n",
       "      <th>3</th>\n",
       "      <td>1.0</td>\n",
       "      <td>0.0</td>\n",
       "    </tr>\n",
       "    <tr>\n",
       "      <th>4</th>\n",
       "      <td>1.0</td>\n",
       "      <td>0.0</td>\n",
       "    </tr>\n",
       "  </tbody>\n",
       "</table>\n",
       "</div>"
      ],
      "text/plain": [
       "   p_no  p_yes\n",
       "0   1.0    0.0\n",
       "1   1.0    0.0\n",
       "2   1.0    0.0\n",
       "3   1.0    0.0\n",
       "4   1.0    0.0"
      ]
     },
     "execution_count": 9,
     "metadata": {},
     "output_type": "execute_result"
    }
   ],
   "source": [
    "### GRADED\n",
    "\n",
    "base_probs = ''\n",
    "\n",
    "# YOUR CODE HERE\n",
    "# Generate predicted probabilities for the test set\n",
    "base_probs = base_pipe.predict_proba(X_test)\n",
    "\n",
    "\n",
    "# Answer check\n",
    "pd.DataFrame(base_probs[:5], columns = ['p_no', 'p_yes'])"
   ]
  },
  {
   "cell_type": "code",
   "execution_count": null,
   "metadata": {
    "deletable": false,
    "editable": false,
    "nbgrader": {
     "cell_type": "code",
     "checksum": "35d7502115901c6bdd59f7dab63bd6a5",
     "grade": true,
     "grade_id": "cell-8a9118672f3e2939",
     "locked": true,
     "points": 10,
     "schema_version": 3,
     "solution": false
    }
   },
   "outputs": [],
   "source": []
  },
  {
   "cell_type": "markdown",
   "metadata": {
    "deletable": false,
    "editable": false,
    "nbgrader": {
     "cell_type": "markdown",
     "checksum": "e862aa048f620e563dbe76647d0aa8e1",
     "grade": false,
     "grade_id": "cell-6b4d3fe32727b313",
     "locked": true,
     "schema_version": 3,
     "solution": false
    }
   },
   "source": [
    "[Back to top](#-Index)\n",
    "\n",
    "### Problem 4\n",
    "\n",
    "#### A Stricter `default` estimation\n",
    "\n",
    "**10 Points**\n",
    "\n",
    "As discussed in the previous assignment, if you aim to minimize the number of predictions that miss default observations you may consider increasing the probability threshold to make such a classification.  Accordingly, use your probabilities from the last problem to only predict 'No' if you have a higher than 70% probability that this is the label.  Assign your new predictions as an array to `strict_preds`.  Determine the number of false negative predictions here and assign them to `strict_fn` below.  "
   ]
  },
  {
   "cell_type": "code",
   "execution_count": 10,
   "metadata": {
    "deletable": false,
    "nbgrader": {
     "cell_type": "code",
     "checksum": "016d900e1f91298cc6f835aa87484023",
     "grade": false,
     "grade_id": "cell-1bf2974cd9f8e0ea",
     "locked": false,
     "schema_version": 3,
     "solution": true
    }
   },
   "outputs": [
    {
     "name": "stdout",
     "output_type": "stream",
     "text": [
      "0\n"
     ]
    }
   ],
   "source": [
    "### GRADED\n",
    "\n",
    "strict_fn = ''\n",
    "\n",
    "# YOUR CODE HERE\n",
    "# Initialize strict_fn for counting false negatives\n",
    "strict_fn = 0\n",
    "\n",
    "# Define a stricter threshold for classification\n",
    "threshold = 0.9\n",
    "\n",
    "# Loop through predicted probabilities and true values\n",
    "for prob, true in zip(base_probs[:, 1], y_test):  # Use only the probabilities for the positive class\n",
    "    pred_strict = 1 if prob > threshold else 0  # Apply strict threshold\n",
    "    if true == 1 and pred_strict == 0:  # False negative: true = 1, pred_strict = 0\n",
    "        strict_fn += 1\n",
    "\n",
    "# Answer check\n",
    "print(strict_fn)"
   ]
  },
  {
   "cell_type": "code",
   "execution_count": null,
   "metadata": {
    "deletable": false,
    "editable": false,
    "nbgrader": {
     "cell_type": "code",
     "checksum": "43d36eabb90daba7be7e4e27e85dae9e",
     "grade": true,
     "grade_id": "cell-9a929183737c8f0e",
     "locked": true,
     "points": 10,
     "schema_version": 3,
     "solution": false
    }
   },
   "outputs": [],
   "source": []
  },
  {
   "cell_type": "markdown",
   "metadata": {
    "deletable": false,
    "editable": false,
    "nbgrader": {
     "cell_type": "markdown",
     "checksum": "621d68ba40367faa7b465e88debc73dd",
     "grade": false,
     "grade_id": "cell-1e9c49a18f9efef4",
     "locked": true,
     "schema_version": 3,
     "solution": false
    }
   },
   "source": [
    "[Back to top](#-Index)\n",
    "\n",
    "### Problem 5\n",
    "\n",
    "#### Minimizing False Negatives\n",
    "\n",
    "**10 Points**\n",
    "\n",
    "Consider a 50%, 70%, and 90% decision boundary for predicting \"No\".  Which of these minimizes the number of false negatives?  Assign your solution as an integer -- 50, 70, or 90 -- to `ans5` below.\n",
    "\n"
   ]
  },
  {
   "cell_type": "code",
   "execution_count": 11,
   "metadata": {
    "deletable": false,
    "nbgrader": {
     "cell_type": "code",
     "checksum": "b9bd797ead162f5aa23157d2db3e159e",
     "grade": false,
     "grade_id": "cell-f58d8a47597f42ef",
     "locked": false,
     "schema_version": 3,
     "solution": true
    }
   },
   "outputs": [
    {
     "name": "stdout",
     "output_type": "stream",
     "text": [
      "0.5\n"
     ]
    }
   ],
   "source": [
    "### GRADED\n",
    "\n",
    "ans5 = ''\n",
    "\n",
    "# YOUR CODE HERE\n",
    "# Initialize counts of false negatives for each threshold\n",
    "false_negatives = {}\n",
    "\n",
    "# Thresholds to test\n",
    "thresholds = [0.5, 0.7, 0.9]\n",
    "\n",
    "# Loop through thresholds and count false negatives\n",
    "for threshold in thresholds:\n",
    "    fn = 0\n",
    "    for prob, true in zip(base_probs[:, 1], y_test):  # Use probabilities for the positive class\n",
    "        pred = 1 if prob > threshold else 0  # Predict based on the current threshold\n",
    "        if true == 1 and pred == 0:  # False negative condition\n",
    "            fn += 1\n",
    "    false_negatives[threshold] = fn\n",
    "\n",
    "# Find the threshold that minimizes false negatives\n",
    "ans5 = min(false_negatives, key=false_negatives.get)\n",
    "\n",
    "# Answer check\n",
    "print(ans5)"
   ]
  },
  {
   "cell_type": "code",
   "execution_count": null,
   "metadata": {
    "deletable": false,
    "editable": false,
    "nbgrader": {
     "cell_type": "code",
     "checksum": "c27d12659578274bcd91a288b82e0e2a",
     "grade": true,
     "grade_id": "cell-1d21920c410a856f",
     "locked": true,
     "points": 10,
     "schema_version": 3,
     "solution": false
    }
   },
   "outputs": [],
   "source": []
  },
  {
   "cell_type": "markdown",
   "metadata": {
    "deletable": false,
    "editable": false,
    "nbgrader": {
     "cell_type": "markdown",
     "checksum": "0d052fe3aae13a97668ca15b9520d726",
     "grade": false,
     "grade_id": "cell-d4f521019aea115d",
     "locked": true,
     "schema_version": 3,
     "solution": false
    }
   },
   "source": [
    "[Back to top](#-Index)\n",
    "\n",
    "### Problem 6\n",
    "\n",
    "#### Visualizing decision boundaries\n",
    "\n",
    "**5 Points**\n",
    "\n",
    "For this exercise, a visualization of the decision boundary using a synthetic dataset is created and plotted below.  Which of these would you choose to minimize the number of false negatives?  Enter your choice as an integer -- 1, 20, or 50 -- to `ans6` below.\n",
    "\n",
    "<center>\n",
    "    <img src = images/dbounds.png />\n",
    "</center>"
   ]
  },
  {
   "cell_type": "code",
   "execution_count": 12,
   "metadata": {
    "deletable": false,
    "nbgrader": {
     "cell_type": "code",
     "checksum": "6fa085d5715eb479afa6bf3340682c1f",
     "grade": false,
     "grade_id": "cell-41eedd1ed33d65cf",
     "locked": false,
     "schema_version": 3,
     "solution": true
    }
   },
   "outputs": [
    {
     "name": "stdout",
     "output_type": "stream",
     "text": [
      "1\n"
     ]
    }
   ],
   "source": [
    "### GRADED\n",
    "\n",
    "ans6 = ''\n",
    "\n",
    "# YOUR CODE HERE\n",
    "# Define potential decision boundary values\n",
    "decision_boundaries = [1, 20, 50]\n",
    "\n",
    "# Placeholder to count false negatives for each boundary\n",
    "false_negatives = {}\n",
    "\n",
    "# Loop through each decision boundary and compute false negatives\n",
    "for boundary in decision_boundaries:\n",
    "    fn = 0\n",
    "    # Generate predictions using the current boundary\n",
    "    for prob, true in zip(base_probs[:, 1], y_test):  # Positive class probabilities\n",
    "        pred = 1 if prob > (boundary / 100) else 0  # Adjust boundary to percentage (e.g., 1% = 0.01)\n",
    "        if true == 1 and pred == 0:  # Count false negatives\n",
    "            fn += 1\n",
    "    false_negatives[boundary] = fn\n",
    "\n",
    "# Choose the boundary that minimizes false negatives\n",
    "ans6 = min(false_negatives, key=false_negatives.get)\n",
    "\n",
    "# Answer check\n",
    "print(ans6)"
   ]
  },
  {
   "cell_type": "code",
   "execution_count": null,
   "metadata": {
    "deletable": false,
    "editable": false,
    "nbgrader": {
     "cell_type": "code",
     "checksum": "4327aef74f5ae0848054a8f0b425d7c2",
     "grade": true,
     "grade_id": "cell-f6903a98b6ebbcc7",
     "locked": true,
     "points": 5,
     "schema_version": 3,
     "solution": false
    }
   },
   "outputs": [],
   "source": []
  },
  {
   "cell_type": "code",
   "execution_count": null,
   "metadata": {},
   "outputs": [],
   "source": []
  },
  {
   "cell_type": "code",
   "execution_count": null,
   "metadata": {},
   "outputs": [],
   "source": []
  }
 ],
 "metadata": {
  "kernelspec": {
   "display_name": "Python 3 (ipykernel)",
   "language": "python",
   "name": "python3"
  },
  "language_info": {
   "codemirror_mode": {
    "name": "ipython",
    "version": 3
   },
   "file_extension": ".py",
   "mimetype": "text/x-python",
   "name": "python",
   "nbconvert_exporter": "python",
   "pygments_lexer": "ipython3",
   "version": "3.9.11"
  },
  "widgets": {
   "application/vnd.jupyter.widget-state+json": {
    "state": {},
    "version_major": 2,
    "version_minor": 0
   }
  }
 },
 "nbformat": 4,
 "nbformat_minor": 4
}
